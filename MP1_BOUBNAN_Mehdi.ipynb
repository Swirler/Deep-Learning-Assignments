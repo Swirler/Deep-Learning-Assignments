{
 "cells": [
  {
   "cell_type": "markdown",
   "metadata": {},
   "source": [
    "<h1><center>Deep Learning Course - First Mini Project</center></h1>\n",
    "<h3><center>Image Classification and Regression</center></h3>\n",
    "<h4><center>Professor : Vincent Lepetit</center></h4>\n",
    "<h5><center>Mehdi Boubnan</center></h5>"
   ]
  },
  {
   "cell_type": "markdown",
   "metadata": {},
   "source": [
    "# Imports and defining functions"
   ]
  },
  {
   "cell_type": "code",
   "execution_count": 1,
   "metadata": {},
   "outputs": [],
   "source": [
    "import matplotlib.pyplot as plt\n",
    "%matplotlib inline\n",
    "import numpy as np"
   ]
  },
  {
   "cell_type": "code",
   "execution_count": 2,
   "metadata": {},
   "outputs": [],
   "source": [
    "from tensorflow import set_random_seed\n",
    "np.random.seed(42)\n",
    "set_random_seed(1)"
   ]
  },
  {
   "cell_type": "code",
   "execution_count": 15,
   "metadata": {},
   "outputs": [],
   "source": [
    "from keras.models import Sequential\n",
    "from keras.layers import Dense, Activation, Conv2D, MaxPooling2D, Flatten\n",
    "from keras.optimizers import SGD, Adam\n",
    "from keras import utils as np_utils"
   ]
  },
  {
   "cell_type": "code",
   "execution_count": 4,
   "metadata": {},
   "outputs": [],
   "source": [
    "IMAGE_SIZE = 72\n",
    "\n",
    "def generate_a_drawing(figsize, U, V, noise=0.0):\n",
    "    fig = plt.figure(figsize=(figsize,figsize))\n",
    "    ax = plt.subplot(111)\n",
    "    plt.axis('Off')\n",
    "    ax.set_xlim(0,figsize)\n",
    "    ax.set_ylim(0,figsize)\n",
    "    ax.fill(U, V, \"k\")\n",
    "    fig.canvas.draw()\n",
    "    imdata = np.frombuffer(fig.canvas.tostring_rgb(), dtype=np.uint8)[::3].astype(np.float32)\n",
    "    imdata = imdata + noise * np.random.random(imdata.size)\n",
    "    plt.close(fig)\n",
    "    return imdata\n",
    "\n",
    "def generate_a_rectangle(noise=0.0, free_location=False):\n",
    "    figsize = 1.0    \n",
    "    U = np.zeros(4)\n",
    "    V = np.zeros(4)\n",
    "    if free_location:\n",
    "        corners = np.random.random(4)\n",
    "        top = max(corners[0], corners[1])\n",
    "        bottom = min(corners[0], corners[1])\n",
    "        left = min(corners[2], corners[3])\n",
    "        right = max(corners[2], corners[3])\n",
    "    else:\n",
    "        side = (0.3 + 0.7 * np.random.random()) * figsize\n",
    "        top = figsize/2 + side/2\n",
    "        bottom = figsize/2 - side/2\n",
    "        left = bottom\n",
    "        right = top\n",
    "    U[0] = U[1] = top\n",
    "    U[2] = U[3] = bottom\n",
    "    V[0] = V[3] = left\n",
    "    V[1] = V[2] = right\n",
    "    return generate_a_drawing(figsize, U, V, noise)\n",
    "\n",
    "\n",
    "def generate_a_disk(noise=0.0, free_location=False):\n",
    "    figsize = 1.0\n",
    "    if free_location:\n",
    "        center = np.random.random(2)\n",
    "    else:\n",
    "        center = (figsize/2, figsize/2)\n",
    "    radius = (0.3 + 0.7 * np.random.random()) * figsize/2\n",
    "    N = 50\n",
    "    U = np.zeros(N)\n",
    "    V = np.zeros(N)\n",
    "    i = 0\n",
    "    for t in np.linspace(0, 2*np.pi, N):\n",
    "        U[i] = center[0] + np.cos(t) * radius\n",
    "        V[i] = center[1] + np.sin(t) * radius\n",
    "        i = i + 1\n",
    "    return generate_a_drawing(figsize, U, V, noise)\n",
    "\n",
    "def generate_a_triangle(noise=0.0, free_location=False):\n",
    "    figsize = 1.0\n",
    "    if free_location:\n",
    "        U = np.random.random(3)\n",
    "        V = np.random.random(3)\n",
    "    else:\n",
    "        size = (0.3 + 0.7 * np.random.random())*figsize/2\n",
    "        middle = figsize/2\n",
    "        U = (middle, middle+size, middle-size)\n",
    "        V = (middle+size, middle-size, middle-size)\n",
    "    imdata = generate_a_drawing(figsize, U, V, noise)\n",
    "    return [imdata, [U[0], V[0], U[1], V[1], U[2], V[2]]]\n",
    "\n",
    "\n",
    "def generate_dataset_classification(nb_samples, noise=0.0, free_location=False):\n",
    "    # Getting im_size:\n",
    "    im_size = generate_a_rectangle().shape[0]\n",
    "    X = np.zeros([nb_samples,im_size])\n",
    "    Y = np.zeros(nb_samples)\n",
    "    print('Creating data',end=\".. \")\n",
    "    for i in range(nb_samples):\n",
    "        #if i % 10 == 0:\n",
    "            #print(i)\n",
    "        category = np.random.randint(3)\n",
    "        if category == 0:\n",
    "            X[i] = generate_a_rectangle(noise, free_location)\n",
    "        elif category == 1: \n",
    "            X[i] = generate_a_disk(noise, free_location)\n",
    "        else:\n",
    "            [X[i], V] = generate_a_triangle(noise, free_location)\n",
    "        Y[i] = category\n",
    "    X = (X + noise) / (255 + 2 * noise)\n",
    "    print(\"Done\")\n",
    "    return [X, Y]\n",
    "\n",
    "def generate_test_set_classification():\n",
    "    np.random.seed(42)\n",
    "    [X_test, Y_test] = generate_dataset_classification(300, 20, True)\n",
    "    Y_test = np_utils.to_categorical(Y_test, 3) \n",
    "    return [X_test, Y_test]\n",
    "\n",
    "def generate_dataset_regression(nb_samples, noise=0.0):\n",
    "    # Getting im_size:\n",
    "    im_size = generate_a_triangle()[0].shape[0]\n",
    "    X = np.zeros([nb_samples,im_size])\n",
    "    Y = np.zeros([nb_samples, 6])\n",
    "    print('Creating data',end=\".. \")\n",
    "    for i in range(nb_samples):\n",
    "        #if i % 10 == 0:\n",
    "            #print(i)\n",
    "        [X[i], Y[i]] = generate_a_triangle(noise, True)\n",
    "    X = (X + noise) / (255 + 2 * noise)\n",
    "    print(\"Done\")\n",
    "    return [X, Y]\n",
    "\n",
    "import matplotlib.patches as patches\n",
    "\n",
    "def visualize_prediction(x, y):\n",
    "    fig, ax = plt.subplots(figsize=(5, 5))\n",
    "    I = x.reshape((IMAGE_SIZE,IMAGE_SIZE))\n",
    "    ax.imshow(I, extent=[-0.15,1.15,-0.15,1.15],cmap='gray')\n",
    "    ax.set_xlim([0,1])\n",
    "    ax.set_ylim([0,1])\n",
    "\n",
    "    xy = y.reshape(3,2)\n",
    "    tri = patches.Polygon(xy, closed=True, fill = False, edgecolor = 'r', linewidth = 5, alpha = 0.5)\n",
    "    ax.add_patch(tri)\n",
    "\n",
    "    plt.show()\n",
    "\n",
    "def generate_test_set_regression():\n",
    "    np.random.seed(42)\n",
    "    [X_test, Y_test] = generate_dataset_regression(300, 20)\n",
    "    return [X_test, Y_test]"
   ]
  },
  {
   "cell_type": "markdown",
   "metadata": {},
   "source": [
    "# Classification Problem"
   ]
  },
  {
   "cell_type": "markdown",
   "metadata": {},
   "source": [
    "## Simple Classification"
   ]
  },
  {
   "cell_type": "markdown",
   "metadata": {},
   "source": [
    "### Generating data"
   ]
  },
  {
   "cell_type": "markdown",
   "metadata": {},
   "source": [
    "Our training and testing datasets are composed by shapes images (rectangles, disks and triangles). We'll begin by generating some data samples :"
   ]
  },
  {
   "cell_type": "code",
   "execution_count": null,
   "metadata": {},
   "outputs": [],
   "source": [
    "f, (ax1, ax2, ax3) = plt.subplots(1,3,figsize=(12,4))\n",
    "\n",
    "im = generate_a_rectangle(10, False)\n",
    "ax1.imshow(im.reshape(IMAGE_SIZE,IMAGE_SIZE), cmap='gray')\n",
    "ax1.set_title(\"Rectangle\")\n",
    "\n",
    "im = generate_a_disk(10, False)\n",
    "ax2.imshow(im.reshape(IMAGE_SIZE,IMAGE_SIZE), cmap='gray')\n",
    "ax2.set_title(\"Disk\")\n",
    "\n",
    "[im, v] = generate_a_triangle(20, False)\n",
    "ax3.imshow(im.reshape(IMAGE_SIZE,IMAGE_SIZE), cmap='gray')\n",
    "ax3.set_title(\"Triangle\")\n",
    "\n",
    "plt.tight_layout()\n",
    "plt.show()"
   ]
  },
  {
   "cell_type": "markdown",
   "metadata": {},
   "source": [
    "We'll then generate our training dataset with **300 samples** of shapes images, and see their distribution :"
   ]
  },
  {
   "cell_type": "code",
   "execution_count": null,
   "metadata": {},
   "outputs": [],
   "source": [
    "[X_train, Y_train] = generate_dataset_classification(300, 20)"
   ]
  },
  {
   "cell_type": "markdown",
   "metadata": {},
   "source": [
    "We one-hot encore the data labels to fit the model :"
   ]
  },
  {
   "cell_type": "code",
   "execution_count": null,
   "metadata": {},
   "outputs": [],
   "source": [
    "Y_train = np_utils.to_categorical(Y_train, 3)"
   ]
  },
  {
   "cell_type": "markdown",
   "metadata": {},
   "source": [
    "### Building the model"
   ]
  },
  {
   "cell_type": "markdown",
   "metadata": {},
   "source": [
    "We'll train a simple two layer fully-connected neural network, taking in input vectors in $\\mathbb{R}^{5184}$ (our image shapes are 72x72), and outputing a vector in $\\mathbb{R}^3$ representing the probabilities of belonging to each of the three classes (rectangle, disk, triangle). To do so, we use a hidden layer of **64** neurons followed by a **ReLU** activation, and an output layer of 3 neurons, followed by a **softmax** activation.\n",
    "\n",
    "For training the data, we'll use the stochastic gradient descent optimizer, with a 0.001 learning rate, a decay of $10^{-6}$ and a momentum of 0.9.\n",
    "We'll use 50 epochs and a 32 batch size."
   ]
  },
  {
   "cell_type": "markdown",
   "metadata": {},
   "source": [
    "#### Using SGD optimizer"
   ]
  },
  {
   "cell_type": "code",
   "execution_count": null,
   "metadata": {},
   "outputs": [],
   "source": [
    "model = Sequential()\n",
    "\n",
    "output = 3\n",
    "\n",
    "model.add(Dense(output, input_shape=(5184,)))\n",
    "model.add(Activation('softmax'))\n",
    "\n",
    "sgd = SGD(lr=0.001, decay=1e-6, momentum=0.9, nesterov=True)\n",
    "model.compile(loss='categorical_crossentropy', optimizer=sgd, metrics=['accuracy'])"
   ]
  },
  {
   "cell_type": "markdown",
   "metadata": {},
   "source": [
    "Let's train the model with SGD :"
   ]
  },
  {
   "cell_type": "code",
   "execution_count": null,
   "metadata": {},
   "outputs": [],
   "source": [
    "model.fit(X_train, Y_train, epochs=50, batch_size=32)"
   ]
  },
  {
   "cell_type": "markdown",
   "metadata": {},
   "source": [
    "#### Using Adam optimizer"
   ]
  },
  {
   "cell_type": "code",
   "execution_count": null,
   "metadata": {},
   "outputs": [],
   "source": [
    "model = Sequential()\n",
    "\n",
    "hidden_neurons = 64\n",
    "output = 3\n",
    "\n",
    "model.add(Dense(output, input_shape=(5184,)))\n",
    "model.add(Activation('softmax'))\n",
    "\n",
    "adam = Adam(lr=0.001, beta_1=0.9, beta_2=0.999, epsilon=None, decay=0.0, amsgrad=False)\n",
    "model.compile(loss='categorical_crossentropy', optimizer=adam, metrics=['accuracy'])"
   ]
  },
  {
   "cell_type": "code",
   "execution_count": null,
   "metadata": {},
   "outputs": [],
   "source": [
    "model.fit(X_train, Y_train, epochs=50, batch_size=32)"
   ]
  },
  {
   "cell_type": "markdown",
   "metadata": {},
   "source": [
    "### Plotting weights"
   ]
  },
  {
   "cell_type": "markdown",
   "metadata": {},
   "source": [
    "We'll plot the first three weights :"
   ]
  },
  {
   "cell_type": "code",
   "execution_count": null,
   "metadata": {},
   "outputs": [],
   "source": [
    "weights = model.get_weights()[0].T\n",
    "\n",
    "f, (ax1, ax2, ax3) = plt.subplots(1,3, figsize=(12,4))\n",
    "\n",
    "ax1.imshow(weights[0].reshape(IMAGE_SIZE,IMAGE_SIZE), cmap='gray')\n",
    "ax1.set_title(\"Rectangle weight\")\n",
    "\n",
    "ax2.imshow(weights[1].reshape(IMAGE_SIZE,IMAGE_SIZE), cmap='gray')\n",
    "ax2.set_title(\"Disk weight\")\n",
    "\n",
    "ax3.imshow(weights[2].reshape(IMAGE_SIZE,IMAGE_SIZE), cmap='gray')\n",
    "ax3.set_title(\"Triangle weight\")\n",
    "\n",
    "plt.tight_layout()\n",
    "plt.show()"
   ]
  },
  {
   "cell_type": "markdown",
   "metadata": {},
   "source": [
    "## More Difficult Classification Problem"
   ]
  },
  {
   "cell_type": "markdown",
   "metadata": {},
   "source": [
    "### Generating Data"
   ]
  },
  {
   "cell_type": "markdown",
   "metadata": {},
   "source": [
    "Now, we'll generate a new training set where the shapes are allowed to move within the images and change dimensions."
   ]
  },
  {
   "cell_type": "code",
   "execution_count": null,
   "metadata": {},
   "outputs": [],
   "source": [
    "[X_train, Y_train] = generate_dataset_classification(300, 20, True)\n",
    "[X_test, Y_test] = generate_test_set_classification()"
   ]
  },
  {
   "cell_type": "markdown",
   "metadata": {},
   "source": [
    "Let's see what the new data looks like"
   ]
  },
  {
   "cell_type": "code",
   "execution_count": null,
   "metadata": {},
   "outputs": [],
   "source": [
    "f, (ax1, ax2, ax3) = plt.subplots(1,3,figsize=(12,4))\n",
    "\n",
    "im = generate_a_rectangle(20, True)\n",
    "ax1.imshow(im.reshape(IMAGE_SIZE,IMAGE_SIZE), cmap='gray')\n",
    "ax1.set_title(\"Rectangle\")\n",
    "\n",
    "im = generate_a_disk(20, True)\n",
    "ax2.imshow(im.reshape(IMAGE_SIZE,IMAGE_SIZE), cmap='gray')\n",
    "ax2.set_title(\"Disk\")\n",
    "\n",
    "[im, v] = generate_a_triangle(20, True)\n",
    "ax3.imshow(im.reshape(IMAGE_SIZE,IMAGE_SIZE), cmap='gray')\n",
    "ax3.set_title(\"Triangle\")\n",
    "\n",
    "plt.tight_layout()\n",
    "plt.show()"
   ]
  },
  {
   "cell_type": "markdown",
   "metadata": {},
   "source": [
    "Let's see now the distribution of our shapes within the train and test set"
   ]
  },
  {
   "cell_type": "code",
   "execution_count": null,
   "metadata": {},
   "outputs": [],
   "source": []
  },
  {
   "cell_type": "markdown",
   "metadata": {},
   "source": [
    "We one-hot encode the training to fit the model, the test labels are already one-hot encoded :"
   ]
  },
  {
   "cell_type": "code",
   "execution_count": null,
   "metadata": {},
   "outputs": [],
   "source": [
    "Y_train = np_utils.to_categorical(Y_train, 3)"
   ]
  },
  {
   "cell_type": "markdown",
   "metadata": {},
   "source": [
    "### Retraining the model"
   ]
  },
  {
   "cell_type": "markdown",
   "metadata": {},
   "source": [
    "We'll use the **same model as before**, and retrain it on the new dataset. We choose to double the number of **epochs** from **50 to 100**."
   ]
  },
  {
   "cell_type": "code",
   "execution_count": null,
   "metadata": {},
   "outputs": [],
   "source": [
    "model = Sequential()\n",
    "\n",
    "hidden_neurons = 64\n",
    "output = 3\n",
    "\n",
    "model.add(Dense(output, input_shape=(5184,)))\n",
    "model.add(Activation('softmax'))\n",
    "\n",
    "adam = Adam(lr=0.001, beta_1=0.9, beta_2=0.999, epsilon=None, decay=0.0, amsgrad=False)\n",
    "model.compile(loss='categorical_crossentropy', optimizer=adam, metrics=['accuracy'])"
   ]
  },
  {
   "cell_type": "markdown",
   "metadata": {},
   "source": [
    "Let's train our model"
   ]
  },
  {
   "cell_type": "code",
   "execution_count": null,
   "metadata": {},
   "outputs": [],
   "source": [
    "model.fit(X_train, Y_train, epochs=100, batch_size=32)"
   ]
  },
  {
   "cell_type": "markdown",
   "metadata": {},
   "source": [
    "Let's evaluate our model on the test set :"
   ]
  },
  {
   "cell_type": "code",
   "execution_count": null,
   "metadata": {},
   "outputs": [],
   "source": [
    "Loss, accuracy = model.evaluate(X_test, Y_test, batch_size=32)\n",
    "\n",
    "print(\"Loss : {}\".format(Loss))\n",
    "print(\"Accuracy : {}\".format(accuracy))"
   ]
  },
  {
   "cell_type": "markdown",
   "metadata": {},
   "source": [
    "### Building a convolutional network"
   ]
  },
  {
   "cell_type": "markdown",
   "metadata": {},
   "source": [
    "We notice that the performance is worse on the new dataset. We'll change the model and use a convolutional network.\n",
    "\n",
    "The architecture :\n",
    "  - Convolution with 2 by 2 filters, 16 feature maps + ReLU nonlinearity.\n",
    "  - 2 by 2 max pooling\n",
    "  - Convolution with 2 by 2 filter, 32 feature maps + ReLU nonlinearity.\n",
    "  - 2 by 2 max pooling\n",
    "  - Flattening\n",
    "  - Linear layer with 64 hidden units + ReLU nonlionearity\n",
    "  - Linear layer with 3 outputs units."
   ]
  },
  {
   "cell_type": "code",
   "execution_count": null,
   "metadata": {},
   "outputs": [],
   "source": [
    "from keras.models import Sequential\n",
    "from keras.layers import Dense, Activation, Conv2D, MaxPooling2D, Flatten\n",
    "from keras.optimizers import SGD\n",
    "from keras import utils as np_utils\n",
    "\n",
    "model = Sequential()\n",
    "model.add(Conv2D(16, kernel_size=(2, 2), activation='relu',input_shape=(72,72,1)))\n",
    "model.add(MaxPooling2D(pool_size=(2, 2), strides=(2, 2)))\n",
    "model.add(Conv2D(32, (2, 2), activation='relu'))\n",
    "model.add(MaxPooling2D(pool_size=(2, 2)))\n",
    "model.add(Flatten())\n",
    "model.add(Dense(3, activation='softmax'))\n",
    "\n",
    "adam = Adam(lr=0.001, beta_1=0.9, beta_2=0.999, epsilon=None, decay=0.0, amsgrad=False)\n",
    "\n",
    "model.compile(loss='categorical_crossentropy', optimizer=adam, metrics=['accuracy'])"
   ]
  },
  {
   "cell_type": "code",
   "execution_count": null,
   "metadata": {},
   "outputs": [],
   "source": [
    "#model.summary()"
   ]
  },
  {
   "cell_type": "markdown",
   "metadata": {},
   "source": [
    "We reshape the train and test sets to fit the model"
   ]
  },
  {
   "cell_type": "code",
   "execution_count": null,
   "metadata": {},
   "outputs": [],
   "source": [
    "X_train = X_train.reshape(-1,72,72,1)\n",
    "X_test = X_test.reshape(-1,72,72,1)"
   ]
  },
  {
   "cell_type": "markdown",
   "metadata": {},
   "source": [
    "Let's train now our model"
   ]
  },
  {
   "cell_type": "code",
   "execution_count": null,
   "metadata": {},
   "outputs": [],
   "source": [
    "model.fit(X_train, Y_train, epochs=50, batch_size=32)"
   ]
  },
  {
   "cell_type": "markdown",
   "metadata": {},
   "source": [
    "Let's evaluate it using the test set"
   ]
  },
  {
   "cell_type": "code",
   "execution_count": null,
   "metadata": {},
   "outputs": [],
   "source": [
    "ConvLoss, Conv_accuracy = model.evaluate(X_test, Y_test, batch_size=32)\n",
    "\n",
    "print(\"Loss : {}\".format(ConvLoss))\n",
    "print(\"Accuracy : {}\".format(Conv_accuracy))"
   ]
  },
  {
   "cell_type": "markdown",
   "metadata": {},
   "source": [
    "**COMMMEEENTS**"
   ]
  },
  {
   "cell_type": "markdown",
   "metadata": {},
   "source": [
    "# Regression Problem"
   ]
  },
  {
   "cell_type": "markdown",
   "metadata": {},
   "source": [
    "The task now is to predict the image locations of the vertices of a triangle, given an image of this triangle.\n",
    "\n",
    "We'll generate 300 triangles for each of the training and test set, knowing the location of the vertices."
   ]
  },
  {
   "cell_type": "code",
   "execution_count": 148,
   "metadata": {},
   "outputs": [
    {
     "name": "stdout",
     "output_type": "stream",
     "text": [
      "Creating data.. Done\n",
      "Creating data.. Done\n"
     ]
    }
   ],
   "source": [
    "[X_train, Y_train] = generate_dataset_regression(300, 20)\n",
    "[X_test, Y_test] = generate_test_set_regression()"
   ]
  },
  {
   "cell_type": "markdown",
   "metadata": {},
   "source": [
    "Let's normalize the data :"
   ]
  },
  {
   "cell_type": "code",
   "execution_count": 149,
   "metadata": {},
   "outputs": [],
   "source": [
    "from sklearn.preprocessing import Normalizer\n",
    "\n",
    "normalizer = Normalizer()\n",
    "Y_train_norm = normalizer.fit_transform(Y_train)#.reshape(-1,2)).reshape(Y_train.shape)\n",
    "\n",
    "normalizer = Normalizer()\n",
    "Y_test_norm = normalizer.fit_transform(Y_test)#.reshape(-1,2)).reshape(Y_test.shape)"
   ]
  },
  {
   "cell_type": "code",
   "execution_count": 150,
   "metadata": {},
   "outputs": [],
   "source": [
    "from sklearn.preprocessing import StandardScaler\n",
    "\n",
    "scaler_train = StandardScaler()\n",
    "Y_train_scale = scaler_train.fit_transform(Y_train.T).T\n",
    "\n",
    "scaler_test = StandardScaler()\n",
    "Y_test_scale = scaler_test.fit_transform(Y_test.T).T"
   ]
  },
  {
   "cell_type": "code",
   "execution_count": null,
   "metadata": {},
   "outputs": [],
   "source": []
  },
  {
   "cell_type": "code",
   "execution_count": 151,
   "metadata": {},
   "outputs": [],
   "source": [
    "from sklearn.preprocessing import Normalizer\n",
    "\n",
    "normalizer = Normalizer()\n",
    "Y_train_norm_s = normalizer.fit_transform(Y_train_scale)#.reshape(-1,2)).reshape(Y_train.shape)\n",
    "\n",
    "normalizer = Normalizer()\n",
    "Y_test_norm_s = normalizer.fit_transform(Y_test_scale)#.reshape(-1,2)).reshape(Y_test.shape)"
   ]
  },
  {
   "cell_type": "code",
   "execution_count": 152,
   "metadata": {},
   "outputs": [],
   "source": [
    "from sklearn.preprocessing import StandardScaler\n",
    "\n",
    "scaler_train = StandardScaler()\n",
    "Y_train_scale_n = scaler_train.fit_transform(Y_train_norm.T).T\n",
    "\n",
    "scaler_test = StandardScaler()\n",
    "Y_test_scale_n = scaler_test.fit_transform(Y_test_norm.T).T"
   ]
  },
  {
   "cell_type": "markdown",
   "metadata": {},
   "source": [
    "We can visualize what the data looks like :"
   ]
  },
  {
   "cell_type": "code",
   "execution_count": 13,
   "metadata": {},
   "outputs": [
    {
     "data": {
      "image/png": "[encoded data removed]",
      "text/plain": [
       "<Figure size 360x360 with 1 Axes>"
      ]
     },
     "metadata": {
      "needs_background": "light"
     },
     "output_type": "display_data"
    },
    {
     "data": {
      "image/png": "[encoded data removed]",
      "text/plain": [
       "<Figure size 360x360 with 1 Axes>"
      ]
     },
     "metadata": {
      "needs_background": "light"
     },
     "output_type": "display_data"
    }
   ],
   "source": [
    "i=np.random.randint(X_train.shape[0])\n",
    "\n",
    "visualize_prediction(X_train[i], Y_train[i])\n",
    "visualize_prediction(X_train[i], Y_train_norm[i])\n",
    "#visualize_prediction(X_train[i], Y_train_scale[i])"
   ]
  },
  {
   "cell_type": "code",
   "execution_count": 172,
   "metadata": {},
   "outputs": [],
   "source": [
    "from keras import backend as K\n",
    "\n",
    "def cos_distance(y_true, y_pred):\n",
    "    y_true = K.l2_normalize(y_true, axis=-1)\n",
    "    y_pred = K.l2_normalize(y_pred, axis=-1)\n",
    "    return K.mean(1 - K.sum((y_true * y_pred), axis=-1))\n",
    "\n",
    "model = Sequential()\n",
    "model.add(Conv2D(16, kernel_size=(5, 5), activation='relu',input_shape=(72,72,1), padding='same'))\n",
    "model.add(MaxPooling2D(pool_size=(2, 2), strides=(2, 2)))\n",
    "model.add(Conv2D(32, (5, 5), activation='relu', padding='same'))\n",
    "model.add(MaxPooling2D(pool_size=(2, 2)))\n",
    "model.add(Conv2D(64, (5, 5), activation='relu', padding='same'))\n",
    "model.add(MaxPooling2D(pool_size=(2, 2)))\n",
    "model.add(Conv2D(128, (5, 5), activation='relu', padding='same'))\n",
    "model.add(MaxPooling2D(pool_size=(2, 2)))\n",
    "model.add(Flatten())\n",
    "#model.add(Dense(512, activation='relu'))\n",
    "model.add(Dense(6, activation='linear'))\n",
    "\n",
    "adam = Adam(lr=0.0001, beta_1=0.9, beta_2=0.999, epsilon=None, decay=0.0, amsgrad=False)\n",
    "sgd = SGD(lr=0.001, decay=1e-6, momentum=0.5, nesterov=True)\n",
    "\n",
    "model.compile(loss=\"mean_absolute_error\", optimizer=adam)"
   ]
  },
  {
   "cell_type": "code",
   "execution_count": 173,
   "metadata": {},
   "outputs": [
    {
     "name": "stdout",
     "output_type": "stream",
     "text": [
      "_________________________________________________________________\n",
      "Layer (type)                 Output Shape              Param #   \n",
      "=================================================================\n",
      "conv2d_96 (Conv2D)           (None, 72, 72, 16)        416       \n",
      "_________________________________________________________________\n",
      "max_pooling2d_77 (MaxPooling (None, 36, 36, 16)        0         \n",
      "_________________________________________________________________\n",
      "conv2d_97 (Conv2D)           (None, 36, 36, 32)        12832     \n",
      "_________________________________________________________________\n",
      "max_pooling2d_78 (MaxPooling (None, 18, 18, 32)        0         \n",
      "_________________________________________________________________\n",
      "conv2d_98 (Conv2D)           (None, 18, 18, 64)        51264     \n",
      "_________________________________________________________________\n",
      "max_pooling2d_79 (MaxPooling (None, 9, 9, 64)          0         \n",
      "_________________________________________________________________\n",
      "conv2d_99 (Conv2D)           (None, 9, 9, 128)         204928    \n",
      "_________________________________________________________________\n",
      "max_pooling2d_80 (MaxPooling (None, 4, 4, 128)         0         \n",
      "_________________________________________________________________\n",
      "flatten_27 (Flatten)         (None, 2048)              0         \n",
      "_________________________________________________________________\n",
      "dense_28 (Dense)             (None, 6)                 12294     \n",
      "=================================================================\n",
      "Total params: 281,734\n",
      "Trainable params: 281,734\n",
      "Non-trainable params: 0\n",
      "_________________________________________________________________\n"
     ]
    }
   ],
   "source": [
    "model.summary()"
   ]
  },
  {
   "cell_type": "markdown",
   "metadata": {},
   "source": [
    "We reshape the train and test sets to fit the model"
   ]
  },
  {
   "cell_type": "code",
   "execution_count": 174,
   "metadata": {},
   "outputs": [],
   "source": [
    "X_train = X_train.reshape(-1,72,72,1)\n",
    "X_test = X_test.reshape(-1,72,72,1)"
   ]
  },
  {
   "cell_type": "markdown",
   "metadata": {},
   "source": [
    "We train the model"
   ]
  },
  {
   "cell_type": "code",
   "execution_count": 175,
   "metadata": {},
   "outputs": [
    {
     "name": "stdout",
     "output_type": "stream",
     "text": [
      "Train on 300 samples, validate on 300 samples\n",
      "Epoch 1/70\n",
      "300/300 [==============================] - 3s 10ms/step - loss: 0.3477 - val_loss: 0.3524\n",
      "Epoch 2/70\n",
      "300/300 [==============================] - 2s 6ms/step - loss: 0.3398 - val_loss: 0.3503\n",
      "Epoch 3/70\n",
      "300/300 [==============================] - 2s 6ms/step - loss: 0.3347 - val_loss: 0.3432\n",
      "Epoch 4/70\n",
      "300/300 [==============================] - 2s 6ms/step - loss: 0.3277 - val_loss: 0.3385\n",
      "Epoch 5/70\n",
      "300/300 [==============================] - 2s 6ms/step - loss: 0.3173 - val_loss: 0.3322\n",
      "Epoch 6/70\n",
      "300/300 [==============================] - 2s 6ms/step - loss: 0.3084 - val_loss: 0.3287\n",
      "Epoch 7/70\n",
      "300/300 [==============================] - 2s 6ms/step - loss: 0.3055 - val_loss: 0.3283\n",
      "Epoch 8/70\n",
      "300/300 [==============================] - 2s 6ms/step - loss: 0.3034 - val_loss: 0.3260\n",
      "Epoch 9/70\n",
      "300/300 [==============================] - 2s 6ms/step - loss: 0.2994 - val_loss: 0.3323\n",
      "Epoch 10/70\n",
      "300/300 [==============================] - 2s 6ms/step - loss: 0.2977 - val_loss: 0.3258\n",
      "Epoch 11/70\n",
      "300/300 [==============================] - 2s 6ms/step - loss: 0.2938 - val_loss: 0.3278\n",
      "Epoch 12/70\n",
      "300/300 [==============================] - 2s 6ms/step - loss: 0.2916 - val_loss: 0.3278\n",
      "Epoch 13/70\n",
      "300/300 [==============================] - 2s 6ms/step - loss: 0.2910 - val_loss: 0.3282\n",
      "Epoch 14/70\n",
      "300/300 [==============================] - 2s 6ms/step - loss: 0.2868 - val_loss: 0.3296\n",
      "Epoch 15/70\n",
      "300/300 [==============================] - 2s 6ms/step - loss: 0.2851 - val_loss: 0.3283\n",
      "Epoch 16/70\n",
      "300/300 [==============================] - 2s 6ms/step - loss: 0.2824 - val_loss: 0.3277\n",
      "Epoch 17/70\n",
      "224/300 [=====================>........] - ETA: 0s - loss: 0.2770"
     ]
    },
    {
     "ename": "KeyboardInterrupt",
     "evalue": "",
     "output_type": "error",
     "traceback": [
      "\u001b[0;31m---------------------------------------------------------------------------\u001b[0m",
      "\u001b[0;31mKeyboardInterrupt\u001b[0m                         Traceback (most recent call last)",
      "\u001b[0;32m<ipython-input-175-5819f0ee83f7>\u001b[0m in \u001b[0;36m<module>\u001b[0;34m\u001b[0m\n\u001b[0;32m----> 1\u001b[0;31m \u001b[0mmodel\u001b[0m\u001b[0;34m.\u001b[0m\u001b[0mfit\u001b[0m\u001b[0;34m(\u001b[0m\u001b[0mX_train\u001b[0m\u001b[0;34m,\u001b[0m \u001b[0mY_train_norm_s\u001b[0m\u001b[0;34m,\u001b[0m \u001b[0mepochs\u001b[0m\u001b[0;34m=\u001b[0m\u001b[0;36m70\u001b[0m\u001b[0;34m,\u001b[0m \u001b[0mbatch_size\u001b[0m\u001b[0;34m=\u001b[0m\u001b[0;36m32\u001b[0m\u001b[0;34m,\u001b[0m \u001b[0mvalidation_data\u001b[0m\u001b[0;34m=\u001b[0m\u001b[0;34m(\u001b[0m\u001b[0mX_test\u001b[0m\u001b[0;34m,\u001b[0m\u001b[0mY_test_norm_s\u001b[0m\u001b[0;34m)\u001b[0m\u001b[0;34m)\u001b[0m\u001b[0;34m\u001b[0m\u001b[0m\n\u001b[0m",
      "\u001b[0;32m~/anaconda3/lib/python3.6/site-packages/keras/engine/training.py\u001b[0m in \u001b[0;36mfit\u001b[0;34m(self, x, y, batch_size, epochs, verbose, callbacks, validation_split, validation_data, shuffle, class_weight, sample_weight, initial_epoch, steps_per_epoch, validation_steps, **kwargs)\u001b[0m\n\u001b[1;32m   1037\u001b[0m                                         \u001b[0minitial_epoch\u001b[0m\u001b[0;34m=\u001b[0m\u001b[0minitial_epoch\u001b[0m\u001b[0;34m,\u001b[0m\u001b[0;34m\u001b[0m\u001b[0m\n\u001b[1;32m   1038\u001b[0m                                         \u001b[0msteps_per_epoch\u001b[0m\u001b[0;34m=\u001b[0m\u001b[0msteps_per_epoch\u001b[0m\u001b[0;34m,\u001b[0m\u001b[0;34m\u001b[0m\u001b[0m\n\u001b[0;32m-> 1039\u001b[0;31m                                         validation_steps=validation_steps)\n\u001b[0m\u001b[1;32m   1040\u001b[0m \u001b[0;34m\u001b[0m\u001b[0m\n\u001b[1;32m   1041\u001b[0m     def evaluate(self, x=None, y=None,\n",
      "\u001b[0;32m~/anaconda3/lib/python3.6/site-packages/keras/engine/training_arrays.py\u001b[0m in \u001b[0;36mfit_loop\u001b[0;34m(model, f, ins, out_labels, batch_size, epochs, verbose, callbacks, val_f, val_ins, shuffle, callback_metrics, initial_epoch, steps_per_epoch, validation_steps)\u001b[0m\n\u001b[1;32m    197\u001b[0m                     \u001b[0mins_batch\u001b[0m\u001b[0;34m[\u001b[0m\u001b[0mi\u001b[0m\u001b[0;34m]\u001b[0m \u001b[0;34m=\u001b[0m \u001b[0mins_batch\u001b[0m\u001b[0;34m[\u001b[0m\u001b[0mi\u001b[0m\u001b[0;34m]\u001b[0m\u001b[0;34m.\u001b[0m\u001b[0mtoarray\u001b[0m\u001b[0;34m(\u001b[0m\u001b[0;34m)\u001b[0m\u001b[0;34m\u001b[0m\u001b[0m\n\u001b[1;32m    198\u001b[0m \u001b[0;34m\u001b[0m\u001b[0m\n\u001b[0;32m--> 199\u001b[0;31m                 \u001b[0mouts\u001b[0m \u001b[0;34m=\u001b[0m \u001b[0mf\u001b[0m\u001b[0;34m(\u001b[0m\u001b[0mins_batch\u001b[0m\u001b[0;34m)\u001b[0m\u001b[0;34m\u001b[0m\u001b[0m\n\u001b[0m\u001b[1;32m    200\u001b[0m                 \u001b[0mouts\u001b[0m \u001b[0;34m=\u001b[0m \u001b[0mto_list\u001b[0m\u001b[0;34m(\u001b[0m\u001b[0mouts\u001b[0m\u001b[0;34m)\u001b[0m\u001b[0;34m\u001b[0m\u001b[0m\n\u001b[1;32m    201\u001b[0m                 \u001b[0;32mfor\u001b[0m \u001b[0ml\u001b[0m\u001b[0;34m,\u001b[0m \u001b[0mo\u001b[0m \u001b[0;32min\u001b[0m \u001b[0mzip\u001b[0m\u001b[0;34m(\u001b[0m\u001b[0mout_labels\u001b[0m\u001b[0;34m,\u001b[0m \u001b[0mouts\u001b[0m\u001b[0;34m)\u001b[0m\u001b[0;34m:\u001b[0m\u001b[0;34m\u001b[0m\u001b[0m\n",
      "\u001b[0;32m~/anaconda3/lib/python3.6/site-packages/keras/backend/tensorflow_backend.py\u001b[0m in \u001b[0;36m__call__\u001b[0;34m(self, inputs)\u001b[0m\n\u001b[1;32m   2713\u001b[0m                 \u001b[0;32mreturn\u001b[0m \u001b[0mself\u001b[0m\u001b[0;34m.\u001b[0m\u001b[0m_legacy_call\u001b[0m\u001b[0;34m(\u001b[0m\u001b[0minputs\u001b[0m\u001b[0;34m)\u001b[0m\u001b[0;34m\u001b[0m\u001b[0m\n\u001b[1;32m   2714\u001b[0m \u001b[0;34m\u001b[0m\u001b[0m\n\u001b[0;32m-> 2715\u001b[0;31m             \u001b[0;32mreturn\u001b[0m \u001b[0mself\u001b[0m\u001b[0;34m.\u001b[0m\u001b[0m_call\u001b[0m\u001b[0;34m(\u001b[0m\u001b[0minputs\u001b[0m\u001b[0;34m)\u001b[0m\u001b[0;34m\u001b[0m\u001b[0m\n\u001b[0m\u001b[1;32m   2716\u001b[0m         \u001b[0;32melse\u001b[0m\u001b[0;34m:\u001b[0m\u001b[0;34m\u001b[0m\u001b[0m\n\u001b[1;32m   2717\u001b[0m             \u001b[0;32mif\u001b[0m \u001b[0mpy_any\u001b[0m\u001b[0;34m(\u001b[0m\u001b[0mis_tensor\u001b[0m\u001b[0;34m(\u001b[0m\u001b[0mx\u001b[0m\u001b[0;34m)\u001b[0m \u001b[0;32mfor\u001b[0m \u001b[0mx\u001b[0m \u001b[0;32min\u001b[0m \u001b[0minputs\u001b[0m\u001b[0;34m)\u001b[0m\u001b[0;34m:\u001b[0m\u001b[0;34m\u001b[0m\u001b[0m\n",
      "\u001b[0;32m~/anaconda3/lib/python3.6/site-packages/keras/backend/tensorflow_backend.py\u001b[0m in \u001b[0;36m_call\u001b[0;34m(self, inputs)\u001b[0m\n\u001b[1;32m   2673\u001b[0m             \u001b[0mfetched\u001b[0m \u001b[0;34m=\u001b[0m \u001b[0mself\u001b[0m\u001b[0;34m.\u001b[0m\u001b[0m_callable_fn\u001b[0m\u001b[0;34m(\u001b[0m\u001b[0;34m*\u001b[0m\u001b[0marray_vals\u001b[0m\u001b[0;34m,\u001b[0m \u001b[0mrun_metadata\u001b[0m\u001b[0;34m=\u001b[0m\u001b[0mself\u001b[0m\u001b[0;34m.\u001b[0m\u001b[0mrun_metadata\u001b[0m\u001b[0;34m)\u001b[0m\u001b[0;34m\u001b[0m\u001b[0m\n\u001b[1;32m   2674\u001b[0m         \u001b[0;32melse\u001b[0m\u001b[0;34m:\u001b[0m\u001b[0;34m\u001b[0m\u001b[0m\n\u001b[0;32m-> 2675\u001b[0;31m             \u001b[0mfetched\u001b[0m \u001b[0;34m=\u001b[0m \u001b[0mself\u001b[0m\u001b[0;34m.\u001b[0m\u001b[0m_callable_fn\u001b[0m\u001b[0;34m(\u001b[0m\u001b[0;34m*\u001b[0m\u001b[0marray_vals\u001b[0m\u001b[0;34m)\u001b[0m\u001b[0;34m\u001b[0m\u001b[0m\n\u001b[0m\u001b[1;32m   2676\u001b[0m         \u001b[0;32mreturn\u001b[0m \u001b[0mfetched\u001b[0m\u001b[0;34m[\u001b[0m\u001b[0;34m:\u001b[0m\u001b[0mlen\u001b[0m\u001b[0;34m(\u001b[0m\u001b[0mself\u001b[0m\u001b[0;34m.\u001b[0m\u001b[0moutputs\u001b[0m\u001b[0;34m)\u001b[0m\u001b[0;34m]\u001b[0m\u001b[0;34m\u001b[0m\u001b[0m\n\u001b[1;32m   2677\u001b[0m \u001b[0;34m\u001b[0m\u001b[0m\n",
      "\u001b[0;32m~/anaconda3/lib/python3.6/site-packages/tensorflow/python/client/session.py\u001b[0m in \u001b[0;36m__call__\u001b[0;34m(self, *args, **kwargs)\u001b[0m\n\u001b[1;32m   1437\u001b[0m           ret = tf_session.TF_SessionRunCallable(\n\u001b[1;32m   1438\u001b[0m               \u001b[0mself\u001b[0m\u001b[0;34m.\u001b[0m\u001b[0m_session\u001b[0m\u001b[0;34m.\u001b[0m\u001b[0m_session\u001b[0m\u001b[0;34m,\u001b[0m \u001b[0mself\u001b[0m\u001b[0;34m.\u001b[0m\u001b[0m_handle\u001b[0m\u001b[0;34m,\u001b[0m \u001b[0margs\u001b[0m\u001b[0;34m,\u001b[0m \u001b[0mstatus\u001b[0m\u001b[0;34m,\u001b[0m\u001b[0;34m\u001b[0m\u001b[0m\n\u001b[0;32m-> 1439\u001b[0;31m               run_metadata_ptr)\n\u001b[0m\u001b[1;32m   1440\u001b[0m         \u001b[0;32mif\u001b[0m \u001b[0mrun_metadata\u001b[0m\u001b[0;34m:\u001b[0m\u001b[0;34m\u001b[0m\u001b[0m\n\u001b[1;32m   1441\u001b[0m           \u001b[0mproto_data\u001b[0m \u001b[0;34m=\u001b[0m \u001b[0mtf_session\u001b[0m\u001b[0;34m.\u001b[0m\u001b[0mTF_GetBuffer\u001b[0m\u001b[0;34m(\u001b[0m\u001b[0mrun_metadata_ptr\u001b[0m\u001b[0;34m)\u001b[0m\u001b[0;34m\u001b[0m\u001b[0m\n",
      "\u001b[0;31mKeyboardInterrupt\u001b[0m: "
     ]
    }
   ],
   "source": [
    "model.fit(X_train, Y_train_norm_s, epochs=70, batch_size=32, validation_data=(X_test,Y_test_norm_s))"
   ]
  },
  {
   "cell_type": "code",
   "execution_count": 23,
   "metadata": {},
   "outputs": [
    {
     "name": "stdout",
     "output_type": "stream",
     "text": [
      "300/300 [==============================] - 0s 889us/step\n"
     ]
    },
    {
     "data": {
      "text/plain": [
       "0.12234155535697937"
      ]
     },
     "execution_count": 23,
     "metadata": {},
     "output_type": "execute_result"
    }
   ],
   "source": [
    "model.evaluate(X_test, Y_test_norm)"
   ]
  },
  {
   "cell_type": "code",
   "execution_count": 119,
   "metadata": {},
   "outputs": [],
   "source": [
    "Y_test_pred=model.predict(X_test)\n",
    "Y_train_pred=model.predict(X_train)"
   ]
  },
  {
   "cell_type": "code",
   "execution_count": 131,
   "metadata": {},
   "outputs": [
    {
     "data": {
      "image/png": "[encoded data removed]",
      "text/plain": [
       "<Figure size 360x360 with 1 Axes>"
      ]
     },
     "metadata": {
      "needs_background": "light"
     },
     "output_type": "display_data"
    },
    {
     "data": {
      "image/png": "[encoded data removed]",
      "text/plain": [
       "<Figure size 360x360 with 1 Axes>"
      ]
     },
     "metadata": {
      "needs_background": "light"
     },
     "output_type": "display_data"
    }
   ],
   "source": [
    "i=np.random.randint(300)\n",
    "visualize_prediction(X_train[i], Y_train_norm[i])\n",
    "#visualize_prediction(X_train[i], scaler.inverse_transform(Y_train_pred[i]))\n",
    "\n",
    "#visualize_prediction(X_train[i], Y_train_norm[i])\n",
    "visualize_prediction(X_train[i], Y_train_pred[i])"
   ]
  },
  {
   "cell_type": "code",
   "execution_count": 147,
   "metadata": {},
   "outputs": [
    {
     "data": {
      "image/png": "[encoded data removed]",
      "text/plain": [
       "<Figure size 360x360 with 1 Axes>"
      ]
     },
     "metadata": {
      "needs_background": "light"
     },
     "output_type": "display_data"
    },
    {
     "data": {
      "image/png": "[encoded data removed]",
      "text/plain": [
       "<Figure size 360x360 with 1 Axes>"
      ]
     },
     "metadata": {
      "needs_background": "light"
     },
     "output_type": "display_data"
    }
   ],
   "source": [
    "#visualize_prediction(X_test[i], Y_test[i])\n",
    "#visualize_prediction(X_test[i], scaler.inverse_transform(Y_test_pred[i]))\n",
    "i=np.random.randint(300)\n",
    "visualize_prediction(X_test[i], Y_test_norm[i])\n",
    "visualize_prediction(X_test[i], Y_test_pred[i])"
   ]
  },
  {
   "cell_type": "markdown",
   "metadata": {},
   "source": [
    "# Image Denoising"
   ]
  },
  {
   "cell_type": "code",
   "execution_count": 209,
   "metadata": {},
   "outputs": [],
   "source": [
    "def generate_dataset_classification_seed(nb_samples, noise=0.0, seed=42, free_location=False):\n",
    "    # Getting im_size:\n",
    "    im_size = generate_a_rectangle().shape[0]\n",
    "    X = np.zeros([nb_samples,im_size])\n",
    "    Y = np.zeros(nb_samples)\n",
    "    print('Creating data',end=\".. \")\n",
    "    rng = np.random.RandomState(seed)\n",
    "    for i in range(nb_samples):\n",
    "        #if i % 10 == 0:\n",
    "            #print(i)\n",
    "        category = rng.randint(3)\n",
    "        if category == 0:\n",
    "            X[i] = generate_a_rectangle_seed(rng, noise, free_location)\n",
    "        elif category == 1: \n",
    "            X[i] = generate_a_disk_seed(rng, noise, free_location)\n",
    "        else:\n",
    "            [X[i], V] = generate_a_triangle_seed(rng, noise, free_location)\n",
    "        Y[i] = category\n",
    "    X = (X + noise) / (255 + 2 * noise)\n",
    "    print(\"Done\")\n",
    "    return [X, Y]\n",
    "\n",
    "def generate_a_rectangle_seed(rng, noise=0.0, free_location=False):\n",
    "    figsize = 1.0    \n",
    "    U = np.zeros(4)\n",
    "    V = np.zeros(4)\n",
    "    if free_location:\n",
    "        corners = rng.uniform(4)\n",
    "        top = max(corners[0], corners[1])\n",
    "        bottom = min(corners[0], corners[1])\n",
    "        left = min(corners[2], corners[3])\n",
    "        right = max(corners[2], corners[3])\n",
    "    else:\n",
    "        side = (0.3 + 0.7 * rng.uniform()) * figsize\n",
    "        top = figsize/2 + side/2\n",
    "        bottom = figsize/2 - side/2\n",
    "        left = bottom\n",
    "        right = top\n",
    "    U[0] = U[1] = top\n",
    "    U[2] = U[3] = bottom\n",
    "    V[0] = V[3] = left\n",
    "    V[1] = V[2] = right\n",
    "    return generate_a_drawing(figsize, U, V, noise)\n",
    "\n",
    "\n",
    "def generate_a_disk_seed(rng, noise=0.0, free_location=False):\n",
    "    figsize = 1.0\n",
    "    if free_location:\n",
    "        center = rng.random(2)\n",
    "    else:\n",
    "        center = (figsize/2, figsize/2)\n",
    "    radius = (0.3 + 0.7 * rng.uniform()) * figsize/2\n",
    "    N = 50\n",
    "    U = np.zeros(N)\n",
    "    V = np.zeros(N)\n",
    "    i = 0\n",
    "    for t in np.linspace(0, 2*np.pi, N):\n",
    "        U[i] = center[0] + np.cos(t) * radius\n",
    "        V[i] = center[1] + np.sin(t) * radius\n",
    "        i = i + 1\n",
    "    return generate_a_drawing(figsize, U, V, noise)\n",
    "\n",
    "def generate_a_triangle_seed(rng, noise=0.0, free_location=False):\n",
    "    figsize = 1.0\n",
    "    if free_location:\n",
    "        U = rng.random(3)\n",
    "        V = rng.random(3)\n",
    "    else:\n",
    "        size = (0.3 + 0.7 * rng.uniform())*figsize/2\n",
    "        middle = figsize/2\n",
    "        U = (middle, middle+size, middle-size)\n",
    "        V = (middle+size, middle-size, middle-size)\n",
    "    imdata = generate_a_drawing(figsize, U, V, noise)\n",
    "    return [imdata, [U[0], V[0], U[1], V[1], U[2], V[2]]]"
   ]
  },
  {
   "cell_type": "code",
   "execution_count": 217,
   "metadata": {},
   "outputs": [
    {
     "name": "stdout",
     "output_type": "stream",
     "text": [
      "Creating data.. Done\n",
      "Creating data.. Done\n"
     ]
    }
   ],
   "source": [
    "[X_train_noise, Y_noise] = generate_dataset_classification_seed(300, 50)\n",
    "[X_train_clean, Y_clean] = generate_dataset_classification_seed(300, 0)\n",
    "\n",
    "X_train_clean = X_train_clean.reshape(-1, 72, 72, 1)\n",
    "X_train_noise = X_train_noise.reshape(-1, 72, 72, 1)"
   ]
  },
  {
   "cell_type": "code",
   "execution_count": 218,
   "metadata": {},
   "outputs": [
    {
     "data": {
      "image/png": "[encoded data removed]",
      "text/plain": [
       "<Figure size 576x288 with 2 Axes>"
      ]
     },
     "metadata": {
      "needs_background": "light"
     },
     "output_type": "display_data"
    }
   ],
   "source": [
    "i=np.random.randint(300)\n",
    "\n",
    "f, (ax1, ax2) = plt.subplots(1,2, figsize=(8,4))\n",
    "ax1.imshow(X_train_clean[i].reshape(72,72), cmap='gray')\n",
    "ax1.set_title(\"Clean image\")\n",
    "\n",
    "ax2.imshow(X_train_noise[i].reshape(72,72), cmap='gray')\n",
    "ax2.set_title(\"Noised image\")\n",
    "\n",
    "plt.tight_layout()\n",
    "plt.show()"
   ]
  },
  {
   "cell_type": "code",
   "execution_count": 229,
   "metadata": {},
   "outputs": [],
   "source": [
    "input_img = Input(shape=(72, 72, 1))  # adapt this if using `channels_first` image data format\n",
    "\n",
    "x = Conv2D(32, (3, 3), activation='relu', padding='same')(input_img)\n",
    "x = MaxPooling2D((2, 2), padding='same')(x)\n",
    "x = Conv2D(32, (3, 3), activation='relu', padding='same')(x)\n",
    "encoded = MaxPooling2D((2, 2), padding='same')(x)\n",
    "\n",
    "# at this point the representation is (7, 7, 32)\n",
    "\n",
    "x = Conv2D(32, (3, 3), activation='relu', padding='same')(encoded)\n",
    "x = UpSampling2D((2, 2))(x)\n",
    "x = Conv2D(32, (3, 3), activation='relu', padding='same')(x)\n",
    "x = UpSampling2D((2, 2))(x)\n",
    "decoded = Conv2D(1, (3, 3), activation='sigmoid', padding='same')(x)\n",
    "\n",
    "autoencoder = Model(input_img, decoded)\n",
    "autoencoder.compile(optimizer='adadelta', loss='binary_crossentropy')"
   ]
  },
  {
   "cell_type": "code",
   "execution_count": 230,
   "metadata": {},
   "outputs": [
    {
     "name": "stdout",
     "output_type": "stream",
     "text": [
      "_________________________________________________________________\n",
      "Layer (type)                 Output Shape              Param #   \n",
      "=================================================================\n",
      "input_12 (InputLayer)        (None, 72, 72, 1)         0         \n",
      "_________________________________________________________________\n",
      "conv2d_187 (Conv2D)          (None, 72, 72, 32)        320       \n",
      "_________________________________________________________________\n",
      "max_pooling2d_120 (MaxPoolin (None, 36, 36, 32)        0         \n",
      "_________________________________________________________________\n",
      "conv2d_188 (Conv2D)          (None, 36, 36, 32)        9248      \n",
      "_________________________________________________________________\n",
      "max_pooling2d_121 (MaxPoolin (None, 18, 18, 32)        0         \n",
      "_________________________________________________________________\n",
      "conv2d_189 (Conv2D)          (None, 18, 18, 32)        9248      \n",
      "_________________________________________________________________\n",
      "up_sampling2d_38 (UpSampling (None, 36, 36, 32)        0         \n",
      "_________________________________________________________________\n",
      "conv2d_190 (Conv2D)          (None, 36, 36, 32)        9248      \n",
      "_________________________________________________________________\n",
      "up_sampling2d_39 (UpSampling (None, 72, 72, 32)        0         \n",
      "_________________________________________________________________\n",
      "conv2d_191 (Conv2D)          (None, 72, 72, 1)         289       \n",
      "=================================================================\n",
      "Total params: 28,353\n",
      "Trainable params: 28,353\n",
      "Non-trainable params: 0\n",
      "_________________________________________________________________\n"
     ]
    }
   ],
   "source": [
    "autoencoder.summary()"
   ]
  },
  {
   "cell_type": "code",
   "execution_count": 231,
   "metadata": {},
   "outputs": [
    {
     "name": "stdout",
     "output_type": "stream",
     "text": [
      "Epoch 1/50\n",
      "300/300 [==============================] - 3s 11ms/step - loss: 0.5153\n",
      "Epoch 2/50\n",
      "300/300 [==============================] - 2s 6ms/step - loss: 0.3872\n",
      "Epoch 3/50\n",
      "300/300 [==============================] - 2s 7ms/step - loss: 0.3408\n",
      "Epoch 4/50\n",
      "300/300 [==============================] - 2s 6ms/step - loss: 0.2263\n",
      "Epoch 5/50\n",
      "300/300 [==============================] - 2s 6ms/step - loss: 0.1264\n",
      "Epoch 6/50\n",
      "300/300 [==============================] - 2s 7ms/step - loss: 0.0847\n",
      "Epoch 7/50\n",
      "300/300 [==============================] - 2s 7ms/step - loss: 0.0621\n",
      "Epoch 8/50\n",
      "300/300 [==============================] - 2s 6ms/step - loss: 0.0579\n",
      "Epoch 9/50\n",
      "300/300 [==============================] - 2s 7ms/step - loss: 0.0459\n",
      "Epoch 10/50\n",
      "300/300 [==============================] - 2s 6ms/step - loss: 0.0433\n",
      "Epoch 11/50\n",
      "300/300 [==============================] - 2s 7ms/step - loss: 0.0369\n",
      "Epoch 12/50\n",
      "300/300 [==============================] - 2s 7ms/step - loss: 0.0362\n",
      "Epoch 13/50\n",
      "300/300 [==============================] - 2s 7ms/step - loss: 0.0366\n",
      "Epoch 14/50\n",
      "300/300 [==============================] - 2s 6ms/step - loss: 0.0297\n",
      "Epoch 15/50\n",
      "300/300 [==============================] - 2s 7ms/step - loss: 0.0304\n",
      "Epoch 16/50\n",
      "300/300 [==============================] - 2s 6ms/step - loss: 0.0294\n",
      "Epoch 17/50\n",
      "300/300 [==============================] - 2s 6ms/step - loss: 0.0307\n",
      "Epoch 18/50\n",
      "300/300 [==============================] - 2s 7ms/step - loss: 0.0232\n",
      "Epoch 19/50\n",
      "300/300 [==============================] - 2s 7ms/step - loss: 0.0300\n",
      "Epoch 20/50\n",
      "300/300 [==============================] - 2s 7ms/step - loss: 0.0239\n",
      "Epoch 21/50\n",
      "300/300 [==============================] - 2s 6ms/step - loss: 0.0261\n",
      "Epoch 22/50\n",
      "300/300 [==============================] - 2s 6ms/step - loss: 0.0199\n",
      "Epoch 23/50\n",
      "300/300 [==============================] - 2s 7ms/step - loss: 0.0289\n",
      "Epoch 24/50\n",
      "300/300 [==============================] - 2s 6ms/step - loss: 0.0142\n",
      "Epoch 25/50\n",
      "300/300 [==============================] - 2s 7ms/step - loss: 0.0243\n",
      "Epoch 26/50\n",
      "300/300 [==============================] - 2s 7ms/step - loss: 0.0223\n",
      "Epoch 27/50\n",
      "300/300 [==============================] - 2s 7ms/step - loss: 0.0122\n",
      "Epoch 28/50\n",
      "300/300 [==============================] - 2s 7ms/step - loss: 0.0112\n",
      "Epoch 29/50\n",
      "300/300 [==============================] - 2s 6ms/step - loss: 0.0176\n",
      "Epoch 30/50\n",
      "300/300 [==============================] - 2s 7ms/step - loss: 0.0232\n",
      "Epoch 31/50\n",
      "300/300 [==============================] - 2s 7ms/step - loss: 0.0106\n",
      "Epoch 32/50\n",
      "300/300 [==============================] - 2s 7ms/step - loss: 0.0100\n",
      "Epoch 33/50\n",
      "300/300 [==============================] - 2s 7ms/step - loss: 0.0099\n",
      "Epoch 34/50\n",
      "300/300 [==============================] - 2s 7ms/step - loss: 0.0267\n",
      "Epoch 35/50\n",
      "300/300 [==============================] - 2s 7ms/step - loss: 0.0097\n",
      "Epoch 36/50\n",
      "300/300 [==============================] - 2s 7ms/step - loss: 0.0092\n",
      "Epoch 37/50\n",
      "300/300 [==============================] - 2s 7ms/step - loss: 0.0119\n",
      "Epoch 38/50\n",
      "300/300 [==============================] - 2s 7ms/step - loss: 0.0196\n",
      "Epoch 39/50\n",
      "300/300 [==============================] - 2s 7ms/step - loss: 0.0095\n",
      "Epoch 40/50\n",
      "300/300 [==============================] - 2s 7ms/step - loss: 0.0097\n",
      "Epoch 41/50\n",
      "300/300 [==============================] - 2s 7ms/step - loss: 0.0197\n",
      "Epoch 42/50\n",
      "300/300 [==============================] - 2s 6ms/step - loss: 0.0132\n",
      "Epoch 43/50\n",
      "300/300 [==============================] - 2s 7ms/step - loss: 0.0082\n",
      "Epoch 44/50\n",
      "300/300 [==============================] - 2s 7ms/step - loss: 0.0081\n",
      "Epoch 45/50\n",
      "300/300 [==============================] - 2s 6ms/step - loss: 0.0182\n",
      "Epoch 46/50\n",
      "300/300 [==============================] - 2s 7ms/step - loss: 0.0149\n",
      "Epoch 47/50\n",
      "300/300 [==============================] - 2s 7ms/step - loss: 0.0077\n",
      "Epoch 48/50\n",
      "300/300 [==============================] - 2s 7ms/step - loss: 0.0073\n",
      "Epoch 49/50\n",
      "300/300 [==============================] - 2s 7ms/step - loss: 0.0071\n",
      "Epoch 50/50\n",
      "300/300 [==============================] - 2s 7ms/step - loss: 0.0152\n"
     ]
    },
    {
     "data": {
      "text/plain": [
       "<keras.callbacks.History at 0x1a3cedfc18>"
      ]
     },
     "execution_count": 231,
     "metadata": {},
     "output_type": "execute_result"
    }
   ],
   "source": [
    "autoencoder.fit(X_train_noise, X_train_clean,\n",
    "                epochs=50,\n",
    "                batch_size=32)"
   ]
  },
  {
   "cell_type": "code",
   "execution_count": 232,
   "metadata": {},
   "outputs": [
    {
     "name": "stdout",
     "output_type": "stream",
     "text": [
      "Creating data.. Done\n",
      "Creating data.. Done\n"
     ]
    }
   ],
   "source": [
    "[X_test_noise, Y_noise] = generate_dataset_classification_seed(300, 50, 30)\n",
    "[X_test_clean, Y_clean] = generate_dataset_classification_seed(300, 0, 30)\n",
    "\n",
    "X_test_noise = X_test_noise.reshape(-1, 72, 72, 1)\n",
    "X_test_clean = X_test_clean.reshape(-1, 72, 72, 1)"
   ]
  },
  {
   "cell_type": "code",
   "execution_count": 233,
   "metadata": {},
   "outputs": [
    {
     "name": "stdout",
     "output_type": "stream",
     "text": [
      "300/300 [==============================] - 1s 5ms/step\n"
     ]
    },
    {
     "data": {
      "text/plain": [
       "0.026460752114653586"
      ]
     },
     "execution_count": 233,
     "metadata": {},
     "output_type": "execute_result"
    }
   ],
   "source": [
    "autoencoder.evaluate(X_test_noise.reshape(-1, 72, 72, 1), X_test_clean.reshape(-1, 72, 72, 1))"
   ]
  },
  {
   "cell_type": "code",
   "execution_count": 234,
   "metadata": {},
   "outputs": [],
   "source": [
    "X_test_clean_pred = autoencoder.predict(X_test_noise)"
   ]
  },
  {
   "cell_type": "code",
   "execution_count": 241,
   "metadata": {},
   "outputs": [
    {
     "data": {
      "image/png": "[encoded data removed]",
      "text/plain": [
       "<Figure size 432x288 with 1 Axes>"
      ]
     },
     "metadata": {
      "needs_background": "light"
     },
     "output_type": "display_data"
    },
    {
     "data": {
      "image/png": "[encoded data removed]",
      "text/plain": [
       "<Figure size 432x288 with 1 Axes>"
      ]
     },
     "metadata": {
      "needs_background": "light"
     },
     "output_type": "display_data"
    },
    {
     "data": {
      "image/png": "[encoded data removed]",
      "text/plain": [
       "<Figure size 432x288 with 1 Axes>"
      ]
     },
     "metadata": {
      "needs_background": "light"
     },
     "output_type": "display_data"
    }
   ],
   "source": [
    "i=np.random.randint(300)\n",
    "\n",
    "plt.imshow(X_test_noise[i].reshape(72,72), cmap=\"gray\")\n",
    "plt.show()\n",
    "\n",
    "plt.imshow(X_test_clean[i].reshape(72,72), cmap=\"gray\")\n",
    "plt.show()\n",
    "\n",
    "plt.imshow(X_test_clean_pred[i].reshape(72,72), cmap=\"gray\")\n",
    "plt.show()"
   ]
  }
 ],
 "metadata": {
  "kernelspec": {
   "display_name": "Python 3",
   "language": "python",
   "name": "python3"
  },
  "language_info": {
   "codemirror_mode": {
    "name": "ipython",
    "version": 3
   },
   "file_extension": ".py",
   "mimetype": "text/x-python",
   "name": "python",
   "nbconvert_exporter": "python",
   "pygments_lexer": "ipython3",
   "version": "3.6.6"
  }
 },
 "nbformat": 4,
 "nbformat_minor": 2
}
