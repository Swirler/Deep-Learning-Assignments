{
 "cells": [
  {
   "cell_type": "markdown",
   "metadata": {},
   "source": [
    "<h1><center>Deep Learning Course - First Mini Project</center></h1>\n",
    "<h3><center>Image Classification and Regression</center></h3>\n",
    "<h4><center>Professor : Vincent Lepetit</center></h4>\n",
    "<h5><center>Mehdi Boubnan</center></h5>"
   ]
  },
  {
   "cell_type": "markdown",
   "metadata": {},
   "source": [
    "# Imports and defining functions"
   ]
  },
  {
   "cell_type": "code",
   "execution_count": 1,
   "metadata": {},
   "outputs": [],
   "source": [
    "import matplotlib.pyplot as plt\n",
    "%matplotlib inline\n",
    "import numpy as np"
   ]
  },
  {
   "cell_type": "code",
   "execution_count": 2,
   "metadata": {},
   "outputs": [],
   "source": [
    "from tensorflow import set_random_seed\n",
    "np.random.seed(42)\n",
    "set_random_seed(1)"
   ]
  },
  {
   "cell_type": "code",
   "execution_count": 66,
   "metadata": {},
   "outputs": [],
   "source": [
    "from keras.models import Sequential, Model\n",
    "from keras.layers import Dense, Activation, Conv2D, MaxPooling2D, Flatten, UpSampling2D, Input\n",
    "from keras.optimizers import SGD, Adam\n",
    "from keras import regularizers\n",
    "from keras import utils as np_utils"
   ]
  },
  {
   "cell_type": "code",
   "execution_count": 4,
   "metadata": {},
   "outputs": [],
   "source": [
    "IMAGE_SIZE = 72\n",
    "\n",
    "def generate_a_drawing(figsize, U, V, noise=0.0):\n",
    "    fig = plt.figure(figsize=(figsize,figsize))\n",
    "    ax = plt.subplot(111)\n",
    "    plt.axis('Off')\n",
    "    ax.set_xlim(0,figsize)\n",
    "    ax.set_ylim(0,figsize)\n",
    "    ax.fill(U, V, \"k\")\n",
    "    fig.canvas.draw()\n",
    "    imdata = np.frombuffer(fig.canvas.tostring_rgb(), dtype=np.uint8)[::3].astype(np.float32)\n",
    "    imdata = imdata + noise * np.random.random(imdata.size)\n",
    "    plt.close(fig)\n",
    "    return imdata\n",
    "\n",
    "def generate_a_rectangle(noise=0.0, free_location=False):\n",
    "    figsize = 1.0    \n",
    "    U = np.zeros(4)\n",
    "    V = np.zeros(4)\n",
    "    if free_location:\n",
    "        corners = np.random.random(4)\n",
    "        top = max(corners[0], corners[1])\n",
    "        bottom = min(corners[0], corners[1])\n",
    "        left = min(corners[2], corners[3])\n",
    "        right = max(corners[2], corners[3])\n",
    "    else:\n",
    "        side = (0.3 + 0.7 * np.random.random()) * figsize\n",
    "        top = figsize/2 + side/2\n",
    "        bottom = figsize/2 - side/2\n",
    "        left = bottom\n",
    "        right = top\n",
    "    U[0] = U[1] = top\n",
    "    U[2] = U[3] = bottom\n",
    "    V[0] = V[3] = left\n",
    "    V[1] = V[2] = right\n",
    "    return generate_a_drawing(figsize, U, V, noise)\n",
    "\n",
    "\n",
    "def generate_a_disk(noise=0.0, free_location=False):\n",
    "    figsize = 1.0\n",
    "    if free_location:\n",
    "        center = np.random.random(2)\n",
    "    else:\n",
    "        center = (figsize/2, figsize/2)\n",
    "    radius = (0.3 + 0.7 * np.random.random()) * figsize/2\n",
    "    N = 50\n",
    "    U = np.zeros(N)\n",
    "    V = np.zeros(N)\n",
    "    i = 0\n",
    "    for t in np.linspace(0, 2*np.pi, N):\n",
    "        U[i] = center[0] + np.cos(t) * radius\n",
    "        V[i] = center[1] + np.sin(t) * radius\n",
    "        i = i + 1\n",
    "    return generate_a_drawing(figsize, U, V, noise)\n",
    "\n",
    "def generate_a_triangle(noise=0.0, free_location=False):\n",
    "    figsize = 1.0\n",
    "    if free_location:\n",
    "        U = np.random.random(3)\n",
    "        V = np.random.random(3)\n",
    "    else:\n",
    "        size = (0.3 + 0.7 * np.random.random())*figsize/2\n",
    "        middle = figsize/2\n",
    "        U = (middle, middle+size, middle-size)\n",
    "        V = (middle+size, middle-size, middle-size)\n",
    "    imdata = generate_a_drawing(figsize, U, V, noise)\n",
    "    return [imdata, [U[0], V[0], U[1], V[1], U[2], V[2]]]\n",
    "\n",
    "\n",
    "def generate_dataset_classification(nb_samples, noise=0.0, free_location=False):\n",
    "    # Getting im_size:\n",
    "    im_size = generate_a_rectangle().shape[0]\n",
    "    X = np.zeros([nb_samples,im_size])\n",
    "    Y = np.zeros(nb_samples)\n",
    "    print('Creating data',end=\".. \")\n",
    "    for i in range(nb_samples):\n",
    "        #if i % 10 == 0:\n",
    "            #print(i)\n",
    "        category = np.random.randint(3)\n",
    "        if category == 0:\n",
    "            X[i] = generate_a_rectangle(noise, free_location)\n",
    "        elif category == 1: \n",
    "            X[i] = generate_a_disk(noise, free_location)\n",
    "        else:\n",
    "            [X[i], V] = generate_a_triangle(noise, free_location)\n",
    "        Y[i] = category\n",
    "    X = (X + noise) / (255 + 2 * noise)\n",
    "    print(\"Done\")\n",
    "    return [X, Y]\n",
    "\n",
    "def generate_test_set_classification():\n",
    "    np.random.seed(42)\n",
    "    [X_test, Y_test] = generate_dataset_classification(300, 20, True)\n",
    "    Y_test = np_utils.to_categorical(Y_test, 3) \n",
    "    return [X_test, Y_test]\n",
    "\n",
    "def generate_dataset_regression(nb_samples, noise=0.0):\n",
    "    # Getting im_size:\n",
    "    im_size = generate_a_triangle()[0].shape[0]\n",
    "    X = np.zeros([nb_samples,im_size])\n",
    "    Y = np.zeros([nb_samples, 6])\n",
    "    print('Creating data',end=\".. \")\n",
    "    for i in range(nb_samples):\n",
    "        #if i % 10 == 0:\n",
    "            #print(i)\n",
    "        [X[i], Y[i]] = generate_a_triangle(noise, True)\n",
    "    X = (X + noise) / (255 + 2 * noise)\n",
    "    print(\"Done\")\n",
    "    return [X, Y]\n",
    "\n",
    "import matplotlib.patches as patches\n",
    "\n",
    "def visualize_prediction(x, y):\n",
    "    fig, ax = plt.subplots(figsize=(5, 5))\n",
    "    I = x.reshape((IMAGE_SIZE,IMAGE_SIZE))\n",
    "    ax.imshow(I, extent=[-0.15,1.15,-0.15,1.15],cmap='gray')\n",
    "    ax.set_xlim([0,1])\n",
    "    ax.set_ylim([0,1])\n",
    "\n",
    "    xy = y.reshape(3,2)\n",
    "    tri = patches.Polygon(xy, closed=True, fill = False, edgecolor = 'r', linewidth = 5, alpha = 0.5)\n",
    "    ax.add_patch(tri)\n",
    "\n",
    "    plt.show()\n",
    "\n",
    "def generate_test_set_regression():\n",
    "    np.random.seed(42)\n",
    "    [X_test, Y_test] = generate_dataset_regression(300, 20)\n",
    "    return [X_test, Y_test]"
   ]
  },
  {
   "cell_type": "markdown",
   "metadata": {},
   "source": [
    "# Classification Problem"
   ]
  },
  {
   "cell_type": "markdown",
   "metadata": {},
   "source": [
    "## Simple Classification"
   ]
  },
  {
   "cell_type": "markdown",
   "metadata": {},
   "source": [
    "### Generating data"
   ]
  },
  {
   "cell_type": "markdown",
   "metadata": {},
   "source": [
    "Our training and testing datasets are composed by shapes images (rectangles, disks and triangles). We'll begin by generating some data samples :"
   ]
  },
  {
   "cell_type": "code",
   "execution_count": 5,
   "metadata": {},
   "outputs": [
    {
     "data": {
      "image/png": "[encoded data removed]",
      "text/plain": [
       "<Figure size 864x288 with 3 Axes>"
      ]
     },
     "metadata": {
      "needs_background": "light"
     },
     "output_type": "display_data"
    }
   ],
   "source": [
    "f, (ax1, ax2, ax3) = plt.subplots(1,3,figsize=(12,4))\n",
    "\n",
    "im = generate_a_rectangle(10, False)\n",
    "ax1.imshow(im.reshape(IMAGE_SIZE,IMAGE_SIZE), cmap='gray')\n",
    "ax1.set_title(\"Rectangle\")\n",
    "\n",
    "im = generate_a_disk(10, False)\n",
    "ax2.imshow(im.reshape(IMAGE_SIZE,IMAGE_SIZE), cmap='gray')\n",
    "ax2.set_title(\"Disk\")\n",
    "\n",
    "[im, v] = generate_a_triangle(20, False)\n",
    "ax3.imshow(im.reshape(IMAGE_SIZE,IMAGE_SIZE), cmap='gray')\n",
    "ax3.set_title(\"Triangle\")\n",
    "\n",
    "plt.tight_layout()\n",
    "plt.show()"
   ]
  },
  {
   "cell_type": "markdown",
   "metadata": {},
   "source": [
    "We'll then generate our training dataset with **300 samples** of shapes images, and see their distribution :"
   ]
  },
  {
   "cell_type": "code",
   "execution_count": 6,
   "metadata": {},
   "outputs": [
    {
     "name": "stdout",
     "output_type": "stream",
     "text": [
      "Creating data.. Done\n"
     ]
    }
   ],
   "source": [
    "[X_train, Y_train] = generate_dataset_classification(300, 20)"
   ]
  },
  {
   "cell_type": "markdown",
   "metadata": {},
   "source": [
    "We one-hot encore the data labels to fit the model :"
   ]
  },
  {
   "cell_type": "code",
   "execution_count": 7,
   "metadata": {},
   "outputs": [],
   "source": [
    "Y_train = np_utils.to_categorical(Y_train, 3)"
   ]
  },
  {
   "cell_type": "markdown",
   "metadata": {},
   "source": [
    "### Building the model"
   ]
  },
  {
   "cell_type": "markdown",
   "metadata": {},
   "source": [
    "We'll train a simple two layer fully-connected neural network, taking in input vectors in $\\mathbb{R}^{5184}$ (our image shapes are 72x72), and outputing a vector in $\\mathbb{R}^3$ representing the probabilities of belonging to each of the three classes (rectangle, disk, triangle). To do so, we use a hidden layer of **64** neurons followed by a **ReLU** activation, and an output layer of 3 neurons, followed by a **softmax** activation.\n",
    "\n",
    "For training the data, we'll use the stochastic gradient descent optimizer, with a 0.001 learning rate, a decay of $10^{-6}$ and a momentum of 0.9.\n",
    "We'll use 50 epochs and a 32 batch size."
   ]
  },
  {
   "cell_type": "markdown",
   "metadata": {},
   "source": [
    "#### Using SGD optimizer"
   ]
  },
  {
   "cell_type": "code",
   "execution_count": 8,
   "metadata": {},
   "outputs": [],
   "source": [
    "model = Sequential()\n",
    "\n",
    "output = 3\n",
    "\n",
    "model.add(Dense(output, input_shape=(5184,)))\n",
    "model.add(Activation('softmax'))\n",
    "\n",
    "sgd = SGD(lr=0.001, decay=1e-6, momentum=0.9, nesterov=True)\n",
    "model.compile(loss='categorical_crossentropy', optimizer=sgd, metrics=['accuracy'])"
   ]
  },
  {
   "cell_type": "markdown",
   "metadata": {},
   "source": [
    "Let's train the model with SGD :"
   ]
  },
  {
   "cell_type": "code",
   "execution_count": 9,
   "metadata": {},
   "outputs": [
    {
     "name": "stdout",
     "output_type": "stream",
     "text": [
      "Epoch 1/50\n",
      "300/300 [==============================] - 3s 9ms/step - loss: 1.1542 - acc: 0.5000\n",
      "Epoch 2/50\n",
      "300/300 [==============================] - 0s 120us/step - loss: 0.6739 - acc: 0.7000\n",
      "Epoch 3/50\n",
      "300/300 [==============================] - 0s 96us/step - loss: 0.5286 - acc: 0.7800\n",
      "Epoch 4/50\n",
      "300/300 [==============================] - 0s 100us/step - loss: 0.4238 - acc: 0.8233\n",
      "Epoch 5/50\n",
      "300/300 [==============================] - 0s 103us/step - loss: 0.3645 - acc: 0.8900\n",
      "Epoch 6/50\n",
      "300/300 [==============================] - 0s 100us/step - loss: 0.3277 - acc: 0.8867\n",
      "Epoch 7/50\n",
      "300/300 [==============================] - 0s 96us/step - loss: 0.2687 - acc: 0.9533\n",
      "Epoch 8/50\n",
      "300/300 [==============================] - 0s 96us/step - loss: 0.2419 - acc: 0.9700\n",
      "Epoch 9/50\n",
      "300/300 [==============================] - 0s 106us/step - loss: 0.2308 - acc: 0.9433\n",
      "Epoch 10/50\n",
      "300/300 [==============================] - 0s 96us/step - loss: 0.2048 - acc: 0.9533\n",
      "Epoch 11/50\n",
      "300/300 [==============================] - 0s 96us/step - loss: 0.2067 - acc: 0.9333\n",
      "Epoch 12/50\n",
      "300/300 [==============================] - 0s 93us/step - loss: 0.1949 - acc: 0.9567\n",
      "Epoch 13/50\n",
      "300/300 [==============================] - 0s 96us/step - loss: 0.1680 - acc: 0.9633\n",
      "Epoch 14/50\n",
      "300/300 [==============================] - 0s 100us/step - loss: 0.1620 - acc: 0.9733\n",
      "Epoch 15/50\n",
      "300/300 [==============================] - 0s 96us/step - loss: 0.1474 - acc: 0.9967\n",
      "Epoch 16/50\n",
      "300/300 [==============================] - 0s 100us/step - loss: 0.1857 - acc: 0.9367\n",
      "Epoch 17/50\n",
      "300/300 [==============================] - 0s 93us/step - loss: 0.1574 - acc: 0.9733\n",
      "Epoch 18/50\n",
      "300/300 [==============================] - 0s 96us/step - loss: 0.1322 - acc: 0.9867\n",
      "Epoch 19/50\n",
      "300/300 [==============================] - 0s 93us/step - loss: 0.1345 - acc: 0.9833\n",
      "Epoch 20/50\n",
      "300/300 [==============================] - 0s 93us/step - loss: 0.1277 - acc: 0.9900\n",
      "Epoch 21/50\n",
      "300/300 [==============================] - 0s 93us/step - loss: 0.1233 - acc: 0.9867\n",
      "Epoch 22/50\n",
      "300/300 [==============================] - 0s 103us/step - loss: 0.1103 - acc: 0.9967\n",
      "Epoch 23/50\n",
      "300/300 [==============================] - 0s 96us/step - loss: 0.1065 - acc: 1.0000\n",
      "Epoch 24/50\n",
      "300/300 [==============================] - 0s 96us/step - loss: 0.1049 - acc: 0.9933\n",
      "Epoch 25/50\n",
      "300/300 [==============================] - 0s 96us/step - loss: 0.1047 - acc: 0.9933\n",
      "Epoch 26/50\n",
      "300/300 [==============================] - 0s 96us/step - loss: 0.0984 - acc: 0.9967\n",
      "Epoch 27/50\n",
      "300/300 [==============================] - 0s 100us/step - loss: 0.0989 - acc: 0.9967\n",
      "Epoch 28/50\n",
      "300/300 [==============================] - 0s 103us/step - loss: 0.0971 - acc: 0.9967\n",
      "Epoch 29/50\n",
      "300/300 [==============================] - 0s 100us/step - loss: 0.0920 - acc: 1.0000\n",
      "Epoch 30/50\n",
      "300/300 [==============================] - 0s 93us/step - loss: 0.0859 - acc: 1.0000\n",
      "Epoch 31/50\n",
      "300/300 [==============================] - 0s 90us/step - loss: 0.0848 - acc: 1.0000\n",
      "Epoch 32/50\n",
      "300/300 [==============================] - 0s 100us/step - loss: 0.0836 - acc: 1.0000\n",
      "Epoch 33/50\n",
      "300/300 [==============================] - 0s 96us/step - loss: 0.0790 - acc: 1.0000\n",
      "Epoch 34/50\n",
      "300/300 [==============================] - 0s 103us/step - loss: 0.0788 - acc: 1.0000\n",
      "Epoch 35/50\n",
      "300/300 [==============================] - 0s 100us/step - loss: 0.0830 - acc: 0.9967\n",
      "Epoch 36/50\n",
      "300/300 [==============================] - 0s 93us/step - loss: 0.0804 - acc: 0.9933\n",
      "Epoch 37/50\n",
      "300/300 [==============================] - 0s 96us/step - loss: 0.0725 - acc: 1.0000\n",
      "Epoch 38/50\n",
      "300/300 [==============================] - 0s 96us/step - loss: 0.0797 - acc: 1.0000\n",
      "Epoch 39/50\n",
      "300/300 [==============================] - 0s 93us/step - loss: 0.0679 - acc: 1.0000\n",
      "Epoch 40/50\n",
      "300/300 [==============================] - 0s 93us/step - loss: 0.0691 - acc: 1.0000\n",
      "Epoch 41/50\n",
      "300/300 [==============================] - 0s 110us/step - loss: 0.0684 - acc: 1.0000\n",
      "Epoch 42/50\n",
      "300/300 [==============================] - 0s 96us/step - loss: 0.0679 - acc: 0.9967\n",
      "Epoch 43/50\n",
      "300/300 [==============================] - 0s 96us/step - loss: 0.0655 - acc: 1.0000\n",
      "Epoch 44/50\n",
      "300/300 [==============================] - 0s 90us/step - loss: 0.0628 - acc: 1.0000\n",
      "Epoch 45/50\n",
      "300/300 [==============================] - 0s 96us/step - loss: 0.0634 - acc: 1.0000\n",
      "Epoch 46/50\n",
      "300/300 [==============================] - 0s 116us/step - loss: 0.0605 - acc: 1.0000\n",
      "Epoch 47/50\n",
      "300/300 [==============================] - 0s 96us/step - loss: 0.0579 - acc: 1.0000\n",
      "Epoch 48/50\n",
      "300/300 [==============================] - 0s 96us/step - loss: 0.0567 - acc: 1.0000\n",
      "Epoch 49/50\n",
      "300/300 [==============================] - 0s 90us/step - loss: 0.0585 - acc: 1.0000\n",
      "Epoch 50/50\n",
      "300/300 [==============================] - 0s 100us/step - loss: 0.0602 - acc: 1.0000\n"
     ]
    },
    {
     "data": {
      "text/plain": [
       "<keras.callbacks.History at 0x193c4234eb8>"
      ]
     },
     "execution_count": 9,
     "metadata": {},
     "output_type": "execute_result"
    }
   ],
   "source": [
    "model.fit(X_train, Y_train, epochs=50, batch_size=32)"
   ]
  },
  {
   "cell_type": "markdown",
   "metadata": {},
   "source": [
    "#### Using Adam optimizer"
   ]
  },
  {
   "cell_type": "code",
   "execution_count": 24,
   "metadata": {},
   "outputs": [],
   "source": [
    "model = Sequential()\n",
    "\n",
    "hidden_neurons = 64\n",
    "output = 3\n",
    "\n",
    "model.add(Dense(output, input_shape=(5184,), kernel_regularizer=regularizers.l2(0.1)))\n",
    "model.add(Activation('softmax'))\n",
    "\n",
    "adam = Adam(lr=0.001, beta_1=0.9, beta_2=0.999, epsilon=None, decay=0.0, amsgrad=False)\n",
    "model.compile(loss='categorical_crossentropy', optimizer=adam, metrics=['accuracy'])"
   ]
  },
  {
   "cell_type": "code",
   "execution_count": 25,
   "metadata": {},
   "outputs": [
    {
     "name": "stdout",
     "output_type": "stream",
     "text": [
      "Epoch 1/50\n",
      "300/300 [==============================] - 0s 684us/step - loss: 2.2444 - acc: 0.4300\n",
      "Epoch 2/50\n",
      "300/300 [==============================] - 0s 110us/step - loss: 1.3535 - acc: 0.6300\n",
      "Epoch 3/50\n",
      "300/300 [==============================] - 0s 113us/step - loss: 1.1097 - acc: 0.7633\n",
      "Epoch 4/50\n",
      "300/300 [==============================] - 0s 103us/step - loss: 1.0435 - acc: 0.8233\n",
      "Epoch 5/50\n",
      "300/300 [==============================] - 0s 96us/step - loss: 0.9035 - acc: 0.8900\n",
      "Epoch 6/50\n",
      "300/300 [==============================] - 0s 103us/step - loss: 0.8417 - acc: 0.9300\n",
      "Epoch 7/50\n",
      "300/300 [==============================] - 0s 103us/step - loss: 0.8027 - acc: 0.9400\n",
      "Epoch 8/50\n",
      "300/300 [==============================] - 0s 96us/step - loss: 0.7943 - acc: 0.9167\n",
      "Epoch 9/50\n",
      "300/300 [==============================] - 0s 100us/step - loss: 0.7810 - acc: 0.9167\n",
      "Epoch 10/50\n",
      "300/300 [==============================] - 0s 100us/step - loss: 0.6871 - acc: 0.9900\n",
      "Epoch 11/50\n",
      "300/300 [==============================] - 0s 103us/step - loss: 0.6820 - acc: 0.9533\n",
      "Epoch 12/50\n",
      "300/300 [==============================] - 0s 96us/step - loss: 0.6960 - acc: 0.9133\n",
      "Epoch 13/50\n",
      "300/300 [==============================] - 0s 100us/step - loss: 0.6470 - acc: 0.9567\n",
      "Epoch 14/50\n",
      "300/300 [==============================] - 0s 96us/step - loss: 0.5914 - acc: 0.9900\n",
      "Epoch 15/50\n",
      "300/300 [==============================] - 0s 100us/step - loss: 0.5789 - acc: 0.9667\n",
      "Epoch 16/50\n",
      "300/300 [==============================] - 0s 100us/step - loss: 0.5862 - acc: 0.9667\n",
      "Epoch 17/50\n",
      "300/300 [==============================] - 0s 100us/step - loss: 0.5604 - acc: 0.9767\n",
      "Epoch 18/50\n",
      "300/300 [==============================] - 0s 100us/step - loss: 0.5487 - acc: 0.9667\n",
      "Epoch 19/50\n",
      "300/300 [==============================] - 0s 96us/step - loss: 0.5169 - acc: 0.9967\n",
      "Epoch 20/50\n",
      "300/300 [==============================] - 0s 96us/step - loss: 0.4893 - acc: 1.0000\n",
      "Epoch 21/50\n",
      "300/300 [==============================] - 0s 103us/step - loss: 0.4692 - acc: 1.0000\n",
      "Epoch 22/50\n",
      "300/300 [==============================] - 0s 106us/step - loss: 0.4607 - acc: 0.9933\n",
      "Epoch 23/50\n",
      "300/300 [==============================] - 0s 100us/step - loss: 0.4993 - acc: 0.9267\n",
      "Epoch 24/50\n",
      "300/300 [==============================] - 0s 100us/step - loss: 0.4666 - acc: 0.9633\n",
      "Epoch 25/50\n",
      "300/300 [==============================] - 0s 96us/step - loss: 0.4400 - acc: 0.9867\n",
      "Epoch 26/50\n",
      "300/300 [==============================] - 0s 100us/step - loss: 0.4108 - acc: 1.0000\n",
      "Epoch 27/50\n",
      "300/300 [==============================] - 0s 103us/step - loss: 0.4032 - acc: 0.9967\n",
      "Epoch 28/50\n",
      "300/300 [==============================] - 0s 103us/step - loss: 0.4038 - acc: 0.9967\n",
      "Epoch 29/50\n",
      "300/300 [==============================] - 0s 103us/step - loss: 0.3951 - acc: 1.0000\n",
      "Epoch 30/50\n",
      "300/300 [==============================] - 0s 100us/step - loss: 0.3964 - acc: 0.9833\n",
      "Epoch 31/50\n",
      "300/300 [==============================] - 0s 96us/step - loss: 0.3739 - acc: 0.9933\n",
      "Epoch 32/50\n",
      "300/300 [==============================] - 0s 93us/step - loss: 0.3612 - acc: 1.0000\n",
      "Epoch 33/50\n",
      "300/300 [==============================] - 0s 100us/step - loss: 0.3626 - acc: 0.9933\n",
      "Epoch 34/50\n",
      "300/300 [==============================] - 0s 103us/step - loss: 0.3514 - acc: 1.0000\n",
      "Epoch 35/50\n",
      "300/300 [==============================] - 0s 103us/step - loss: 0.3511 - acc: 0.9767\n",
      "Epoch 36/50\n",
      "300/300 [==============================] - 0s 100us/step - loss: 0.3441 - acc: 0.9967\n",
      "Epoch 37/50\n",
      "300/300 [==============================] - 0s 96us/step - loss: 0.3306 - acc: 0.9967\n",
      "Epoch 38/50\n",
      "300/300 [==============================] - 0s 103us/step - loss: 0.3180 - acc: 1.0000\n",
      "Epoch 39/50\n",
      "300/300 [==============================] - 0s 96us/step - loss: 0.3135 - acc: 1.0000\n",
      "Epoch 40/50\n",
      "300/300 [==============================] - 0s 100us/step - loss: 0.3317 - acc: 0.9800\n",
      "Epoch 41/50\n",
      "300/300 [==============================] - 0s 96us/step - loss: 0.3503 - acc: 0.9667\n",
      "Epoch 42/50\n",
      "300/300 [==============================] - 0s 96us/step - loss: 0.3395 - acc: 0.9533\n",
      "Epoch 43/50\n",
      "300/300 [==============================] - 0s 93us/step - loss: 0.3490 - acc: 0.9400\n",
      "Epoch 44/50\n",
      "300/300 [==============================] - 0s 103us/step - loss: 0.3129 - acc: 0.9767\n",
      "Epoch 45/50\n",
      "300/300 [==============================] - 0s 100us/step - loss: 0.3174 - acc: 0.9700\n",
      "Epoch 46/50\n",
      "300/300 [==============================] - 0s 103us/step - loss: 0.2842 - acc: 1.0000\n",
      "Epoch 47/50\n",
      "300/300 [==============================] - 0s 103us/step - loss: 0.2783 - acc: 0.9967\n",
      "Epoch 48/50\n",
      "300/300 [==============================] - 0s 103us/step - loss: 0.2833 - acc: 0.9967\n",
      "Epoch 49/50\n",
      "300/300 [==============================] - 0s 100us/step - loss: 0.2741 - acc: 0.9967\n",
      "Epoch 50/50\n",
      "300/300 [==============================] - 0s 100us/step - loss: 0.2782 - acc: 1.0000\n"
     ]
    },
    {
     "data": {
      "text/plain": [
       "<keras.callbacks.History at 0x193c3e9ff28>"
      ]
     },
     "execution_count": 25,
     "metadata": {},
     "output_type": "execute_result"
    }
   ],
   "source": [
    "model.fit(X_train, Y_train, epochs=50, batch_size=32)"
   ]
  },
  {
   "cell_type": "markdown",
   "metadata": {},
   "source": [
    "### Plotting weights"
   ]
  },
  {
   "cell_type": "markdown",
   "metadata": {},
   "source": [
    "We'll plot the first three weights :"
   ]
  },
  {
   "cell_type": "code",
   "execution_count": 26,
   "metadata": {},
   "outputs": [
    {
     "data": {
      "image/png": "[encoded data removed]",
      "text/plain": [
       "<Figure size 864x288 with 3 Axes>"
      ]
     },
     "metadata": {
      "needs_background": "light"
     },
     "output_type": "display_data"
    }
   ],
   "source": [
    "weights = model.get_weights()[0].T\n",
    "\n",
    "f, (ax1, ax2, ax3) = plt.subplots(1,3, figsize=(12,4))\n",
    "\n",
    "ax1.imshow(weights[0].reshape(IMAGE_SIZE,IMAGE_SIZE), cmap='gray')\n",
    "ax1.set_title(\"Rectangle weight\")\n",
    "\n",
    "ax2.imshow(weights[1].reshape(IMAGE_SIZE,IMAGE_SIZE), cmap='gray')\n",
    "ax2.set_title(\"Disk weight\")\n",
    "\n",
    "ax3.imshow(weights[2].reshape(IMAGE_SIZE,IMAGE_SIZE), cmap='gray')\n",
    "ax3.set_title(\"Triangle weight\")\n",
    "\n",
    "plt.tight_layout()\n",
    "plt.show()"
   ]
  },
  {
   "cell_type": "markdown",
   "metadata": {},
   "source": [
    "## More Difficult Classification Problem"
   ]
  },
  {
   "cell_type": "markdown",
   "metadata": {},
   "source": [
    "### Generating Data"
   ]
  },
  {
   "cell_type": "markdown",
   "metadata": {},
   "source": [
    "Now, we'll generate a new training set where the shapes are allowed to move within the images and change dimensions."
   ]
  },
  {
   "cell_type": "code",
   "execution_count": 27,
   "metadata": {},
   "outputs": [
    {
     "name": "stdout",
     "output_type": "stream",
     "text": [
      "Creating data.. Done\n",
      "Creating data.. Done\n"
     ]
    }
   ],
   "source": [
    "[X_train, Y_train] = generate_dataset_classification(300, 20, True)\n",
    "[X_test, Y_test] = generate_test_set_classification()"
   ]
  },
  {
   "cell_type": "markdown",
   "metadata": {},
   "source": [
    "Let's see what the new data looks like"
   ]
  },
  {
   "cell_type": "code",
   "execution_count": 28,
   "metadata": {},
   "outputs": [
    {
     "data": {
      "image/png": "[encoded data removed]",
      "text/plain": [
       "<Figure size 864x288 with 3 Axes>"
      ]
     },
     "metadata": {
      "needs_background": "light"
     },
     "output_type": "display_data"
    }
   ],
   "source": [
    "f, (ax1, ax2, ax3) = plt.subplots(1,3,figsize=(12,4))\n",
    "\n",
    "im = generate_a_rectangle(20, True)\n",
    "ax1.imshow(im.reshape(IMAGE_SIZE,IMAGE_SIZE), cmap='gray')\n",
    "ax1.set_title(\"Rectangle\")\n",
    "\n",
    "im = generate_a_disk(20, True)\n",
    "ax2.imshow(im.reshape(IMAGE_SIZE,IMAGE_SIZE), cmap='gray')\n",
    "ax2.set_title(\"Disk\")\n",
    "\n",
    "[im, v] = generate_a_triangle(20, True)\n",
    "ax3.imshow(im.reshape(IMAGE_SIZE,IMAGE_SIZE), cmap='gray')\n",
    "ax3.set_title(\"Triangle\")\n",
    "\n",
    "plt.tight_layout()\n",
    "plt.show()"
   ]
  },
  {
   "cell_type": "markdown",
   "metadata": {},
   "source": [
    "Let's see now the distribution of our shapes within the train and test set"
   ]
  },
  {
   "cell_type": "code",
   "execution_count": null,
   "metadata": {},
   "outputs": [],
   "source": []
  },
  {
   "cell_type": "markdown",
   "metadata": {},
   "source": [
    "We one-hot encode the training to fit the model, the test labels are already one-hot encoded :"
   ]
  },
  {
   "cell_type": "code",
   "execution_count": 29,
   "metadata": {},
   "outputs": [],
   "source": [
    "Y_train = np_utils.to_categorical(Y_train, 3)"
   ]
  },
  {
   "cell_type": "markdown",
   "metadata": {},
   "source": [
    "### Retraining the model"
   ]
  },
  {
   "cell_type": "markdown",
   "metadata": {},
   "source": [
    "We'll use the **same model as before**, and retrain it on the new dataset. We choose to double the number of **epochs** from **50 to 100**."
   ]
  },
  {
   "cell_type": "code",
   "execution_count": 30,
   "metadata": {},
   "outputs": [],
   "source": [
    "model = Sequential()\n",
    "\n",
    "hidden_neurons = 64\n",
    "output = 3\n",
    "\n",
    "model.add(Dense(output, input_shape=(5184,)))\n",
    "model.add(Activation('softmax'))\n",
    "\n",
    "adam = Adam(lr=0.001, beta_1=0.9, beta_2=0.999, epsilon=None, decay=0.0, amsgrad=False)\n",
    "model.compile(loss='categorical_crossentropy', optimizer=adam, metrics=['accuracy'])"
   ]
  },
  {
   "cell_type": "markdown",
   "metadata": {},
   "source": [
    "Let's train our model"
   ]
  },
  {
   "cell_type": "code",
   "execution_count": 31,
   "metadata": {},
   "outputs": [
    {
     "name": "stdout",
     "output_type": "stream",
     "text": [
      "Epoch 1/100\n",
      "300/300 [==============================] - 0s 694us/step - loss: 2.0480 - acc: 0.3067\n",
      "Epoch 2/100\n",
      "300/300 [==============================] - 0s 103us/step - loss: 1.4813 - acc: 0.3333\n",
      "Epoch 3/100\n",
      "300/300 [==============================] - 0s 103us/step - loss: 1.1658 - acc: 0.4300\n",
      "Epoch 4/100\n",
      "300/300 [==============================] - 0s 103us/step - loss: 1.0508 - acc: 0.4933\n",
      "Epoch 5/100\n",
      "300/300 [==============================] - 0s 100us/step - loss: 1.3319 - acc: 0.4233\n",
      "Epoch 6/100\n",
      "300/300 [==============================] - 0s 110us/step - loss: 0.9425 - acc: 0.5533\n",
      "Epoch 7/100\n",
      "300/300 [==============================] - 0s 103us/step - loss: 0.8725 - acc: 0.5700\n",
      "Epoch 8/100\n",
      "300/300 [==============================] - 0s 103us/step - loss: 0.8869 - acc: 0.5500\n",
      "Epoch 9/100\n",
      "300/300 [==============================] - 0s 96us/step - loss: 0.8764 - acc: 0.5900\n",
      "Epoch 10/100\n",
      "300/300 [==============================] - 0s 103us/step - loss: 0.8510 - acc: 0.6000\n",
      "Epoch 11/100\n",
      "300/300 [==============================] - 0s 113us/step - loss: 1.0088 - acc: 0.5367\n",
      "Epoch 12/100\n",
      "300/300 [==============================] - 0s 103us/step - loss: 1.0221 - acc: 0.4967\n",
      "Epoch 13/100\n",
      "300/300 [==============================] - 0s 103us/step - loss: 0.8738 - acc: 0.5800\n",
      "Epoch 14/100\n",
      "300/300 [==============================] - 0s 103us/step - loss: 0.8974 - acc: 0.5567\n",
      "Epoch 15/100\n",
      "300/300 [==============================] - 0s 103us/step - loss: 1.1645 - acc: 0.4767\n",
      "Epoch 16/100\n",
      "300/300 [==============================] - 0s 103us/step - loss: 0.9230 - acc: 0.5567\n",
      "Epoch 17/100\n",
      "300/300 [==============================] - 0s 100us/step - loss: 0.7665 - acc: 0.6367\n",
      "Epoch 18/100\n",
      "300/300 [==============================] - 0s 93us/step - loss: 0.8271 - acc: 0.6167\n",
      "Epoch 19/100\n",
      "300/300 [==============================] - 0s 96us/step - loss: 0.9219 - acc: 0.5800\n",
      "Epoch 20/100\n",
      "300/300 [==============================] - 0s 100us/step - loss: 1.1583 - acc: 0.5433\n",
      "Epoch 21/100\n",
      "300/300 [==============================] - 0s 106us/step - loss: 1.1598 - acc: 0.5633\n",
      "Epoch 22/100\n",
      "300/300 [==============================] - 0s 106us/step - loss: 0.8607 - acc: 0.6033\n",
      "Epoch 23/100\n",
      "300/300 [==============================] - 0s 103us/step - loss: 0.8211 - acc: 0.6267\n",
      "Epoch 24/100\n",
      "300/300 [==============================] - 0s 100us/step - loss: 0.7692 - acc: 0.6567\n",
      "Epoch 25/100\n",
      "300/300 [==============================] - 0s 96us/step - loss: 0.7545 - acc: 0.6467\n",
      "Epoch 26/100\n",
      "300/300 [==============================] - 0s 96us/step - loss: 0.8243 - acc: 0.6233\n",
      "Epoch 27/100\n",
      "300/300 [==============================] - 0s 100us/step - loss: 0.8311 - acc: 0.6267\n",
      "Epoch 28/100\n",
      "300/300 [==============================] - 0s 110us/step - loss: 0.7390 - acc: 0.6667\n",
      "Epoch 29/100\n",
      "300/300 [==============================] - 0s 106us/step - loss: 0.7403 - acc: 0.6467\n",
      "Epoch 30/100\n",
      "300/300 [==============================] - 0s 106us/step - loss: 0.7507 - acc: 0.6567\n",
      "Epoch 31/100\n",
      "300/300 [==============================] - 0s 106us/step - loss: 0.6511 - acc: 0.7100\n",
      "Epoch 32/100\n",
      "300/300 [==============================] - 0s 103us/step - loss: 0.6962 - acc: 0.6833\n",
      "Epoch 33/100\n",
      "300/300 [==============================] - 0s 103us/step - loss: 0.6530 - acc: 0.7300\n",
      "Epoch 34/100\n",
      "300/300 [==============================] - 0s 100us/step - loss: 0.6762 - acc: 0.6867\n",
      "Epoch 35/100\n",
      "300/300 [==============================] - 0s 96us/step - loss: 0.7391 - acc: 0.6433\n",
      "Epoch 36/100\n",
      "300/300 [==============================] - 0s 100us/step - loss: 0.6722 - acc: 0.6933\n",
      "Epoch 37/100\n",
      "300/300 [==============================] - 0s 106us/step - loss: 0.6806 - acc: 0.7033\n",
      "Epoch 38/100\n",
      "300/300 [==============================] - 0s 103us/step - loss: 0.8081 - acc: 0.6367\n",
      "Epoch 39/100\n",
      "300/300 [==============================] - 0s 106us/step - loss: 0.6926 - acc: 0.6833\n",
      "Epoch 40/100\n",
      "300/300 [==============================] - 0s 106us/step - loss: 0.6081 - acc: 0.7200\n",
      "Epoch 41/100\n",
      "300/300 [==============================] - 0s 106us/step - loss: 0.7213 - acc: 0.6733\n",
      "Epoch 42/100\n",
      "300/300 [==============================] - 0s 100us/step - loss: 0.7432 - acc: 0.6933\n",
      "Epoch 43/100\n",
      "300/300 [==============================] - 0s 100us/step - loss: 0.6892 - acc: 0.6833\n",
      "Epoch 44/100\n",
      "300/300 [==============================] - 0s 103us/step - loss: 0.6024 - acc: 0.7333\n",
      "Epoch 45/100\n",
      "300/300 [==============================] - 0s 96us/step - loss: 0.6668 - acc: 0.6833\n",
      "Epoch 46/100\n",
      "300/300 [==============================] - 0s 100us/step - loss: 0.7172 - acc: 0.7033\n",
      "Epoch 47/100\n",
      "300/300 [==============================] - 0s 100us/step - loss: 0.8106 - acc: 0.6333\n",
      "Epoch 48/100\n",
      "300/300 [==============================] - 0s 103us/step - loss: 0.6742 - acc: 0.6933\n",
      "Epoch 49/100\n",
      "300/300 [==============================] - 0s 96us/step - loss: 0.6470 - acc: 0.7033\n",
      "Epoch 50/100\n",
      "300/300 [==============================] - 0s 100us/step - loss: 0.6871 - acc: 0.6700\n",
      "Epoch 51/100\n",
      "300/300 [==============================] - 0s 100us/step - loss: 0.6185 - acc: 0.7433\n",
      "Epoch 52/100\n",
      "300/300 [==============================] - 0s 103us/step - loss: 0.5894 - acc: 0.7433\n",
      "Epoch 53/100\n",
      "300/300 [==============================] - 0s 100us/step - loss: 0.5817 - acc: 0.7333\n",
      "Epoch 54/100\n",
      "300/300 [==============================] - 0s 103us/step - loss: 0.5734 - acc: 0.7667\n",
      "Epoch 55/100\n",
      "300/300 [==============================] - 0s 100us/step - loss: 0.5619 - acc: 0.7600\n",
      "Epoch 56/100\n",
      "300/300 [==============================] - 0s 103us/step - loss: 0.5865 - acc: 0.7567\n",
      "Epoch 57/100\n",
      "300/300 [==============================] - 0s 100us/step - loss: 0.7063 - acc: 0.6800\n",
      "Epoch 58/100\n",
      "300/300 [==============================] - 0s 100us/step - loss: 0.7681 - acc: 0.6500\n",
      "Epoch 59/100\n",
      "300/300 [==============================] - 0s 100us/step - loss: 0.8332 - acc: 0.6433\n",
      "Epoch 60/100\n",
      "300/300 [==============================] - 0s 103us/step - loss: 0.6576 - acc: 0.6833\n",
      "Epoch 61/100\n",
      "300/300 [==============================] - 0s 96us/step - loss: 0.6736 - acc: 0.6767\n",
      "Epoch 62/100\n",
      "300/300 [==============================] - 0s 100us/step - loss: 0.6313 - acc: 0.7467\n",
      "Epoch 63/100\n",
      "300/300 [==============================] - 0s 103us/step - loss: 0.6100 - acc: 0.7567\n",
      "Epoch 64/100\n",
      "300/300 [==============================] - 0s 103us/step - loss: 0.7169 - acc: 0.7000\n",
      "Epoch 65/100\n",
      "300/300 [==============================] - 0s 106us/step - loss: 0.6650 - acc: 0.7033\n",
      "Epoch 66/100\n",
      "300/300 [==============================] - 0s 103us/step - loss: 0.6653 - acc: 0.7167\n",
      "Epoch 67/100\n",
      "300/300 [==============================] - 0s 106us/step - loss: 0.7872 - acc: 0.6267\n",
      "Epoch 68/100\n",
      "300/300 [==============================] - 0s 100us/step - loss: 0.7290 - acc: 0.6800\n",
      "Epoch 69/100\n",
      "300/300 [==============================] - 0s 106us/step - loss: 0.7229 - acc: 0.6933\n",
      "Epoch 70/100\n",
      "300/300 [==============================] - 0s 103us/step - loss: 0.6611 - acc: 0.7500\n",
      "Epoch 71/100\n",
      "300/300 [==============================] - 0s 106us/step - loss: 0.5467 - acc: 0.7500\n",
      "Epoch 72/100\n",
      "300/300 [==============================] - 0s 100us/step - loss: 0.4830 - acc: 0.8300\n",
      "Epoch 73/100\n",
      "300/300 [==============================] - 0s 100us/step - loss: 0.4895 - acc: 0.8133\n",
      "Epoch 74/100\n",
      "300/300 [==============================] - 0s 103us/step - loss: 0.5008 - acc: 0.8033\n",
      "Epoch 75/100\n",
      "300/300 [==============================] - 0s 103us/step - loss: 0.4948 - acc: 0.8000\n",
      "Epoch 76/100\n",
      "300/300 [==============================] - 0s 96us/step - loss: 0.5390 - acc: 0.7500\n",
      "Epoch 77/100\n",
      "300/300 [==============================] - 0s 100us/step - loss: 0.5616 - acc: 0.7533\n",
      "Epoch 78/100\n",
      "300/300 [==============================] - 0s 103us/step - loss: 0.5646 - acc: 0.7533\n",
      "Epoch 79/100\n",
      "300/300 [==============================] - 0s 100us/step - loss: 0.6462 - acc: 0.6767\n",
      "Epoch 80/100\n",
      "300/300 [==============================] - 0s 100us/step - loss: 0.5665 - acc: 0.7033\n",
      "Epoch 81/100\n",
      "300/300 [==============================] - 0s 103us/step - loss: 0.5217 - acc: 0.7767\n",
      "Epoch 82/100\n",
      "300/300 [==============================] - 0s 100us/step - loss: 0.4502 - acc: 0.8167\n",
      "Epoch 83/100\n",
      "300/300 [==============================] - 0s 100us/step - loss: 0.5612 - acc: 0.7267\n",
      "Epoch 84/100\n",
      "300/300 [==============================] - 0s 103us/step - loss: 0.5398 - acc: 0.7433\n",
      "Epoch 85/100\n",
      "300/300 [==============================] - 0s 103us/step - loss: 0.4803 - acc: 0.7733\n",
      "Epoch 86/100\n",
      "300/300 [==============================] - 0s 103us/step - loss: 0.5427 - acc: 0.7267\n",
      "Epoch 87/100\n",
      "300/300 [==============================] - 0s 96us/step - loss: 0.5940 - acc: 0.7333\n",
      "Epoch 88/100\n",
      "300/300 [==============================] - 0s 100us/step - loss: 0.6548 - acc: 0.7067\n",
      "Epoch 89/100\n",
      "300/300 [==============================] - 0s 100us/step - loss: 0.4782 - acc: 0.8100\n",
      "Epoch 90/100\n",
      "300/300 [==============================] - 0s 103us/step - loss: 0.4987 - acc: 0.7533\n",
      "Epoch 91/100\n",
      "300/300 [==============================] - 0s 103us/step - loss: 0.4728 - acc: 0.7900\n",
      "Epoch 92/100\n",
      "300/300 [==============================] - 0s 96us/step - loss: 0.5163 - acc: 0.7467\n",
      "Epoch 93/100\n",
      "300/300 [==============================] - 0s 106us/step - loss: 0.4361 - acc: 0.8233\n",
      "Epoch 94/100\n",
      "300/300 [==============================] - 0s 100us/step - loss: 0.4669 - acc: 0.7967\n",
      "Epoch 95/100\n",
      "300/300 [==============================] - 0s 103us/step - loss: 0.4696 - acc: 0.8100\n",
      "Epoch 96/100\n",
      "300/300 [==============================] - 0s 103us/step - loss: 0.4266 - acc: 0.8300\n",
      "Epoch 97/100\n",
      "300/300 [==============================] - 0s 110us/step - loss: 0.4734 - acc: 0.7900\n",
      "Epoch 98/100\n",
      "300/300 [==============================] - 0s 100us/step - loss: 0.5986 - acc: 0.7167\n",
      "Epoch 99/100\n",
      "300/300 [==============================] - 0s 100us/step - loss: 0.7001 - acc: 0.6833\n",
      "Epoch 100/100\n",
      "300/300 [==============================] - 0s 100us/step - loss: 0.8275 - acc: 0.6467\n"
     ]
    },
    {
     "data": {
      "text/plain": [
       "<keras.callbacks.History at 0x194923fae48>"
      ]
     },
     "execution_count": 31,
     "metadata": {},
     "output_type": "execute_result"
    }
   ],
   "source": [
    "model.fit(X_train, Y_train, epochs=100, batch_size=32)"
   ]
  },
  {
   "cell_type": "markdown",
   "metadata": {},
   "source": [
    "Let's evaluate our model on the test set :"
   ]
  },
  {
   "cell_type": "code",
   "execution_count": 32,
   "metadata": {},
   "outputs": [
    {
     "name": "stdout",
     "output_type": "stream",
     "text": [
      "300/300 [==============================] - 0s 260us/step\n",
      "Loss : 1.139453231493632\n",
      "Accuracy : 0.5899999996026357\n"
     ]
    }
   ],
   "source": [
    "Loss, accuracy = model.evaluate(X_test, Y_test, batch_size=32)\n",
    "\n",
    "print(\"Loss : {}\".format(Loss))\n",
    "print(\"Accuracy : {}\".format(accuracy))"
   ]
  },
  {
   "cell_type": "markdown",
   "metadata": {},
   "source": [
    "### Building a convolutional network"
   ]
  },
  {
   "cell_type": "markdown",
   "metadata": {},
   "source": [
    "We notice that the performance is worse on the new dataset. We'll change the model and use a convolutional network.\n",
    "\n",
    "The architecture :\n",
    "  - Convolution with 2 by 2 filters, 16 feature maps + ReLU nonlinearity.\n",
    "  - 2 by 2 max pooling\n",
    "  - Convolution with 2 by 2 filter, 32 feature maps + ReLU nonlinearity.\n",
    "  - 2 by 2 max pooling\n",
    "  - Flattening\n",
    "  - Linear layer with 64 hidden units + ReLU nonlionearity\n",
    "  - Linear layer with 3 outputs units."
   ]
  },
  {
   "cell_type": "code",
   "execution_count": 33,
   "metadata": {},
   "outputs": [],
   "source": [
    "from keras.models import Sequential\n",
    "from keras.layers import Dense, Activation, Conv2D, MaxPooling2D, Flatten\n",
    "from keras.optimizers import SGD\n",
    "from keras import utils as np_utils\n",
    "\n",
    "model = Sequential()\n",
    "model.add(Conv2D(16, kernel_size=(2, 2), activation='relu',input_shape=(72,72,1)))\n",
    "model.add(MaxPooling2D(pool_size=(2, 2), strides=(2, 2)))\n",
    "model.add(Conv2D(32, (2, 2), activation='relu'))\n",
    "model.add(MaxPooling2D(pool_size=(2, 2)))\n",
    "model.add(Flatten())\n",
    "model.add(Dense(3, activation='softmax'))\n",
    "\n",
    "adam = Adam(lr=0.001, beta_1=0.9, beta_2=0.999, epsilon=None, decay=0.0, amsgrad=False)\n",
    "\n",
    "model.compile(loss='categorical_crossentropy', optimizer=adam, metrics=['accuracy'])"
   ]
  },
  {
   "cell_type": "code",
   "execution_count": 34,
   "metadata": {},
   "outputs": [],
   "source": [
    "#model.summary()"
   ]
  },
  {
   "cell_type": "markdown",
   "metadata": {},
   "source": [
    "We reshape the train and test sets to fit the model"
   ]
  },
  {
   "cell_type": "code",
   "execution_count": 35,
   "metadata": {},
   "outputs": [],
   "source": [
    "X_train = X_train.reshape(-1,72,72,1)\n",
    "X_test = X_test.reshape(-1,72,72,1)"
   ]
  },
  {
   "cell_type": "markdown",
   "metadata": {},
   "source": [
    "Let's train now our model"
   ]
  },
  {
   "cell_type": "code",
   "execution_count": 36,
   "metadata": {},
   "outputs": [
    {
     "name": "stdout",
     "output_type": "stream",
     "text": [
      "Epoch 1/50\n",
      "300/300 [==============================] - 2s 6ms/step - loss: 1.1694 - acc: 0.4000\n",
      "Epoch 2/50\n",
      "300/300 [==============================] - 0s 303us/step - loss: 1.0561 - acc: 0.4400\n",
      "Epoch 3/50\n",
      "300/300 [==============================] - 0s 286us/step - loss: 1.0054 - acc: 0.4967\n",
      "Epoch 4/50\n",
      "300/300 [==============================] - 0s 276us/step - loss: 0.9494 - acc: 0.5367\n",
      "Epoch 5/50\n",
      "300/300 [==============================] - 0s 276us/step - loss: 0.8654 - acc: 0.7100\n",
      "Epoch 6/50\n",
      "300/300 [==============================] - 0s 276us/step - loss: 0.7859 - acc: 0.7600\n",
      "Epoch 7/50\n",
      "300/300 [==============================] - 0s 279us/step - loss: 0.7057 - acc: 0.7933\n",
      "Epoch 8/50\n",
      "300/300 [==============================] - 0s 276us/step - loss: 0.6301 - acc: 0.8233\n",
      "Epoch 9/50\n",
      "300/300 [==============================] - 0s 279us/step - loss: 0.6130 - acc: 0.8067\n",
      "Epoch 10/50\n",
      "300/300 [==============================] - 0s 278us/step - loss: 0.5409 - acc: 0.8133\n",
      "Epoch 11/50\n",
      "300/300 [==============================] - 0s 279us/step - loss: 0.5223 - acc: 0.8133\n",
      "Epoch 12/50\n",
      "300/300 [==============================] - 0s 279us/step - loss: 0.5075 - acc: 0.8300\n",
      "Epoch 13/50\n",
      "300/300 [==============================] - 0s 276us/step - loss: 0.4746 - acc: 0.8567\n",
      "Epoch 14/50\n",
      "300/300 [==============================] - 0s 279us/step - loss: 0.4033 - acc: 0.8700\n",
      "Epoch 15/50\n",
      "300/300 [==============================] - 0s 283us/step - loss: 0.3962 - acc: 0.8700\n",
      "Epoch 16/50\n",
      "300/300 [==============================] - 0s 278us/step - loss: 0.3801 - acc: 0.8933\n",
      "Epoch 17/50\n",
      "300/300 [==============================] - 0s 282us/step - loss: 0.3338 - acc: 0.9067\n",
      "Epoch 18/50\n",
      "300/300 [==============================] - 0s 276us/step - loss: 0.3221 - acc: 0.9067\n",
      "Epoch 19/50\n",
      "300/300 [==============================] - 0s 273us/step - loss: 0.2922 - acc: 0.9100\n",
      "Epoch 20/50\n",
      "300/300 [==============================] - 0s 276us/step - loss: 0.2702 - acc: 0.9033\n",
      "Epoch 21/50\n",
      "300/300 [==============================] - 0s 276us/step - loss: 0.2475 - acc: 0.9367\n",
      "Epoch 22/50\n",
      "300/300 [==============================] - 0s 276us/step - loss: 0.2336 - acc: 0.9533\n",
      "Epoch 23/50\n",
      "300/300 [==============================] - 0s 276us/step - loss: 0.2377 - acc: 0.9467\n",
      "Epoch 24/50\n",
      "300/300 [==============================] - 0s 322us/step - loss: 0.2097 - acc: 0.9567\n",
      "Epoch 25/50\n",
      "300/300 [==============================] - 0s 279us/step - loss: 0.1970 - acc: 0.9667\n",
      "Epoch 26/50\n",
      "300/300 [==============================] - 0s 279us/step - loss: 0.1798 - acc: 0.9567\n",
      "Epoch 27/50\n",
      "300/300 [==============================] - 0s 273us/step - loss: 0.1635 - acc: 0.9733\n",
      "Epoch 28/50\n",
      "300/300 [==============================] - 0s 276us/step - loss: 0.1496 - acc: 0.9667\n",
      "Epoch 29/50\n",
      "300/300 [==============================] - 0s 276us/step - loss: 0.1539 - acc: 0.9633\n",
      "Epoch 30/50\n",
      "300/300 [==============================] - 0s 279us/step - loss: 0.1631 - acc: 0.9633\n",
      "Epoch 31/50\n",
      "300/300 [==============================] - 0s 278us/step - loss: 0.1321 - acc: 0.9800\n",
      "Epoch 32/50\n",
      "300/300 [==============================] - 0s 276us/step - loss: 0.1293 - acc: 0.9733\n",
      "Epoch 33/50\n",
      "300/300 [==============================] - 0s 279us/step - loss: 0.1198 - acc: 0.9800\n",
      "Epoch 34/50\n",
      "300/300 [==============================] - 0s 279us/step - loss: 0.1157 - acc: 0.9833\n",
      "Epoch 35/50\n",
      "300/300 [==============================] - 0s 279us/step - loss: 0.1031 - acc: 0.9833\n",
      "Epoch 36/50\n",
      "300/300 [==============================] - 0s 286us/step - loss: 0.1037 - acc: 0.9833\n",
      "Epoch 37/50\n",
      "300/300 [==============================] - 0s 283us/step - loss: 0.0940 - acc: 0.9800\n",
      "Epoch 38/50\n",
      "300/300 [==============================] - 0s 286us/step - loss: 0.0847 - acc: 0.9867\n",
      "Epoch 39/50\n",
      "300/300 [==============================] - 0s 283us/step - loss: 0.0708 - acc: 0.9967\n",
      "Epoch 40/50\n",
      "300/300 [==============================] - 0s 303us/step - loss: 0.0718 - acc: 0.9967\n",
      "Epoch 41/50\n",
      "300/300 [==============================] - 0s 286us/step - loss: 0.0688 - acc: 0.9967\n",
      "Epoch 42/50\n",
      "300/300 [==============================] - 0s 279us/step - loss: 0.0624 - acc: 1.0000\n",
      "Epoch 43/50\n",
      "300/300 [==============================] - 0s 282us/step - loss: 0.0588 - acc: 0.9967\n",
      "Epoch 44/50\n",
      "300/300 [==============================] - 0s 286us/step - loss: 0.0539 - acc: 0.9967\n",
      "Epoch 45/50\n",
      "300/300 [==============================] - 0s 283us/step - loss: 0.0486 - acc: 0.9967\n",
      "Epoch 46/50\n",
      "300/300 [==============================] - 0s 283us/step - loss: 0.0471 - acc: 0.9967\n",
      "Epoch 47/50\n",
      "300/300 [==============================] - 0s 276us/step - loss: 0.0452 - acc: 1.0000\n",
      "Epoch 48/50\n",
      "300/300 [==============================] - 0s 276us/step - loss: 0.0447 - acc: 0.9967\n",
      "Epoch 49/50\n",
      "300/300 [==============================] - 0s 276us/step - loss: 0.0459 - acc: 1.0000\n",
      "Epoch 50/50\n",
      "300/300 [==============================] - 0s 276us/step - loss: 0.0402 - acc: 1.0000\n"
     ]
    },
    {
     "data": {
      "text/plain": [
       "<keras.callbacks.History at 0x193cd434c18>"
      ]
     },
     "execution_count": 36,
     "metadata": {},
     "output_type": "execute_result"
    }
   ],
   "source": [
    "model.fit(X_train, Y_train, epochs=50, batch_size=32)"
   ]
  },
  {
   "cell_type": "markdown",
   "metadata": {},
   "source": [
    "Let's evaluate it using the test set"
   ]
  },
  {
   "cell_type": "code",
   "execution_count": 37,
   "metadata": {},
   "outputs": [
    {
     "name": "stdout",
     "output_type": "stream",
     "text": [
      "300/300 [==============================] - 0s 395us/step\n",
      "Loss : 0.5055055165290833\n",
      "Accuracy : 0.8333333333333334\n"
     ]
    }
   ],
   "source": [
    "ConvLoss, Conv_accuracy = model.evaluate(X_test, Y_test, batch_size=32)\n",
    "\n",
    "print(\"Loss : {}\".format(ConvLoss))\n",
    "print(\"Accuracy : {}\".format(Conv_accuracy))"
   ]
  },
  {
   "cell_type": "markdown",
   "metadata": {},
   "source": [
    "**COMMMEEENTS**"
   ]
  },
  {
   "cell_type": "markdown",
   "metadata": {},
   "source": [
    "# Regression Problem"
   ]
  },
  {
   "cell_type": "markdown",
   "metadata": {},
   "source": [
    "The task now is to predict the image locations of the vertices of a triangle, given an image of this triangle.\n",
    "\n",
    "We'll generate 300 triangles for each of the training and test set, knowing the location of the vertices."
   ]
  },
  {
   "cell_type": "code",
   "execution_count": 43,
   "metadata": {},
   "outputs": [
    {
     "name": "stdout",
     "output_type": "stream",
     "text": [
      "Creating data.. Done\n",
      "Creating data.. Done\n"
     ]
    }
   ],
   "source": [
    "[X_train, Y_train] = generate_dataset_regression(300, 20)\n",
    "[X_test, Y_test] = generate_test_set_regression()"
   ]
  },
  {
   "cell_type": "markdown",
   "metadata": {},
   "source": [
    "Let's normalize the data :"
   ]
  },
  {
   "cell_type": "code",
   "execution_count": 44,
   "metadata": {},
   "outputs": [],
   "source": [
    "from sklearn.preprocessing import Normalizer\n",
    "\n",
    "normalizer = Normalizer()\n",
    "Y_train_norm = normalizer.fit_transform(Y_train)#.reshape(-1,2)).reshape(Y_train.shape)\n",
    "\n",
    "normalizer = Normalizer()\n",
    "Y_test_norm = normalizer.fit_transform(Y_test)#.reshape(-1,2)).reshape(Y_test.shape)"
   ]
  },
  {
   "cell_type": "code",
   "execution_count": 45,
   "metadata": {},
   "outputs": [],
   "source": [
    "from sklearn.preprocessing import StandardScaler\n",
    "\n",
    "scaler_train = StandardScaler()\n",
    "Y_train_scale0 = scaler_train.fit_transform(Y_train)\n",
    "\n",
    "scaler_test = StandardScaler()\n",
    "Y_test_scale0 = scaler_test.fit_transform(Y_test)"
   ]
  },
  {
   "cell_type": "code",
   "execution_count": 46,
   "metadata": {},
   "outputs": [],
   "source": [
    "from sklearn.preprocessing import StandardScaler\n",
    "\n",
    "scaler_train = StandardScaler()\n",
    "Y_train_scale = scaler_train.fit_transform(Y_train.T).T\n",
    "\n",
    "scaler_test = StandardScaler()\n",
    "Y_test_scale = scaler_test.fit_transform(Y_test.T).T"
   ]
  },
  {
   "cell_type": "code",
   "execution_count": null,
   "metadata": {},
   "outputs": [],
   "source": []
  },
  {
   "cell_type": "code",
   "execution_count": 47,
   "metadata": {},
   "outputs": [],
   "source": [
    "from sklearn.preprocessing import Normalizer\n",
    "\n",
    "normalizer = Normalizer()\n",
    "Y_train_norm_s = normalizer.fit_transform(Y_train_scale)#.reshape(-1,2)).reshape(Y_train.shape)\n",
    "\n",
    "normalizer = Normalizer()\n",
    "Y_test_norm_s = normalizer.fit_transform(Y_test_scale)#.reshape(-1,2)).reshape(Y_test.shape)\n",
    "\n",
    "from sklearn.preprocessing import Normalizer\n",
    "\n",
    "normalizer = Normalizer()\n",
    "Y_train_norm_s0 = normalizer.fit_transform(Y_train_scale0)\n",
    "\n",
    "normalizer = Normalizer()\n",
    "Y_test_norm_s0 = normalizer.fit_transform(Y_test_scale0)"
   ]
  },
  {
   "cell_type": "code",
   "execution_count": 48,
   "metadata": {},
   "outputs": [],
   "source": [
    "from sklearn.preprocessing import StandardScaler\n",
    "\n",
    "scaler_train = StandardScaler()\n",
    "Y_train_scale_n = scaler_train.fit_transform(Y_train_norm.T).T\n",
    "\n",
    "scaler_test = StandardScaler()\n",
    "Y_test_scale_n = scaler_test.fit_transform(Y_test_norm.T).T\n",
    "\n",
    "from sklearn.preprocessing import StandardScaler\n",
    "\n",
    "scaler_train = StandardScaler()\n",
    "Y_train_scale0_n = scaler_train.fit_transform(Y_train_norm)\n",
    "\n",
    "scaler_test = StandardScaler()\n",
    "Y_test_scale0_n = scaler_test.fit_transform(Y_test_norm)"
   ]
  },
  {
   "cell_type": "markdown",
   "metadata": {},
   "source": [
    "We can visualize what the data looks like :"
   ]
  },
  {
   "cell_type": "code",
   "execution_count": 56,
   "metadata": {},
   "outputs": [
    {
     "data": {
      "image/png": "[encoded data removed]",
      "text/plain": [
       "<Figure size 360x360 with 1 Axes>"
      ]
     },
     "metadata": {
      "needs_background": "light"
     },
     "output_type": "display_data"
    },
    {
     "data": {
      "image/png": "[encoded data removed]",
      "text/plain": [
       "<Figure size 360x360 with 1 Axes>"
      ]
     },
     "metadata": {
      "needs_background": "light"
     },
     "output_type": "display_data"
    }
   ],
   "source": [
    "i=np.random.randint(X_train.shape[0])\n",
    "\n",
    "visualize_prediction(X_train[i], Y_train[i])\n",
    "visualize_prediction(X_train[i], Y_train_norm[i])\n",
    "#visualize_prediction(X_train[i], Y_train_scale[i])"
   ]
  },
  {
   "cell_type": "code",
   "execution_count": 51,
   "metadata": {},
   "outputs": [],
   "source": [
    "from keras import backend as K\n",
    "\n",
    "def cos_distance(y_true, y_pred):\n",
    "    y_true = K.l2_normalize(y_true, axis=-1)\n",
    "    y_pred = K.l2_normalize(y_pred, axis=-1)\n",
    "    return K.mean(1 - K.sum((y_true * y_pred), axis=-1))\n",
    "\n",
    "model = Sequential()\n",
    "model.add(Conv2D(16, kernel_size=(5, 5), activation='relu',input_shape=(72,72,1), padding='same'))\n",
    "model.add(MaxPooling2D(pool_size=(2, 2), strides=(2, 2)))\n",
    "model.add(Conv2D(32, (5, 5), activation='relu', padding='same'))\n",
    "model.add(MaxPooling2D(pool_size=(2, 2)))\n",
    "model.add(Conv2D(64, (5, 5), activation='relu', padding='same'))\n",
    "model.add(MaxPooling2D(pool_size=(2, 2)))\n",
    "model.add(Conv2D(128, (5, 5), activation='relu', padding='same'))\n",
    "model.add(MaxPooling2D(pool_size=(2, 2)))\n",
    "model.add(Flatten())\n",
    "#model.add(Dense(512, activation='relu'))\n",
    "model.add(Dense(6, activation='linear'))\n",
    "\n",
    "adam = Adam(lr=0.001, beta_1=0.9, beta_2=0.999, epsilon=None, decay=0.0, amsgrad=False)\n",
    "sgd = SGD(lr=0.001, decay=1e-6, momentum=0.5, nesterov=True)\n",
    "\n",
    "model.compile(loss=\"mean_absolute_error\", optimizer=adam)"
   ]
  },
  {
   "cell_type": "code",
   "execution_count": 52,
   "metadata": {},
   "outputs": [
    {
     "name": "stdout",
     "output_type": "stream",
     "text": [
      "_________________________________________________________________\n",
      "Layer (type)                 Output Shape              Param #   \n",
      "=================================================================\n",
      "conv2d_7 (Conv2D)            (None, 72, 72, 16)        416       \n",
      "_________________________________________________________________\n",
      "max_pooling2d_7 (MaxPooling2 (None, 36, 36, 16)        0         \n",
      "_________________________________________________________________\n",
      "conv2d_8 (Conv2D)            (None, 36, 36, 32)        12832     \n",
      "_________________________________________________________________\n",
      "max_pooling2d_8 (MaxPooling2 (None, 18, 18, 32)        0         \n",
      "_________________________________________________________________\n",
      "conv2d_9 (Conv2D)            (None, 18, 18, 64)        51264     \n",
      "_________________________________________________________________\n",
      "max_pooling2d_9 (MaxPooling2 (None, 9, 9, 64)          0         \n",
      "_________________________________________________________________\n",
      "conv2d_10 (Conv2D)           (None, 9, 9, 128)         204928    \n",
      "_________________________________________________________________\n",
      "max_pooling2d_10 (MaxPooling (None, 4, 4, 128)         0         \n",
      "_________________________________________________________________\n",
      "flatten_3 (Flatten)          (None, 2048)              0         \n",
      "_________________________________________________________________\n",
      "dense_10 (Dense)             (None, 6)                 12294     \n",
      "=================================================================\n",
      "Total params: 281,734\n",
      "Trainable params: 281,734\n",
      "Non-trainable params: 0\n",
      "_________________________________________________________________\n"
     ]
    }
   ],
   "source": [
    "model.summary()"
   ]
  },
  {
   "cell_type": "markdown",
   "metadata": {},
   "source": [
    "We reshape the train and test sets to fit the model"
   ]
  },
  {
   "cell_type": "code",
   "execution_count": 53,
   "metadata": {},
   "outputs": [],
   "source": [
    "X_train = X_train.reshape(-1,72,72,1)\n",
    "X_test = X_test.reshape(-1,72,72,1)"
   ]
  },
  {
   "cell_type": "markdown",
   "metadata": {},
   "source": [
    "We train the model"
   ]
  },
  {
   "cell_type": "code",
   "execution_count": 54,
   "metadata": {},
   "outputs": [
    {
     "name": "stdout",
     "output_type": "stream",
     "text": [
      "Train on 300 samples, validate on 300 samples\n",
      "Epoch 1/70\n",
      "300/300 [==============================] - 1s 3ms/step - loss: 0.3599 - val_loss: 0.3518\n",
      "Epoch 2/70\n",
      "300/300 [==============================] - 0s 698us/step - loss: 0.3470 - val_loss: 0.3437\n",
      "Epoch 3/70\n",
      "300/300 [==============================] - 0s 695us/step - loss: 0.3270 - val_loss: 0.3258\n",
      "Epoch 4/70\n",
      "300/300 [==============================] - 0s 698us/step - loss: 0.3141 - val_loss: 0.3298\n",
      "Epoch 5/70\n",
      "300/300 [==============================] - 0s 695us/step - loss: 0.3036 - val_loss: 0.3251\n",
      "Epoch 6/70\n",
      "300/300 [==============================] - 0s 695us/step - loss: 0.2985 - val_loss: 0.3237\n",
      "Epoch 7/70\n",
      "300/300 [==============================] - 0s 688us/step - loss: 0.2876 - val_loss: 0.3216\n",
      "Epoch 8/70\n",
      "300/300 [==============================] - 0s 695us/step - loss: 0.2796 - val_loss: 0.3236\n",
      "Epoch 9/70\n",
      "300/300 [==============================] - 0s 691us/step - loss: 0.2671 - val_loss: 0.3284\n",
      "Epoch 10/70\n",
      "300/300 [==============================] - 0s 698us/step - loss: 0.2551 - val_loss: 0.3285\n",
      "Epoch 11/70\n",
      "300/300 [==============================] - 0s 698us/step - loss: 0.2467 - val_loss: 0.3329\n",
      "Epoch 12/70\n",
      "300/300 [==============================] - 0s 701us/step - loss: 0.2284 - val_loss: 0.3379\n",
      "Epoch 13/70\n",
      "300/300 [==============================] - 0s 688us/step - loss: 0.2240 - val_loss: 0.3394\n",
      "Epoch 14/70\n",
      "300/300 [==============================] - 0s 701us/step - loss: 0.2029 - val_loss: 0.3439\n",
      "Epoch 15/70\n",
      "300/300 [==============================] - 0s 695us/step - loss: 0.1946 - val_loss: 0.3379\n",
      "Epoch 16/70\n",
      "300/300 [==============================] - 0s 698us/step - loss: 0.1866 - val_loss: 0.3515\n",
      "Epoch 17/70\n",
      "300/300 [==============================] - 0s 695us/step - loss: 0.1715 - val_loss: 0.3422\n",
      "Epoch 18/70\n",
      "300/300 [==============================] - 0s 698us/step - loss: 0.1566 - val_loss: 0.3477\n",
      "Epoch 19/70\n",
      "300/300 [==============================] - 0s 692us/step - loss: 0.1392 - val_loss: 0.3519\n",
      "Epoch 20/70\n",
      "300/300 [==============================] - 0s 685us/step - loss: 0.1314 - val_loss: 0.3637\n",
      "Epoch 21/70\n",
      "300/300 [==============================] - 0s 698us/step - loss: 0.1301 - val_loss: 0.3517\n",
      "Epoch 22/70\n",
      "300/300 [==============================] - 0s 692us/step - loss: 0.1221 - val_loss: 0.3560\n",
      "Epoch 23/70\n",
      "300/300 [==============================] - 0s 705us/step - loss: 0.1163 - val_loss: 0.3557\n",
      "Epoch 24/70\n",
      "300/300 [==============================] - 0s 695us/step - loss: 0.1124 - val_loss: 0.3547\n",
      "Epoch 25/70\n",
      "300/300 [==============================] - 0s 708us/step - loss: 0.1008 - val_loss: 0.3605\n",
      "Epoch 26/70\n",
      "300/300 [==============================] - 0s 692us/step - loss: 0.1021 - val_loss: 0.3533\n",
      "Epoch 27/70\n",
      "300/300 [==============================] - 0s 692us/step - loss: 0.1001 - val_loss: 0.3477\n",
      "Epoch 28/70\n",
      "300/300 [==============================] - 0s 705us/step - loss: 0.0875 - val_loss: 0.3535\n",
      "Epoch 29/70\n",
      "300/300 [==============================] - 0s 712us/step - loss: 0.0877 - val_loss: 0.3551\n",
      "Epoch 30/70\n",
      "300/300 [==============================] - 0s 691us/step - loss: 0.0826 - val_loss: 0.3565\n",
      "Epoch 31/70\n",
      "300/300 [==============================] - 0s 698us/step - loss: 0.0804 - val_loss: 0.3557\n",
      "Epoch 32/70\n",
      "300/300 [==============================] - 0s 701us/step - loss: 0.0734 - val_loss: 0.3554\n",
      "Epoch 33/70\n",
      "300/300 [==============================] - 0s 698us/step - loss: 0.0731 - val_loss: 0.3536\n",
      "Epoch 34/70\n",
      "300/300 [==============================] - 0s 695us/step - loss: 0.0684 - val_loss: 0.3569\n",
      "Epoch 35/70\n",
      "300/300 [==============================] - 0s 711us/step - loss: 0.0660 - val_loss: 0.3499\n",
      "Epoch 36/70\n",
      "300/300 [==============================] - 0s 688us/step - loss: 0.0588 - val_loss: 0.3531\n",
      "Epoch 37/70\n",
      "300/300 [==============================] - 0s 698us/step - loss: 0.0602 - val_loss: 0.3549\n",
      "Epoch 38/70\n",
      "300/300 [==============================] - 0s 695us/step - loss: 0.0598 - val_loss: 0.3490\n",
      "Epoch 39/70\n",
      "300/300 [==============================] - 0s 688us/step - loss: 0.0576 - val_loss: 0.3514\n",
      "Epoch 40/70\n",
      "300/300 [==============================] - 0s 698us/step - loss: 0.0586 - val_loss: 0.3521\n",
      "Epoch 41/70\n",
      "300/300 [==============================] - 0s 698us/step - loss: 0.0527 - val_loss: 0.3511\n",
      "Epoch 42/70\n",
      "300/300 [==============================] - 0s 691us/step - loss: 0.0520 - val_loss: 0.3507\n",
      "Epoch 43/70\n",
      "300/300 [==============================] - 0s 708us/step - loss: 0.0531 - val_loss: 0.3540\n",
      "Epoch 44/70\n",
      "300/300 [==============================] - 0s 708us/step - loss: 0.0573 - val_loss: 0.3541\n",
      "Epoch 45/70\n",
      "300/300 [==============================] - 0s 698us/step - loss: 0.0530 - val_loss: 0.3498\n",
      "Epoch 46/70\n",
      "300/300 [==============================] - 0s 688us/step - loss: 0.0507 - val_loss: 0.3521\n",
      "Epoch 47/70\n",
      "300/300 [==============================] - 0s 691us/step - loss: 0.0486 - val_loss: 0.3535\n",
      "Epoch 48/70\n",
      "300/300 [==============================] - 0s 691us/step - loss: 0.0466 - val_loss: 0.3517\n",
      "Epoch 49/70\n",
      "300/300 [==============================] - 0s 695us/step - loss: 0.0458 - val_loss: 0.3487\n",
      "Epoch 50/70\n",
      "300/300 [==============================] - 0s 701us/step - loss: 0.0442 - val_loss: 0.3486\n",
      "Epoch 51/70\n",
      "300/300 [==============================] - 0s 691us/step - loss: 0.0453 - val_loss: 0.3502\n",
      "Epoch 52/70\n",
      "300/300 [==============================] - 0s 708us/step - loss: 0.0456 - val_loss: 0.3549\n",
      "Epoch 53/70\n",
      "300/300 [==============================] - 0s 701us/step - loss: 0.0471 - val_loss: 0.3513\n",
      "Epoch 54/70\n",
      "300/300 [==============================] - 0s 695us/step - loss: 0.0505 - val_loss: 0.3506\n",
      "Epoch 55/70\n",
      "300/300 [==============================] - 0s 691us/step - loss: 0.0478 - val_loss: 0.3490\n",
      "Epoch 56/70\n",
      "300/300 [==============================] - 0s 695us/step - loss: 0.0437 - val_loss: 0.3523\n",
      "Epoch 57/70\n",
      "300/300 [==============================] - 0s 695us/step - loss: 0.0437 - val_loss: 0.3505\n",
      "Epoch 58/70\n",
      "300/300 [==============================] - 0s 698us/step - loss: 0.0454 - val_loss: 0.3506\n",
      "Epoch 59/70\n",
      "300/300 [==============================] - 0s 698us/step - loss: 0.0420 - val_loss: 0.3467\n",
      "Epoch 60/70\n",
      "300/300 [==============================] - 0s 688us/step - loss: 0.0381 - val_loss: 0.3466\n",
      "Epoch 61/70\n",
      "300/300 [==============================] - 0s 705us/step - loss: 0.0409 - val_loss: 0.3498\n",
      "Epoch 62/70\n",
      "300/300 [==============================] - 0s 691us/step - loss: 0.0393 - val_loss: 0.3477\n",
      "Epoch 63/70\n",
      "300/300 [==============================] - 0s 691us/step - loss: 0.0418 - val_loss: 0.3463\n",
      "Epoch 64/70\n",
      "300/300 [==============================] - 0s 698us/step - loss: 0.0440 - val_loss: 0.3508\n",
      "Epoch 65/70\n",
      "300/300 [==============================] - 0s 695us/step - loss: 0.0415 - val_loss: 0.3473\n",
      "Epoch 66/70\n",
      "300/300 [==============================] - 0s 708us/step - loss: 0.0419 - val_loss: 0.3465\n",
      "Epoch 67/70\n",
      "300/300 [==============================] - 0s 708us/step - loss: 0.0398 - val_loss: 0.3482\n",
      "Epoch 68/70\n",
      "300/300 [==============================] - 0s 701us/step - loss: 0.0371 - val_loss: 0.3466\n",
      "Epoch 69/70\n",
      "300/300 [==============================] - 0s 701us/step - loss: 0.0388 - val_loss: 0.3474\n",
      "Epoch 70/70\n",
      "300/300 [==============================] - 0s 695us/step - loss: 0.0402 - val_loss: 0.3481\n"
     ]
    },
    {
     "data": {
      "text/plain": [
       "<keras.callbacks.History at 0x1948f8be710>"
      ]
     },
     "execution_count": 54,
     "metadata": {},
     "output_type": "execute_result"
    }
   ],
   "source": [
    "model.fit(X_train, Y_train_norm_s, epochs=70, batch_size=32, validation_data=(X_test,Y_test_norm_s))"
   ]
  },
  {
   "cell_type": "code",
   "execution_count": 23,
   "metadata": {},
   "outputs": [
    {
     "name": "stdout",
     "output_type": "stream",
     "text": [
      "300/300 [==============================] - 0s 889us/step\n"
     ]
    },
    {
     "data": {
      "text/plain": [
       "0.12234155535697937"
      ]
     },
     "execution_count": 23,
     "metadata": {},
     "output_type": "execute_result"
    }
   ],
   "source": [
    "model.evaluate(X_test, Y_test_norm)"
   ]
  },
  {
   "cell_type": "code",
   "execution_count": 119,
   "metadata": {},
   "outputs": [],
   "source": [
    "Y_test_pred=model.predict(X_test)\n",
    "Y_train_pred=model.predict(X_train)"
   ]
  },
  {
   "cell_type": "code",
   "execution_count": 131,
   "metadata": {},
   "outputs": [
    {
     "data": {
      "image/png": "[encoded data removed]",
      "text/plain": [
       "<Figure size 360x360 with 1 Axes>"
      ]
     },
     "metadata": {
      "needs_background": "light"
     },
     "output_type": "display_data"
    },
    {
     "data": {
      "image/png": "[encoded data removed]",
      "text/plain": [
       "<Figure size 360x360 with 1 Axes>"
      ]
     },
     "metadata": {
      "needs_background": "light"
     },
     "output_type": "display_data"
    }
   ],
   "source": [
    "i=np.random.randint(300)\n",
    "visualize_prediction(X_train[i], Y_train_norm[i])\n",
    "#visualize_prediction(X_train[i], scaler.inverse_transform(Y_train_pred[i]))\n",
    "\n",
    "#visualize_prediction(X_train[i], Y_train_norm[i])\n",
    "visualize_prediction(X_train[i], Y_train_pred[i])"
   ]
  },
  {
   "cell_type": "code",
   "execution_count": 147,
   "metadata": {},
   "outputs": [
    {
     "data": {
      "image/png": "[encoded data removed]",
      "text/plain": [
       "<Figure size 360x360 with 1 Axes>"
      ]
     },
     "metadata": {
      "needs_background": "light"
     },
     "output_type": "display_data"
    },
    {
     "data": {
      "image/png": "[encoded data removed]",
      "text/plain": [
       "<Figure size 360x360 with 1 Axes>"
      ]
     },
     "metadata": {
      "needs_background": "light"
     },
     "output_type": "display_data"
    }
   ],
   "source": [
    "#visualize_prediction(X_test[i], Y_test[i])\n",
    "#visualize_prediction(X_test[i], scaler.inverse_transform(Y_test_pred[i]))\n",
    "i=np.random.randint(300)\n",
    "visualize_prediction(X_test[i], Y_test_norm[i])\n",
    "visualize_prediction(X_test[i], Y_test_pred[i])"
   ]
  },
  {
   "cell_type": "markdown",
   "metadata": {},
   "source": [
    "# Image Denoising"
   ]
  },
  {
   "cell_type": "code",
   "execution_count": 113,
   "metadata": {},
   "outputs": [],
   "source": [
    "def generate_dataset_denoising(nb_samples, noise=50, free_location=False):\n",
    "    # Getting im_size:\n",
    "    im_size = generate_a_rectangle().shape[0]\n",
    "    X_clear = np.zeros([nb_samples,im_size])\n",
    "    X_noisy = np.zeros([nb_samples,im_size])\n",
    "    print('Creating data',end=\".. \")\n",
    "    seed = np.random.randint(99999)\n",
    "    for i in range(nb_samples):\n",
    "        category = np.random.randint(3)\n",
    "        if category == 0:\n",
    "            X_clear[i] = generate_a_rectangle_seed(np.random.RandomState(seed), 0, free_location)\n",
    "            X_noisy[i] = generate_a_rectangle_seed(np.random.RandomState(seed), noise, free_location)\n",
    "        elif category == 1: \n",
    "            X_clear[i] = generate_a_disk_seed(np.random.RandomState(seed), 0, free_location)\n",
    "            X_noisy[i] = generate_a_disk_seed(np.random.RandomState(seed), noise, free_location)\n",
    "        else:\n",
    "            [X_clear[i], V] = generate_a_triangle_seed(np.random.RandomState(seed), 0, free_location)\n",
    "            [X_noisy[i], V] = generate_a_triangle_seed(np.random.RandomState(seed), noise, free_location)\n",
    "\n",
    "    X_clear = X_clear / 255\n",
    "    X_noisy = (X_noisy + noise) / (255 + 2 * noise)\n",
    "    print(\"Done\")\n",
    "    return [X_clear, X_noisy]\n",
    "\n",
    "def generate_a_rectangle_seed(rng, noise=0.0, free_location=False):\n",
    "    figsize = 1.0    \n",
    "    U = np.zeros(4)\n",
    "    V = np.zeros(4)\n",
    "    if free_location:\n",
    "        corners = rng.uniform(4)\n",
    "        top = max(corners[0], corners[1])\n",
    "        bottom = min(corners[0], corners[1])\n",
    "        left = min(corners[2], corners[3])\n",
    "        right = max(corners[2], corners[3])\n",
    "    else:\n",
    "        side = (0.3 + 0.7 * rng.uniform()) * figsize\n",
    "        top = figsize/2 + side/2\n",
    "        bottom = figsize/2 - side/2\n",
    "        left = bottom\n",
    "        right = top\n",
    "    U[0] = U[1] = top\n",
    "    U[2] = U[3] = bottom\n",
    "    V[0] = V[3] = left\n",
    "    V[1] = V[2] = right\n",
    "    return generate_a_drawing(figsize, U, V, noise)\n",
    "\n",
    "\n",
    "def generate_a_disk_seed(rng, noise=0.0, free_location=False):\n",
    "    figsize = 1.0\n",
    "    if free_location:\n",
    "        center = rng.random(2)\n",
    "    else:\n",
    "        center = (figsize/2, figsize/2)\n",
    "    radius = (0.3 + 0.7 * rng.uniform()) * figsize/2\n",
    "    N = 50\n",
    "    U = np.zeros(N)\n",
    "    V = np.zeros(N)\n",
    "    i = 0\n",
    "    for t in np.linspace(0, 2*np.pi, N):\n",
    "        U[i] = center[0] + np.cos(t) * radius\n",
    "        V[i] = center[1] + np.sin(t) * radius\n",
    "        i = i + 1\n",
    "    return generate_a_drawing(figsize, U, V, noise)\n",
    "\n",
    "def generate_a_triangle_seed(rng, noise=0.0, free_location=False):\n",
    "    figsize = 1.0\n",
    "    if free_location:\n",
    "        U = rng.random(3)\n",
    "        V = rng.random(3)\n",
    "    else:\n",
    "        size = (0.3 + 0.7 * rng.uniform())*figsize/2\n",
    "        middle = figsize/2\n",
    "        U = (middle, middle+size, middle-size)\n",
    "        V = (middle+size, middle-size, middle-size)\n",
    "    imdata = generate_a_drawing(figsize, U, V, noise)\n",
    "    return [imdata, [U[0], V[0], U[1], V[1], U[2], V[2]]]"
   ]
  },
  {
   "cell_type": "code",
   "execution_count": 114,
   "metadata": {},
   "outputs": [
    {
     "name": "stdout",
     "output_type": "stream",
     "text": [
      "Creating data.. Done\n",
      "Creating data.. Done\n"
     ]
    }
   ],
   "source": [
    "[X_train_clear, X_train_noisy] = generate_dataset_denoising(300, 50)\n",
    "[X_test_clear, X_test_noisy] = generate_dataset_denoising(300, 50)\n",
    "\n",
    "X_train_clear = X_train_clear.reshape(-1, 72, 72, 1)\n",
    "X_train_noisy = X_train_noisy.reshape(-1, 72, 72, 1)\n",
    "\n",
    "X_test_clear = X_test_clear.reshape(-1, 72, 72, 1)\n",
    "X_test_noisy = X_test_noisy.reshape(-1, 72, 72, 1)"
   ]
  },
  {
   "cell_type": "code",
   "execution_count": 115,
   "metadata": {},
   "outputs": [
    {
     "data": {
      "image/png": "[encoded data removed]",
      "text/plain": [
       "<Figure size 576x288 with 2 Axes>"
      ]
     },
     "metadata": {
      "needs_background": "light"
     },
     "output_type": "display_data"
    }
   ],
   "source": [
    "i=np.random.randint(300)\n",
    "\n",
    "f, (ax1, ax2) = plt.subplots(1,2, figsize=(8,4))\n",
    "ax1.imshow(X_train_clear[i].reshape(72,72), cmap='gray')\n",
    "ax1.set_title(\"Clear image\")\n",
    "\n",
    "ax2.imshow(X_train_noisy[i].reshape(72,72), cmap='gray')\n",
    "ax2.set_title(\"Noisy image\")\n",
    "\n",
    "plt.tight_layout()\n",
    "plt.show()"
   ]
  },
  {
   "cell_type": "code",
   "execution_count": 129,
   "metadata": {},
   "outputs": [],
   "source": [
    "input_img = Input(shape=(72, 72, 1))  # adapt this if using `channels_first` image data format\n",
    "\n",
    "x = Conv2D(32, (3, 3), activation='relu', padding='same')(input_img)\n",
    "x = MaxPooling2D((2, 2), padding='same')(x)\n",
    "x = Conv2D(32, (3, 3), activation='relu', padding='same')(x)\n",
    "encoded = MaxPooling2D((2, 2), padding='same')(x)\n",
    "\n",
    "# at this point the representation is (7, 7, 32)\n",
    "\n",
    "x = Conv2D(32, (3, 3), activation='relu', padding='same')(encoded)\n",
    "x = UpSampling2D((2, 2))(x)\n",
    "x = Conv2D(32, (3, 3), activation='relu', padding='same')(x)\n",
    "x = UpSampling2D((2, 2))(x)\n",
    "decoded = Conv2D(1, (3, 3), activation='sigmoid', padding='same')(x)\n",
    "\n",
    "autoencoder = Model(input_img, decoded)\n",
    "autoencoder.compile(optimizer='adadelta', loss='binary_crossentropy')"
   ]
  },
  {
   "cell_type": "code",
   "execution_count": 123,
   "metadata": {},
   "outputs": [],
   "source": [
    "autoencoder = Sequential()\n",
    "\n",
    "autoencoder.add(Conv2D(32, kernel_size=(3, 3), activation='relu', padding='same', input_shape=(72,72,1)))\n",
    "autoencoder.add(MaxPooling2D(pool_size=(2, 2), padding='same'))\n",
    "autoencoder.add(Conv2D(32, (3, 3), activation='relu', padding='same'))\n",
    "autoencoder.add(MaxPooling2D(pool_size=(2, 2), padding='same'))\n",
    "\n",
    "autoencoder.add(Conv2D(32, kernel_size=(3, 3), activation='relu', padding='same'))\n",
    "autoencoder.add(UpSampling2D((2, 2)))\n",
    "autoencoder.add(Conv2D(32, kernel_size=(3, 3), activation='relu', padding='same'))\n",
    "autoencoder.add(UpSampling2D((2, 2)))\n",
    "\n",
    "autoencoder.compile(optimizer='adadelta', loss='binary_crossentropy')"
   ]
  },
  {
   "cell_type": "code",
   "execution_count": 124,
   "metadata": {},
   "outputs": [
    {
     "name": "stdout",
     "output_type": "stream",
     "text": [
      "_________________________________________________________________\n",
      "Layer (type)                 Output Shape              Param #   \n",
      "=================================================================\n",
      "conv2d_7 (Conv2D)            (None, 72, 72, 16)        416       \n",
      "_________________________________________________________________\n",
      "max_pooling2d_7 (MaxPooling2 (None, 36, 36, 16)        0         \n",
      "_________________________________________________________________\n",
      "conv2d_8 (Conv2D)            (None, 36, 36, 32)        12832     \n",
      "_________________________________________________________________\n",
      "max_pooling2d_8 (MaxPooling2 (None, 18, 18, 32)        0         \n",
      "_________________________________________________________________\n",
      "conv2d_9 (Conv2D)            (None, 18, 18, 64)        51264     \n",
      "_________________________________________________________________\n",
      "max_pooling2d_9 (MaxPooling2 (None, 9, 9, 64)          0         \n",
      "_________________________________________________________________\n",
      "conv2d_10 (Conv2D)           (None, 9, 9, 128)         204928    \n",
      "_________________________________________________________________\n",
      "max_pooling2d_10 (MaxPooling (None, 4, 4, 128)         0         \n",
      "_________________________________________________________________\n",
      "flatten_3 (Flatten)          (None, 2048)              0         \n",
      "_________________________________________________________________\n",
      "dense_10 (Dense)             (None, 6)                 12294     \n",
      "=================================================================\n",
      "Total params: 281,734\n",
      "Trainable params: 281,734\n",
      "Non-trainable params: 0\n",
      "_________________________________________________________________\n"
     ]
    }
   ],
   "source": [
    "model.summary()"
   ]
  },
  {
   "cell_type": "code",
   "execution_count": 121,
   "metadata": {},
   "outputs": [
    {
     "name": "stdout",
     "output_type": "stream",
     "text": [
      "_________________________________________________________________\n",
      "Layer (type)                 Output Shape              Param #   \n",
      "=================================================================\n",
      "conv2d_37 (Conv2D)           (None, 72, 72, 32)        320       \n",
      "_________________________________________________________________\n",
      "max_pooling2d_23 (MaxPooling (None, 36, 36, 32)        0         \n",
      "_________________________________________________________________\n",
      "conv2d_38 (Conv2D)           (None, 36, 36, 32)        9248      \n",
      "_________________________________________________________________\n",
      "max_pooling2d_24 (MaxPooling (None, 18, 18, 32)        0         \n",
      "_________________________________________________________________\n",
      "conv2d_39 (Conv2D)           (None, 18, 18, 32)        9248      \n",
      "_________________________________________________________________\n",
      "up_sampling2d_11 (UpSampling (None, 36, 36, 32)        0         \n",
      "_________________________________________________________________\n",
      "conv2d_40 (Conv2D)           (None, 36, 36, 32)        9248      \n",
      "_________________________________________________________________\n",
      "up_sampling2d_12 (UpSampling (None, 72, 72, 32)        0         \n",
      "=================================================================\n",
      "Total params: 28,064\n",
      "Trainable params: 28,064\n",
      "Non-trainable params: 0\n",
      "_________________________________________________________________\n"
     ]
    }
   ],
   "source": [
    "autoencoder.summary()"
   ]
  },
  {
   "cell_type": "code",
   "execution_count": 127,
   "metadata": {},
   "outputs": [
    {
     "data": {
      "text/plain": [
       "(300, 72, 72, 1)"
      ]
     },
     "execution_count": 127,
     "metadata": {},
     "output_type": "execute_result"
    }
   ],
   "source": [
    "X_train.shape"
   ]
  },
  {
   "cell_type": "code",
   "execution_count": 130,
   "metadata": {},
   "outputs": [
    {
     "name": "stdout",
     "output_type": "stream",
     "text": [
      "Epoch 1/100\n",
      "300/300 [==============================] - 1s 4ms/step - loss: 0.3882\n",
      "Epoch 2/100\n",
      "300/300 [==============================] - 0s 726us/step - loss: 0.1769\n",
      "Epoch 3/100\n",
      "300/300 [==============================] - 0s 740us/step - loss: 0.1659\n",
      "Epoch 4/100\n",
      "300/300 [==============================] - 0s 733us/step - loss: 0.1485\n",
      "Epoch 5/100\n",
      "300/300 [==============================] - 0s 731us/step - loss: 0.1337\n",
      "Epoch 6/100\n",
      "300/300 [==============================] - 0s 728us/step - loss: 0.1267\n",
      "Epoch 7/100\n",
      "300/300 [==============================] - 0s 727us/step - loss: 0.0898\n",
      "Epoch 8/100\n",
      "300/300 [==============================] - 0s 732us/step - loss: 0.0815\n",
      "Epoch 9/100\n",
      "300/300 [==============================] - 0s 735us/step - loss: 0.0457\n",
      "Epoch 10/100\n",
      "300/300 [==============================] - 0s 733us/step - loss: 0.0534\n",
      "Epoch 11/100\n",
      "300/300 [==============================] - 0s 732us/step - loss: 0.0288\n",
      "Epoch 12/100\n",
      "300/300 [==============================] - 0s 720us/step - loss: 0.0293\n",
      "Epoch 13/100\n",
      "300/300 [==============================] - 0s 735us/step - loss: 0.0311\n",
      "Epoch 14/100\n",
      "300/300 [==============================] - 0s 741us/step - loss: 0.0211\n",
      "Epoch 15/100\n",
      "300/300 [==============================] - 0s 732us/step - loss: 0.0226\n",
      "Epoch 16/100\n",
      "300/300 [==============================] - 0s 732us/step - loss: 0.0266\n",
      "Epoch 17/100\n",
      "300/300 [==============================] - 0s 731us/step - loss: 0.0192\n",
      "Epoch 18/100\n",
      "300/300 [==============================] - 0s 730us/step - loss: 0.0180\n",
      "Epoch 19/100\n",
      "300/300 [==============================] - 0s 728us/step - loss: 0.0198\n",
      "Epoch 20/100\n",
      "300/300 [==============================] - 0s 694us/step - loss: 0.0213\n",
      "Epoch 21/100\n",
      "300/300 [==============================] - 0s 777us/step - loss: 0.0167\n",
      "Epoch 22/100\n",
      "300/300 [==============================] - 0s 735us/step - loss: 0.0158\n",
      "Epoch 23/100\n",
      "300/300 [==============================] - 0s 701us/step - loss: 0.0172\n",
      "Epoch 24/100\n",
      "300/300 [==============================] - 0s 769us/step - loss: 0.0176\n",
      "Epoch 25/100\n",
      "300/300 [==============================] - 0s 741us/step - loss: 0.0153\n",
      "Epoch 26/100\n",
      "300/300 [==============================] - 0s 741us/step - loss: 0.0142\n",
      "Epoch 27/100\n",
      "300/300 [==============================] - 0s 733us/step - loss: 0.0143\n",
      "Epoch 28/100\n",
      "300/300 [==============================] - 0s 734us/step - loss: 0.0161\n",
      "Epoch 29/100\n",
      "300/300 [==============================] - 0s 736us/step - loss: 0.0148\n",
      "Epoch 30/100\n",
      "300/300 [==============================] - 0s 735us/step - loss: 0.0126\n",
      "Epoch 31/100\n",
      "300/300 [==============================] - 0s 728us/step - loss: 0.0115\n",
      "Epoch 32/100\n",
      "300/300 [==============================] - 0s 735us/step - loss: 0.0140\n",
      "Epoch 33/100\n",
      "300/300 [==============================] - 0s 735us/step - loss: 0.0147\n",
      "Epoch 34/100\n",
      "300/300 [==============================] - 0s 733us/step - loss: 0.0119\n",
      "Epoch 35/100\n",
      "300/300 [==============================] - 0s 731us/step - loss: 0.0097\n",
      "Epoch 36/100\n",
      "300/300 [==============================] - 0s 731us/step - loss: 0.0101\n",
      "Epoch 37/100\n",
      "300/300 [==============================] - 0s 733us/step - loss: 0.0131\n",
      "Epoch 38/100\n",
      "300/300 [==============================] - 0s 734us/step - loss: 0.0136\n",
      "Epoch 39/100\n",
      "300/300 [==============================] - 0s 733us/step - loss: 0.0094\n",
      "Epoch 40/100\n",
      "300/300 [==============================] - 0s 738us/step - loss: 0.0083\n",
      "Epoch 41/100\n",
      "300/300 [==============================] - 0s 738us/step - loss: 0.0090\n",
      "Epoch 42/100\n",
      "300/300 [==============================] - 0s 735us/step - loss: 0.0123\n",
      "Epoch 43/100\n",
      "300/300 [==============================] - 0s 731us/step - loss: 0.0127\n",
      "Epoch 44/100\n",
      "300/300 [==============================] - 0s 735us/step - loss: 0.0079\n",
      "Epoch 45/100\n",
      "300/300 [==============================] - 0s 733us/step - loss: 0.0066\n",
      "Epoch 46/100\n",
      "300/300 [==============================] - 0s 732us/step - loss: 0.0063\n",
      "Epoch 47/100\n",
      "300/300 [==============================] - 0s 738us/step - loss: 0.0085\n",
      "Epoch 48/100\n",
      "300/300 [==============================] - 0s 696us/step - loss: 0.0163\n",
      "Epoch 49/100\n",
      "300/300 [==============================] - 0s 763us/step - loss: 0.0084\n",
      "Epoch 50/100\n",
      "300/300 [==============================] - 0s 721us/step - loss: 0.0058\n",
      "Epoch 51/100\n",
      "300/300 [==============================] - 0s 744us/step - loss: 0.0053\n",
      "Epoch 52/100\n",
      "300/300 [==============================] - 0s 732us/step - loss: 0.0051\n",
      "Epoch 53/100\n",
      "300/300 [==============================] - 0s 733us/step - loss: 0.0050\n",
      "Epoch 54/100\n",
      "300/300 [==============================] - 0s 722us/step - loss: 0.0066\n",
      "Epoch 55/100\n",
      "300/300 [==============================] - 0s 747us/step - loss: 0.0165\n",
      "Epoch 56/100\n",
      "300/300 [==============================] - 0s 734us/step - loss: 0.0081\n",
      "Epoch 57/100\n",
      "300/300 [==============================] - 0s 729us/step - loss: 0.0049\n",
      "Epoch 58/100\n",
      "300/300 [==============================] - 0s 732us/step - loss: 0.0046\n",
      "Epoch 59/100\n",
      "300/300 [==============================] - 0s 737us/step - loss: 0.0044\n",
      "Epoch 60/100\n",
      "300/300 [==============================] - 0s 728us/step - loss: 0.0043\n",
      "Epoch 61/100\n",
      "300/300 [==============================] - 0s 713us/step - loss: 0.0042\n",
      "Epoch 62/100\n",
      "300/300 [==============================] - 0s 700us/step - loss: 0.0047\n",
      "Epoch 63/100\n",
      "300/300 [==============================] - 0s 778us/step - loss: 0.0120\n",
      "Epoch 64/100\n",
      "300/300 [==============================] - 0s 739us/step - loss: 0.0096\n",
      "Epoch 65/100\n",
      "300/300 [==============================] - 0s 684us/step - loss: 0.0044\n",
      "Epoch 66/100\n",
      "300/300 [==============================] - 0s 774us/step - loss: 0.0040\n",
      "Epoch 67/100\n",
      "300/300 [==============================] - 0s 680us/step - loss: 0.0038\n",
      "Epoch 68/100\n",
      "300/300 [==============================] - 0s 725us/step - loss: 0.0037\n",
      "Epoch 69/100\n",
      "300/300 [==============================] - 0s 734us/step - loss: 0.0037\n",
      "Epoch 70/100\n",
      "300/300 [==============================] - 0s 707us/step - loss: 0.0047\n",
      "Epoch 71/100\n",
      "300/300 [==============================] - 0s 721us/step - loss: 0.0107\n",
      "Epoch 72/100\n",
      "300/300 [==============================] - 0s 762us/step - loss: 0.0080\n",
      "Epoch 73/100\n",
      "300/300 [==============================] - 0s 728us/step - loss: 0.0039\n",
      "Epoch 74/100\n",
      "300/300 [==============================] - 0s 731us/step - loss: 0.0035\n",
      "Epoch 75/100\n",
      "300/300 [==============================] - 0s 726us/step - loss: 0.0034\n",
      "Epoch 76/100\n",
      "300/300 [==============================] - 0s 683us/step - loss: 0.0033\n",
      "Epoch 77/100\n",
      "300/300 [==============================] - 0s 730us/step - loss: 0.0032\n",
      "Epoch 78/100\n",
      "300/300 [==============================] - 0s 728us/step - loss: 0.0031\n",
      "Epoch 79/100\n",
      "300/300 [==============================] - 0s 687us/step - loss: 0.0048\n",
      "Epoch 80/100\n",
      "300/300 [==============================] - 0s 734us/step - loss: 0.0131\n",
      "Epoch 81/100\n",
      "300/300 [==============================] - 0s 775us/step - loss: 0.0062\n",
      "Epoch 82/100\n",
      "300/300 [==============================] - 0s 743us/step - loss: 0.0033\n",
      "Epoch 83/100\n",
      "300/300 [==============================] - 0s 733us/step - loss: 0.0031\n",
      "Epoch 84/100\n",
      "300/300 [==============================] - 0s 731us/step - loss: 0.0030\n",
      "Epoch 85/100\n",
      "300/300 [==============================] - 0s 731us/step - loss: 0.0029\n",
      "Epoch 86/100\n",
      "300/300 [==============================] - 0s 735us/step - loss: 0.0029\n",
      "Epoch 87/100\n",
      "300/300 [==============================] - 0s 728us/step - loss: 0.0029\n",
      "Epoch 88/100\n",
      "300/300 [==============================] - 0s 728us/step - loss: 0.0043\n",
      "Epoch 89/100\n",
      "300/300 [==============================] - 0s 730us/step - loss: 0.0099\n",
      "Epoch 90/100\n",
      "300/300 [==============================] - 0s 684us/step - loss: 0.0050\n",
      "Epoch 91/100\n",
      "300/300 [==============================] - 0s 775us/step - loss: 0.0030\n",
      "Epoch 92/100\n",
      "300/300 [==============================] - 0s 730us/step - loss: 0.0027\n",
      "Epoch 93/100\n",
      "300/300 [==============================] - 0s 732us/step - loss: 0.0026\n",
      "Epoch 94/100\n",
      "300/300 [==============================] - 0s 733us/step - loss: 0.0026\n",
      "Epoch 95/100\n",
      "300/300 [==============================] - 0s 733us/step - loss: 0.0025\n",
      "Epoch 96/100\n",
      "300/300 [==============================] - 0s 735us/step - loss: 0.0026\n",
      "Epoch 97/100\n",
      "300/300 [==============================] - 0s 690us/step - loss: 0.0048\n",
      "Epoch 98/100\n",
      "300/300 [==============================] - 0s 775us/step - loss: 0.0117\n",
      "Epoch 99/100\n",
      "300/300 [==============================] - 0s 694us/step - loss: 0.0035\n",
      "Epoch 100/100\n",
      "300/300 [==============================] - 0s 776us/step - loss: 0.0026\n"
     ]
    },
    {
     "data": {
      "text/plain": [
       "<keras.callbacks.History at 0x194ca5e3cc0>"
      ]
     },
     "execution_count": 130,
     "metadata": {},
     "output_type": "execute_result"
    }
   ],
   "source": [
    "autoencoder.fit(X_train_noisy, X_train_clear, epochs=100, batch_size=64)"
   ]
  },
  {
   "cell_type": "code",
   "execution_count": 61,
   "metadata": {},
   "outputs": [
    {
     "name": "stdout",
     "output_type": "stream",
     "text": [
      "Creating data.. Done\n",
      "Creating data.. Done\n"
     ]
    }
   ],
   "source": []
  },
  {
   "cell_type": "code",
   "execution_count": 73,
   "metadata": {},
   "outputs": [
    {
     "name": "stdout",
     "output_type": "stream",
     "text": [
      "300/300 [==============================] - 0s 751us/step\n"
     ]
    },
    {
     "data": {
      "text/plain": [
       "0.003104393929243088"
      ]
     },
     "execution_count": 73,
     "metadata": {},
     "output_type": "execute_result"
    }
   ],
   "source": [
    "autoencoder.evaluate(X_test_noise.reshape(-1, 72, 72, 1), X_test_clean.reshape(-1, 72, 72, 1))"
   ]
  },
  {
   "cell_type": "code",
   "execution_count": 131,
   "metadata": {},
   "outputs": [],
   "source": [
    "X_test_clean_pred = autoencoder.predict(X_test_noise)"
   ]
  },
  {
   "cell_type": "code",
   "execution_count": 132,
   "metadata": {},
   "outputs": [
    {
     "data": {
      "image/png": "[encoded data removed]",
      "text/plain": [
       "<Figure size 432x288 with 1 Axes>"
      ]
     },
     "metadata": {
      "needs_background": "light"
     },
     "output_type": "display_data"
    },
    {
     "data": {
      "image/png": "[encoded data removed]",
      "text/plain": [
       "<Figure size 432x288 with 1 Axes>"
      ]
     },
     "metadata": {
      "needs_background": "light"
     },
     "output_type": "display_data"
    },
    {
     "data": {
      "image/png": "[encoded data removed]",
      "text/plain": [
       "<Figure size 432x288 with 1 Axes>"
      ]
     },
     "metadata": {
      "needs_background": "light"
     },
     "output_type": "display_data"
    }
   ],
   "source": [
    "i=np.random.randint(300)\n",
    "\n",
    "plt.imshow(X_test_noise[i].reshape(72,72), cmap=\"gray\")\n",
    "plt.show()\n",
    "\n",
    "plt.imshow(X_test_clean[i].reshape(72,72), cmap=\"gray\")\n",
    "plt.show()\n",
    "\n",
    "plt.imshow(X_test_clean_pred[i].reshape(72,72), cmap=\"gray\")\n",
    "plt.show()"
   ]
  },
  {
   "cell_type": "code",
   "execution_count": null,
   "metadata": {},
   "outputs": [],
   "source": []
  }
 ],
 "metadata": {
  "kernelspec": {
   "display_name": "TF-GPU",
   "language": "python",
   "name": "myenv"
  },
  "language_info": {
   "codemirror_mode": {
    "name": "ipython",
    "version": 3
   },
   "file_extension": ".py",
   "mimetype": "text/x-python",
   "name": "python",
   "nbconvert_exporter": "python",
   "pygments_lexer": "ipython3",
   "version": "3.6.6"
  }
 },
 "nbformat": 4,
 "nbformat_minor": 2
}
