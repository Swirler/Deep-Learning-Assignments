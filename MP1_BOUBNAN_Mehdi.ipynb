{
 "cells": [
  {
   "cell_type": "markdown",
   "metadata": {},
   "source": [
    "<h1><center>Deep Learning Course - First Mini Project</center></h1>\n",
    "<h3><center>Image Classification and Regression</center></h3>\n",
    "<h4><center>Professor : Vincent Lepetit</center></h4>\n",
    "<h5><center>Mehdi Boubnan</center></h5>"
   ]
  },
  {
   "cell_type": "markdown",
   "metadata": {},
   "source": [
    "# Imports and defining functions"
   ]
  },
  {
   "cell_type": "code",
   "execution_count": 1,
   "metadata": {},
   "outputs": [],
   "source": [
    "import matplotlib.pyplot as plt\n",
    "%matplotlib inline\n",
    "import numpy as np"
   ]
  },
  {
   "cell_type": "code",
   "execution_count": 2,
   "metadata": {},
   "outputs": [],
   "source": [
    "from tensorflow import set_random_seed\n",
    "set_random_seed(1)"
   ]
  },
  {
   "cell_type": "code",
   "execution_count": 3,
   "metadata": {},
   "outputs": [
    {
     "name": "stderr",
     "output_type": "stream",
     "text": [
      "Using TensorFlow backend.\n"
     ]
    }
   ],
   "source": [
    "from keras.models import Sequential\n",
    "from keras.layers import Dense, Activation, Conv2D, MaxPooling2D, UpSampling2D, Flatten\n",
    "from keras.optimizers import SGD, Adam\n",
    "from keras import utils as np_utils"
   ]
  },
  {
   "cell_type": "code",
   "execution_count": 4,
   "metadata": {},
   "outputs": [],
   "source": [
    "IMAGE_SIZE = 72\n",
    "\n",
    "def generate_a_drawing(figsize, U, V, noise=0.0):\n",
    "    fig = plt.figure(figsize=(figsize,figsize))\n",
    "    ax = plt.subplot(111)\n",
    "    plt.axis('Off')\n",
    "    ax.set_xlim(0,figsize)\n",
    "    ax.set_ylim(0,figsize)\n",
    "    ax.fill(U, V, \"k\")\n",
    "    fig.canvas.draw()\n",
    "    imdata = np.frombuffer(fig.canvas.tostring_rgb(), dtype=np.uint8)[::3].astype(np.float32)\n",
    "    imdata = imdata + noise * np.random.random(imdata.size)\n",
    "    plt.close(fig)\n",
    "    return imdata\n",
    "\n",
    "def generate_a_rectangle(noise=0.0, free_location=False):\n",
    "    figsize = 1.0    \n",
    "    U = np.zeros(4)\n",
    "    V = np.zeros(4)\n",
    "    if free_location:\n",
    "        corners = np.random.random(4)\n",
    "        top = max(corners[0], corners[1])\n",
    "        bottom = min(corners[0], corners[1])\n",
    "        left = min(corners[2], corners[3])\n",
    "        right = max(corners[2], corners[3])\n",
    "    else:\n",
    "        side = (0.3 + 0.7 * np.random.random()) * figsize\n",
    "        top = figsize/2 + side/2\n",
    "        bottom = figsize/2 - side/2\n",
    "        left = bottom\n",
    "        right = top\n",
    "    U[0] = U[1] = top\n",
    "    U[2] = U[3] = bottom\n",
    "    V[0] = V[3] = left\n",
    "    V[1] = V[2] = right\n",
    "    return generate_a_drawing(figsize, U, V, noise)\n",
    "\n",
    "\n",
    "def generate_a_disk(noise=0.0, free_location=False):\n",
    "    figsize = 1.0\n",
    "    if free_location:\n",
    "        center = np.random.random(2)\n",
    "    else:\n",
    "        center = (figsize/2, figsize/2)\n",
    "    radius = (0.3 + 0.7 * np.random.random()) * figsize/2\n",
    "    N = 50\n",
    "    U = np.zeros(N)\n",
    "    V = np.zeros(N)\n",
    "    i = 0\n",
    "    for t in np.linspace(0, 2*np.pi, N):\n",
    "        U[i] = center[0] + np.cos(t) * radius\n",
    "        V[i] = center[1] + np.sin(t) * radius\n",
    "        i = i + 1\n",
    "    return generate_a_drawing(figsize, U, V, noise)\n",
    "\n",
    "def generate_a_triangle(noise=0.0, free_location=False):\n",
    "    figsize = 1.0\n",
    "    if free_location:\n",
    "        U = np.random.random(3)\n",
    "        V = np.random.random(3)\n",
    "    else:\n",
    "        size = (0.3 + 0.7 * np.random.random())*figsize/2\n",
    "        middle = figsize/2\n",
    "        U = (middle, middle+size, middle-size)\n",
    "        V = (middle+size, middle-size, middle-size)\n",
    "    imdata = generate_a_drawing(figsize, U, V, noise)\n",
    "    return [imdata, [U[0], V[0], U[1], V[1], U[2], V[2]]]\n",
    "\n",
    "\n",
    "def generate_dataset_classification(nb_samples, noise=0.0, free_location=False):\n",
    "    # Getting im_size:\n",
    "    im_size = generate_a_rectangle().shape[0]\n",
    "    X = np.zeros([nb_samples,im_size])\n",
    "    Y = np.zeros(nb_samples)\n",
    "    print('Creating data',end=\".. \")\n",
    "    for i in range(nb_samples):\n",
    "        #if i % 10 == 0:\n",
    "            #print(i)\n",
    "        category = np.random.randint(3)\n",
    "        if category == 0:\n",
    "            X[i] = generate_a_rectangle(noise, free_location)\n",
    "        elif category == 1: \n",
    "            X[i] = generate_a_disk(noise, free_location)\n",
    "        else:\n",
    "            [X[i], V] = generate_a_triangle(noise, free_location)\n",
    "        Y[i] = category\n",
    "    X = (X + noise) / (255 + 2 * noise)\n",
    "    print(\"Done\")\n",
    "    return [X, Y]\n",
    "\n",
    "def generate_test_set_classification():\n",
    "    np.random.seed(42)\n",
    "    [X_test, Y_test] = generate_dataset_classification(300, 20, True)\n",
    "    Y_test = np_utils.to_categorical(Y_test, 3) \n",
    "    return [X_test, Y_test]\n",
    "\n",
    "def generate_dataset_regression(nb_samples, noise=0.0):\n",
    "    # Getting im_size:\n",
    "    im_size = generate_a_triangle()[0].shape[0]\n",
    "    X = np.zeros([nb_samples,im_size])\n",
    "    Y = np.zeros([nb_samples, 6])\n",
    "    print('Creating data',end=\".. \")\n",
    "    for i in range(nb_samples):\n",
    "        #if i % 10 == 0:\n",
    "            #print(i)\n",
    "        [X[i], Y[i]] = generate_a_triangle(noise, True)\n",
    "    X = (X + noise) / (255 + 2 * noise)\n",
    "    print(\"Done\")\n",
    "    return [X, Y]\n",
    "\n",
    "import matplotlib.patches as patches\n",
    "\n",
    "def visualize_prediction(x, y):\n",
    "    fig, ax = plt.subplots(figsize=(5, 5))\n",
    "    I = x.reshape((IMAGE_SIZE,IMAGE_SIZE))\n",
    "    ax.imshow(I, extent=[-0.15,1.15,-0.15,1.15],cmap='gray')\n",
    "    ax.set_xlim([0,1])\n",
    "    ax.set_ylim([0,1])\n",
    "\n",
    "    xy = y.reshape(3,2)\n",
    "    tri = patches.Polygon(xy, closed=True, fill = False, edgecolor = 'r', linewidth = 5, alpha = 0.5)\n",
    "    ax.add_patch(tri)\n",
    "\n",
    "        \n",
    "def visualize_predictions(x, y_true, y_test):\n",
    "    fig, (ax1, ax2) = plt.subplots(1,2, figsize=(10, 5))\n",
    "    I = x.reshape((IMAGE_SIZE,IMAGE_SIZE))\n",
    "    ax1.imshow(I, extent=[-0.15,1.15,-0.15,1.15],cmap='gray')\n",
    "    ax1.set_xlim([0,1])\n",
    "    ax1.set_ylim([0,1])\n",
    "\n",
    "    xy = y_true.reshape(3,2)\n",
    "    tri = patches.Polygon(xy, closed=True, fill = False, edgecolor = 'r', linewidth = 5, alpha = 0.5)\n",
    "    ax1.add_patch(tri)\n",
    "    \n",
    "    ax1.set_title(\"True edges\")\n",
    "    \n",
    "    ax2.imshow(I, extent=[-0.15,1.15,-0.15,1.15],cmap='gray')\n",
    "    ax2.set_xlim([0,1])\n",
    "    ax2.set_ylim([0,1])\n",
    "\n",
    "    xy = y_test.reshape(3,2)\n",
    "    tri = patches.Polygon(xy, closed=True, fill = False, edgecolor = 'r', linewidth = 5, alpha = 0.5)\n",
    "    ax2.add_patch(tri)\n",
    "    \n",
    "    ax2.set_title(\"Predicted edges\")\n",
    "    \n",
    "    plt.tight_layout()\n",
    "    plt.show()\n",
    "\n",
    "def generate_test_set_regression():\n",
    "    np.random.seed(42)\n",
    "    [X_test, Y_test] = generate_dataset_regression(300, 20)\n",
    "    return [X_test, Y_test]"
   ]
  },
  {
   "cell_type": "markdown",
   "metadata": {},
   "source": [
    "# Classification Problem"
   ]
  },
  {
   "cell_type": "markdown",
   "metadata": {},
   "source": [
    "## Simple Classification"
   ]
  },
  {
   "cell_type": "markdown",
   "metadata": {},
   "source": [
    "### Generating data"
   ]
  },
  {
   "cell_type": "markdown",
   "metadata": {},
   "source": [
    "Our training and testing datasets are composed by shapes images (rectangles, disks and triangles). We'll begin by generating some data samples :"
   ]
  },
  {
   "cell_type": "code",
   "execution_count": 5,
   "metadata": {},
   "outputs": [
    {
     "data": {
      "image/png": "[encoded data removed]",
      "text/plain": [
       "<Figure size 864x288 with 3 Axes>"
      ]
     },
     "metadata": {
      "needs_background": "light"
     },
     "output_type": "display_data"
    }
   ],
   "source": [
    "f, (ax1, ax2, ax3) = plt.subplots(1,3,figsize=(12,4))\n",
    "\n",
    "im = generate_a_rectangle(10, False)\n",
    "ax1.imshow(im.reshape(IMAGE_SIZE,IMAGE_SIZE), cmap='gray')\n",
    "ax1.set_title(\"Rectangle\")\n",
    "\n",
    "im = generate_a_disk(10, False)\n",
    "ax2.imshow(im.reshape(IMAGE_SIZE,IMAGE_SIZE), cmap='gray')\n",
    "ax2.set_title(\"Disk\")\n",
    "\n",
    "[im, v] = generate_a_triangle(20, False)\n",
    "ax3.imshow(im.reshape(IMAGE_SIZE,IMAGE_SIZE), cmap='gray')\n",
    "ax3.set_title(\"Triangle\")\n",
    "\n",
    "plt.tight_layout()\n",
    "plt.show()"
   ]
  },
  {
   "cell_type": "markdown",
   "metadata": {},
   "source": [
    "We'll then generate our training dataset with **300 samples** of shapes images, and see their distribution :"
   ]
  },
  {
   "cell_type": "code",
   "execution_count": 6,
   "metadata": {},
   "outputs": [
    {
     "name": "stdout",
     "output_type": "stream",
     "text": [
      "Creating data.. Done\n"
     ]
    }
   ],
   "source": [
    "[X_train, Y_train] = generate_dataset_classification(300, 20)"
   ]
  },
  {
   "cell_type": "markdown",
   "metadata": {},
   "source": [
    "We one-hot encore the data labels to fit the model :"
   ]
  },
  {
   "cell_type": "code",
   "execution_count": 7,
   "metadata": {},
   "outputs": [],
   "source": [
    "Y_train = np_utils.to_categorical(Y_train, 3)"
   ]
  },
  {
   "cell_type": "markdown",
   "metadata": {},
   "source": [
    "### Building the model"
   ]
  },
  {
   "cell_type": "markdown",
   "metadata": {},
   "source": [
    "We'll train a simple two layer fully-connected neural network, taking in input vectors in $\\mathbb{R}^{5184}$ (our image shapes are 72x72), and outputing a vector in $\\mathbb{R}^3$ representing the probabilities of belonging to each of the three classes (rectangle, disk, triangle). To do so, we use one fully connected layer of 3 neurons, followed by a **softmax** activation (logistic regression).\n",
    "\n",
    "For training the data, we'll firstly use a stochastic gradient descent optimizer, with a 0.001 learning rate, a decay of $10^{-6}$ and a momentum of 0.9, and then use the adam optimizer with default settings.\n",
    "We'll use 50 epochs and a 32 batch size."
   ]
  },
  {
   "cell_type": "markdown",
   "metadata": {},
   "source": [
    "#### Using SGD optimizer"
   ]
  },
  {
   "cell_type": "code",
   "execution_count": 8,
   "metadata": {},
   "outputs": [],
   "source": [
    "model = Sequential()\n",
    "\n",
    "output = 3\n",
    "\n",
    "model.add(Dense(output, input_shape=(5184,)))\n",
    "model.add(Activation('softmax'))\n",
    "\n",
    "sgd = SGD(lr=0.001, decay=1e-6, momentum=0.9, nesterov=True)\n",
    "model.compile(loss='categorical_crossentropy', optimizer=sgd, metrics=['accuracy'])"
   ]
  },
  {
   "cell_type": "markdown",
   "metadata": {},
   "source": [
    "Let's train the model with SGD :"
   ]
  },
  {
   "cell_type": "code",
   "execution_count": 9,
   "metadata": {},
   "outputs": [
    {
     "name": "stdout",
     "output_type": "stream",
     "text": [
      "Epoch 1/50\n",
      "300/300 [==============================] - 2s 7ms/step - loss: 1.3517 - acc: 0.4000\n",
      "Epoch 2/50\n",
      "300/300 [==============================] - 0s 102us/step - loss: 0.8014 - acc: 0.6600\n",
      "Epoch 3/50\n",
      "300/300 [==============================] - 0s 113us/step - loss: 0.4808 - acc: 0.8500\n",
      "Epoch 4/50\n",
      "300/300 [==============================] - 0s 105us/step - loss: 0.4349 - acc: 0.8033\n",
      "Epoch 5/50\n",
      "300/300 [==============================] - 0s 103us/step - loss: 0.3360 - acc: 0.8867\n",
      "Epoch 6/50\n",
      "300/300 [==============================] - 0s 103us/step - loss: 0.2762 - acc: 0.9533\n",
      "Epoch 7/50\n",
      "300/300 [==============================] - 0s 103us/step - loss: 0.2759 - acc: 0.9167\n",
      "Epoch 8/50\n",
      "300/300 [==============================] - 0s 109us/step - loss: 0.2150 - acc: 0.9600\n",
      "Epoch 9/50\n",
      "300/300 [==============================] - 0s 100us/step - loss: 0.2105 - acc: 0.9600\n",
      "Epoch 10/50\n",
      "300/300 [==============================] - 0s 103us/step - loss: 0.1959 - acc: 0.9600\n",
      "Epoch 11/50\n",
      "300/300 [==============================] - 0s 104us/step - loss: 0.1716 - acc: 0.9833\n",
      "Epoch 12/50\n",
      "300/300 [==============================] - 0s 106us/step - loss: 0.1781 - acc: 0.9767\n",
      "Epoch 13/50\n",
      "300/300 [==============================] - 0s 103us/step - loss: 0.1672 - acc: 0.9733\n",
      "Epoch 14/50\n",
      "300/300 [==============================] - 0s 104us/step - loss: 0.1489 - acc: 0.9800\n",
      "Epoch 15/50\n",
      "300/300 [==============================] - 0s 103us/step - loss: 0.1378 - acc: 0.9867\n",
      "Epoch 16/50\n",
      "300/300 [==============================] - 0s 101us/step - loss: 0.1304 - acc: 0.9867\n",
      "Epoch 17/50\n",
      "300/300 [==============================] - 0s 98us/step - loss: 0.1242 - acc: 0.9867\n",
      "Epoch 18/50\n",
      "300/300 [==============================] - 0s 102us/step - loss: 0.1135 - acc: 0.9867\n",
      "Epoch 19/50\n",
      "300/300 [==============================] - 0s 100us/step - loss: 0.1109 - acc: 0.9900\n",
      "Epoch 20/50\n",
      "300/300 [==============================] - 0s 100us/step - loss: 0.1145 - acc: 0.9900\n",
      "Epoch 21/50\n",
      "300/300 [==============================] - 0s 105us/step - loss: 0.1072 - acc: 0.9867\n",
      "Epoch 22/50\n",
      "300/300 [==============================] - 0s 103us/step - loss: 0.1025 - acc: 0.9900\n",
      "Epoch 23/50\n",
      "300/300 [==============================] - 0s 104us/step - loss: 0.0982 - acc: 0.9933\n",
      "Epoch 24/50\n",
      "300/300 [==============================] - 0s 96us/step - loss: 0.0924 - acc: 0.9933\n",
      "Epoch 25/50\n",
      "300/300 [==============================] - 0s 100us/step - loss: 0.0943 - acc: 0.9900\n",
      "Epoch 26/50\n",
      "300/300 [==============================] - 0s 106us/step - loss: 0.0869 - acc: 0.9933\n",
      "Epoch 27/50\n",
      "300/300 [==============================] - 0s 110us/step - loss: 0.0865 - acc: 0.9867\n",
      "Epoch 28/50\n",
      "300/300 [==============================] - 0s 96us/step - loss: 0.0813 - acc: 0.9967\n",
      "Epoch 29/50\n",
      "300/300 [==============================] - 0s 104us/step - loss: 0.0808 - acc: 0.9933\n",
      "Epoch 30/50\n",
      "300/300 [==============================] - 0s 107us/step - loss: 0.0777 - acc: 0.9967\n",
      "Epoch 31/50\n",
      "300/300 [==============================] - 0s 131us/step - loss: 0.0729 - acc: 0.9967\n",
      "Epoch 32/50\n",
      "300/300 [==============================] - 0s 103us/step - loss: 0.0785 - acc: 0.9967\n",
      "Epoch 33/50\n",
      "300/300 [==============================] - 0s 101us/step - loss: 0.0764 - acc: 0.9933\n",
      "Epoch 34/50\n",
      "300/300 [==============================] - 0s 103us/step - loss: 0.0687 - acc: 0.9967\n",
      "Epoch 35/50\n",
      "300/300 [==============================] - 0s 103us/step - loss: 0.0746 - acc: 0.9867\n",
      "Epoch 36/50\n",
      "300/300 [==============================] - 0s 101us/step - loss: 0.0646 - acc: 0.9967\n",
      "Epoch 37/50\n",
      "300/300 [==============================] - 0s 101us/step - loss: 0.0628 - acc: 0.9967\n",
      "Epoch 38/50\n",
      "300/300 [==============================] - 0s 103us/step - loss: 0.0638 - acc: 0.9933\n",
      "Epoch 39/50\n",
      "300/300 [==============================] - 0s 100us/step - loss: 0.0624 - acc: 0.9967\n",
      "Epoch 40/50\n",
      "300/300 [==============================] - 0s 105us/step - loss: 0.0599 - acc: 1.0000\n",
      "Epoch 41/50\n",
      "300/300 [==============================] - 0s 100us/step - loss: 0.0603 - acc: 0.9967\n",
      "Epoch 42/50\n",
      "300/300 [==============================] - 0s 108us/step - loss: 0.0573 - acc: 0.9967\n",
      "Epoch 43/50\n",
      "300/300 [==============================] - 0s 100us/step - loss: 0.0556 - acc: 0.9967\n",
      "Epoch 44/50\n",
      "300/300 [==============================] - 0s 100us/step - loss: 0.0561 - acc: 0.9967\n",
      "Epoch 45/50\n",
      "300/300 [==============================] - 0s 100us/step - loss: 0.0527 - acc: 1.0000\n",
      "Epoch 46/50\n",
      "300/300 [==============================] - 0s 104us/step - loss: 0.0554 - acc: 0.9967\n",
      "Epoch 47/50\n",
      "300/300 [==============================] - 0s 100us/step - loss: 0.0523 - acc: 1.0000\n",
      "Epoch 48/50\n",
      "300/300 [==============================] - 0s 105us/step - loss: 0.0515 - acc: 1.0000\n",
      "Epoch 49/50\n",
      "300/300 [==============================] - 0s 101us/step - loss: 0.0530 - acc: 1.0000\n",
      "Epoch 50/50\n",
      "300/300 [==============================] - 0s 120us/step - loss: 0.0511 - acc: 1.0000\n"
     ]
    },
    {
     "data": {
      "text/plain": [
       "<keras.callbacks.History at 0x1fa199d7ba8>"
      ]
     },
     "execution_count": 9,
     "metadata": {},
     "output_type": "execute_result"
    }
   ],
   "source": [
    "model.fit(X_train, Y_train, epochs=50, batch_size=32)"
   ]
  },
  {
   "cell_type": "markdown",
   "metadata": {},
   "source": [
    "#### Using Adam optimizer"
   ]
  },
  {
   "cell_type": "code",
   "execution_count": 10,
   "metadata": {},
   "outputs": [],
   "source": [
    "model = Sequential()\n",
    "\n",
    "hidden_neurons = 64\n",
    "output = 3\n",
    "\n",
    "model.add(Dense(output, input_shape=(5184,)))\n",
    "model.add(Activation('softmax'))\n",
    "\n",
    "adam = Adam(lr=0.001, beta_1=0.9, beta_2=0.999, epsilon=None, decay=0.0, amsgrad=False)\n",
    "model.compile(loss='categorical_crossentropy', optimizer=adam, metrics=['accuracy'])"
   ]
  },
  {
   "cell_type": "code",
   "execution_count": 11,
   "metadata": {},
   "outputs": [
    {
     "name": "stdout",
     "output_type": "stream",
     "text": [
      "Epoch 1/50\n",
      "300/300 [==============================] - 0s 498us/step - loss: 1.4970 - acc: 0.4767\n",
      "Epoch 2/50\n",
      "300/300 [==============================] - 0s 109us/step - loss: 1.0961 - acc: 0.5633\n",
      "Epoch 3/50\n",
      "300/300 [==============================] - 0s 106us/step - loss: 0.7194 - acc: 0.7067\n",
      "Epoch 4/50\n",
      "300/300 [==============================] - 0s 105us/step - loss: 0.5407 - acc: 0.7433\n",
      "Epoch 5/50\n",
      "300/300 [==============================] - 0s 108us/step - loss: 0.3740 - acc: 0.8433\n",
      "Epoch 6/50\n",
      "300/300 [==============================] - 0s 106us/step - loss: 0.3263 - acc: 0.9033\n",
      "Epoch 7/50\n",
      "300/300 [==============================] - 0s 110us/step - loss: 0.3074 - acc: 0.8667\n",
      "Epoch 8/50\n",
      "300/300 [==============================] - 0s 107us/step - loss: 0.2629 - acc: 0.8933\n",
      "Epoch 9/50\n",
      "300/300 [==============================] - 0s 109us/step - loss: 0.3165 - acc: 0.8067\n",
      "Epoch 10/50\n",
      "300/300 [==============================] - 0s 110us/step - loss: 0.1967 - acc: 0.9667\n",
      "Epoch 11/50\n",
      "300/300 [==============================] - 0s 110us/step - loss: 0.2037 - acc: 0.9200\n",
      "Epoch 12/50\n",
      "300/300 [==============================] - 0s 116us/step - loss: 0.2144 - acc: 0.9000\n",
      "Epoch 13/50\n",
      "300/300 [==============================] - 0s 108us/step - loss: 0.2215 - acc: 0.8933\n",
      "Epoch 14/50\n",
      "300/300 [==============================] - 0s 117us/step - loss: 0.1397 - acc: 0.9933\n",
      "Epoch 15/50\n",
      "300/300 [==============================] - 0s 103us/step - loss: 0.1288 - acc: 0.9933\n",
      "Epoch 16/50\n",
      "300/300 [==============================] - 0s 116us/step - loss: 0.1093 - acc: 0.9933\n",
      "Epoch 17/50\n",
      "300/300 [==============================] - 0s 109us/step - loss: 0.1033 - acc: 0.9933\n",
      "Epoch 18/50\n",
      "300/300 [==============================] - 0s 103us/step - loss: 0.0997 - acc: 0.9933\n",
      "Epoch 19/50\n",
      "300/300 [==============================] - 0s 104us/step - loss: 0.1008 - acc: 0.9900\n",
      "Epoch 20/50\n",
      "300/300 [==============================] - 0s 105us/step - loss: 0.0919 - acc: 0.9967\n",
      "Epoch 21/50\n",
      "300/300 [==============================] - 0s 110us/step - loss: 0.0822 - acc: 1.0000\n",
      "Epoch 22/50\n",
      "300/300 [==============================] - 0s 104us/step - loss: 0.0770 - acc: 0.9967\n",
      "Epoch 23/50\n",
      "300/300 [==============================] - 0s 108us/step - loss: 0.0685 - acc: 1.0000\n",
      "Epoch 24/50\n",
      "300/300 [==============================] - 0s 110us/step - loss: 0.0649 - acc: 1.0000\n",
      "Epoch 25/50\n",
      "300/300 [==============================] - 0s 108us/step - loss: 0.0612 - acc: 1.0000\n",
      "Epoch 26/50\n",
      "300/300 [==============================] - 0s 104us/step - loss: 0.0608 - acc: 1.0000\n",
      "Epoch 27/50\n",
      "300/300 [==============================] - 0s 105us/step - loss: 0.0547 - acc: 1.0000\n",
      "Epoch 28/50\n",
      "300/300 [==============================] - 0s 113us/step - loss: 0.0526 - acc: 1.0000\n",
      "Epoch 29/50\n",
      "300/300 [==============================] - 0s 108us/step - loss: 0.0521 - acc: 1.0000\n",
      "Epoch 30/50\n",
      "300/300 [==============================] - 0s 110us/step - loss: 0.0491 - acc: 1.0000\n",
      "Epoch 31/50\n",
      "300/300 [==============================] - 0s 110us/step - loss: 0.0499 - acc: 0.9967\n",
      "Epoch 32/50\n",
      "300/300 [==============================] - 0s 103us/step - loss: 0.0525 - acc: 1.0000\n",
      "Epoch 33/50\n",
      "300/300 [==============================] - 0s 109us/step - loss: 0.0419 - acc: 1.0000\n",
      "Epoch 34/50\n",
      "300/300 [==============================] - 0s 103us/step - loss: 0.0394 - acc: 1.0000\n",
      "Epoch 35/50\n",
      "300/300 [==============================] - 0s 103us/step - loss: 0.0456 - acc: 0.9967\n",
      "Epoch 36/50\n",
      "300/300 [==============================] - 0s 107us/step - loss: 0.0444 - acc: 1.0000\n",
      "Epoch 37/50\n",
      "300/300 [==============================] - 0s 100us/step - loss: 0.0366 - acc: 1.0000\n",
      "Epoch 38/50\n",
      "300/300 [==============================] - 0s 106us/step - loss: 0.0357 - acc: 1.0000\n",
      "Epoch 39/50\n",
      "300/300 [==============================] - 0s 107us/step - loss: 0.0356 - acc: 1.0000\n",
      "Epoch 40/50\n",
      "300/300 [==============================] - 0s 103us/step - loss: 0.0341 - acc: 1.0000\n",
      "Epoch 41/50\n",
      "300/300 [==============================] - 0s 103us/step - loss: 0.0350 - acc: 1.0000\n",
      "Epoch 42/50\n",
      "300/300 [==============================] - 0s 104us/step - loss: 0.0299 - acc: 1.0000\n",
      "Epoch 43/50\n",
      "300/300 [==============================] - 0s 100us/step - loss: 0.0294 - acc: 1.0000\n",
      "Epoch 44/50\n",
      "300/300 [==============================] - 0s 106us/step - loss: 0.0268 - acc: 1.0000\n",
      "Epoch 45/50\n",
      "300/300 [==============================] - 0s 106us/step - loss: 0.0263 - acc: 1.0000\n",
      "Epoch 46/50\n",
      "300/300 [==============================] - 0s 102us/step - loss: 0.0262 - acc: 1.0000\n",
      "Epoch 47/50\n",
      "300/300 [==============================] - 0s 107us/step - loss: 0.0272 - acc: 1.0000\n",
      "Epoch 48/50\n",
      "300/300 [==============================] - 0s 107us/step - loss: 0.0241 - acc: 1.0000\n",
      "Epoch 49/50\n",
      "300/300 [==============================] - 0s 104us/step - loss: 0.0231 - acc: 1.0000\n",
      "Epoch 50/50\n",
      "300/300 [==============================] - 0s 103us/step - loss: 0.0226 - acc: 1.0000\n"
     ]
    },
    {
     "data": {
      "text/plain": [
       "<keras.callbacks.History at 0x1fa196aef28>"
      ]
     },
     "execution_count": 11,
     "metadata": {},
     "output_type": "execute_result"
    }
   ],
   "source": [
    "model.fit(X_train, Y_train, epochs=50, batch_size=32)"
   ]
  },
  {
   "cell_type": "markdown",
   "metadata": {},
   "source": [
    "### Plotting weights"
   ]
  },
  {
   "cell_type": "markdown",
   "metadata": {},
   "source": [
    "We'll plot the first three weights :"
   ]
  },
  {
   "cell_type": "code",
   "execution_count": 12,
   "metadata": {},
   "outputs": [
    {
     "data": {
      "image/png": "[encoded data removed]",
      "text/plain": [
       "<Figure size 864x288 with 3 Axes>"
      ]
     },
     "metadata": {
      "needs_background": "light"
     },
     "output_type": "display_data"
    }
   ],
   "source": [
    "weights = model.get_weights()[0].T\n",
    "\n",
    "f, (ax1, ax2, ax3) = plt.subplots(1,3, figsize=(12,4))\n",
    "\n",
    "ax1.imshow(weights[0].reshape(IMAGE_SIZE,IMAGE_SIZE), cmap='gray')\n",
    "ax1.set_title(\"Rectangle weight\")\n",
    "\n",
    "ax2.imshow(weights[1].reshape(IMAGE_SIZE,IMAGE_SIZE), cmap='gray')\n",
    "ax2.set_title(\"Disk weight\")\n",
    "\n",
    "ax3.imshow(weights[2].reshape(IMAGE_SIZE,IMAGE_SIZE), cmap='gray')\n",
    "ax3.set_title(\"Triangle weight\")\n",
    "\n",
    "plt.tight_layout()\n",
    "plt.show()"
   ]
  },
  {
   "cell_type": "markdown",
   "metadata": {},
   "source": [
    "## More Difficult Classification Problem"
   ]
  },
  {
   "cell_type": "markdown",
   "metadata": {},
   "source": [
    "### Generating Data"
   ]
  },
  {
   "cell_type": "markdown",
   "metadata": {},
   "source": [
    "Now, we'll generate a new training set where the shapes are allowed to move within the images and change dimensions."
   ]
  },
  {
   "cell_type": "code",
   "execution_count": 13,
   "metadata": {},
   "outputs": [
    {
     "name": "stdout",
     "output_type": "stream",
     "text": [
      "Creating data.. Done\n",
      "Creating data.. Done\n"
     ]
    }
   ],
   "source": [
    "[X_train, Y_train] = generate_dataset_classification(300, 20, True)\n",
    "[X_test, Y_test] = generate_test_set_classification()"
   ]
  },
  {
   "cell_type": "markdown",
   "metadata": {},
   "source": [
    "Let's see what the new data looks like"
   ]
  },
  {
   "cell_type": "code",
   "execution_count": 14,
   "metadata": {},
   "outputs": [
    {
     "data": {
      "image/png": "[encoded data removed]",
      "text/plain": [
       "<Figure size 864x288 with 3 Axes>"
      ]
     },
     "metadata": {
      "needs_background": "light"
     },
     "output_type": "display_data"
    }
   ],
   "source": [
    "f, (ax1, ax2, ax3) = plt.subplots(1,3,figsize=(12,4))\n",
    "\n",
    "im = generate_a_rectangle(20, True)\n",
    "ax1.imshow(im.reshape(IMAGE_SIZE,IMAGE_SIZE), cmap='gray')\n",
    "ax1.set_title(\"Rectangle\")\n",
    "\n",
    "im = generate_a_disk(20, True)\n",
    "ax2.imshow(im.reshape(IMAGE_SIZE,IMAGE_SIZE), cmap='gray')\n",
    "ax2.set_title(\"Disk\")\n",
    "\n",
    "[im, v] = generate_a_triangle(20, True)\n",
    "ax3.imshow(im.reshape(IMAGE_SIZE,IMAGE_SIZE), cmap='gray')\n",
    "ax3.set_title(\"Triangle\")\n",
    "\n",
    "plt.tight_layout()\n",
    "plt.show()"
   ]
  },
  {
   "cell_type": "markdown",
   "metadata": {},
   "source": [
    "We one-hot encode the training to fit the model, the test labels are already one-hot encoded :"
   ]
  },
  {
   "cell_type": "code",
   "execution_count": 15,
   "metadata": {},
   "outputs": [],
   "source": [
    "Y_train = np_utils.to_categorical(Y_train, 3)"
   ]
  },
  {
   "cell_type": "markdown",
   "metadata": {},
   "source": [
    "### Retraining the model"
   ]
  },
  {
   "cell_type": "markdown",
   "metadata": {},
   "source": [
    "We'll use the **same model as before**, and retrain it on the new dataset. We choose to double the number of **epochs** from **50 to 100**."
   ]
  },
  {
   "cell_type": "code",
   "execution_count": 16,
   "metadata": {},
   "outputs": [],
   "source": [
    "model = Sequential()\n",
    "\n",
    "hidden_neurons = 64\n",
    "output = 3\n",
    "\n",
    "model.add(Dense(output, input_shape=(5184,)))\n",
    "model.add(Activation('softmax'))\n",
    "\n",
    "adam = Adam(lr=0.001, beta_1=0.9, beta_2=0.999, epsilon=None, decay=0.0, amsgrad=False)\n",
    "model.compile(loss='categorical_crossentropy', optimizer=adam, metrics=['accuracy'])"
   ]
  },
  {
   "cell_type": "markdown",
   "metadata": {},
   "source": [
    "Let's train our model"
   ]
  },
  {
   "cell_type": "code",
   "execution_count": 17,
   "metadata": {},
   "outputs": [
    {
     "name": "stdout",
     "output_type": "stream",
     "text": [
      "Epoch 1/100\n",
      "300/300 [==============================] - 0s 520us/step - loss: 1.8272 - acc: 0.3567\n",
      "Epoch 2/100\n",
      "300/300 [==============================] - 0s 113us/step - loss: 1.4204 - acc: 0.3933\n",
      "Epoch 3/100\n",
      "300/300 [==============================] - 0s 106us/step - loss: 1.2150 - acc: 0.4167\n",
      "Epoch 4/100\n",
      "300/300 [==============================] - 0s 107us/step - loss: 1.0155 - acc: 0.4633\n",
      "Epoch 5/100\n",
      "300/300 [==============================] - 0s 112us/step - loss: 0.9163 - acc: 0.5633\n",
      "Epoch 6/100\n",
      "300/300 [==============================] - 0s 110us/step - loss: 1.1084 - acc: 0.4800\n",
      "Epoch 7/100\n",
      "300/300 [==============================] - 0s 107us/step - loss: 1.0018 - acc: 0.5900\n",
      "Epoch 8/100\n",
      "300/300 [==============================] - 0s 110us/step - loss: 0.9629 - acc: 0.5633\n",
      "Epoch 9/100\n",
      "300/300 [==============================] - 0s 106us/step - loss: 0.8820 - acc: 0.5533\n",
      "Epoch 10/100\n",
      "300/300 [==============================] - 0s 101us/step - loss: 0.9556 - acc: 0.5500\n",
      "Epoch 11/100\n",
      "300/300 [==============================] - 0s 100us/step - loss: 1.0875 - acc: 0.5267\n",
      "Epoch 12/100\n",
      "300/300 [==============================] - 0s 102us/step - loss: 0.9748 - acc: 0.5500\n",
      "Epoch 13/100\n",
      "300/300 [==============================] - 0s 103us/step - loss: 0.8763 - acc: 0.5833\n",
      "Epoch 14/100\n",
      "300/300 [==============================] - 0s 104us/step - loss: 0.7529 - acc: 0.6400\n",
      "Epoch 15/100\n",
      "300/300 [==============================] - 0s 106us/step - loss: 0.8955 - acc: 0.6200\n",
      "Epoch 16/100\n",
      "300/300 [==============================] - 0s 107us/step - loss: 0.8799 - acc: 0.5700\n",
      "Epoch 17/100\n",
      "300/300 [==============================] - 0s 103us/step - loss: 0.8426 - acc: 0.6467\n",
      "Epoch 18/100\n",
      "300/300 [==============================] - 0s 103us/step - loss: 0.8666 - acc: 0.5733\n",
      "Epoch 19/100\n",
      "300/300 [==============================] - 0s 104us/step - loss: 0.8263 - acc: 0.5500\n",
      "Epoch 20/100\n",
      "300/300 [==============================] - 0s 106us/step - loss: 0.7931 - acc: 0.6067\n",
      "Epoch 21/100\n",
      "300/300 [==============================] - 0s 102us/step - loss: 0.7274 - acc: 0.6367\n",
      "Epoch 22/100\n",
      "300/300 [==============================] - 0s 104us/step - loss: 0.6630 - acc: 0.6967\n",
      "Epoch 23/100\n",
      "300/300 [==============================] - 0s 107us/step - loss: 0.6995 - acc: 0.6500\n",
      "Epoch 24/100\n",
      "300/300 [==============================] - 0s 103us/step - loss: 0.7341 - acc: 0.6633\n",
      "Epoch 25/100\n",
      "300/300 [==============================] - 0s 108us/step - loss: 0.7889 - acc: 0.6200\n",
      "Epoch 26/100\n",
      "300/300 [==============================] - 0s 102us/step - loss: 0.7129 - acc: 0.6567\n",
      "Epoch 27/100\n",
      "300/300 [==============================] - 0s 105us/step - loss: 0.6310 - acc: 0.7100\n",
      "Epoch 28/100\n",
      "300/300 [==============================] - 0s 104us/step - loss: 0.6747 - acc: 0.6633\n",
      "Epoch 29/100\n",
      "300/300 [==============================] - 0s 102us/step - loss: 0.7186 - acc: 0.6667\n",
      "Epoch 30/100\n",
      "300/300 [==============================] - 0s 104us/step - loss: 0.6490 - acc: 0.7133\n",
      "Epoch 31/100\n",
      "300/300 [==============================] - 0s 102us/step - loss: 0.6499 - acc: 0.6867\n",
      "Epoch 32/100\n",
      "300/300 [==============================] - 0s 101us/step - loss: 0.5943 - acc: 0.7300\n",
      "Epoch 33/100\n",
      "300/300 [==============================] - 0s 96us/step - loss: 0.5953 - acc: 0.7733\n",
      "Epoch 34/100\n",
      "300/300 [==============================] - 0s 101us/step - loss: 0.6818 - acc: 0.6500\n",
      "Epoch 35/100\n",
      "300/300 [==============================] - 0s 102us/step - loss: 0.7073 - acc: 0.6767\n",
      "Epoch 36/100\n",
      "300/300 [==============================] - 0s 105us/step - loss: 0.7266 - acc: 0.6300\n",
      "Epoch 37/100\n",
      "300/300 [==============================] - 0s 104us/step - loss: 0.7221 - acc: 0.6567\n",
      "Epoch 38/100\n",
      "300/300 [==============================] - 0s 95us/step - loss: 0.7241 - acc: 0.6633\n",
      "Epoch 39/100\n",
      "300/300 [==============================] - 0s 101us/step - loss: 0.7431 - acc: 0.6600\n",
      "Epoch 40/100\n",
      "300/300 [==============================] - 0s 104us/step - loss: 0.7316 - acc: 0.6333\n",
      "Epoch 41/100\n",
      "300/300 [==============================] - 0s 105us/step - loss: 0.6205 - acc: 0.7133\n",
      "Epoch 42/100\n",
      "300/300 [==============================] - 0s 100us/step - loss: 0.5767 - acc: 0.7567\n",
      "Epoch 43/100\n",
      "300/300 [==============================] - 0s 102us/step - loss: 0.5419 - acc: 0.7767\n",
      "Epoch 44/100\n",
      "300/300 [==============================] - 0s 103us/step - loss: 0.5496 - acc: 0.7600\n",
      "Epoch 45/100\n",
      "300/300 [==============================] - 0s 101us/step - loss: 0.6835 - acc: 0.6633\n",
      "Epoch 46/100\n",
      "300/300 [==============================] - 0s 105us/step - loss: 0.6096 - acc: 0.6933\n",
      "Epoch 47/100\n",
      "300/300 [==============================] - 0s 106us/step - loss: 0.7990 - acc: 0.6033\n",
      "Epoch 48/100\n",
      "300/300 [==============================] - 0s 106us/step - loss: 0.6909 - acc: 0.6700\n",
      "Epoch 49/100\n",
      "300/300 [==============================] - 0s 100us/step - loss: 0.6237 - acc: 0.6567\n",
      "Epoch 50/100\n",
      "300/300 [==============================] - 0s 107us/step - loss: 0.6467 - acc: 0.6833\n",
      "Epoch 51/100\n",
      "300/300 [==============================] - 0s 105us/step - loss: 0.6670 - acc: 0.6800\n",
      "Epoch 52/100\n",
      "300/300 [==============================] - 0s 109us/step - loss: 0.5349 - acc: 0.7500\n",
      "Epoch 53/100\n",
      "300/300 [==============================] - 0s 104us/step - loss: 0.6636 - acc: 0.6633\n",
      "Epoch 54/100\n",
      "300/300 [==============================] - 0s 105us/step - loss: 0.6024 - acc: 0.7167\n",
      "Epoch 55/100\n",
      "300/300 [==============================] - 0s 106us/step - loss: 0.5703 - acc: 0.7300\n",
      "Epoch 56/100\n",
      "300/300 [==============================] - 0s 110us/step - loss: 0.6376 - acc: 0.6900\n",
      "Epoch 57/100\n",
      "300/300 [==============================] - 0s 104us/step - loss: 0.5484 - acc: 0.7267\n",
      "Epoch 58/100\n",
      "300/300 [==============================] - 0s 100us/step - loss: 0.5325 - acc: 0.7567\n",
      "Epoch 59/100\n",
      "300/300 [==============================] - 0s 109us/step - loss: 0.4834 - acc: 0.7700\n",
      "Epoch 60/100\n",
      "300/300 [==============================] - 0s 108us/step - loss: 0.5546 - acc: 0.7600\n",
      "Epoch 61/100\n",
      "300/300 [==============================] - 0s 110us/step - loss: 0.6542 - acc: 0.6800\n",
      "Epoch 62/100\n",
      "300/300 [==============================] - 0s 110us/step - loss: 0.4951 - acc: 0.7867\n",
      "Epoch 63/100\n",
      "300/300 [==============================] - 0s 104us/step - loss: 0.5644 - acc: 0.7200\n",
      "Epoch 64/100\n",
      "300/300 [==============================] - 0s 105us/step - loss: 0.5655 - acc: 0.7900\n",
      "Epoch 65/100\n",
      "300/300 [==============================] - 0s 110us/step - loss: 0.4655 - acc: 0.8267\n",
      "Epoch 66/100\n",
      "300/300 [==============================] - 0s 110us/step - loss: 0.4721 - acc: 0.8200\n",
      "Epoch 67/100\n",
      "300/300 [==============================] - 0s 112us/step - loss: 0.5146 - acc: 0.7400\n",
      "Epoch 68/100\n",
      "300/300 [==============================] - 0s 108us/step - loss: 0.4721 - acc: 0.8000\n",
      "Epoch 69/100\n",
      "300/300 [==============================] - 0s 106us/step - loss: 0.4954 - acc: 0.7633\n",
      "Epoch 70/100\n",
      "300/300 [==============================] - 0s 105us/step - loss: 0.4822 - acc: 0.7733\n",
      "Epoch 71/100\n",
      "300/300 [==============================] - 0s 103us/step - loss: 0.4497 - acc: 0.8400\n",
      "Epoch 72/100\n",
      "300/300 [==============================] - 0s 103us/step - loss: 0.5287 - acc: 0.7433\n",
      "Epoch 73/100\n",
      "300/300 [==============================] - 0s 105us/step - loss: 0.4342 - acc: 0.8267\n",
      "Epoch 74/100\n",
      "300/300 [==============================] - 0s 103us/step - loss: 0.5335 - acc: 0.7500\n",
      "Epoch 75/100\n",
      "300/300 [==============================] - 0s 106us/step - loss: 0.5002 - acc: 0.7700\n",
      "Epoch 76/100\n",
      "300/300 [==============================] - 0s 106us/step - loss: 0.5879 - acc: 0.6867\n",
      "Epoch 77/100\n",
      "300/300 [==============================] - 0s 110us/step - loss: 0.5209 - acc: 0.7400\n",
      "Epoch 78/100\n",
      "300/300 [==============================] - 0s 103us/step - loss: 0.4820 - acc: 0.7867\n",
      "Epoch 79/100\n",
      "300/300 [==============================] - 0s 106us/step - loss: 0.4644 - acc: 0.7733\n",
      "Epoch 80/100\n",
      "300/300 [==============================] - 0s 103us/step - loss: 0.4323 - acc: 0.8100\n",
      "Epoch 81/100\n",
      "300/300 [==============================] - 0s 103us/step - loss: 0.4685 - acc: 0.7700\n",
      "Epoch 82/100\n",
      "300/300 [==============================] - 0s 101us/step - loss: 0.5046 - acc: 0.7700\n",
      "Epoch 83/100\n",
      "300/300 [==============================] - 0s 106us/step - loss: 0.4367 - acc: 0.8433\n",
      "Epoch 84/100\n",
      "300/300 [==============================] - 0s 108us/step - loss: 0.4488 - acc: 0.7967\n",
      "Epoch 85/100\n",
      "300/300 [==============================] - 0s 104us/step - loss: 0.5573 - acc: 0.7067\n",
      "Epoch 86/100\n",
      "300/300 [==============================] - 0s 106us/step - loss: 0.4493 - acc: 0.8100\n",
      "Epoch 87/100\n",
      "300/300 [==============================] - 0s 104us/step - loss: 0.6012 - acc: 0.7233\n",
      "Epoch 88/100\n",
      "300/300 [==============================] - 0s 104us/step - loss: 0.6175 - acc: 0.6967\n",
      "Epoch 89/100\n",
      "300/300 [==============================] - 0s 110us/step - loss: 0.4566 - acc: 0.7700\n",
      "Epoch 90/100\n",
      "300/300 [==============================] - 0s 106us/step - loss: 0.4251 - acc: 0.8167\n",
      "Epoch 91/100\n",
      "300/300 [==============================] - 0s 104us/step - loss: 0.4437 - acc: 0.8233\n",
      "Epoch 92/100\n",
      "300/300 [==============================] - 0s 108us/step - loss: 0.4669 - acc: 0.8033\n",
      "Epoch 93/100\n",
      "300/300 [==============================] - 0s 106us/step - loss: 0.6313 - acc: 0.6967\n",
      "Epoch 94/100\n",
      "300/300 [==============================] - 0s 110us/step - loss: 0.5405 - acc: 0.7533\n",
      "Epoch 95/100\n",
      "300/300 [==============================] - 0s 105us/step - loss: 0.4659 - acc: 0.7700\n",
      "Epoch 96/100\n",
      "300/300 [==============================] - 0s 103us/step - loss: 0.5102 - acc: 0.7300\n",
      "Epoch 97/100\n",
      "300/300 [==============================] - 0s 113us/step - loss: 0.4618 - acc: 0.8100\n",
      "Epoch 98/100\n",
      "300/300 [==============================] - 0s 109us/step - loss: 0.3980 - acc: 0.8600\n",
      "Epoch 99/100\n",
      "300/300 [==============================] - 0s 103us/step - loss: 0.3894 - acc: 0.8867\n",
      "Epoch 100/100\n",
      "300/300 [==============================] - 0s 105us/step - loss: 0.5460 - acc: 0.7067\n"
     ]
    },
    {
     "data": {
      "text/plain": [
       "<keras.callbacks.History at 0x1fb02cc36a0>"
      ]
     },
     "execution_count": 17,
     "metadata": {},
     "output_type": "execute_result"
    }
   ],
   "source": [
    "model.fit(X_train, Y_train, epochs=100, batch_size=32)"
   ]
  },
  {
   "cell_type": "markdown",
   "metadata": {},
   "source": [
    "Let's evaluate our model on the test set :"
   ]
  },
  {
   "cell_type": "code",
   "execution_count": 18,
   "metadata": {},
   "outputs": [
    {
     "name": "stdout",
     "output_type": "stream",
     "text": [
      "300/300 [==============================] - 0s 178us/step\n",
      "Loss : 0.876325147151947\n",
      "Accuracy : 0.58\n"
     ]
    }
   ],
   "source": [
    "Loss, accuracy = model.evaluate(X_test, Y_test, batch_size=32)\n",
    "\n",
    "print(\"Loss : {}\".format(Loss))\n",
    "print(\"Accuracy : {}\".format(accuracy))"
   ]
  },
  {
   "cell_type": "markdown",
   "metadata": {},
   "source": [
    "### Building a convolutional network"
   ]
  },
  {
   "cell_type": "markdown",
   "metadata": {},
   "source": [
    "We notice that the performance is worse on the new dataset. We'll change the model and use a convolutional network.\n",
    "\n",
    "The architecture :\n",
    "  - Convolution with 3 by 3 filters, 8 feature maps + ReLU nonlinearity.\n",
    "  - 2 by 2 max pooling\n",
    "  - Convolution with 3 by 3 filter, 16 feature maps + ReLU nonlinearity.\n",
    "  - 2 by 2 max pooling\n",
    "  - Convolution with 3 by 3 filter, 32 feature maps + ReLU nonlinearity.\n",
    "  - 2 by 2 max pooling\n",
    "  - Flattening\n",
    "  - Linear layer with 3 outputs units + softmax"
   ]
  },
  {
   "cell_type": "code",
   "execution_count": 19,
   "metadata": {},
   "outputs": [],
   "source": [
    "from keras.models import Sequential\n",
    "from keras.layers import Dense, Activation, Conv2D, MaxPooling2D, Flatten\n",
    "from keras.optimizers import SGD\n",
    "from keras import utils as np_utils\n",
    "\n",
    "model = Sequential()\n",
    "model.add(Conv2D(8, kernel_size=(3, 3), activation='relu',input_shape=(72,72,1)))\n",
    "model.add(MaxPooling2D(pool_size=(2, 2), strides=(2, 2)))\n",
    "model.add(Conv2D(16, (3, 3), activation='relu'))\n",
    "model.add(MaxPooling2D(pool_size=(2, 2)))\n",
    "model.add(Conv2D(32, (3, 3), activation='relu'))\n",
    "model.add(MaxPooling2D(pool_size=(2, 2)))\n",
    "model.add(Flatten())\n",
    "model.add(Dense(3, activation='softmax'))\n",
    "\n",
    "adam = Adam(lr=0.001, beta_1=0.9, beta_2=0.999, epsilon=None, decay=0.0, amsgrad=False)\n",
    "\n",
    "model.compile(loss='categorical_crossentropy', optimizer=adam, metrics=['accuracy'])"
   ]
  },
  {
   "cell_type": "markdown",
   "metadata": {},
   "source": [
    "We reshape the train and test sets to fit the model"
   ]
  },
  {
   "cell_type": "code",
   "execution_count": 20,
   "metadata": {},
   "outputs": [],
   "source": [
    "X_train = X_train.reshape(-1,72,72,1)\n",
    "X_test = X_test.reshape(-1,72,72,1)"
   ]
  },
  {
   "cell_type": "markdown",
   "metadata": {},
   "source": [
    "Let's train now our model"
   ]
  },
  {
   "cell_type": "code",
   "execution_count": 21,
   "metadata": {},
   "outputs": [
    {
     "name": "stdout",
     "output_type": "stream",
     "text": [
      "Epoch 1/50\n",
      "300/300 [==============================] - 1s 4ms/step - loss: 1.0892 - acc: 0.4200\n",
      "Epoch 2/50\n",
      "300/300 [==============================] - 0s 265us/step - loss: 1.0604 - acc: 0.4667\n",
      "Epoch 3/50\n",
      "300/300 [==============================] - 0s 256us/step - loss: 1.0100 - acc: 0.5333\n",
      "Epoch 4/50\n",
      "300/300 [==============================] - 0s 265us/step - loss: 0.9317 - acc: 0.6167\n",
      "Epoch 5/50\n",
      "300/300 [==============================] - 0s 256us/step - loss: 0.8372 - acc: 0.6567\n",
      "Epoch 6/50\n",
      "300/300 [==============================] - 0s 256us/step - loss: 0.7734 - acc: 0.6733\n",
      "Epoch 7/50\n",
      "300/300 [==============================] - 0s 253us/step - loss: 0.7489 - acc: 0.6733\n",
      "Epoch 8/50\n",
      "300/300 [==============================] - 0s 253us/step - loss: 0.6667 - acc: 0.7433\n",
      "Epoch 9/50\n",
      "300/300 [==============================] - 0s 252us/step - loss: 0.6155 - acc: 0.7567\n",
      "Epoch 10/50\n",
      "300/300 [==============================] - 0s 253us/step - loss: 0.5564 - acc: 0.7767\n",
      "Epoch 11/50\n",
      "300/300 [==============================] - 0s 256us/step - loss: 0.4938 - acc: 0.8300\n",
      "Epoch 12/50\n",
      "300/300 [==============================] - 0s 254us/step - loss: 0.4443 - acc: 0.8633\n",
      "Epoch 13/50\n",
      "300/300 [==============================] - 0s 253us/step - loss: 0.3779 - acc: 0.8900\n",
      "Epoch 14/50\n",
      "300/300 [==============================] - 0s 253us/step - loss: 0.3303 - acc: 0.8833\n",
      "Epoch 15/50\n",
      "300/300 [==============================] - 0s 260us/step - loss: 0.2803 - acc: 0.9267\n",
      "Epoch 16/50\n",
      "300/300 [==============================] - 0s 256us/step - loss: 0.2539 - acc: 0.9233\n",
      "Epoch 17/50\n",
      "300/300 [==============================] - 0s 253us/step - loss: 0.2129 - acc: 0.9367\n",
      "Epoch 18/50\n",
      "300/300 [==============================] - 0s 256us/step - loss: 0.1803 - acc: 0.9467\n",
      "Epoch 19/50\n",
      "300/300 [==============================] - 0s 257us/step - loss: 0.1629 - acc: 0.9500\n",
      "Epoch 20/50\n",
      "300/300 [==============================] - 0s 256us/step - loss: 0.1401 - acc: 0.9600\n",
      "Epoch 21/50\n",
      "300/300 [==============================] - 0s 253us/step - loss: 0.1112 - acc: 0.9767\n",
      "Epoch 22/50\n",
      "300/300 [==============================] - 0s 251us/step - loss: 0.1011 - acc: 0.9733\n",
      "Epoch 23/50\n",
      "300/300 [==============================] - 0s 258us/step - loss: 0.0928 - acc: 0.9833\n",
      "Epoch 24/50\n",
      "300/300 [==============================] - 0s 256us/step - loss: 0.0911 - acc: 0.9733\n",
      "Epoch 25/50\n",
      "300/300 [==============================] - 0s 252us/step - loss: 0.0714 - acc: 0.9900\n",
      "Epoch 26/50\n",
      "300/300 [==============================] - 0s 274us/step - loss: 0.0682 - acc: 0.9900\n",
      "Epoch 27/50\n",
      "300/300 [==============================] - 0s 253us/step - loss: 0.0691 - acc: 0.9933\n",
      "Epoch 28/50\n",
      "300/300 [==============================] - 0s 249us/step - loss: 0.0532 - acc: 0.9967\n",
      "Epoch 29/50\n",
      "300/300 [==============================] - 0s 256us/step - loss: 0.0491 - acc: 0.9933\n",
      "Epoch 30/50\n",
      "300/300 [==============================] - 0s 258us/step - loss: 0.0559 - acc: 0.9933\n",
      "Epoch 31/50\n",
      "300/300 [==============================] - 0s 253us/step - loss: 0.0556 - acc: 0.9867\n",
      "Epoch 32/50\n",
      "300/300 [==============================] - 0s 251us/step - loss: 0.0356 - acc: 0.9967\n",
      "Epoch 33/50\n",
      "300/300 [==============================] - 0s 256us/step - loss: 0.0322 - acc: 0.9967\n",
      "Epoch 34/50\n",
      "300/300 [==============================] - 0s 257us/step - loss: 0.0321 - acc: 0.9967\n",
      "Epoch 35/50\n",
      "300/300 [==============================] - 0s 253us/step - loss: 0.0259 - acc: 1.0000\n",
      "Epoch 36/50\n",
      "300/300 [==============================] - 0s 261us/step - loss: 0.0207 - acc: 1.0000\n",
      "Epoch 37/50\n",
      "300/300 [==============================] - 0s 256us/step - loss: 0.0203 - acc: 1.0000\n",
      "Epoch 38/50\n",
      "300/300 [==============================] - 0s 256us/step - loss: 0.0200 - acc: 1.0000\n",
      "Epoch 39/50\n",
      "300/300 [==============================] - 0s 253us/step - loss: 0.0168 - acc: 1.0000\n",
      "Epoch 40/50\n",
      "300/300 [==============================] - 0s 269us/step - loss: 0.0152 - acc: 1.0000\n",
      "Epoch 41/50\n",
      "300/300 [==============================] - 0s 253us/step - loss: 0.0132 - acc: 1.0000\n",
      "Epoch 42/50\n",
      "300/300 [==============================] - 0s 256us/step - loss: 0.0136 - acc: 1.0000\n",
      "Epoch 43/50\n",
      "300/300 [==============================] - 0s 257us/step - loss: 0.0152 - acc: 1.0000\n",
      "Epoch 44/50\n",
      "300/300 [==============================] - 0s 253us/step - loss: 0.0120 - acc: 1.0000\n",
      "Epoch 45/50\n",
      "300/300 [==============================] - 0s 257us/step - loss: 0.0112 - acc: 1.0000\n",
      "Epoch 46/50\n",
      "300/300 [==============================] - 0s 253us/step - loss: 0.0104 - acc: 1.0000\n",
      "Epoch 47/50\n",
      "300/300 [==============================] - 0s 256us/step - loss: 0.0095 - acc: 1.0000\n",
      "Epoch 48/50\n",
      "300/300 [==============================] - 0s 253us/step - loss: 0.0084 - acc: 1.0000\n",
      "Epoch 49/50\n",
      "300/300 [==============================] - 0s 256us/step - loss: 0.0081 - acc: 1.0000\n",
      "Epoch 50/50\n",
      "300/300 [==============================] - 0s 256us/step - loss: 0.0082 - acc: 1.0000\n"
     ]
    },
    {
     "data": {
      "text/plain": [
       "<keras.callbacks.History at 0x1fa1ff04a90>"
      ]
     },
     "execution_count": 21,
     "metadata": {},
     "output_type": "execute_result"
    }
   ],
   "source": [
    "model.fit(X_train, Y_train, epochs=50, batch_size=32)"
   ]
  },
  {
   "cell_type": "markdown",
   "metadata": {},
   "source": [
    "Let's evaluate it using the test set"
   ]
  },
  {
   "cell_type": "code",
   "execution_count": 22,
   "metadata": {},
   "outputs": [
    {
     "name": "stdout",
     "output_type": "stream",
     "text": [
      "300/300 [==============================] - 0s 292us/step\n",
      "Loss : 0.3989764332771301\n",
      "Accuracy : 0.8799999992052714\n"
     ]
    }
   ],
   "source": [
    "ConvLoss, Conv_accuracy = model.evaluate(X_test, Y_test, batch_size=32)\n",
    "\n",
    "print(\"Loss : {}\".format(ConvLoss))\n",
    "print(\"Accuracy : {}\".format(Conv_accuracy))"
   ]
  },
  {
   "cell_type": "markdown",
   "metadata": {},
   "source": [
    "We clearly see that the convolutional network performs much better than the simple fully connected architecture. Indeed, the CNN extracts features before performing a classification with a fully connected layer, which explains their performance."
   ]
  },
  {
   "cell_type": "markdown",
   "metadata": {},
   "source": [
    "# Regression Problem"
   ]
  },
  {
   "cell_type": "markdown",
   "metadata": {},
   "source": [
    "The task now is to predict the image locations of the vertices of a triangle, given an image of this triangle.\n",
    "\n",
    "We'll generate 300 triangles for each of the training and test set, knowing the location of the vertices."
   ]
  },
  {
   "cell_type": "code",
   "execution_count": 23,
   "metadata": {},
   "outputs": [
    {
     "name": "stdout",
     "output_type": "stream",
     "text": [
      "Creating data.. Done\n",
      "Creating data.. Done\n"
     ]
    }
   ],
   "source": [
    "[X_train, Y_train] = generate_dataset_regression(1000, 20)\n",
    "[X_test, Y_test] = generate_test_set_regression()"
   ]
  },
  {
   "cell_type": "markdown",
   "metadata": {},
   "source": [
    "We can visualize what the data looks like :"
   ]
  },
  {
   "cell_type": "code",
   "execution_count": 24,
   "metadata": {},
   "outputs": [
    {
     "data": {
      "image/png": "[encoded data removed]",
      "text/plain": [
       "<Figure size 360x360 with 1 Axes>"
      ]
     },
     "metadata": {
      "needs_background": "light"
     },
     "output_type": "display_data"
    }
   ],
   "source": [
    "i=np.random.randint(X_train.shape[0])\n",
    "visualize_prediction(X_train[i], Y_train[i])"
   ]
  },
  {
   "cell_type": "markdown",
   "metadata": {},
   "source": [
    "We sort the labels by the norm of the vertices for each triangle to give a certain meaning for our label"
   ]
  },
  {
   "cell_type": "code",
   "execution_count": 25,
   "metadata": {},
   "outputs": [],
   "source": [
    "def sort_norm(Y):\n",
    "    a=np.argsort(np.linalg.norm(Y.reshape(-1,3,2),axis=2),axis=1)\n",
    "    Y_=Y.reshape(-1,3,2)\n",
    "    for i in range(Y.shape[0]):\n",
    "        Y_[i]=Y_[i][a[i]]\n",
    "    return Y_.reshape(Y.shape)"
   ]
  },
  {
   "cell_type": "code",
   "execution_count": 26,
   "metadata": {},
   "outputs": [],
   "source": [
    "Y_train_sorted = sort_norm(Y_train)\n",
    "Y_test_sorted = sort_norm(Y_test)"
   ]
  },
  {
   "cell_type": "markdown",
   "metadata": {},
   "source": [
    "We then center the data and labels to ease the convergence :"
   ]
  },
  {
   "cell_type": "code",
   "execution_count": 27,
   "metadata": {},
   "outputs": [],
   "source": [
    "X_train = X_train - 0.5\n",
    "Y_train_sorted = Y_train_sorted - 0.5 \n",
    "\n",
    "X_test = X_test - 0.5\n",
    "Y_test_sorted = Y_test_sorted - 0.5"
   ]
  },
  {
   "cell_type": "code",
   "execution_count": 28,
   "metadata": {},
   "outputs": [],
   "source": [
    "# from sklearn.preprocessing import StandardScaler\n",
    "\n",
    "# scaler_train = StandardScaler()\n",
    "# scaler.fit_transform()"
   ]
  },
  {
   "cell_type": "markdown",
   "metadata": {},
   "source": [
    "We'll use this following model :"
   ]
  },
  {
   "cell_type": "code",
   "execution_count": 29,
   "metadata": {},
   "outputs": [],
   "source": [
    "model = Sequential()\n",
    "model.add(Conv2D(8, kernel_size=(5, 5), activation='relu',input_shape=(72,72,1)))\n",
    "model.add(MaxPooling2D(pool_size=(2, 2), strides=(2, 2)))\n",
    "model.add(Conv2D(16, (5, 5), activation='relu'))\n",
    "model.add(MaxPooling2D(pool_size=(2, 2)))\n",
    "model.add(Conv2D(32, (5, 5), activation='relu'))\n",
    "model.add(MaxPooling2D(pool_size=(2, 2)))\n",
    "model.add(Conv2D(64, (5, 5), activation='relu', padding='same'))\n",
    "model.add(MaxPooling2D(pool_size=(2, 2)))\n",
    "model.add(Conv2D(128, (5, 5), activation='relu', padding='same'))\n",
    "model.add(MaxPooling2D(pool_size=(2, 2)))\n",
    "model.add(Flatten())\n",
    "#model.add(Dense(512, activation='relu'))\n",
    "model.add(Dense(6, activation='linear'))\n",
    "\n",
    "adam = Adam(lr=0.001, beta_1=0.9, beta_2=0.999, epsilon=None, decay=1e-6, amsgrad=True)\n",
    "sgd = SGD(lr=0.001, decay=1e-6, momentum=0.5, nesterov=True)\n",
    "\n",
    "model.compile(loss=\"mean_absolute_error\", optimizer=adam)"
   ]
  },
  {
   "cell_type": "code",
   "execution_count": 30,
   "metadata": {},
   "outputs": [
    {
     "name": "stdout",
     "output_type": "stream",
     "text": [
      "_________________________________________________________________\n",
      "Layer (type)                 Output Shape              Param #   \n",
      "=================================================================\n",
      "conv2d_4 (Conv2D)            (None, 68, 68, 8)         208       \n",
      "_________________________________________________________________\n",
      "max_pooling2d_4 (MaxPooling2 (None, 34, 34, 8)         0         \n",
      "_________________________________________________________________\n",
      "conv2d_5 (Conv2D)            (None, 30, 30, 16)        3216      \n",
      "_________________________________________________________________\n",
      "max_pooling2d_5 (MaxPooling2 (None, 15, 15, 16)        0         \n",
      "_________________________________________________________________\n",
      "conv2d_6 (Conv2D)            (None, 11, 11, 32)        12832     \n",
      "_________________________________________________________________\n",
      "max_pooling2d_6 (MaxPooling2 (None, 5, 5, 32)          0         \n",
      "_________________________________________________________________\n",
      "conv2d_7 (Conv2D)            (None, 5, 5, 64)          51264     \n",
      "_________________________________________________________________\n",
      "max_pooling2d_7 (MaxPooling2 (None, 2, 2, 64)          0         \n",
      "_________________________________________________________________\n",
      "conv2d_8 (Conv2D)            (None, 2, 2, 128)         204928    \n",
      "_________________________________________________________________\n",
      "max_pooling2d_8 (MaxPooling2 (None, 1, 1, 128)         0         \n",
      "_________________________________________________________________\n",
      "flatten_2 (Flatten)          (None, 128)               0         \n",
      "_________________________________________________________________\n",
      "dense_5 (Dense)              (None, 6)                 774       \n",
      "=================================================================\n",
      "Total params: 273,222\n",
      "Trainable params: 273,222\n",
      "Non-trainable params: 0\n",
      "_________________________________________________________________\n"
     ]
    }
   ],
   "source": [
    "model.summary()"
   ]
  },
  {
   "cell_type": "markdown",
   "metadata": {},
   "source": [
    "We reshape the train and test sets to fit the model"
   ]
  },
  {
   "cell_type": "code",
   "execution_count": 31,
   "metadata": {},
   "outputs": [],
   "source": [
    "X_train = X_train.reshape(-1,72,72,1)\n",
    "X_test = X_test.reshape(-1,72,72,1)"
   ]
  },
  {
   "cell_type": "markdown",
   "metadata": {},
   "source": [
    "Everything being set, let's train the model :"
   ]
  },
  {
   "cell_type": "code",
   "execution_count": 32,
   "metadata": {},
   "outputs": [
    {
     "name": "stdout",
     "output_type": "stream",
     "text": [
      "Train on 1000 samples, validate on 300 samples\n",
      "Epoch 1/100\n",
      "1000/1000 [==============================] - 1s 839us/step - loss: 0.1874 - val_loss: 0.1643\n",
      "Epoch 2/100\n",
      "1000/1000 [==============================] - 0s 369us/step - loss: 0.1358 - val_loss: 0.1384\n",
      "Epoch 3/100\n",
      "1000/1000 [==============================] - 0s 367us/step - loss: 0.1149 - val_loss: 0.1167\n",
      "Epoch 4/100\n",
      "1000/1000 [==============================] - 0s 365us/step - loss: 0.0980 - val_loss: 0.1037\n",
      "Epoch 5/100\n",
      "1000/1000 [==============================] - 0s 370us/step - loss: 0.0887 - val_loss: 0.0990\n",
      "Epoch 6/100\n",
      "1000/1000 [==============================] - 0s 367us/step - loss: 0.0812 - val_loss: 0.0916\n",
      "Epoch 7/100\n",
      "1000/1000 [==============================] - 0s 389us/step - loss: 0.0780 - val_loss: 0.0925\n",
      "Epoch 8/100\n",
      "1000/1000 [==============================] - 0s 383us/step - loss: 0.0720 - val_loss: 0.0866\n",
      "Epoch 9/100\n",
      "1000/1000 [==============================] - 0s 370us/step - loss: 0.0672 - val_loss: 0.0853\n",
      "Epoch 10/100\n",
      "1000/1000 [==============================] - 0s 369us/step - loss: 0.0651 - val_loss: 0.0864\n",
      "Epoch 11/100\n",
      "1000/1000 [==============================] - 0s 368us/step - loss: 0.0603 - val_loss: 0.0814\n",
      "Epoch 12/100\n",
      "1000/1000 [==============================] - 0s 367us/step - loss: 0.0540 - val_loss: 0.0789\n",
      "Epoch 13/100\n",
      "1000/1000 [==============================] - 0s 370us/step - loss: 0.0512 - val_loss: 0.0796\n",
      "Epoch 14/100\n",
      "1000/1000 [==============================] - 0s 370us/step - loss: 0.0471 - val_loss: 0.0750\n",
      "Epoch 15/100\n",
      "1000/1000 [==============================] - 0s 377us/step - loss: 0.0438 - val_loss: 0.0773\n",
      "Epoch 16/100\n",
      "1000/1000 [==============================] - 0s 369us/step - loss: 0.0415 - val_loss: 0.0758\n",
      "Epoch 17/100\n",
      "1000/1000 [==============================] - 0s 368us/step - loss: 0.0435 - val_loss: 0.0747\n",
      "Epoch 18/100\n",
      "1000/1000 [==============================] - 0s 383us/step - loss: 0.0394 - val_loss: 0.0768\n",
      "Epoch 19/100\n",
      "1000/1000 [==============================] - 0s 368us/step - loss: 0.0367 - val_loss: 0.0745\n",
      "Epoch 20/100\n",
      "1000/1000 [==============================] - 0s 381us/step - loss: 0.0340 - val_loss: 0.0731\n",
      "Epoch 21/100\n",
      "1000/1000 [==============================] - 0s 369us/step - loss: 0.0331 - val_loss: 0.0703\n",
      "Epoch 22/100\n",
      "1000/1000 [==============================] - 0s 369us/step - loss: 0.0315 - val_loss: 0.0704\n",
      "Epoch 23/100\n",
      "1000/1000 [==============================] - 0s 380us/step - loss: 0.0292 - val_loss: 0.0698\n",
      "Epoch 24/100\n",
      "1000/1000 [==============================] - 0s 382us/step - loss: 0.0288 - val_loss: 0.0712\n",
      "Epoch 25/100\n",
      "1000/1000 [==============================] - 0s 383us/step - loss: 0.0277 - val_loss: 0.0699\n",
      "Epoch 26/100\n",
      "1000/1000 [==============================] - 0s 369us/step - loss: 0.0264 - val_loss: 0.0698\n",
      "Epoch 27/100\n",
      "1000/1000 [==============================] - 0s 366us/step - loss: 0.0272 - val_loss: 0.0708\n",
      "Epoch 28/100\n",
      "1000/1000 [==============================] - 0s 368us/step - loss: 0.0257 - val_loss: 0.0698\n",
      "Epoch 29/100\n",
      "1000/1000 [==============================] - 0s 368us/step - loss: 0.0246 - val_loss: 0.0688\n",
      "Epoch 30/100\n",
      "1000/1000 [==============================] - 0s 372us/step - loss: 0.0219 - val_loss: 0.0674\n",
      "Epoch 31/100\n",
      "1000/1000 [==============================] - 0s 367us/step - loss: 0.0235 - val_loss: 0.0702\n",
      "Epoch 32/100\n",
      "1000/1000 [==============================] - 0s 375us/step - loss: 0.0244 - val_loss: 0.0714\n",
      "Epoch 33/100\n",
      "1000/1000 [==============================] - 0s 374us/step - loss: 0.0252 - val_loss: 0.0712\n",
      "Epoch 34/100\n",
      "1000/1000 [==============================] - 0s 371us/step - loss: 0.0242 - val_loss: 0.0695\n",
      "Epoch 35/100\n",
      "1000/1000 [==============================] - 0s 371us/step - loss: 0.0208 - val_loss: 0.0699\n",
      "Epoch 36/100\n",
      "1000/1000 [==============================] - 0s 383us/step - loss: 0.0213 - val_loss: 0.0686\n",
      "Epoch 37/100\n",
      "1000/1000 [==============================] - 0s 373us/step - loss: 0.0207 - val_loss: 0.0712\n",
      "Epoch 38/100\n",
      "1000/1000 [==============================] - 0s 368us/step - loss: 0.0222 - val_loss: 0.0679\n",
      "Epoch 39/100\n",
      "1000/1000 [==============================] - 0s 367us/step - loss: 0.0202 - val_loss: 0.0696\n",
      "Epoch 40/100\n",
      "1000/1000 [==============================] - 0s 372us/step - loss: 0.0198 - val_loss: 0.0678\n",
      "Epoch 41/100\n",
      "1000/1000 [==============================] - 0s 371us/step - loss: 0.0180 - val_loss: 0.0677\n",
      "Epoch 42/100\n",
      "1000/1000 [==============================] - 0s 369us/step - loss: 0.0181 - val_loss: 0.0676\n",
      "Epoch 43/100\n",
      "1000/1000 [==============================] - 0s 368us/step - loss: 0.0190 - val_loss: 0.0676\n",
      "Epoch 44/100\n",
      "1000/1000 [==============================] - 0s 369us/step - loss: 0.0183 - val_loss: 0.0683\n",
      "Epoch 45/100\n",
      "1000/1000 [==============================] - 0s 375us/step - loss: 0.0194 - val_loss: 0.0675\n",
      "Epoch 46/100\n",
      "1000/1000 [==============================] - 0s 368us/step - loss: 0.0179 - val_loss: 0.0677\n",
      "Epoch 47/100\n",
      "1000/1000 [==============================] - 0s 370us/step - loss: 0.0182 - val_loss: 0.0678\n",
      "Epoch 48/100\n",
      "1000/1000 [==============================] - 0s 373us/step - loss: 0.0169 - val_loss: 0.0688\n",
      "Epoch 49/100\n",
      "1000/1000 [==============================] - 0s 389us/step - loss: 0.0180 - val_loss: 0.0675\n",
      "Epoch 50/100\n",
      "1000/1000 [==============================] - 0s 374us/step - loss: 0.0162 - val_loss: 0.0672\n",
      "Epoch 51/100\n",
      "1000/1000 [==============================] - 0s 368us/step - loss: 0.0167 - val_loss: 0.0672\n",
      "Epoch 52/100\n",
      "1000/1000 [==============================] - 0s 371us/step - loss: 0.0173 - val_loss: 0.0671\n",
      "Epoch 53/100\n",
      "1000/1000 [==============================] - 0s 367us/step - loss: 0.0166 - val_loss: 0.0664\n",
      "Epoch 54/100\n",
      "1000/1000 [==============================] - 0s 368us/step - loss: 0.0162 - val_loss: 0.0696\n",
      "Epoch 55/100\n",
      "1000/1000 [==============================] - 0s 369us/step - loss: 0.0180 - val_loss: 0.0688\n",
      "Epoch 56/100\n",
      "1000/1000 [==============================] - 0s 386us/step - loss: 0.0163 - val_loss: 0.0662\n",
      "Epoch 57/100\n",
      "1000/1000 [==============================] - 0s 372us/step - loss: 0.0150 - val_loss: 0.0670\n",
      "Epoch 58/100\n",
      "1000/1000 [==============================] - 0s 371us/step - loss: 0.0163 - val_loss: 0.0683\n",
      "Epoch 59/100\n",
      "1000/1000 [==============================] - 0s 366us/step - loss: 0.0161 - val_loss: 0.0670\n",
      "Epoch 60/100\n",
      "1000/1000 [==============================] - 0s 372us/step - loss: 0.0151 - val_loss: 0.0674\n",
      "Epoch 61/100\n",
      "1000/1000 [==============================] - 0s 385us/step - loss: 0.0162 - val_loss: 0.0677\n",
      "Epoch 62/100\n",
      "1000/1000 [==============================] - 0s 386us/step - loss: 0.0164 - val_loss: 0.0668\n",
      "Epoch 63/100\n",
      "1000/1000 [==============================] - 0s 370us/step - loss: 0.0153 - val_loss: 0.0673\n",
      "Epoch 64/100\n",
      "1000/1000 [==============================] - 0s 368us/step - loss: 0.0143 - val_loss: 0.0668\n",
      "Epoch 65/100\n",
      "1000/1000 [==============================] - 0s 365us/step - loss: 0.0147 - val_loss: 0.0674\n",
      "Epoch 66/100\n",
      "1000/1000 [==============================] - 0s 380us/step - loss: 0.0143 - val_loss: 0.0662\n",
      "Epoch 67/100\n",
      "1000/1000 [==============================] - 0s 383us/step - loss: 0.0148 - val_loss: 0.0681\n",
      "Epoch 68/100\n",
      "1000/1000 [==============================] - 0s 383us/step - loss: 0.0151 - val_loss: 0.0674\n",
      "Epoch 69/100\n",
      "1000/1000 [==============================] - 0s 375us/step - loss: 0.0148 - val_loss: 0.0670\n",
      "Epoch 70/100\n",
      "1000/1000 [==============================] - 0s 389us/step - loss: 0.0147 - val_loss: 0.0672\n",
      "Epoch 71/100\n",
      "1000/1000 [==============================] - 0s 389us/step - loss: 0.0136 - val_loss: 0.0671\n",
      "Epoch 72/100\n",
      "1000/1000 [==============================] - 0s 367us/step - loss: 0.0140 - val_loss: 0.0671\n",
      "Epoch 73/100\n",
      "1000/1000 [==============================] - 0s 380us/step - loss: 0.0132 - val_loss: 0.0664\n",
      "Epoch 74/100\n",
      "1000/1000 [==============================] - 0s 379us/step - loss: 0.0129 - val_loss: 0.0666\n",
      "Epoch 75/100\n",
      "1000/1000 [==============================] - 0s 375us/step - loss: 0.0137 - val_loss: 0.0661\n",
      "Epoch 76/100\n",
      "1000/1000 [==============================] - 0s 380us/step - loss: 0.0128 - val_loss: 0.0667\n",
      "Epoch 77/100\n",
      "1000/1000 [==============================] - 0s 379us/step - loss: 0.0138 - val_loss: 0.0652\n",
      "Epoch 78/100\n",
      "1000/1000 [==============================] - 0s 373us/step - loss: 0.0136 - val_loss: 0.0667\n",
      "Epoch 79/100\n",
      "1000/1000 [==============================] - 0s 373us/step - loss: 0.0133 - val_loss: 0.0664\n",
      "Epoch 80/100\n",
      "1000/1000 [==============================] - 0s 371us/step - loss: 0.0128 - val_loss: 0.0670\n",
      "Epoch 81/100\n",
      "1000/1000 [==============================] - 0s 383us/step - loss: 0.0144 - val_loss: 0.0664\n",
      "Epoch 82/100\n",
      "1000/1000 [==============================] - 0s 372us/step - loss: 0.0123 - val_loss: 0.0676\n",
      "Epoch 83/100\n",
      "1000/1000 [==============================] - 0s 371us/step - loss: 0.0133 - val_loss: 0.0663\n",
      "Epoch 84/100\n",
      "1000/1000 [==============================] - 0s 372us/step - loss: 0.0136 - val_loss: 0.0673\n",
      "Epoch 85/100\n",
      "1000/1000 [==============================] - 0s 370us/step - loss: 0.0125 - val_loss: 0.0667\n",
      "Epoch 86/100\n",
      "1000/1000 [==============================] - 0s 374us/step - loss: 0.0123 - val_loss: 0.0658\n",
      "Epoch 87/100\n",
      "1000/1000 [==============================] - 0s 373us/step - loss: 0.0128 - val_loss: 0.0664\n",
      "Epoch 88/100\n",
      "1000/1000 [==============================] - 0s 372us/step - loss: 0.0125 - val_loss: 0.0658\n",
      "Epoch 89/100\n",
      "1000/1000 [==============================] - 0s 374us/step - loss: 0.0132 - val_loss: 0.0658\n",
      "Epoch 90/100\n",
      "1000/1000 [==============================] - 0s 372us/step - loss: 0.0136 - val_loss: 0.0653\n",
      "Epoch 91/100\n",
      "1000/1000 [==============================] - 0s 372us/step - loss: 0.0124 - val_loss: 0.0663\n",
      "Epoch 92/100\n",
      "1000/1000 [==============================] - 0s 372us/step - loss: 0.0130 - val_loss: 0.0663\n",
      "Epoch 93/100\n",
      "1000/1000 [==============================] - 0s 383us/step - loss: 0.0128 - val_loss: 0.0661\n",
      "Epoch 94/100\n",
      "1000/1000 [==============================] - 0s 380us/step - loss: 0.0121 - val_loss: 0.0658\n",
      "Epoch 95/100\n",
      "1000/1000 [==============================] - 0s 383us/step - loss: 0.0118 - val_loss: 0.0653\n",
      "Epoch 96/100\n",
      "1000/1000 [==============================] - 0s 384us/step - loss: 0.0125 - val_loss: 0.0649\n",
      "Epoch 97/100\n",
      "1000/1000 [==============================] - 0s 385us/step - loss: 0.0116 - val_loss: 0.0659\n",
      "Epoch 98/100\n",
      "1000/1000 [==============================] - 0s 372us/step - loss: 0.0122 - val_loss: 0.0652\n",
      "Epoch 99/100\n",
      "1000/1000 [==============================] - 0s 379us/step - loss: 0.0115 - val_loss: 0.0672\n",
      "Epoch 100/100\n",
      "1000/1000 [==============================] - 0s 373us/step - loss: 0.0117 - val_loss: 0.0657\n"
     ]
    },
    {
     "data": {
      "text/plain": [
       "<keras.callbacks.History at 0x1fb09d9f390>"
      ]
     },
     "execution_count": 32,
     "metadata": {},
     "output_type": "execute_result"
    }
   ],
   "source": [
    "model.fit(X_train, Y_train_sorted, epochs=100, batch_size=32, validation_data=(X_test,Y_test_sorted))"
   ]
  },
  {
   "cell_type": "code",
   "execution_count": 33,
   "metadata": {},
   "outputs": [],
   "source": [
    "Y_test_pred=model.predict(X_test)\n",
    "Y_train_pred=model.predict(X_train)"
   ]
  },
  {
   "cell_type": "code",
   "execution_count": null,
   "metadata": {},
   "outputs": [],
   "source": []
  },
  {
   "cell_type": "markdown",
   "metadata": {},
   "source": [
    "We "
   ]
  },
  {
   "cell_type": "code",
   "execution_count": 34,
   "metadata": {},
   "outputs": [
    {
     "data": {
      "image/png": "[encoded data removed]",
      "text/plain": [
       "<Figure size 720x360 with 2 Axes>"
      ]
     },
     "metadata": {
      "needs_background": "light"
     },
     "output_type": "display_data"
    }
   ],
   "source": [
    "i=np.random.randint(300)\n",
    "\n",
    "visualize_predictions(X_train[i]+0.5, Y_train_sorted[i]+0.5, Y_train_pred[i]+0.5)"
   ]
  },
  {
   "cell_type": "code",
   "execution_count": 35,
   "metadata": {},
   "outputs": [
    {
     "data": {
      "image/png": "[encoded data removed]",
      "text/plain": [
       "<Figure size 720x360 with 2 Axes>"
      ]
     },
     "metadata": {
      "needs_background": "light"
     },
     "output_type": "display_data"
    }
   ],
   "source": [
    "i=np.random.randint(300)\n",
    "\n",
    "visualize_predictions(X_test[i]+0.5, Y_test_sorted[i]+0.5, Y_test_pred[i]+0.5)"
   ]
  },
  {
   "cell_type": "markdown",
   "metadata": {},
   "source": [
    "# Image Denoising"
   ]
  },
  {
   "cell_type": "markdown",
   "metadata": {},
   "source": [
    "We modifiy the code to generate pairs of images where one image has noise with random amplitude, and the second image has the same content but without noise."
   ]
  },
  {
   "cell_type": "code",
   "execution_count": 36,
   "metadata": {},
   "outputs": [],
   "source": [
    "def generate_dataset_denoising(nb_samples, noise=50, free_location=False):\n",
    "    # Getting im_size:\n",
    "    im_size = generate_a_rectangle().shape[0]\n",
    "    X_clear = np.zeros([nb_samples,im_size])\n",
    "    X_noise = np.zeros([nb_samples,im_size])\n",
    "    print('Creating data',end=\".. \")\n",
    "    for i in range(nb_samples):\n",
    "        rng = np.random.randint(9999)\n",
    "        category = np.random.randint(3)\n",
    "        if noise>0: rand_noise = np.random.randint(noise)\n",
    "        else: rand_noise=noise\n",
    "        if category == 0:\n",
    "            X_clear[i] = generate_a_rectangle_seed(np.random.RandomState(rng), 0, free_location)\n",
    "            X_noise[i] = generate_a_rectangle_seed(np.random.RandomState(rng), rand_noise, free_location) \n",
    "        elif category == 1: \n",
    "            X_clear[i] = generate_a_disk_seed(np.random.RandomState(rng), 0, free_location)\n",
    "            X_noise[i] = generate_a_disk_seed(np.random.RandomState(rng), rand_noise, free_location)\n",
    "        else:\n",
    "            [X_clear[i], V] = generate_a_triangle_seed(np.random.RandomState(rng), 0, free_location)\n",
    "            [X_noise[i], V] = generate_a_triangle_seed(np.random.RandomState(rng), rand_noise, free_location)\n",
    "                   \n",
    "        X_noise[i] = (X_noise[i] + rand_noise) / (255 + 2 * rand_noise)\n",
    "   \n",
    "    X_clear = X_clear / 255 \n",
    "    print(\"Done\")\n",
    "    return [X_clear, X_noise]\n",
    "\n",
    "def generate_a_rectangle_seed(rng, noise=0.0, free_location=False):\n",
    "    figsize = 1.0    \n",
    "    U = np.zeros(4)\n",
    "    V = np.zeros(4)\n",
    "    if free_location:\n",
    "        corners = rng.uniform(4)\n",
    "        top = max(corners[0], corners[1])\n",
    "        bottom = min(corners[0], corners[1])\n",
    "        left = min(corners[2], corners[3])\n",
    "        right = max(corners[2], corners[3])\n",
    "    else:\n",
    "        side = (0.3 + 0.7 * rng.uniform()) * figsize\n",
    "        top = figsize/2 + side/2\n",
    "        bottom = figsize/2 - side/2\n",
    "        left = bottom\n",
    "        right = top\n",
    "    U[0] = U[1] = top\n",
    "    U[2] = U[3] = bottom\n",
    "    V[0] = V[3] = left\n",
    "    V[1] = V[2] = right\n",
    "    return generate_a_drawing(figsize, U, V, noise)\n",
    "\n",
    "\n",
    "def generate_a_disk_seed(rng, noise=0.0, free_location=False):\n",
    "    figsize = 1.0\n",
    "    if free_location:\n",
    "        center = rng.random(2)\n",
    "    else:\n",
    "        center = (figsize/2, figsize/2)\n",
    "    radius = (0.3 + 0.7 * rng.uniform()) * figsize/2\n",
    "    N = 50\n",
    "    U = np.zeros(N)\n",
    "    V = np.zeros(N)\n",
    "    i = 0\n",
    "    for t in np.linspace(0, 2*np.pi, N):\n",
    "        U[i] = center[0] + np.cos(t) * radius\n",
    "        V[i] = center[1] + np.sin(t) * radius\n",
    "        i = i + 1\n",
    "    return generate_a_drawing(figsize, U, V, noise)\n",
    "\n",
    "def generate_a_triangle_seed(rng, noise=0.0, free_location=False):\n",
    "    figsize = 1.0\n",
    "    if free_location:\n",
    "        U = rng.random(3)\n",
    "        V = rng.random(3)\n",
    "    else:\n",
    "        size = (0.3 + 0.7 * rng.uniform())*figsize/2\n",
    "        middle = figsize/2\n",
    "        U = (middle, middle+size, middle-size)\n",
    "        V = (middle+size, middle-size, middle-size)\n",
    "    imdata = generate_a_drawing(figsize, U, V, noise)\n",
    "    return [imdata, [U[0], V[0], U[1], V[1], U[2], V[2]]]"
   ]
  },
  {
   "cell_type": "code",
   "execution_count": 37,
   "metadata": {},
   "outputs": [
    {
     "name": "stdout",
     "output_type": "stream",
     "text": [
      "Creating data.. Done\n",
      "Creating data.. Done\n"
     ]
    }
   ],
   "source": [
    "[X_train_clear, X_train_noise] = generate_dataset_denoising(500, 100)\n",
    "[X_test_clear, X_test_noise] = generate_dataset_denoising(300, 100)\n",
    "\n",
    "X_train_clear = X_train_clear.reshape(-1, 72, 72, 1)\n",
    "X_train_noise = X_train_noise.reshape(-1, 72, 72, 1)\n",
    "\n",
    "X_test_clear = X_test_clear.reshape(-1, 72, 72, 1)\n",
    "X_test_noise = X_test_noise.reshape(-1, 72, 72, 1)"
   ]
  },
  {
   "cell_type": "markdown",
   "metadata": {},
   "source": [
    "Let's visualize some data"
   ]
  },
  {
   "cell_type": "code",
   "execution_count": 38,
   "metadata": {},
   "outputs": [
    {
     "data": {
      "image/png": "[encoded data removed]",
      "text/plain": [
       "<Figure size 432x216 with 2 Axes>"
      ]
     },
     "metadata": {
      "needs_background": "light"
     },
     "output_type": "display_data"
    }
   ],
   "source": [
    "i=np.random.randint(300)\n",
    "\n",
    "f, (ax1, ax2) = plt.subplots(1,2, figsize=(6,3))\n",
    "ax1.imshow(X_train_clear[i].reshape(72,72), cmap='gray')\n",
    "ax1.set_title(\"Clear image\")\n",
    "\n",
    "ax2.imshow(X_train_noise[i].reshape(72,72), cmap='gray')\n",
    "ax2.set_title(\"Noised image\")\n",
    "\n",
    "plt.tight_layout()\n",
    "plt.show()"
   ]
  },
  {
   "cell_type": "markdown",
   "metadata": {},
   "source": [
    "We define the following autoencoder :"
   ]
  },
  {
   "cell_type": "code",
   "execution_count": 39,
   "metadata": {},
   "outputs": [],
   "source": [
    "autoencoder = Sequential()\n",
    "\n",
    "#Encoding\n",
    "autoencoder.add(Conv2D(32, (3,3), activation='relu', padding='same', input_shape=(72,72,1)))\n",
    "autoencoder.add(MaxPooling2D(padding='same'))\n",
    "autoencoder.add(Conv2D(32, (3,3), activation='relu', padding='same'))\n",
    "autoencoder.add(MaxPooling2D(padding='same'))\n",
    "\n",
    "#Decoding\n",
    "autoencoder.add(Conv2D(32, (3,3), activation='relu', padding='same'))\n",
    "autoencoder.add(UpSampling2D())\n",
    "autoencoder.add(Conv2D(32, (3,3), activation='relu', padding='same'))\n",
    "autoencoder.add(UpSampling2D())\n",
    "\n",
    "autoencoder.add(Conv2D(1, (3,3), activation='sigmoid', padding='same'))\n",
    "\n",
    "autoencoder.compile(optimizer='adam', loss='binary_crossentropy')"
   ]
  },
  {
   "cell_type": "markdown",
   "metadata": {},
   "source": [
    "We train the model"
   ]
  },
  {
   "cell_type": "code",
   "execution_count": 40,
   "metadata": {},
   "outputs": [
    {
     "name": "stdout",
     "output_type": "stream",
     "text": [
      "Epoch 1/50\n",
      "500/500 [==============================] - 1s 2ms/step - loss: 0.4898\n",
      "Epoch 2/50\n",
      "500/500 [==============================] - 0s 784us/step - loss: 0.3029\n",
      "Epoch 3/50\n",
      "500/500 [==============================] - 0s 776us/step - loss: 0.0525\n",
      "Epoch 4/50\n",
      "500/500 [==============================] - 0s 790us/step - loss: 0.0169\n",
      "Epoch 5/50\n",
      "500/500 [==============================] - 0s 810us/step - loss: 0.0145\n",
      "Epoch 6/50\n",
      "500/500 [==============================] - 0s 789us/step - loss: 0.0124\n",
      "Epoch 7/50\n",
      "500/500 [==============================] - 0s 808us/step - loss: 0.0116\n",
      "Epoch 8/50\n",
      "500/500 [==============================] - 0s 795us/step - loss: 0.0107\n",
      "Epoch 9/50\n",
      "500/500 [==============================] - 0s 784us/step - loss: 0.0103\n",
      "Epoch 10/50\n",
      "500/500 [==============================] - 0s 784us/step - loss: 0.0095\n",
      "Epoch 11/50\n",
      "500/500 [==============================] - 0s 797us/step - loss: 0.0094\n",
      "Epoch 12/50\n",
      "500/500 [==============================] - 0s 781us/step - loss: 0.0087\n",
      "Epoch 13/50\n",
      "500/500 [==============================] - 0s 808us/step - loss: 0.0084\n",
      "Epoch 14/50\n",
      "500/500 [==============================] - 0s 798us/step - loss: 0.0085\n",
      "Epoch 15/50\n",
      "500/500 [==============================] - 0s 800us/step - loss: 0.0081\n",
      "Epoch 16/50\n",
      "500/500 [==============================] - 0s 790us/step - loss: 0.0075\n",
      "Epoch 17/50\n",
      "500/500 [==============================] - 0s 790us/step - loss: 0.0072\n",
      "Epoch 18/50\n",
      "500/500 [==============================] - 0s 820us/step - loss: 0.0066\n",
      "Epoch 19/50\n",
      "500/500 [==============================] - 0s 788us/step - loss: 0.0064\n",
      "Epoch 20/50\n",
      "500/500 [==============================] - 0s 788us/step - loss: 0.0060\n",
      "Epoch 21/50\n",
      "500/500 [==============================] - 0s 783us/step - loss: 0.0058\n",
      "Epoch 22/50\n",
      "500/500 [==============================] - 0s 793us/step - loss: 0.0055\n",
      "Epoch 23/50\n",
      "500/500 [==============================] - 0s 794us/step - loss: 0.0053\n",
      "Epoch 24/50\n",
      "500/500 [==============================] - 0s 800us/step - loss: 0.0053\n",
      "Epoch 25/50\n",
      "500/500 [==============================] - 0s 790us/step - loss: 0.0048\n",
      "Epoch 26/50\n",
      "500/500 [==============================] - 0s 789us/step - loss: 0.0046\n",
      "Epoch 27/50\n",
      "500/500 [==============================] - 0s 808us/step - loss: 0.0046\n",
      "Epoch 28/50\n",
      "500/500 [==============================] - 0s 802us/step - loss: 0.0042\n",
      "Epoch 29/50\n",
      "500/500 [==============================] - 0s 792us/step - loss: 0.0041\n",
      "Epoch 30/50\n",
      "500/500 [==============================] - 0s 782us/step - loss: 0.0040\n",
      "Epoch 31/50\n",
      "500/500 [==============================] - 0s 791us/step - loss: 0.0041\n",
      "Epoch 32/50\n",
      "500/500 [==============================] - 0s 786us/step - loss: 0.0037\n",
      "Epoch 33/50\n",
      "500/500 [==============================] - 0s 794us/step - loss: 0.0035\n",
      "Epoch 34/50\n",
      "500/500 [==============================] - 0s 784us/step - loss: 0.0034\n",
      "Epoch 35/50\n",
      "500/500 [==============================] - 0s 790us/step - loss: 0.0034\n",
      "Epoch 36/50\n",
      "500/500 [==============================] - 0s 798us/step - loss: 0.0030\n",
      "Epoch 37/50\n",
      "500/500 [==============================] - 0s 786us/step - loss: 0.0030\n",
      "Epoch 38/50\n",
      "500/500 [==============================] - 0s 800us/step - loss: 0.0032\n",
      "Epoch 39/50\n",
      "500/500 [==============================] - 0s 796us/step - loss: 0.0032\n",
      "Epoch 40/50\n",
      "500/500 [==============================] - 0s 792us/step - loss: 0.0029\n",
      "Epoch 41/50\n",
      "500/500 [==============================] - 0s 801us/step - loss: 0.0029\n",
      "Epoch 42/50\n",
      "500/500 [==============================] - 0s 782us/step - loss: 0.0035\n",
      "Epoch 43/50\n",
      "500/500 [==============================] - 0s 798us/step - loss: 0.0032\n",
      "Epoch 44/50\n",
      "500/500 [==============================] - 0s 801us/step - loss: 0.0029\n",
      "Epoch 45/50\n",
      "500/500 [==============================] - 0s 792us/step - loss: 0.0023\n",
      "Epoch 46/50\n",
      "500/500 [==============================] - 0s 784us/step - loss: 0.0022\n",
      "Epoch 47/50\n",
      "500/500 [==============================] - 0s 794us/step - loss: 0.0022\n",
      "Epoch 48/50\n",
      "500/500 [==============================] - 0s 800us/step - loss: 0.0021\n",
      "Epoch 49/50\n",
      "500/500 [==============================] - 0s 787us/step - loss: 0.0021\n",
      "Epoch 50/50\n",
      "500/500 [==============================] - 0s 796us/step - loss: 0.0020\n"
     ]
    },
    {
     "data": {
      "text/plain": [
       "<keras.callbacks.History at 0x1fb096de0f0>"
      ]
     },
     "execution_count": 40,
     "metadata": {},
     "output_type": "execute_result"
    }
   ],
   "source": [
    "#autoencoder.summary()\n",
    "autoencoder.fit(X_train_noise, X_train_clear, epochs=50, batch_size=32)"
   ]
  },
  {
   "cell_type": "code",
   "execution_count": 41,
   "metadata": {},
   "outputs": [
    {
     "name": "stdout",
     "output_type": "stream",
     "text": [
      "300/300 [==============================] - 0s 730us/step\n"
     ]
    },
    {
     "data": {
      "text/plain": [
       "0.0018759853501493732"
      ]
     },
     "execution_count": 41,
     "metadata": {},
     "output_type": "execute_result"
    }
   ],
   "source": [
    "autoencoder.evaluate(X_test_noise, X_test_clear)"
   ]
  },
  {
   "cell_type": "code",
   "execution_count": 42,
   "metadata": {},
   "outputs": [],
   "source": [
    "X_test_clear_pred = autoencoder.predict(X_test_noise)"
   ]
  },
  {
   "cell_type": "markdown",
   "metadata": {},
   "source": [
    "Let's check the results :"
   ]
  },
  {
   "cell_type": "code",
   "execution_count": 53,
   "metadata": {},
   "outputs": [
    {
     "data": {
      "image/png": "[encoded data removed]",
      "text/plain": [
       "<Figure size 648x216 with 3 Axes>"
      ]
     },
     "metadata": {
      "needs_background": "light"
     },
     "output_type": "display_data"
    }
   ],
   "source": [
    "i=np.random.randint(300)\n",
    "\n",
    "f, (ax1, ax2, ax3) = plt.subplots(1,3,figsize=(9,3))\n",
    "ax1.imshow(X_test_noise[i].reshape(72,72), cmap=\"gray\")\n",
    "ax1.set_title(\"Noised image\")\n",
    "\n",
    "ax2.imshow(X_test_clear[i].reshape(72,72), cmap=\"gray\")\n",
    "ax2.set_title(\"Original clear image\")\n",
    "\n",
    "ax3.imshow(X_test_clear_pred[i].reshape(72,72), cmap=\"gray\")\n",
    "ax3.set_title(\"Denoised image\")\n",
    "\n",
    "plt.tight_layout()\n",
    "plt.show()"
   ]
  }
 ],
 "metadata": {
  "kernelspec": {
   "display_name": "TF-GPU",
   "language": "python",
   "name": "myenv"
  },
  "language_info": {
   "codemirror_mode": {
    "name": "ipython",
    "version": 3
   },
   "file_extension": ".py",
   "mimetype": "text/x-python",
   "name": "python",
   "nbconvert_exporter": "python",
   "pygments_lexer": "ipython3",
   "version": "3.6.6"
  }
 },
 "nbformat": 4,
 "nbformat_minor": 2
}
