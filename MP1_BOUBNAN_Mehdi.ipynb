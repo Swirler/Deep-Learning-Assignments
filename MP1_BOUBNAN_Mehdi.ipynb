{
 "cells": [
  {
   "cell_type": "markdown",
   "metadata": {},
   "source": [
    "<h1><center>Deep Learning Course - First Mini Project</center></h1>\n",
    "<h3><center>Image Classification and Regression</center></h3>\n",
    "<h4><center>Professor : Vincent Lepetit</center></h4>\n",
    "<h5><center>Mehdi Boubnan</center></h5>"
   ]
  },
  {
   "cell_type": "markdown",
   "metadata": {},
   "source": [
    "# Imports and defining functions"
   ]
  },
  {
   "cell_type": "code",
   "execution_count": 1,
   "metadata": {},
   "outputs": [],
   "source": [
    "import matplotlib.pyplot as plt\n",
    "%matplotlib inline\n",
    "import numpy as np"
   ]
  },
  {
   "cell_type": "code",
   "execution_count": 2,
   "metadata": {},
   "outputs": [],
   "source": [
    "from tensorflow import set_random_seed\n",
    "set_random_seed(1)"
   ]
  },
  {
   "cell_type": "code",
   "execution_count": 3,
   "metadata": {},
   "outputs": [
    {
     "name": "stderr",
     "output_type": "stream",
     "text": [
      "Using TensorFlow backend.\n"
     ]
    }
   ],
   "source": [
    "from keras.models import Sequential\n",
    "from keras.layers import Dense, Activation, Conv2D, MaxPooling2D, UpSampling2D, Flatten\n",
    "from keras.optimizers import SGD, Adam\n",
    "from keras import utils as np_utils"
   ]
  },
  {
   "cell_type": "code",
   "execution_count": 4,
   "metadata": {},
   "outputs": [],
   "source": [
    "IMAGE_SIZE = 72\n",
    "\n",
    "def generate_a_drawing(figsize, U, V, noise=0.0):\n",
    "    fig = plt.figure(figsize=(figsize,figsize))\n",
    "    ax = plt.subplot(111)\n",
    "    plt.axis('Off')\n",
    "    ax.set_xlim(0,figsize)\n",
    "    ax.set_ylim(0,figsize)\n",
    "    ax.fill(U, V, \"k\")\n",
    "    fig.canvas.draw()\n",
    "    imdata = np.frombuffer(fig.canvas.tostring_rgb(), dtype=np.uint8)[::3].astype(np.float32)\n",
    "    imdata = imdata + noise * np.random.random(imdata.size)\n",
    "    plt.close(fig)\n",
    "    return imdata\n",
    "\n",
    "def generate_a_rectangle(noise=0.0, free_location=False):\n",
    "    figsize = 1.0    \n",
    "    U = np.zeros(4)\n",
    "    V = np.zeros(4)\n",
    "    if free_location:\n",
    "        corners = np.random.random(4)\n",
    "        top = max(corners[0], corners[1])\n",
    "        bottom = min(corners[0], corners[1])\n",
    "        left = min(corners[2], corners[3])\n",
    "        right = max(corners[2], corners[3])\n",
    "    else:\n",
    "        side = (0.3 + 0.7 * np.random.random()) * figsize\n",
    "        top = figsize/2 + side/2\n",
    "        bottom = figsize/2 - side/2\n",
    "        left = bottom\n",
    "        right = top\n",
    "    U[0] = U[1] = top\n",
    "    U[2] = U[3] = bottom\n",
    "    V[0] = V[3] = left\n",
    "    V[1] = V[2] = right\n",
    "    return generate_a_drawing(figsize, U, V, noise)\n",
    "\n",
    "\n",
    "def generate_a_disk(noise=0.0, free_location=False):\n",
    "    figsize = 1.0\n",
    "    if free_location:\n",
    "        center = np.random.random(2)\n",
    "    else:\n",
    "        center = (figsize/2, figsize/2)\n",
    "    radius = (0.3 + 0.7 * np.random.random()) * figsize/2\n",
    "    N = 50\n",
    "    U = np.zeros(N)\n",
    "    V = np.zeros(N)\n",
    "    i = 0\n",
    "    for t in np.linspace(0, 2*np.pi, N):\n",
    "        U[i] = center[0] + np.cos(t) * radius\n",
    "        V[i] = center[1] + np.sin(t) * radius\n",
    "        i = i + 1\n",
    "    return generate_a_drawing(figsize, U, V, noise)\n",
    "\n",
    "def generate_a_triangle(noise=0.0, free_location=False):\n",
    "    figsize = 1.0\n",
    "    if free_location:\n",
    "        U = np.random.random(3)\n",
    "        V = np.random.random(3)\n",
    "    else:\n",
    "        size = (0.3 + 0.7 * np.random.random())*figsize/2\n",
    "        middle = figsize/2\n",
    "        U = (middle, middle+size, middle-size)\n",
    "        V = (middle+size, middle-size, middle-size)\n",
    "    imdata = generate_a_drawing(figsize, U, V, noise)\n",
    "    return [imdata, [U[0], V[0], U[1], V[1], U[2], V[2]]]\n",
    "\n",
    "\n",
    "def generate_dataset_classification(nb_samples, noise=0.0, free_location=False):\n",
    "    # Getting im_size:\n",
    "    im_size = generate_a_rectangle().shape[0]\n",
    "    X = np.zeros([nb_samples,im_size])\n",
    "    Y = np.zeros(nb_samples)\n",
    "    print('Creating data',end=\".. \")\n",
    "    for i in range(nb_samples):\n",
    "        #if i % 10 == 0:\n",
    "            #print(i)\n",
    "        category = np.random.randint(3)\n",
    "        if category == 0:\n",
    "            X[i] = generate_a_rectangle(noise, free_location)\n",
    "        elif category == 1: \n",
    "            X[i] = generate_a_disk(noise, free_location)\n",
    "        else:\n",
    "            [X[i], V] = generate_a_triangle(noise, free_location)\n",
    "        Y[i] = category\n",
    "    X = (X + noise) / (255 + 2 * noise)\n",
    "    print(\"Done\")\n",
    "    return [X, Y]\n",
    "\n",
    "def generate_test_set_classification():\n",
    "    np.random.seed(42)\n",
    "    [X_test, Y_test] = generate_dataset_classification(300, 20, True)\n",
    "    Y_test = np_utils.to_categorical(Y_test, 3) \n",
    "    return [X_test, Y_test]\n",
    "\n",
    "def generate_dataset_regression(nb_samples, noise=0.0):\n",
    "    # Getting im_size:\n",
    "    im_size = generate_a_triangle()[0].shape[0]\n",
    "    X = np.zeros([nb_samples,im_size])\n",
    "    Y = np.zeros([nb_samples, 6])\n",
    "    print('Creating data',end=\".. \")\n",
    "    for i in range(nb_samples):\n",
    "        #if i % 10 == 0:\n",
    "            #print(i)\n",
    "        [X[i], Y[i]] = generate_a_triangle(noise, True)\n",
    "    X = (X + noise) / (255 + 2 * noise)\n",
    "    print(\"Done\")\n",
    "    return [X, Y]\n",
    "\n",
    "import matplotlib.patches as patches\n",
    "\n",
    "def visualize_prediction(x, y, show=True):\n",
    "    fig, ax = plt.subplots(figsize=(5, 5))\n",
    "    I = x.reshape((IMAGE_SIZE,IMAGE_SIZE))\n",
    "    ax.imshow(I, extent=[-0.15,1.15,-0.15,1.15],cmap='gray')\n",
    "    ax.set_xlim([0,1])\n",
    "    ax.set_ylim([0,1])\n",
    "\n",
    "    xy = y.reshape(3,2)\n",
    "    tri = patches.Polygon(xy, closed=True, fill = False, edgecolor = 'r', linewidth = 5, alpha = 0.5)\n",
    "    ax.add_patch(tri)\n",
    "    \n",
    "    if show:\n",
    "        plt.show()\n",
    "\n",
    "def generate_test_set_regression():\n",
    "    np.random.seed(42)\n",
    "    [X_test, Y_test] = generate_dataset_regression(300, 20)\n",
    "    return [X_test, Y_test]"
   ]
  },
  {
   "cell_type": "markdown",
   "metadata": {},
   "source": [
    "# Classification Problem"
   ]
  },
  {
   "cell_type": "markdown",
   "metadata": {},
   "source": [
    "## Simple Classification"
   ]
  },
  {
   "cell_type": "markdown",
   "metadata": {},
   "source": [
    "### Generating data"
   ]
  },
  {
   "cell_type": "markdown",
   "metadata": {},
   "source": [
    "Our training and testing datasets are composed by shapes images (rectangles, disks and triangles). We'll begin by generating some data samples :"
   ]
  },
  {
   "cell_type": "code",
   "execution_count": 5,
   "metadata": {},
   "outputs": [
    {
     "data": {
      "image/png": "[encoded data removed]",
      "text/plain": [
       "<Figure size 864x288 with 3 Axes>"
      ]
     },
     "metadata": {
      "needs_background": "light"
     },
     "output_type": "display_data"
    }
   ],
   "source": [
    "f, (ax1, ax2, ax3) = plt.subplots(1,3,figsize=(12,4))\n",
    "\n",
    "im = generate_a_rectangle(10, False)\n",
    "ax1.imshow(im.reshape(IMAGE_SIZE,IMAGE_SIZE), cmap='gray')\n",
    "ax1.set_title(\"Rectangle\")\n",
    "\n",
    "im = generate_a_disk(10, False)\n",
    "ax2.imshow(im.reshape(IMAGE_SIZE,IMAGE_SIZE), cmap='gray')\n",
    "ax2.set_title(\"Disk\")\n",
    "\n",
    "[im, v] = generate_a_triangle(20, False)\n",
    "ax3.imshow(im.reshape(IMAGE_SIZE,IMAGE_SIZE), cmap='gray')\n",
    "ax3.set_title(\"Triangle\")\n",
    "\n",
    "plt.tight_layout()\n",
    "plt.show()"
   ]
  },
  {
   "cell_type": "markdown",
   "metadata": {},
   "source": [
    "We'll then generate our training dataset with **300 samples** of shapes images, and see their distribution :"
   ]
  },
  {
   "cell_type": "code",
   "execution_count": 6,
   "metadata": {},
   "outputs": [
    {
     "name": "stdout",
     "output_type": "stream",
     "text": [
      "Creating data.. Done\n"
     ]
    }
   ],
   "source": [
    "[X_train, Y_train] = generate_dataset_classification(300, 20)"
   ]
  },
  {
   "cell_type": "markdown",
   "metadata": {},
   "source": [
    "We one-hot encore the data labels to fit the model :"
   ]
  },
  {
   "cell_type": "code",
   "execution_count": 7,
   "metadata": {},
   "outputs": [],
   "source": [
    "Y_train = np_utils.to_categorical(Y_train, 3)"
   ]
  },
  {
   "cell_type": "markdown",
   "metadata": {},
   "source": [
    "### Building the model"
   ]
  },
  {
   "cell_type": "markdown",
   "metadata": {},
   "source": [
    "We'll train a simple two layer fully-connected neural network, taking in input vectors in $\\mathbb{R}^{5184}$ (our image shapes are 72x72), and outputing a vector in $\\mathbb{R}^3$ representing the probabilities of belonging to each of the three classes (rectangle, disk, triangle). To do so, we use one fully connected layer of 3 neurons, followed by a **softmax** activation (logistic regression).\n",
    "\n",
    "For training the data, we'll firstly use a stochastic gradient descent optimizer, with a 0.001 learning rate, a decay of $10^{-6}$ and a momentum of 0.9, and then use the adam optimizer with default settings.\n",
    "We'll use 50 epochs and a 32 batch size."
   ]
  },
  {
   "cell_type": "markdown",
   "metadata": {},
   "source": [
    "#### Using SGD optimizer"
   ]
  },
  {
   "cell_type": "code",
   "execution_count": 8,
   "metadata": {},
   "outputs": [],
   "source": [
    "model = Sequential()\n",
    "\n",
    "output = 3\n",
    "\n",
    "model.add(Dense(output, input_shape=(5184,)))\n",
    "model.add(Activation('softmax'))\n",
    "\n",
    "sgd = SGD(lr=0.001, decay=1e-6, momentum=0.9, nesterov=True)\n",
    "model.compile(loss='categorical_crossentropy', optimizer=sgd, metrics=['accuracy'])"
   ]
  },
  {
   "cell_type": "markdown",
   "metadata": {},
   "source": [
    "Let's train the model with SGD :"
   ]
  },
  {
   "cell_type": "code",
   "execution_count": 9,
   "metadata": {},
   "outputs": [
    {
     "name": "stdout",
     "output_type": "stream",
     "text": [
      "Epoch 1/50\n",
      "300/300 [==============================] - 2s 8ms/step - loss: 1.1935 - acc: 0.4400\n",
      "Epoch 2/50\n",
      "300/300 [==============================] - 0s 103us/step - loss: 0.6082 - acc: 0.7500\n",
      "Epoch 3/50\n",
      "300/300 [==============================] - 0s 103us/step - loss: 0.4946 - acc: 0.8067\n",
      "Epoch 4/50\n",
      "300/300 [==============================] - 0s 106us/step - loss: 0.3615 - acc: 0.9033\n",
      "Epoch 5/50\n",
      "300/300 [==============================] - 0s 106us/step - loss: 0.3303 - acc: 0.8767\n",
      "Epoch 6/50\n",
      "300/300 [==============================] - 0s 103us/step - loss: 0.2954 - acc: 0.8867\n",
      "Epoch 7/50\n",
      "300/300 [==============================] - 0s 106us/step - loss: 0.2584 - acc: 0.9300\n",
      "Epoch 8/50\n",
      "300/300 [==============================] - 0s 106us/step - loss: 0.2855 - acc: 0.8800\n",
      "Epoch 9/50\n",
      "300/300 [==============================] - 0s 106us/step - loss: 0.2006 - acc: 0.9633\n",
      "Epoch 10/50\n",
      "300/300 [==============================] - 0s 113us/step - loss: 0.1897 - acc: 0.9600\n",
      "Epoch 11/50\n",
      "300/300 [==============================] - 0s 143us/step - loss: 0.1826 - acc: 0.9533\n",
      "Epoch 12/50\n",
      "300/300 [==============================] - 0s 106us/step - loss: 0.1672 - acc: 0.9700\n",
      "Epoch 13/50\n",
      "300/300 [==============================] - 0s 106us/step - loss: 0.1540 - acc: 0.9667\n",
      "Epoch 14/50\n",
      "300/300 [==============================] - 0s 106us/step - loss: 0.1480 - acc: 0.9733\n",
      "Epoch 15/50\n",
      "300/300 [==============================] - 0s 106us/step - loss: 0.1407 - acc: 0.9767\n",
      "Epoch 16/50\n",
      "300/300 [==============================] - 0s 103us/step - loss: 0.1357 - acc: 0.9933\n",
      "Epoch 17/50\n",
      "300/300 [==============================] - 0s 110us/step - loss: 0.1384 - acc: 0.9733\n",
      "Epoch 18/50\n",
      "300/300 [==============================] - 0s 103us/step - loss: 0.1253 - acc: 0.9833\n",
      "Epoch 19/50\n",
      "300/300 [==============================] - 0s 110us/step - loss: 0.1252 - acc: 0.9833\n",
      "Epoch 20/50\n",
      "300/300 [==============================] - 0s 106us/step - loss: 0.1199 - acc: 0.9767\n",
      "Epoch 21/50\n",
      "300/300 [==============================] - 0s 106us/step - loss: 0.1085 - acc: 0.9967\n",
      "Epoch 22/50\n",
      "300/300 [==============================] - 0s 106us/step - loss: 0.1036 - acc: 0.9933\n",
      "Epoch 23/50\n",
      "300/300 [==============================] - 0s 106us/step - loss: 0.1022 - acc: 0.9933\n",
      "Epoch 24/50\n",
      "300/300 [==============================] - 0s 130us/step - loss: 0.0981 - acc: 0.9967\n",
      "Epoch 25/50\n",
      "300/300 [==============================] - 0s 110us/step - loss: 0.0950 - acc: 0.9933\n",
      "Epoch 26/50\n",
      "300/300 [==============================] - 0s 103us/step - loss: 0.0983 - acc: 0.9867\n",
      "Epoch 27/50\n",
      "300/300 [==============================] - 0s 106us/step - loss: 0.0874 - acc: 1.0000\n",
      "Epoch 28/50\n",
      "300/300 [==============================] - 0s 106us/step - loss: 0.0863 - acc: 1.0000\n",
      "Epoch 29/50\n",
      "300/300 [==============================] - 0s 103us/step - loss: 0.0930 - acc: 0.9800\n",
      "Epoch 30/50\n",
      "300/300 [==============================] - 0s 106us/step - loss: 0.0793 - acc: 1.0000\n",
      "Epoch 31/50\n",
      "300/300 [==============================] - 0s 106us/step - loss: 0.0799 - acc: 0.9967\n",
      "Epoch 32/50\n",
      "300/300 [==============================] - 0s 106us/step - loss: 0.0761 - acc: 1.0000\n",
      "Epoch 33/50\n",
      "300/300 [==============================] - 0s 113us/step - loss: 0.0740 - acc: 1.0000\n",
      "Epoch 34/50\n",
      "300/300 [==============================] - 0s 110us/step - loss: 0.0735 - acc: 0.9933\n",
      "Epoch 35/50\n",
      "300/300 [==============================] - 0s 106us/step - loss: 0.0713 - acc: 1.0000\n",
      "Epoch 36/50\n",
      "300/300 [==============================] - 0s 103us/step - loss: 0.0700 - acc: 1.0000\n",
      "Epoch 37/50\n",
      "300/300 [==============================] - 0s 110us/step - loss: 0.0717 - acc: 1.0000\n",
      "Epoch 38/50\n",
      "300/300 [==============================] - 0s 106us/step - loss: 0.0695 - acc: 1.0000\n",
      "Epoch 39/50\n",
      "300/300 [==============================] - 0s 106us/step - loss: 0.0688 - acc: 1.0000\n",
      "Epoch 40/50\n",
      "300/300 [==============================] - 0s 106us/step - loss: 0.0740 - acc: 0.9900\n",
      "Epoch 41/50\n",
      "300/300 [==============================] - 0s 106us/step - loss: 0.0660 - acc: 0.9967\n",
      "Epoch 42/50\n",
      "300/300 [==============================] - 0s 103us/step - loss: 0.0597 - acc: 1.0000\n",
      "Epoch 43/50\n",
      "300/300 [==============================] - 0s 103us/step - loss: 0.0593 - acc: 1.0000\n",
      "Epoch 44/50\n",
      "300/300 [==============================] - 0s 103us/step - loss: 0.0616 - acc: 1.0000\n",
      "Epoch 45/50\n",
      "300/300 [==============================] - 0s 103us/step - loss: 0.0586 - acc: 1.0000\n",
      "Epoch 46/50\n",
      "300/300 [==============================] - 0s 106us/step - loss: 0.0566 - acc: 1.0000\n",
      "Epoch 47/50\n",
      "300/300 [==============================] - 0s 123us/step - loss: 0.0566 - acc: 1.0000\n",
      "Epoch 48/50\n",
      "300/300 [==============================] - 0s 106us/step - loss: 0.0544 - acc: 1.0000\n",
      "Epoch 49/50\n",
      "300/300 [==============================] - 0s 103us/step - loss: 0.0538 - acc: 1.0000\n",
      "Epoch 50/50\n",
      "300/300 [==============================] - 0s 106us/step - loss: 0.0519 - acc: 1.0000\n"
     ]
    },
    {
     "data": {
      "text/plain": [
       "<keras.callbacks.History at 0x187217dd278>"
      ]
     },
     "execution_count": 9,
     "metadata": {},
     "output_type": "execute_result"
    }
   ],
   "source": [
    "model.fit(X_train, Y_train, epochs=50, batch_size=32)"
   ]
  },
  {
   "cell_type": "markdown",
   "metadata": {},
   "source": [
    "#### Using Adam optimizer"
   ]
  },
  {
   "cell_type": "code",
   "execution_count": 10,
   "metadata": {},
   "outputs": [],
   "source": [
    "model = Sequential()\n",
    "\n",
    "hidden_neurons = 64\n",
    "output = 3\n",
    "\n",
    "model.add(Dense(output, input_shape=(5184,)))\n",
    "model.add(Activation('softmax'))\n",
    "\n",
    "adam = Adam(lr=0.001, beta_1=0.9, beta_2=0.999, epsilon=None, decay=0.0, amsgrad=False)\n",
    "model.compile(loss='categorical_crossentropy', optimizer=adam, metrics=['accuracy'])"
   ]
  },
  {
   "cell_type": "code",
   "execution_count": 11,
   "metadata": {},
   "outputs": [
    {
     "name": "stdout",
     "output_type": "stream",
     "text": [
      "Epoch 1/50\n",
      "300/300 [==============================] - 0s 529us/step - loss: 1.4623 - acc: 0.3800\n",
      "Epoch 2/50\n",
      "300/300 [==============================] - 0s 123us/step - loss: 0.8422 - acc: 0.6233\n",
      "Epoch 3/50\n",
      "300/300 [==============================] - 0s 116us/step - loss: 0.5774 - acc: 0.7200\n",
      "Epoch 4/50\n",
      "300/300 [==============================] - 0s 113us/step - loss: 0.4111 - acc: 0.8267\n",
      "Epoch 5/50\n",
      "300/300 [==============================] - 0s 110us/step - loss: 0.2933 - acc: 0.9200\n",
      "Epoch 6/50\n",
      "300/300 [==============================] - 0s 106us/step - loss: 0.2319 - acc: 0.9733\n",
      "Epoch 7/50\n",
      "300/300 [==============================] - 0s 110us/step - loss: 0.2322 - acc: 0.9267\n",
      "Epoch 8/50\n",
      "300/300 [==============================] - 0s 106us/step - loss: 0.1948 - acc: 0.9767\n",
      "Epoch 9/50\n",
      "300/300 [==============================] - 0s 110us/step - loss: 0.1693 - acc: 0.9733\n",
      "Epoch 10/50\n",
      "300/300 [==============================] - 0s 146us/step - loss: 0.1534 - acc: 0.9800\n",
      "Epoch 11/50\n",
      "300/300 [==============================] - 0s 106us/step - loss: 0.1561 - acc: 0.9600\n",
      "Epoch 12/50\n",
      "300/300 [==============================] - 0s 110us/step - loss: 0.1331 - acc: 0.9733\n",
      "Epoch 13/50\n",
      "300/300 [==============================] - 0s 110us/step - loss: 0.1206 - acc: 0.9867\n",
      "Epoch 14/50\n",
      "300/300 [==============================] - 0s 110us/step - loss: 0.1107 - acc: 1.0000\n",
      "Epoch 15/50\n",
      "300/300 [==============================] - 0s 116us/step - loss: 0.1087 - acc: 0.9767\n",
      "Epoch 16/50\n",
      "300/300 [==============================] - 0s 106us/step - loss: 0.0906 - acc: 0.9933\n",
      "Epoch 17/50\n",
      "300/300 [==============================] - 0s 110us/step - loss: 0.0803 - acc: 1.0000\n",
      "Epoch 18/50\n",
      "300/300 [==============================] - 0s 110us/step - loss: 0.0758 - acc: 1.0000\n",
      "Epoch 19/50\n",
      "300/300 [==============================] - 0s 113us/step - loss: 0.0719 - acc: 1.0000\n",
      "Epoch 20/50\n",
      "300/300 [==============================] - 0s 110us/step - loss: 0.0671 - acc: 1.0000\n",
      "Epoch 21/50\n",
      "300/300 [==============================] - 0s 113us/step - loss: 0.0713 - acc: 1.0000\n",
      "Epoch 22/50\n",
      "300/300 [==============================] - 0s 110us/step - loss: 0.0642 - acc: 1.0000\n",
      "Epoch 23/50\n",
      "300/300 [==============================] - 0s 106us/step - loss: 0.0697 - acc: 0.9933\n",
      "Epoch 24/50\n",
      "300/300 [==============================] - 0s 110us/step - loss: 0.0578 - acc: 0.9967\n",
      "Epoch 25/50\n",
      "300/300 [==============================] - 0s 110us/step - loss: 0.0542 - acc: 1.0000\n",
      "Epoch 26/50\n",
      "300/300 [==============================] - 0s 113us/step - loss: 0.0609 - acc: 1.0000\n",
      "Epoch 27/50\n",
      "300/300 [==============================] - 0s 110us/step - loss: 0.0504 - acc: 1.0000\n",
      "Epoch 28/50\n",
      "300/300 [==============================] - 0s 106us/step - loss: 0.0455 - acc: 1.0000\n",
      "Epoch 29/50\n",
      "300/300 [==============================] - 0s 110us/step - loss: 0.0434 - acc: 1.0000\n",
      "Epoch 30/50\n",
      "300/300 [==============================] - 0s 116us/step - loss: 0.0437 - acc: 1.0000\n",
      "Epoch 31/50\n",
      "300/300 [==============================] - 0s 106us/step - loss: 0.0429 - acc: 1.0000\n",
      "Epoch 32/50\n",
      "300/300 [==============================] - 0s 106us/step - loss: 0.0419 - acc: 1.0000\n",
      "Epoch 33/50\n",
      "300/300 [==============================] - 0s 106us/step - loss: 0.0386 - acc: 1.0000\n",
      "Epoch 34/50\n",
      "300/300 [==============================] - 0s 106us/step - loss: 0.0355 - acc: 1.0000\n",
      "Epoch 35/50\n",
      "300/300 [==============================] - 0s 120us/step - loss: 0.0336 - acc: 1.0000\n",
      "Epoch 36/50\n",
      "300/300 [==============================] - 0s 110us/step - loss: 0.0315 - acc: 1.0000\n",
      "Epoch 37/50\n",
      "300/300 [==============================] - 0s 140us/step - loss: 0.0314 - acc: 1.0000\n",
      "Epoch 38/50\n",
      "300/300 [==============================] - 0s 110us/step - loss: 0.0288 - acc: 1.0000\n",
      "Epoch 39/50\n",
      "300/300 [==============================] - 0s 113us/step - loss: 0.0276 - acc: 1.0000\n",
      "Epoch 40/50\n",
      "300/300 [==============================] - 0s 120us/step - loss: 0.0282 - acc: 1.0000\n",
      "Epoch 41/50\n",
      "300/300 [==============================] - 0s 106us/step - loss: 0.0284 - acc: 1.0000\n",
      "Epoch 42/50\n",
      "300/300 [==============================] - 0s 103us/step - loss: 0.0257 - acc: 1.0000\n",
      "Epoch 43/50\n",
      "300/300 [==============================] - 0s 106us/step - loss: 0.0248 - acc: 1.0000\n",
      "Epoch 44/50\n",
      "300/300 [==============================] - 0s 106us/step - loss: 0.0257 - acc: 1.0000\n",
      "Epoch 45/50\n",
      "300/300 [==============================] - 0s 110us/step - loss: 0.0258 - acc: 1.0000\n",
      "Epoch 46/50\n",
      "300/300 [==============================] - 0s 110us/step - loss: 0.0230 - acc: 1.0000\n",
      "Epoch 47/50\n",
      "300/300 [==============================] - 0s 110us/step - loss: 0.0212 - acc: 1.0000\n",
      "Epoch 48/50\n",
      "300/300 [==============================] - 0s 110us/step - loss: 0.0200 - acc: 1.0000\n",
      "Epoch 49/50\n",
      "300/300 [==============================] - 0s 110us/step - loss: 0.0209 - acc: 1.0000\n",
      "Epoch 50/50\n",
      "300/300 [==============================] - 0s 113us/step - loss: 0.0206 - acc: 1.0000\n"
     ]
    },
    {
     "data": {
      "text/plain": [
       "<keras.callbacks.History at 0x18719073e48>"
      ]
     },
     "execution_count": 11,
     "metadata": {},
     "output_type": "execute_result"
    }
   ],
   "source": [
    "model.fit(X_train, Y_train, epochs=50, batch_size=32)"
   ]
  },
  {
   "cell_type": "markdown",
   "metadata": {},
   "source": [
    "### Plotting weights"
   ]
  },
  {
   "cell_type": "markdown",
   "metadata": {},
   "source": [
    "We'll plot the first three weights :"
   ]
  },
  {
   "cell_type": "code",
   "execution_count": 12,
   "metadata": {},
   "outputs": [
    {
     "data": {
      "image/png": "[encoded data removed]",
      "text/plain": [
       "<Figure size 864x288 with 3 Axes>"
      ]
     },
     "metadata": {
      "needs_background": "light"
     },
     "output_type": "display_data"
    }
   ],
   "source": [
    "weights = model.get_weights()[0].T\n",
    "\n",
    "f, (ax1, ax2, ax3) = plt.subplots(1,3, figsize=(12,4))\n",
    "\n",
    "ax1.imshow(weights[0].reshape(IMAGE_SIZE,IMAGE_SIZE), cmap='gray')\n",
    "ax1.set_title(\"Rectangle weight\")\n",
    "\n",
    "ax2.imshow(weights[1].reshape(IMAGE_SIZE,IMAGE_SIZE), cmap='gray')\n",
    "ax2.set_title(\"Disk weight\")\n",
    "\n",
    "ax3.imshow(weights[2].reshape(IMAGE_SIZE,IMAGE_SIZE), cmap='gray')\n",
    "ax3.set_title(\"Triangle weight\")\n",
    "\n",
    "plt.tight_layout()\n",
    "plt.show()"
   ]
  },
  {
   "cell_type": "markdown",
   "metadata": {},
   "source": [
    "## More Difficult Classification Problem"
   ]
  },
  {
   "cell_type": "markdown",
   "metadata": {},
   "source": [
    "### Generating Data"
   ]
  },
  {
   "cell_type": "markdown",
   "metadata": {},
   "source": [
    "Now, we'll generate a new training set where the shapes are allowed to move within the images and change dimensions."
   ]
  },
  {
   "cell_type": "code",
   "execution_count": 13,
   "metadata": {},
   "outputs": [
    {
     "name": "stdout",
     "output_type": "stream",
     "text": [
      "Creating data.. Done\n",
      "Creating data.. Done\n"
     ]
    }
   ],
   "source": [
    "[X_train, Y_train] = generate_dataset_classification(300, 20, True)\n",
    "[X_test, Y_test] = generate_test_set_classification()"
   ]
  },
  {
   "cell_type": "markdown",
   "metadata": {},
   "source": [
    "Let's see what the new data looks like"
   ]
  },
  {
   "cell_type": "code",
   "execution_count": 14,
   "metadata": {},
   "outputs": [
    {
     "data": {
      "image/png": "[encoded data removed]",
      "text/plain": [
       "<Figure size 864x288 with 3 Axes>"
      ]
     },
     "metadata": {
      "needs_background": "light"
     },
     "output_type": "display_data"
    }
   ],
   "source": [
    "f, (ax1, ax2, ax3) = plt.subplots(1,3,figsize=(12,4))\n",
    "\n",
    "im = generate_a_rectangle(20, True)\n",
    "ax1.imshow(im.reshape(IMAGE_SIZE,IMAGE_SIZE), cmap='gray')\n",
    "ax1.set_title(\"Rectangle\")\n",
    "\n",
    "im = generate_a_disk(20, True)\n",
    "ax2.imshow(im.reshape(IMAGE_SIZE,IMAGE_SIZE), cmap='gray')\n",
    "ax2.set_title(\"Disk\")\n",
    "\n",
    "[im, v] = generate_a_triangle(20, True)\n",
    "ax3.imshow(im.reshape(IMAGE_SIZE,IMAGE_SIZE), cmap='gray')\n",
    "ax3.set_title(\"Triangle\")\n",
    "\n",
    "plt.tight_layout()\n",
    "plt.show()"
   ]
  },
  {
   "cell_type": "markdown",
   "metadata": {},
   "source": [
    "We one-hot encode the training to fit the model, the test labels are already one-hot encoded :"
   ]
  },
  {
   "cell_type": "code",
   "execution_count": 15,
   "metadata": {},
   "outputs": [],
   "source": [
    "Y_train = np_utils.to_categorical(Y_train, 3)"
   ]
  },
  {
   "cell_type": "markdown",
   "metadata": {},
   "source": [
    "### Retraining the model"
   ]
  },
  {
   "cell_type": "markdown",
   "metadata": {},
   "source": [
    "We'll use the **same model as before**, and retrain it on the new dataset. We choose to double the number of **epochs** from **50 to 100**."
   ]
  },
  {
   "cell_type": "code",
   "execution_count": 16,
   "metadata": {},
   "outputs": [],
   "source": [
    "model = Sequential()\n",
    "\n",
    "hidden_neurons = 64\n",
    "output = 3\n",
    "\n",
    "model.add(Dense(output, input_shape=(5184,)))\n",
    "model.add(Activation('softmax'))\n",
    "\n",
    "adam = Adam(lr=0.001, beta_1=0.9, beta_2=0.999, epsilon=None, decay=0.0, amsgrad=False)\n",
    "model.compile(loss='categorical_crossentropy', optimizer=adam, metrics=['accuracy'])"
   ]
  },
  {
   "cell_type": "markdown",
   "metadata": {},
   "source": [
    "Let's train our model"
   ]
  },
  {
   "cell_type": "code",
   "execution_count": 17,
   "metadata": {},
   "outputs": [
    {
     "name": "stdout",
     "output_type": "stream",
     "text": [
      "Epoch 1/100\n",
      "300/300 [==============================] - 0s 543us/step - loss: 1.6624 - acc: 0.3533\n",
      "Epoch 2/100\n",
      "300/300 [==============================] - 0s 113us/step - loss: 1.1398 - acc: 0.5133\n",
      "Epoch 3/100\n",
      "300/300 [==============================] - 0s 113us/step - loss: 1.0578 - acc: 0.5200\n",
      "Epoch 4/100\n",
      "300/300 [==============================] - 0s 106us/step - loss: 1.1882 - acc: 0.4700\n",
      "Epoch 5/100\n",
      "300/300 [==============================] - 0s 113us/step - loss: 0.9684 - acc: 0.5733\n",
      "Epoch 6/100\n",
      "300/300 [==============================] - 0s 110us/step - loss: 0.8222 - acc: 0.6467\n",
      "Epoch 7/100\n",
      "300/300 [==============================] - 0s 110us/step - loss: 0.9992 - acc: 0.5567\n",
      "Epoch 8/100\n",
      "300/300 [==============================] - 0s 110us/step - loss: 0.8673 - acc: 0.6000\n",
      "Epoch 9/100\n",
      "300/300 [==============================] - 0s 130us/step - loss: 0.8058 - acc: 0.6400\n",
      "Epoch 10/100\n",
      "300/300 [==============================] - 0s 136us/step - loss: 0.7399 - acc: 0.6533\n",
      "Epoch 11/100\n",
      "300/300 [==============================] - 0s 110us/step - loss: 0.7084 - acc: 0.6633\n",
      "Epoch 12/100\n",
      "300/300 [==============================] - 0s 106us/step - loss: 0.6979 - acc: 0.6767\n",
      "Epoch 13/100\n",
      "300/300 [==============================] - 0s 110us/step - loss: 0.6808 - acc: 0.6700\n",
      "Epoch 14/100\n",
      "300/300 [==============================] - 0s 113us/step - loss: 0.7434 - acc: 0.6400\n",
      "Epoch 15/100\n",
      "300/300 [==============================] - 0s 113us/step - loss: 0.7046 - acc: 0.6800\n",
      "Epoch 16/100\n",
      "300/300 [==============================] - 0s 110us/step - loss: 0.8619 - acc: 0.5767\n",
      "Epoch 17/100\n",
      "300/300 [==============================] - 0s 110us/step - loss: 0.8816 - acc: 0.6000\n",
      "Epoch 18/100\n",
      "300/300 [==============================] - 0s 126us/step - loss: 0.8275 - acc: 0.6233\n",
      "Epoch 19/100\n",
      "300/300 [==============================] - 0s 103us/step - loss: 0.7270 - acc: 0.6433\n",
      "Epoch 20/100\n",
      "300/300 [==============================] - 0s 110us/step - loss: 0.8559 - acc: 0.6267\n",
      "Epoch 21/100\n",
      "300/300 [==============================] - 0s 106us/step - loss: 0.7679 - acc: 0.6533\n",
      "Epoch 22/100\n",
      "300/300 [==============================] - 0s 110us/step - loss: 0.7058 - acc: 0.6667\n",
      "Epoch 23/100\n",
      "300/300 [==============================] - 0s 106us/step - loss: 0.6320 - acc: 0.7033\n",
      "Epoch 24/100\n",
      "300/300 [==============================] - 0s 106us/step - loss: 0.5967 - acc: 0.7367\n",
      "Epoch 25/100\n",
      "300/300 [==============================] - 0s 106us/step - loss: 0.5414 - acc: 0.7733\n",
      "Epoch 26/100\n",
      "300/300 [==============================] - 0s 110us/step - loss: 0.6455 - acc: 0.6967\n",
      "Epoch 27/100\n",
      "300/300 [==============================] - 0s 113us/step - loss: 0.6362 - acc: 0.7167\n",
      "Epoch 28/100\n",
      "300/300 [==============================] - 0s 113us/step - loss: 0.5825 - acc: 0.7267\n",
      "Epoch 29/100\n",
      "300/300 [==============================] - 0s 110us/step - loss: 0.6004 - acc: 0.7400\n",
      "Epoch 30/100\n",
      "300/300 [==============================] - 0s 106us/step - loss: 0.6122 - acc: 0.7333\n",
      "Epoch 31/100\n",
      "300/300 [==============================] - 0s 106us/step - loss: 0.5569 - acc: 0.7567\n",
      "Epoch 32/100\n",
      "300/300 [==============================] - 0s 110us/step - loss: 0.6217 - acc: 0.7300\n",
      "Epoch 33/100\n",
      "300/300 [==============================] - 0s 110us/step - loss: 0.5542 - acc: 0.7700\n",
      "Epoch 34/100\n",
      "300/300 [==============================] - 0s 106us/step - loss: 0.5210 - acc: 0.7833\n",
      "Epoch 35/100\n",
      "300/300 [==============================] - 0s 110us/step - loss: 0.5404 - acc: 0.7733\n",
      "Epoch 36/100\n",
      "300/300 [==============================] - 0s 106us/step - loss: 0.5656 - acc: 0.7467\n",
      "Epoch 37/100\n",
      "300/300 [==============================] - 0s 110us/step - loss: 0.5518 - acc: 0.7733\n",
      "Epoch 38/100\n",
      "300/300 [==============================] - 0s 106us/step - loss: 0.5127 - acc: 0.7700\n",
      "Epoch 39/100\n",
      "300/300 [==============================] - 0s 113us/step - loss: 0.5107 - acc: 0.7800\n",
      "Epoch 40/100\n",
      "300/300 [==============================] - 0s 110us/step - loss: 0.4956 - acc: 0.7867\n",
      "Epoch 41/100\n",
      "300/300 [==============================] - 0s 110us/step - loss: 0.5188 - acc: 0.7867\n",
      "Epoch 42/100\n",
      "300/300 [==============================] - 0s 110us/step - loss: 0.5109 - acc: 0.7933\n",
      "Epoch 43/100\n",
      "300/300 [==============================] - 0s 106us/step - loss: 0.5571 - acc: 0.7600\n",
      "Epoch 44/100\n",
      "300/300 [==============================] - 0s 110us/step - loss: 0.6269 - acc: 0.7167\n",
      "Epoch 45/100\n",
      "300/300 [==============================] - 0s 110us/step - loss: 0.5982 - acc: 0.7167\n",
      "Epoch 46/100\n",
      "300/300 [==============================] - 0s 106us/step - loss: 0.6948 - acc: 0.6933\n",
      "Epoch 47/100\n",
      "300/300 [==============================] - 0s 110us/step - loss: 0.6341 - acc: 0.7067\n",
      "Epoch 48/100\n",
      "300/300 [==============================] - 0s 113us/step - loss: 0.5363 - acc: 0.7500\n",
      "Epoch 49/100\n",
      "300/300 [==============================] - 0s 113us/step - loss: 0.4583 - acc: 0.8200\n",
      "Epoch 50/100\n",
      "300/300 [==============================] - 0s 113us/step - loss: 0.5016 - acc: 0.7733\n",
      "Epoch 51/100\n",
      "300/300 [==============================] - 0s 106us/step - loss: 0.4594 - acc: 0.8200\n",
      "Epoch 52/100\n",
      "300/300 [==============================] - 0s 110us/step - loss: 0.4703 - acc: 0.8267\n",
      "Epoch 53/100\n",
      "300/300 [==============================] - 0s 110us/step - loss: 0.5498 - acc: 0.7667\n",
      "Epoch 54/100\n",
      "300/300 [==============================] - 0s 110us/step - loss: 0.5474 - acc: 0.7600\n",
      "Epoch 55/100\n",
      "300/300 [==============================] - 0s 110us/step - loss: 0.4601 - acc: 0.8167\n",
      "Epoch 56/100\n",
      "300/300 [==============================] - 0s 113us/step - loss: 0.4373 - acc: 0.8500\n",
      "Epoch 57/100\n",
      "300/300 [==============================] - 0s 103us/step - loss: 0.4206 - acc: 0.8467\n",
      "Epoch 58/100\n",
      "300/300 [==============================] - 0s 110us/step - loss: 0.4388 - acc: 0.8433\n",
      "Epoch 59/100\n",
      "300/300 [==============================] - 0s 106us/step - loss: 0.4178 - acc: 0.8567\n",
      "Epoch 60/100\n",
      "300/300 [==============================] - 0s 110us/step - loss: 0.5124 - acc: 0.7667\n",
      "Epoch 61/100\n",
      "300/300 [==============================] - 0s 113us/step - loss: 0.5128 - acc: 0.7900\n",
      "Epoch 62/100\n",
      "300/300 [==============================] - 0s 110us/step - loss: 0.4969 - acc: 0.7867\n",
      "Epoch 63/100\n",
      "300/300 [==============================] - 0s 106us/step - loss: 0.6787 - acc: 0.6967\n",
      "Epoch 64/100\n",
      "300/300 [==============================] - 0s 110us/step - loss: 0.6868 - acc: 0.7267\n",
      "Epoch 65/100\n",
      "300/300 [==============================] - 0s 106us/step - loss: 0.4921 - acc: 0.7600\n",
      "Epoch 66/100\n",
      "300/300 [==============================] - 0s 106us/step - loss: 0.5327 - acc: 0.7433\n",
      "Epoch 67/100\n",
      "300/300 [==============================] - 0s 106us/step - loss: 0.4898 - acc: 0.8033\n",
      "Epoch 68/100\n",
      "300/300 [==============================] - 0s 110us/step - loss: 0.4627 - acc: 0.7767\n",
      "Epoch 69/100\n",
      "300/300 [==============================] - 0s 110us/step - loss: 0.4840 - acc: 0.7667\n",
      "Epoch 70/100\n",
      "300/300 [==============================] - 0s 110us/step - loss: 0.4230 - acc: 0.8300\n",
      "Epoch 71/100\n",
      "300/300 [==============================] - 0s 110us/step - loss: 0.4034 - acc: 0.8333\n",
      "Epoch 72/100\n",
      "300/300 [==============================] - 0s 110us/step - loss: 0.4191 - acc: 0.8400\n",
      "Epoch 73/100\n",
      "300/300 [==============================] - 0s 110us/step - loss: 0.4588 - acc: 0.8067\n",
      "Epoch 74/100\n",
      "300/300 [==============================] - 0s 106us/step - loss: 0.4619 - acc: 0.8100\n",
      "Epoch 75/100\n",
      "300/300 [==============================] - 0s 110us/step - loss: 0.5107 - acc: 0.7733\n",
      "Epoch 76/100\n",
      "300/300 [==============================] - 0s 106us/step - loss: 0.3917 - acc: 0.8433\n",
      "Epoch 77/100\n",
      "300/300 [==============================] - 0s 110us/step - loss: 0.4474 - acc: 0.7967\n",
      "Epoch 78/100\n",
      "300/300 [==============================] - 0s 110us/step - loss: 0.3955 - acc: 0.8600\n",
      "Epoch 79/100\n",
      "300/300 [==============================] - 0s 110us/step - loss: 0.3841 - acc: 0.8633\n",
      "Epoch 80/100\n",
      "300/300 [==============================] - 0s 110us/step - loss: 0.4011 - acc: 0.8267\n",
      "Epoch 81/100\n",
      "300/300 [==============================] - 0s 110us/step - loss: 0.3787 - acc: 0.8267\n",
      "Epoch 82/100\n",
      "300/300 [==============================] - 0s 116us/step - loss: 0.4402 - acc: 0.8200\n",
      "Epoch 83/100\n",
      "300/300 [==============================] - 0s 110us/step - loss: 0.3814 - acc: 0.8533\n",
      "Epoch 84/100\n",
      "300/300 [==============================] - 0s 110us/step - loss: 0.3642 - acc: 0.8733\n",
      "Epoch 85/100\n",
      "300/300 [==============================] - 0s 110us/step - loss: 0.3806 - acc: 0.8500\n",
      "Epoch 86/100\n",
      "300/300 [==============================] - 0s 106us/step - loss: 0.3822 - acc: 0.8467\n",
      "Epoch 87/100\n",
      "300/300 [==============================] - 0s 106us/step - loss: 0.3926 - acc: 0.8533\n",
      "Epoch 88/100\n",
      "300/300 [==============================] - 0s 106us/step - loss: 0.3551 - acc: 0.8700\n",
      "Epoch 89/100\n",
      "300/300 [==============================] - 0s 110us/step - loss: 0.4260 - acc: 0.8167\n",
      "Epoch 90/100\n",
      "300/300 [==============================] - 0s 113us/step - loss: 0.4966 - acc: 0.7700\n",
      "Epoch 91/100\n",
      "300/300 [==============================] - 0s 110us/step - loss: 0.4561 - acc: 0.8200\n",
      "Epoch 92/100\n",
      "300/300 [==============================] - 0s 110us/step - loss: 0.3452 - acc: 0.8733\n",
      "Epoch 93/100\n",
      "300/300 [==============================] - 0s 160us/step - loss: 0.3962 - acc: 0.8100\n",
      "Epoch 94/100\n",
      "300/300 [==============================] - 0s 103us/step - loss: 0.5019 - acc: 0.7767\n",
      "Epoch 95/100\n",
      "300/300 [==============================] - 0s 110us/step - loss: 0.4510 - acc: 0.7700\n",
      "Epoch 96/100\n",
      "300/300 [==============================] - 0s 113us/step - loss: 0.4392 - acc: 0.7933\n",
      "Epoch 97/100\n",
      "300/300 [==============================] - 0s 110us/step - loss: 0.5822 - acc: 0.7567\n",
      "Epoch 98/100\n",
      "300/300 [==============================] - 0s 106us/step - loss: 0.6593 - acc: 0.6967\n",
      "Epoch 99/100\n",
      "300/300 [==============================] - 0s 110us/step - loss: 0.4660 - acc: 0.7933\n",
      "Epoch 100/100\n",
      "300/300 [==============================] - 0s 110us/step - loss: 0.4380 - acc: 0.8100\n"
     ]
    },
    {
     "data": {
      "text/plain": [
       "<keras.callbacks.History at 0x1871f84be48>"
      ]
     },
     "execution_count": 17,
     "metadata": {},
     "output_type": "execute_result"
    }
   ],
   "source": [
    "model.fit(X_train, Y_train, epochs=100, batch_size=32)"
   ]
  },
  {
   "cell_type": "markdown",
   "metadata": {},
   "source": [
    "Let's evaluate our model on the test set :"
   ]
  },
  {
   "cell_type": "code",
   "execution_count": 18,
   "metadata": {},
   "outputs": [
    {
     "name": "stdout",
     "output_type": "stream",
     "text": [
      "300/300 [==============================] - 0s 173us/step\n",
      "Loss : 0.9055636199315389\n",
      "Accuracy : 0.6066666662693023\n"
     ]
    }
   ],
   "source": [
    "Loss, accuracy = model.evaluate(X_test, Y_test, batch_size=32)\n",
    "\n",
    "print(\"Loss : {}\".format(Loss))\n",
    "print(\"Accuracy : {}\".format(accuracy))"
   ]
  },
  {
   "cell_type": "markdown",
   "metadata": {},
   "source": [
    "### Building a convolutional network"
   ]
  },
  {
   "cell_type": "markdown",
   "metadata": {},
   "source": [
    "We notice that the performance is worse on the new dataset. We'll change the model and use a convolutional network.\n",
    "\n",
    "The architecture :\n",
    "  - Convolution with 3 by 3 filters, 8 feature maps + ReLU nonlinearity.\n",
    "  - 2 by 2 max pooling\n",
    "  - Convolution with 3 by 3 filter, 16 feature maps + ReLU nonlinearity.\n",
    "  - 2 by 2 max pooling\n",
    "  - Convolution with 3 by 3 filter, 32 feature maps + ReLU nonlinearity.\n",
    "  - 2 by 2 max pooling\n",
    "  - Flattening\n",
    "  - Linear layer with 3 outputs units + softmax"
   ]
  },
  {
   "cell_type": "code",
   "execution_count": 19,
   "metadata": {},
   "outputs": [],
   "source": [
    "from keras.models import Sequential\n",
    "from keras.layers import Dense, Activation, Conv2D, MaxPooling2D, Flatten\n",
    "from keras.optimizers import SGD\n",
    "from keras import utils as np_utils\n",
    "\n",
    "model = Sequential()\n",
    "model.add(Conv2D(8, kernel_size=(3, 3), activation='relu',input_shape=(72,72,1)))\n",
    "model.add(MaxPooling2D(pool_size=(2, 2), strides=(2, 2)))\n",
    "model.add(Conv2D(16, (3, 3), activation='relu'))\n",
    "model.add(MaxPooling2D(pool_size=(2, 2)))\n",
    "model.add(Conv2D(32, (3, 3), activation='relu'))\n",
    "model.add(MaxPooling2D(pool_size=(2, 2)))\n",
    "model.add(Flatten())\n",
    "model.add(Dense(3, activation='softmax'))\n",
    "\n",
    "adam = Adam(lr=0.001, beta_1=0.9, beta_2=0.999, epsilon=None, decay=0.0, amsgrad=False)\n",
    "\n",
    "model.compile(loss='categorical_crossentropy', optimizer=adam, metrics=['accuracy'])"
   ]
  },
  {
   "cell_type": "code",
   "execution_count": 20,
   "metadata": {},
   "outputs": [],
   "source": [
    "#model.summary()"
   ]
  },
  {
   "cell_type": "markdown",
   "metadata": {},
   "source": [
    "We reshape the train and test sets to fit the model"
   ]
  },
  {
   "cell_type": "code",
   "execution_count": 21,
   "metadata": {},
   "outputs": [],
   "source": [
    "X_train = X_train.reshape(-1,72,72,1)\n",
    "X_test = X_test.reshape(-1,72,72,1)"
   ]
  },
  {
   "cell_type": "markdown",
   "metadata": {},
   "source": [
    "Let's train now our model"
   ]
  },
  {
   "cell_type": "code",
   "execution_count": 22,
   "metadata": {},
   "outputs": [
    {
     "name": "stdout",
     "output_type": "stream",
     "text": [
      "Epoch 1/50\n",
      "300/300 [==============================] - 1s 4ms/step - loss: 1.0801 - acc: 0.4000\n",
      "Epoch 2/50\n",
      "300/300 [==============================] - 0s 264us/step - loss: 1.0501 - acc: 0.5200\n",
      "Epoch 3/50\n",
      "300/300 [==============================] - 0s 253us/step - loss: 0.9944 - acc: 0.6033\n",
      "Epoch 4/50\n",
      "300/300 [==============================] - 0s 254us/step - loss: 0.9117 - acc: 0.6400\n",
      "Epoch 5/50\n",
      "300/300 [==============================] - 0s 256us/step - loss: 0.8273 - acc: 0.6600\n",
      "Epoch 6/50\n",
      "300/300 [==============================] - 0s 257us/step - loss: 0.7289 - acc: 0.7000\n",
      "Epoch 7/50\n",
      "300/300 [==============================] - 0s 249us/step - loss: 0.6530 - acc: 0.7100\n",
      "Epoch 8/50\n",
      "300/300 [==============================] - 0s 253us/step - loss: 0.6093 - acc: 0.7567\n",
      "Epoch 9/50\n",
      "300/300 [==============================] - 0s 251us/step - loss: 0.5558 - acc: 0.7633\n",
      "Epoch 10/50\n",
      "300/300 [==============================] - 0s 253us/step - loss: 0.5278 - acc: 0.7833\n",
      "Epoch 11/50\n",
      "300/300 [==============================] - 0s 256us/step - loss: 0.5188 - acc: 0.7833\n",
      "Epoch 12/50\n",
      "300/300 [==============================] - 0s 256us/step - loss: 0.4620 - acc: 0.8333\n",
      "Epoch 13/50\n",
      "300/300 [==============================] - 0s 253us/step - loss: 0.4268 - acc: 0.8333\n",
      "Epoch 14/50\n",
      "300/300 [==============================] - 0s 253us/step - loss: 0.4126 - acc: 0.8200\n",
      "Epoch 15/50\n",
      "300/300 [==============================] - 0s 253us/step - loss: 0.3812 - acc: 0.8300\n",
      "Epoch 16/50\n",
      "300/300 [==============================] - 0s 256us/step - loss: 0.3317 - acc: 0.8967\n",
      "Epoch 17/50\n",
      "300/300 [==============================] - 0s 252us/step - loss: 0.3036 - acc: 0.9133\n",
      "Epoch 18/50\n",
      "300/300 [==============================] - 0s 249us/step - loss: 0.2924 - acc: 0.9000\n",
      "Epoch 19/50\n",
      "300/300 [==============================] - 0s 254us/step - loss: 0.2924 - acc: 0.9000\n",
      "Epoch 20/50\n",
      "300/300 [==============================] - 0s 256us/step - loss: 0.2522 - acc: 0.9267\n",
      "Epoch 21/50\n",
      "300/300 [==============================] - 0s 240us/step - loss: 0.2421 - acc: 0.9267\n",
      "Epoch 22/50\n",
      "300/300 [==============================] - 0s 264us/step - loss: 0.2077 - acc: 0.9467\n",
      "Epoch 23/50\n",
      "300/300 [==============================] - 0s 253us/step - loss: 0.2385 - acc: 0.9233\n",
      "Epoch 24/50\n",
      "300/300 [==============================] - 0s 249us/step - loss: 0.1644 - acc: 0.9767\n",
      "Epoch 25/50\n",
      "300/300 [==============================] - 0s 253us/step - loss: 0.1533 - acc: 0.9767\n",
      "Epoch 26/50\n",
      "300/300 [==============================] - 0s 256us/step - loss: 0.1351 - acc: 0.9667\n",
      "Epoch 27/50\n",
      "300/300 [==============================] - 0s 252us/step - loss: 0.1194 - acc: 0.9767\n",
      "Epoch 28/50\n",
      "300/300 [==============================] - 0s 253us/step - loss: 0.1253 - acc: 0.9800\n",
      "Epoch 29/50\n",
      "300/300 [==============================] - 0s 251us/step - loss: 0.1101 - acc: 0.9800\n",
      "Epoch 30/50\n",
      "300/300 [==============================] - 0s 256us/step - loss: 0.1129 - acc: 0.9767\n",
      "Epoch 31/50\n",
      "300/300 [==============================] - 0s 243us/step - loss: 0.0883 - acc: 0.9867\n",
      "Epoch 32/50\n",
      "300/300 [==============================] - 0s 263us/step - loss: 0.0817 - acc: 0.9900\n",
      "Epoch 33/50\n",
      "300/300 [==============================] - 0s 253us/step - loss: 0.0730 - acc: 0.9933\n",
      "Epoch 34/50\n",
      "300/300 [==============================] - 0s 253us/step - loss: 0.0737 - acc: 0.9867\n",
      "Epoch 35/50\n",
      "300/300 [==============================] - 0s 253us/step - loss: 0.0610 - acc: 0.9933\n",
      "Epoch 36/50\n",
      "300/300 [==============================] - 0s 256us/step - loss: 0.0537 - acc: 0.9933\n",
      "Epoch 37/50\n",
      "300/300 [==============================] - 0s 255us/step - loss: 0.0715 - acc: 0.9867\n",
      "Epoch 38/50\n",
      "300/300 [==============================] - 0s 253us/step - loss: 0.0577 - acc: 0.9933\n",
      "Epoch 39/50\n",
      "300/300 [==============================] - 0s 256us/step - loss: 0.0536 - acc: 0.9967\n",
      "Epoch 40/50\n",
      "300/300 [==============================] - 0s 253us/step - loss: 0.0443 - acc: 0.9967\n",
      "Epoch 41/50\n",
      "300/300 [==============================] - 0s 240us/step - loss: 0.0412 - acc: 0.9933\n",
      "Epoch 42/50\n",
      "300/300 [==============================] - 0s 271us/step - loss: 0.0361 - acc: 0.9967\n",
      "Epoch 43/50\n",
      "300/300 [==============================] - 0s 256us/step - loss: 0.0325 - acc: 0.9967\n",
      "Epoch 44/50\n",
      "300/300 [==============================] - 0s 256us/step - loss: 0.0306 - acc: 0.9967\n",
      "Epoch 45/50\n",
      "300/300 [==============================] - 0s 257us/step - loss: 0.0306 - acc: 0.9967\n",
      "Epoch 46/50\n",
      "300/300 [==============================] - 0s 256us/step - loss: 0.0273 - acc: 0.9967\n",
      "Epoch 47/50\n",
      "300/300 [==============================] - 0s 252us/step - loss: 0.0267 - acc: 0.9967\n",
      "Epoch 48/50\n",
      "300/300 [==============================] - 0s 253us/step - loss: 0.0274 - acc: 0.9967\n",
      "Epoch 49/50\n",
      "300/300 [==============================] - 0s 260us/step - loss: 0.0242 - acc: 0.9967\n",
      "Epoch 50/50\n",
      "300/300 [==============================] - 0s 253us/step - loss: 0.0272 - acc: 0.9967\n"
     ]
    },
    {
     "data": {
      "text/plain": [
       "<keras.callbacks.History at 0x187190b02e8>"
      ]
     },
     "execution_count": 22,
     "metadata": {},
     "output_type": "execute_result"
    }
   ],
   "source": [
    "model.fit(X_train, Y_train, epochs=50, batch_size=32)"
   ]
  },
  {
   "cell_type": "markdown",
   "metadata": {},
   "source": [
    "Let's evaluate it using the test set"
   ]
  },
  {
   "cell_type": "code",
   "execution_count": 23,
   "metadata": {},
   "outputs": [
    {
     "name": "stdout",
     "output_type": "stream",
     "text": [
      "300/300 [==============================] - 0s 286us/step\n",
      "Loss : 0.6953560638427735\n",
      "Accuracy : 0.8033333333333333\n"
     ]
    }
   ],
   "source": [
    "ConvLoss, Conv_accuracy = model.evaluate(X_test, Y_test, batch_size=32)\n",
    "\n",
    "print(\"Loss : {}\".format(ConvLoss))\n",
    "print(\"Accuracy : {}\".format(Conv_accuracy))"
   ]
  },
  {
   "cell_type": "markdown",
   "metadata": {},
   "source": [
    "We clearly see that the convolutional network performs much better than the simple fully connected architecture. Indeed, the CNN extracts features before performing a classification with a fully connected layer, which explains their performance."
   ]
  },
  {
   "cell_type": "markdown",
   "metadata": {},
   "source": [
    "# Regression Problem"
   ]
  },
  {
   "cell_type": "markdown",
   "metadata": {},
   "source": [
    "The task now is to predict the image locations of the vertices of a triangle, given an image of this triangle.\n",
    "\n",
    "We'll generate 300 triangles for each of the training and test set, knowing the location of the vertices."
   ]
  },
  {
   "cell_type": "code",
   "execution_count": 24,
   "metadata": {},
   "outputs": [
    {
     "name": "stdout",
     "output_type": "stream",
     "text": [
      "Creating data.. Done\n",
      "Creating data.. Done\n"
     ]
    }
   ],
   "source": [
    "[X_train, Y_train] = generate_dataset_regression(1000, 20)\n",
    "[X_test, Y_test] = generate_test_set_regression()"
   ]
  },
  {
   "cell_type": "markdown",
   "metadata": {},
   "source": [
    "We can visualize what the data looks like :"
   ]
  },
  {
   "cell_type": "code",
   "execution_count": 25,
   "metadata": {},
   "outputs": [
    {
     "data": {
      "image/png": "[encoded data removed]",
      "text/plain": [
       "<Figure size 360x360 with 1 Axes>"
      ]
     },
     "metadata": {
      "needs_background": "light"
     },
     "output_type": "display_data"
    }
   ],
   "source": [
    "i=np.random.randint(X_train.shape[0])\n",
    "visualize_prediction(X_train[i], Y_train[i])"
   ]
  },
  {
   "cell_type": "markdown",
   "metadata": {},
   "source": [
    "We sort the labels by the norm of the vertices for each triangles to give a certain meaning for our label"
   ]
  },
  {
   "cell_type": "code",
   "execution_count": 26,
   "metadata": {},
   "outputs": [],
   "source": [
    "def sort_norm(Y):\n",
    "    a=np.argsort(np.linalg.norm(Y.reshape(-1,3,2),axis=2),axis=1)\n",
    "    Y_=Y.reshape(-1,3,2)\n",
    "    for i in range(Y.shape[0]):\n",
    "        Y_[i]=Y_[i][a[i]]\n",
    "    return Y_.reshape(Y.shape)"
   ]
  },
  {
   "cell_type": "code",
   "execution_count": 27,
   "metadata": {},
   "outputs": [],
   "source": [
    "Y_train_sorted = sort_norm(Y_train)\n",
    "Y_test_sorted = sort_norm(Y_test)"
   ]
  },
  {
   "cell_type": "markdown",
   "metadata": {},
   "source": [
    "We then center the data and labels to ease the convergence :"
   ]
  },
  {
   "cell_type": "code",
   "execution_count": 28,
   "metadata": {},
   "outputs": [],
   "source": [
    "X_train = X_train - 0.5\n",
    "Y_train_sorted = Y_train_sorted - 0.5 \n",
    "\n",
    "X_test = X_test - 0.5\n",
    "Y_test_sorted = Y_test_sorted - 0.5"
   ]
  },
  {
   "cell_type": "markdown",
   "metadata": {},
   "source": [
    "We then scale the images and labels :"
   ]
  },
  {
   "cell_type": "code",
   "execution_count": 29,
   "metadata": {},
   "outputs": [],
   "source": [
    "# from sklearn.preprocessing import StandardScaler\n",
    "\n",
    "# scaler_train = StandardScaler()\n",
    "# scaler.fit_transform()"
   ]
  },
  {
   "cell_type": "markdown",
   "metadata": {},
   "source": [
    "We'll use this following model :"
   ]
  },
  {
   "cell_type": "code",
   "execution_count": 30,
   "metadata": {},
   "outputs": [],
   "source": [
    "model = Sequential()\n",
    "model.add(Conv2D(8, kernel_size=(5, 5), activation='relu',input_shape=(72,72,1)))\n",
    "model.add(MaxPooling2D(pool_size=(2, 2), strides=(2, 2)))\n",
    "model.add(Conv2D(16, (5, 5), activation='relu'))\n",
    "model.add(MaxPooling2D(pool_size=(2, 2)))\n",
    "model.add(Conv2D(32, (5, 5), activation='relu'))\n",
    "model.add(MaxPooling2D(pool_size=(2, 2)))\n",
    "model.add(Conv2D(64, (5, 5), activation='relu', padding='same'))\n",
    "model.add(MaxPooling2D(pool_size=(2, 2)))\n",
    "model.add(Conv2D(128, (5, 5), activation='relu', padding='same'))\n",
    "model.add(MaxPooling2D(pool_size=(2, 2)))\n",
    "model.add(Flatten())\n",
    "#model.add(Dense(512, activation='relu'))\n",
    "model.add(Dense(6, activation='linear'))\n",
    "\n",
    "adam = Adam(lr=0.001, beta_1=0.9, beta_2=0.999, epsilon=None, decay=1e-6, amsgrad=True)\n",
    "sgd = SGD(lr=0.001, decay=1e-6, momentum=0.5, nesterov=True)\n",
    "\n",
    "model.compile(loss=\"mean_absolute_error\", optimizer=adam)"
   ]
  },
  {
   "cell_type": "code",
   "execution_count": 31,
   "metadata": {},
   "outputs": [
    {
     "name": "stdout",
     "output_type": "stream",
     "text": [
      "_________________________________________________________________\n",
      "Layer (type)                 Output Shape              Param #   \n",
      "=================================================================\n",
      "conv2d_4 (Conv2D)            (None, 68, 68, 8)         208       \n",
      "_________________________________________________________________\n",
      "max_pooling2d_4 (MaxPooling2 (None, 34, 34, 8)         0         \n",
      "_________________________________________________________________\n",
      "conv2d_5 (Conv2D)            (None, 30, 30, 16)        3216      \n",
      "_________________________________________________________________\n",
      "max_pooling2d_5 (MaxPooling2 (None, 15, 15, 16)        0         \n",
      "_________________________________________________________________\n",
      "conv2d_6 (Conv2D)            (None, 11, 11, 32)        12832     \n",
      "_________________________________________________________________\n",
      "max_pooling2d_6 (MaxPooling2 (None, 5, 5, 32)          0         \n",
      "_________________________________________________________________\n",
      "conv2d_7 (Conv2D)            (None, 5, 5, 64)          51264     \n",
      "_________________________________________________________________\n",
      "max_pooling2d_7 (MaxPooling2 (None, 2, 2, 64)          0         \n",
      "_________________________________________________________________\n",
      "conv2d_8 (Conv2D)            (None, 2, 2, 128)         204928    \n",
      "_________________________________________________________________\n",
      "max_pooling2d_8 (MaxPooling2 (None, 1, 1, 128)         0         \n",
      "_________________________________________________________________\n",
      "flatten_2 (Flatten)          (None, 128)               0         \n",
      "_________________________________________________________________\n",
      "dense_5 (Dense)              (None, 6)                 774       \n",
      "=================================================================\n",
      "Total params: 273,222\n",
      "Trainable params: 273,222\n",
      "Non-trainable params: 0\n",
      "_________________________________________________________________\n"
     ]
    }
   ],
   "source": [
    "model.summary()"
   ]
  },
  {
   "cell_type": "markdown",
   "metadata": {},
   "source": [
    "We reshape the train and test sets to fit the model"
   ]
  },
  {
   "cell_type": "code",
   "execution_count": 32,
   "metadata": {},
   "outputs": [],
   "source": [
    "X_train = X_train.reshape(-1,72,72,1)\n",
    "X_test = X_test.reshape(-1,72,72,1)"
   ]
  },
  {
   "cell_type": "markdown",
   "metadata": {},
   "source": [
    "Everything being set, let's train the model :"
   ]
  },
  {
   "cell_type": "code",
   "execution_count": 33,
   "metadata": {},
   "outputs": [
    {
     "name": "stdout",
     "output_type": "stream",
     "text": [
      "Train on 1000 samples, validate on 300 samples\n",
      "Epoch 1/100\n",
      "1000/1000 [==============================] - 1s 857us/step - loss: 0.1874 - val_loss: 0.1639\n",
      "Epoch 2/100\n",
      "1000/1000 [==============================] - 0s 362us/step - loss: 0.1346 - val_loss: 0.1395\n",
      "Epoch 3/100\n",
      "1000/1000 [==============================] - 0s 366us/step - loss: 0.1127 - val_loss: 0.1193\n",
      "Epoch 4/100\n",
      "1000/1000 [==============================] - 0s 377us/step - loss: 0.0981 - val_loss: 0.1027\n",
      "Epoch 5/100\n",
      "1000/1000 [==============================] - 0s 374us/step - loss: 0.0880 - val_loss: 0.0989\n",
      "Epoch 6/100\n",
      "1000/1000 [==============================] - 0s 363us/step - loss: 0.0810 - val_loss: 0.0970\n",
      "Epoch 7/100\n",
      "1000/1000 [==============================] - 0s 367us/step - loss: 0.0765 - val_loss: 0.0888\n",
      "Epoch 8/100\n",
      "1000/1000 [==============================] - 0s 367us/step - loss: 0.0722 - val_loss: 0.0897\n",
      "Epoch 9/100\n",
      "1000/1000 [==============================] - 0s 350us/step - loss: 0.0691 - val_loss: 0.0848\n",
      "Epoch 10/100\n",
      "1000/1000 [==============================] - 0s 383us/step - loss: 0.0668 - val_loss: 0.0835\n",
      "Epoch 11/100\n",
      "1000/1000 [==============================] - 0s 352us/step - loss: 0.0597 - val_loss: 0.0792\n",
      "Epoch 12/100\n",
      "1000/1000 [==============================] - 0s 365us/step - loss: 0.0521 - val_loss: 0.0789\n",
      "Epoch 13/100\n",
      "1000/1000 [==============================] - 0s 365us/step - loss: 0.0522 - val_loss: 0.0842\n",
      "Epoch 14/100\n",
      "1000/1000 [==============================] - 0s 372us/step - loss: 0.0495 - val_loss: 0.0751\n",
      "Epoch 15/100\n",
      "1000/1000 [==============================] - 0s 375us/step - loss: 0.0429 - val_loss: 0.0758\n",
      "Epoch 16/100\n",
      "1000/1000 [==============================] - 0s 369us/step - loss: 0.0417 - val_loss: 0.0772\n",
      "Epoch 17/100\n",
      "1000/1000 [==============================] - 0s 357us/step - loss: 0.0413 - val_loss: 0.0745\n",
      "Epoch 18/100\n",
      "1000/1000 [==============================] - 0s 388us/step - loss: 0.0367 - val_loss: 0.0721\n",
      "Epoch 19/100\n",
      "1000/1000 [==============================] - 0s 353us/step - loss: 0.0350 - val_loss: 0.0711\n",
      "Epoch 20/100\n",
      "1000/1000 [==============================] - 0s 363us/step - loss: 0.0353 - val_loss: 0.0715\n",
      "Epoch 21/100\n",
      "1000/1000 [==============================] - 0s 367us/step - loss: 0.0318 - val_loss: 0.0708\n",
      "Epoch 22/100\n",
      "1000/1000 [==============================] - 0s 370us/step - loss: 0.0317 - val_loss: 0.0706\n",
      "Epoch 23/100\n",
      "1000/1000 [==============================] - 0s 366us/step - loss: 0.0323 - val_loss: 0.0705\n",
      "Epoch 24/100\n",
      "1000/1000 [==============================] - 0s 367us/step - loss: 0.0283 - val_loss: 0.0682\n",
      "Epoch 25/100\n",
      "1000/1000 [==============================] - 0s 351us/step - loss: 0.0287 - val_loss: 0.0710\n",
      "Epoch 26/100\n",
      "1000/1000 [==============================] - 0s 364us/step - loss: 0.0283 - val_loss: 0.0685\n",
      "Epoch 27/100\n",
      "1000/1000 [==============================] - 0s 366us/step - loss: 0.0263 - val_loss: 0.0704\n",
      "Epoch 28/100\n",
      "1000/1000 [==============================] - 0s 386us/step - loss: 0.0258 - val_loss: 0.0744\n",
      "Epoch 29/100\n",
      "1000/1000 [==============================] - 0s 364us/step - loss: 0.0250 - val_loss: 0.0698\n",
      "Epoch 30/100\n",
      "1000/1000 [==============================] - 0s 378us/step - loss: 0.0250 - val_loss: 0.0688\n",
      "Epoch 31/100\n",
      "1000/1000 [==============================] - 0s 371us/step - loss: 0.0232 - val_loss: 0.0700\n",
      "Epoch 32/100\n",
      "1000/1000 [==============================] - 0s 365us/step - loss: 0.0229 - val_loss: 0.0704\n",
      "Epoch 33/100\n",
      "1000/1000 [==============================] - 0s 367us/step - loss: 0.0227 - val_loss: 0.0709\n",
      "Epoch 34/100\n",
      "1000/1000 [==============================] - 0s 363us/step - loss: 0.0230 - val_loss: 0.0674\n",
      "Epoch 35/100\n",
      "1000/1000 [==============================] - 0s 355us/step - loss: 0.0208 - val_loss: 0.0675\n",
      "Epoch 36/100\n",
      "1000/1000 [==============================] - 0s 366us/step - loss: 0.0207 - val_loss: 0.0687\n",
      "Epoch 37/100\n",
      "1000/1000 [==============================] - 0s 367us/step - loss: 0.0205 - val_loss: 0.0685\n",
      "Epoch 38/100\n",
      "1000/1000 [==============================] - 0s 365us/step - loss: 0.0197 - val_loss: 0.0680\n",
      "Epoch 39/100\n",
      "1000/1000 [==============================] - 0s 367us/step - loss: 0.0195 - val_loss: 0.0665\n",
      "Epoch 40/100\n",
      "1000/1000 [==============================] - 0s 371us/step - loss: 0.0189 - val_loss: 0.0680\n",
      "Epoch 41/100\n",
      "1000/1000 [==============================] - 0s 366us/step - loss: 0.0190 - val_loss: 0.0677\n",
      "Epoch 42/100\n",
      "1000/1000 [==============================] - 0s 364us/step - loss: 0.0183 - val_loss: 0.0677\n",
      "Epoch 43/100\n",
      "1000/1000 [==============================] - 0s 357us/step - loss: 0.0179 - val_loss: 0.0672\n",
      "Epoch 44/100\n",
      "1000/1000 [==============================] - 0s 375us/step - loss: 0.0162 - val_loss: 0.0683\n",
      "Epoch 45/100\n",
      "1000/1000 [==============================] - 0s 367us/step - loss: 0.0183 - val_loss: 0.0683\n",
      "Epoch 46/100\n",
      "1000/1000 [==============================] - 0s 359us/step - loss: 0.0178 - val_loss: 0.0671\n",
      "Epoch 47/100\n",
      "1000/1000 [==============================] - 0s 357us/step - loss: 0.0184 - val_loss: 0.0680\n",
      "Epoch 48/100\n",
      "1000/1000 [==============================] - 0s 375us/step - loss: 0.0184 - val_loss: 0.0683\n",
      "Epoch 49/100\n",
      "1000/1000 [==============================] - 0s 371us/step - loss: 0.0188 - val_loss: 0.0666\n",
      "Epoch 50/100\n",
      "1000/1000 [==============================] - 0s 352us/step - loss: 0.0169 - val_loss: 0.0674\n",
      "Epoch 51/100\n",
      "1000/1000 [==============================] - 0s 367us/step - loss: 0.0179 - val_loss: 0.0664\n",
      "Epoch 52/100\n",
      "1000/1000 [==============================] - 0s 378us/step - loss: 0.0171 - val_loss: 0.0670\n",
      "Epoch 53/100\n",
      "1000/1000 [==============================] - 0s 373us/step - loss: 0.0165 - val_loss: 0.0678\n",
      "Epoch 54/100\n",
      "1000/1000 [==============================] - 0s 369us/step - loss: 0.0169 - val_loss: 0.0676\n",
      "Epoch 55/100\n",
      "1000/1000 [==============================] - 0s 366us/step - loss: 0.0155 - val_loss: 0.0676\n",
      "Epoch 56/100\n",
      "1000/1000 [==============================] - 0s 363us/step - loss: 0.0163 - val_loss: 0.0687\n",
      "Epoch 57/100\n",
      "1000/1000 [==============================] - 0s 388us/step - loss: 0.0176 - val_loss: 0.0680\n",
      "Epoch 58/100\n",
      "1000/1000 [==============================] - 0s 353us/step - loss: 0.0175 - val_loss: 0.0681\n",
      "Epoch 59/100\n",
      "1000/1000 [==============================] - 0s 363us/step - loss: 0.0171 - val_loss: 0.0682\n",
      "Epoch 60/100\n",
      "1000/1000 [==============================] - 0s 365us/step - loss: 0.0147 - val_loss: 0.0663\n",
      "Epoch 61/100\n",
      "1000/1000 [==============================] - 0s 369us/step - loss: 0.0146 - val_loss: 0.0665\n",
      "Epoch 62/100\n",
      "1000/1000 [==============================] - 0s 365us/step - loss: 0.0154 - val_loss: 0.0666\n",
      "Epoch 63/100\n",
      "1000/1000 [==============================] - 0s 367us/step - loss: 0.0150 - val_loss: 0.0664\n",
      "Epoch 64/100\n",
      "1000/1000 [==============================] - 0s 376us/step - loss: 0.0144 - val_loss: 0.0659\n",
      "Epoch 65/100\n",
      "1000/1000 [==============================] - 0s 370us/step - loss: 0.0145 - val_loss: 0.0657\n",
      "Epoch 66/100\n",
      "1000/1000 [==============================] - 0s 351us/step - loss: 0.0150 - val_loss: 0.0677\n",
      "Epoch 67/100\n",
      "1000/1000 [==============================] - 0s 368us/step - loss: 0.0160 - val_loss: 0.0655\n",
      "Epoch 68/100\n",
      "1000/1000 [==============================] - 0s 382us/step - loss: 0.0135 - val_loss: 0.0664\n",
      "Epoch 69/100\n",
      "1000/1000 [==============================] - 0s 386us/step - loss: 0.0139 - val_loss: 0.0652\n",
      "Epoch 70/100\n",
      "1000/1000 [==============================] - 0s 363us/step - loss: 0.0130 - val_loss: 0.0669\n",
      "Epoch 71/100\n",
      "1000/1000 [==============================] - 0s 386us/step - loss: 0.0140 - val_loss: 0.0681\n",
      "Epoch 72/100\n",
      "1000/1000 [==============================] - 0s 362us/step - loss: 0.0140 - val_loss: 0.0665\n",
      "Epoch 73/100\n",
      "1000/1000 [==============================] - 0s 373us/step - loss: 0.0137 - val_loss: 0.0656\n",
      "Epoch 74/100\n",
      "1000/1000 [==============================] - 0s 353us/step - loss: 0.0130 - val_loss: 0.0649\n",
      "Epoch 75/100\n",
      "1000/1000 [==============================] - 0s 375us/step - loss: 0.0130 - val_loss: 0.0650\n",
      "Epoch 76/100\n",
      "1000/1000 [==============================] - 0s 368us/step - loss: 0.0131 - val_loss: 0.0660\n",
      "Epoch 77/100\n",
      "1000/1000 [==============================] - 0s 361us/step - loss: 0.0124 - val_loss: 0.0655\n",
      "Epoch 78/100\n",
      "1000/1000 [==============================] - 0s 370us/step - loss: 0.0121 - val_loss: 0.0661\n",
      "Epoch 79/100\n",
      "1000/1000 [==============================] - 0s 366us/step - loss: 0.0137 - val_loss: 0.0657\n",
      "Epoch 80/100\n",
      "1000/1000 [==============================] - 0s 367us/step - loss: 0.0126 - val_loss: 0.0665\n",
      "Epoch 81/100\n",
      "1000/1000 [==============================] - 0s 367us/step - loss: 0.0149 - val_loss: 0.0652\n",
      "Epoch 82/100\n",
      "1000/1000 [==============================] - 0s 366us/step - loss: 0.0134 - val_loss: 0.0653\n",
      "Epoch 83/100\n",
      "1000/1000 [==============================] - 0s 355us/step - loss: 0.0125 - val_loss: 0.0658\n",
      "Epoch 84/100\n",
      "1000/1000 [==============================] - 0s 378us/step - loss: 0.0130 - val_loss: 0.0655\n",
      "Epoch 85/100\n",
      "1000/1000 [==============================] - 0s 365us/step - loss: 0.0118 - val_loss: 0.0654\n",
      "Epoch 86/100\n",
      "1000/1000 [==============================] - 0s 358us/step - loss: 0.0111 - val_loss: 0.0657\n",
      "Epoch 87/100\n",
      "1000/1000 [==============================] - 0s 360us/step - loss: 0.0118 - val_loss: 0.0660\n",
      "Epoch 88/100\n",
      "1000/1000 [==============================] - 0s 383us/step - loss: 0.0125 - val_loss: 0.0654\n",
      "Epoch 89/100\n",
      "1000/1000 [==============================] - 0s 384us/step - loss: 0.0116 - val_loss: 0.0658\n",
      "Epoch 90/100\n",
      "1000/1000 [==============================] - 0s 371us/step - loss: 0.0117 - val_loss: 0.0652\n",
      "Epoch 91/100\n",
      "1000/1000 [==============================] - 0s 365us/step - loss: 0.0120 - val_loss: 0.0654\n",
      "Epoch 92/100\n",
      "1000/1000 [==============================] - 0s 362us/step - loss: 0.0139 - val_loss: 0.0662\n",
      "Epoch 93/100\n",
      "1000/1000 [==============================] - 0s 365us/step - loss: 0.0123 - val_loss: 0.0644\n",
      "Epoch 94/100\n",
      "1000/1000 [==============================] - 0s 368us/step - loss: 0.0121 - val_loss: 0.0652\n",
      "Epoch 95/100\n",
      "1000/1000 [==============================] - 0s 368us/step - loss: 0.0109 - val_loss: 0.0650\n",
      "Epoch 96/100\n",
      "1000/1000 [==============================] - 0s 366us/step - loss: 0.0113 - val_loss: 0.0657\n",
      "Epoch 97/100\n",
      "1000/1000 [==============================] - 0s 366us/step - loss: 0.0115 - val_loss: 0.0650\n",
      "Epoch 98/100\n",
      "1000/1000 [==============================] - 0s 375us/step - loss: 0.0121 - val_loss: 0.0669\n",
      "Epoch 99/100\n",
      "1000/1000 [==============================] - 0s 358us/step - loss: 0.0114 - val_loss: 0.0654\n",
      "Epoch 100/100\n",
      "1000/1000 [==============================] - 0s 365us/step - loss: 0.0112 - val_loss: 0.0651\n"
     ]
    },
    {
     "data": {
      "text/plain": [
       "<keras.callbacks.History at 0x188509ed940>"
      ]
     },
     "execution_count": 33,
     "metadata": {},
     "output_type": "execute_result"
    }
   ],
   "source": [
    "model.fit(X_train, Y_train_sorted, epochs=100, batch_size=32, validation_data=(X_test,Y_test_sorted))"
   ]
  },
  {
   "cell_type": "code",
   "execution_count": 34,
   "metadata": {},
   "outputs": [],
   "source": [
    "Y_test_pred=model.predict(X_test)\n",
    "Y_train_pred=model.predict(X_train)"
   ]
  },
  {
   "cell_type": "markdown",
   "metadata": {},
   "source": [
    "We "
   ]
  },
  {
   "cell_type": "code",
   "execution_count": 35,
   "metadata": {},
   "outputs": [
    {
     "data": {
      "image/png": "[encoded data removed]",
      "text/plain": [
       "<Figure size 360x360 with 1 Axes>"
      ]
     },
     "metadata": {
      "needs_background": "light"
     },
     "output_type": "display_data"
    },
    {
     "data": {
      "image/png": "[encoded data removed]",
      "text/plain": [
       "<Figure size 360x360 with 1 Axes>"
      ]
     },
     "metadata": {
      "needs_background": "light"
     },
     "output_type": "display_data"
    }
   ],
   "source": [
    "i=np.random.randint(300)\n",
    "\n",
    "visualize_prediction(X_train[i]+0.5, Y_train_sorted[i]+0.5)\n",
    "\n",
    "visualize_prediction(X_train[i]+0.5, Y_train_pred[i]+0.5)"
   ]
  },
  {
   "cell_type": "code",
   "execution_count": 36,
   "metadata": {},
   "outputs": [
    {
     "data": {
      "image/png": "[encoded data removed]",
      "text/plain": [
       "<Figure size 360x360 with 1 Axes>"
      ]
     },
     "metadata": {
      "needs_background": "light"
     },
     "output_type": "display_data"
    },
    {
     "data": {
      "image/png": "[encoded data removed]",
      "text/plain": [
       "<Figure size 360x360 with 1 Axes>"
      ]
     },
     "metadata": {
      "needs_background": "light"
     },
     "output_type": "display_data"
    }
   ],
   "source": [
    "i=np.random.randint(300)\n",
    "\n",
    "visualize_prediction(X_test[i]+0.5, Y_test_sorted[i]+0.5)\n",
    "\n",
    "visualize_prediction(X_test[i]+0.5, Y_test_pred[i]+0.5)"
   ]
  },
  {
   "cell_type": "markdown",
   "metadata": {},
   "source": [
    "# Image Denoising"
   ]
  },
  {
   "cell_type": "markdown",
   "metadata": {},
   "source": [
    "We modifiy the code to generate pairs of images where one image has noise with random amplitude, and the second image has the same content but without noise."
   ]
  },
  {
   "cell_type": "code",
   "execution_count": 37,
   "metadata": {},
   "outputs": [],
   "source": [
    "def generate_dataset_denoising(nb_samples, noise=50, free_location=False):\n",
    "    # Getting im_size:\n",
    "    im_size = generate_a_rectangle().shape[0]\n",
    "    X_clear = np.zeros([nb_samples,im_size])\n",
    "    X_noise = np.zeros([nb_samples,im_size])\n",
    "    print('Creating data',end=\".. \")\n",
    "    for i in range(nb_samples):\n",
    "        rng = np.random.randint(9999)\n",
    "        category = np.random.randint(3)\n",
    "        if noise>0: rand_noise = np.random.randint(noise)\n",
    "        else: rand_noise=noise\n",
    "        if category == 0:\n",
    "            X_clear[i] = generate_a_rectangle_seed(np.random.RandomState(rng), 0, free_location)\n",
    "            X_noise[i] = generate_a_rectangle_seed(np.random.RandomState(rng), rand_noise, free_location) \n",
    "        elif category == 1: \n",
    "            X_clear[i] = generate_a_disk_seed(np.random.RandomState(rng), 0, free_location)\n",
    "            X_noise[i] = generate_a_disk_seed(np.random.RandomState(rng), rand_noise, free_location)\n",
    "        else:\n",
    "            [X_clear[i], V] = generate_a_triangle_seed(np.random.RandomState(rng), 0, free_location)\n",
    "            [X_noise[i], V] = generate_a_triangle_seed(np.random.RandomState(rng), rand_noise, free_location)\n",
    "                   \n",
    "        X_noise[i] = (X_noise[i] + rand_noise) / (255 + 2 * rand_noise)\n",
    "   \n",
    "    X_clear = X_clear / 255 \n",
    "    print(\"Done\")\n",
    "    return [X_clear, X_noise]\n",
    "\n",
    "def generate_a_rectangle_seed(rng, noise=0.0, free_location=False):\n",
    "    figsize = 1.0    \n",
    "    U = np.zeros(4)\n",
    "    V = np.zeros(4)\n",
    "    if free_location:\n",
    "        corners = rng.uniform(4)\n",
    "        top = max(corners[0], corners[1])\n",
    "        bottom = min(corners[0], corners[1])\n",
    "        left = min(corners[2], corners[3])\n",
    "        right = max(corners[2], corners[3])\n",
    "    else:\n",
    "        side = (0.3 + 0.7 * rng.uniform()) * figsize\n",
    "        top = figsize/2 + side/2\n",
    "        bottom = figsize/2 - side/2\n",
    "        left = bottom\n",
    "        right = top\n",
    "    U[0] = U[1] = top\n",
    "    U[2] = U[3] = bottom\n",
    "    V[0] = V[3] = left\n",
    "    V[1] = V[2] = right\n",
    "    return generate_a_drawing(figsize, U, V, noise)\n",
    "\n",
    "\n",
    "def generate_a_disk_seed(rng, noise=0.0, free_location=False):\n",
    "    figsize = 1.0\n",
    "    if free_location:\n",
    "        center = rng.random(2)\n",
    "    else:\n",
    "        center = (figsize/2, figsize/2)\n",
    "    radius = (0.3 + 0.7 * rng.uniform()) * figsize/2\n",
    "    N = 50\n",
    "    U = np.zeros(N)\n",
    "    V = np.zeros(N)\n",
    "    i = 0\n",
    "    for t in np.linspace(0, 2*np.pi, N):\n",
    "        U[i] = center[0] + np.cos(t) * radius\n",
    "        V[i] = center[1] + np.sin(t) * radius\n",
    "        i = i + 1\n",
    "    return generate_a_drawing(figsize, U, V, noise)\n",
    "\n",
    "def generate_a_triangle_seed(rng, noise=0.0, free_location=False):\n",
    "    figsize = 1.0\n",
    "    if free_location:\n",
    "        U = rng.random(3)\n",
    "        V = rng.random(3)\n",
    "    else:\n",
    "        size = (0.3 + 0.7 * rng.uniform())*figsize/2\n",
    "        middle = figsize/2\n",
    "        U = (middle, middle+size, middle-size)\n",
    "        V = (middle+size, middle-size, middle-size)\n",
    "    imdata = generate_a_drawing(figsize, U, V, noise)\n",
    "    return [imdata, [U[0], V[0], U[1], V[1], U[2], V[2]]]"
   ]
  },
  {
   "cell_type": "code",
   "execution_count": 38,
   "metadata": {},
   "outputs": [
    {
     "name": "stdout",
     "output_type": "stream",
     "text": [
      "Creating data.. Done\n",
      "Creating data.. Done\n"
     ]
    }
   ],
   "source": [
    "[X_train_clear, X_train_noise] = generate_dataset_denoising(500, 100)\n",
    "[X_test_clear, X_test_noise] = generate_dataset_denoising(300, 100)\n",
    "\n",
    "X_train_clear = X_train_clear.reshape(-1, 72, 72, 1)\n",
    "X_train_noise = X_train_noise.reshape(-1, 72, 72, 1)\n",
    "\n",
    "X_test_clear = X_test_clear.reshape(-1, 72, 72, 1)\n",
    "X_test_noise = X_test_noise.reshape(-1, 72, 72, 1)"
   ]
  },
  {
   "cell_type": "markdown",
   "metadata": {},
   "source": [
    "Let's visualize some data"
   ]
  },
  {
   "cell_type": "code",
   "execution_count": 39,
   "metadata": {},
   "outputs": [
    {
     "data": {
      "image/png": "[encoded data removed]",
      "text/plain": [
       "<Figure size 432x216 with 2 Axes>"
      ]
     },
     "metadata": {
      "needs_background": "light"
     },
     "output_type": "display_data"
    }
   ],
   "source": [
    "i=np.random.randint(300)\n",
    "\n",
    "f, (ax1, ax2) = plt.subplots(1,2, figsize=(6,3))\n",
    "ax1.imshow(X_train_clear[i].reshape(72,72), cmap='gray')\n",
    "ax1.set_title(\"Clear image\")\n",
    "\n",
    "ax2.imshow(X_train_noise[i].reshape(72,72), cmap='gray')\n",
    "ax2.set_title(\"Noised image\")\n",
    "\n",
    "plt.tight_layout()\n",
    "plt.show()"
   ]
  },
  {
   "cell_type": "markdown",
   "metadata": {},
   "source": [
    "We define the following autoencoder :"
   ]
  },
  {
   "cell_type": "code",
   "execution_count": 40,
   "metadata": {},
   "outputs": [],
   "source": [
    "autoencoder = Sequential()\n",
    "\n",
    "#Encoding\n",
    "autoencoder.add(Conv2D(32, (3,3), activation='relu', padding='same', input_shape=(72,72,1)))\n",
    "autoencoder.add(MaxPooling2D(padding='same'))\n",
    "autoencoder.add(Conv2D(32, (3,3), activation='relu', padding='same'))\n",
    "autoencoder.add(MaxPooling2D(padding='same'))\n",
    "\n",
    "#Decoding\n",
    "autoencoder.add(Conv2D(32, (3,3), activation='relu', padding='same'))\n",
    "autoencoder.add(UpSampling2D())\n",
    "autoencoder.add(Conv2D(32, (3,3), activation='relu', padding='same'))\n",
    "autoencoder.add(UpSampling2D())\n",
    "\n",
    "autoencoder.add(Conv2D(1, (3,3), activation='sigmoid', padding='same'))\n",
    "\n",
    "autoencoder.compile(optimizer='adam', loss='binary_crossentropy')"
   ]
  },
  {
   "cell_type": "markdown",
   "metadata": {},
   "source": [
    "We train the model"
   ]
  },
  {
   "cell_type": "code",
   "execution_count": 41,
   "metadata": {},
   "outputs": [
    {
     "name": "stdout",
     "output_type": "stream",
     "text": [
      "Epoch 1/50\n",
      "500/500 [==============================] - 1s 2ms/step - loss: 0.4898\n",
      "Epoch 2/50\n",
      "500/500 [==============================] - 0s 754us/step - loss: 0.3029\n",
      "Epoch 3/50\n",
      "500/500 [==============================] - 0s 802us/step - loss: 0.0525\n",
      "Epoch 4/50\n",
      "500/500 [==============================] - 0s 801us/step - loss: 0.0169\n",
      "Epoch 5/50\n",
      "500/500 [==============================] - 0s 773us/step - loss: 0.0145\n",
      "Epoch 6/50\n",
      "500/500 [==============================] - 0s 791us/step - loss: 0.0124\n",
      "Epoch 7/50\n",
      "500/500 [==============================] - 0s 806us/step - loss: 0.0116\n",
      "Epoch 8/50\n",
      "500/500 [==============================] - 0s 789us/step - loss: 0.0107\n",
      "Epoch 9/50\n",
      "500/500 [==============================] - 0s 788us/step - loss: 0.0103\n",
      "Epoch 10/50\n",
      "500/500 [==============================] - 0s 800us/step - loss: 0.0095\n",
      "Epoch 11/50\n",
      "500/500 [==============================] - 0s 793us/step - loss: 0.0094\n",
      "Epoch 12/50\n",
      "500/500 [==============================] - 0s 790us/step - loss: 0.0087\n",
      "Epoch 13/50\n",
      "500/500 [==============================] - 0s 788us/step - loss: 0.0084\n",
      "Epoch 14/50\n",
      "500/500 [==============================] - 0s 770us/step - loss: 0.0086\n",
      "Epoch 15/50\n",
      "500/500 [==============================] - 0s 802us/step - loss: 0.0081\n",
      "Epoch 16/50\n",
      "500/500 [==============================] - 0s 790us/step - loss: 0.0075\n",
      "Epoch 17/50\n",
      "500/500 [==============================] - 0s 783us/step - loss: 0.0072\n",
      "Epoch 18/50\n",
      "500/500 [==============================] - 0s 793us/step - loss: 0.0066\n",
      "Epoch 19/50\n",
      "500/500 [==============================] - 0s 762us/step - loss: 0.0064\n",
      "Epoch 20/50\n",
      "500/500 [==============================] - 0s 808us/step - loss: 0.0060\n",
      "Epoch 21/50\n",
      "500/500 [==============================] - 0s 762us/step - loss: 0.0058\n",
      "Epoch 22/50\n",
      "500/500 [==============================] - 0s 817us/step - loss: 0.0055\n",
      "Epoch 23/50\n",
      "500/500 [==============================] - 0s 785us/step - loss: 0.0053\n",
      "Epoch 24/50\n",
      "500/500 [==============================] - 0s 791us/step - loss: 0.0053\n",
      "Epoch 25/50\n",
      "500/500 [==============================] - 0s 787us/step - loss: 0.0048\n",
      "Epoch 26/50\n",
      "500/500 [==============================] - 0s 777us/step - loss: 0.0046\n",
      "Epoch 27/50\n",
      "500/500 [==============================] - 0s 800us/step - loss: 0.0046\n",
      "Epoch 28/50\n",
      "500/500 [==============================] - 0s 767us/step - loss: 0.0042\n",
      "Epoch 29/50\n",
      "500/500 [==============================] - 0s 805us/step - loss: 0.0041\n",
      "Epoch 30/50\n",
      "500/500 [==============================] - 0s 782us/step - loss: 0.0041\n",
      "Epoch 31/50\n",
      "500/500 [==============================] - 0s 792us/step - loss: 0.0041\n",
      "Epoch 32/50\n",
      "500/500 [==============================] - 0s 786us/step - loss: 0.0037\n",
      "Epoch 33/50\n",
      "500/500 [==============================] - 0s 762us/step - loss: 0.0035\n",
      "Epoch 34/50\n",
      "500/500 [==============================] - 0s 800us/step - loss: 0.0034\n",
      "Epoch 35/50\n",
      "500/500 [==============================] - 0s 796us/step - loss: 0.0034\n",
      "Epoch 36/50\n",
      "500/500 [==============================] - 0s 764us/step - loss: 0.0030\n",
      "Epoch 37/50\n",
      "500/500 [==============================] - 0s 815us/step - loss: 0.0030\n",
      "Epoch 38/50\n",
      "500/500 [==============================] - 0s 785us/step - loss: 0.0031\n",
      "Epoch 39/50\n",
      "500/500 [==============================] - 0s 770us/step - loss: 0.0032\n",
      "Epoch 40/50\n",
      "500/500 [==============================] - 0s 802us/step - loss: 0.0029\n",
      "Epoch 41/50\n",
      "500/500 [==============================] - 0s 786us/step - loss: 0.0030\n",
      "Epoch 42/50\n",
      "500/500 [==============================] - 0s 789us/step - loss: 0.0036\n",
      "Epoch 43/50\n",
      "500/500 [==============================] - 0s 794us/step - loss: 0.0033\n",
      "Epoch 44/50\n",
      "500/500 [==============================] - 0s 790us/step - loss: 0.0028\n",
      "Epoch 45/50\n",
      "500/500 [==============================] - 0s 763us/step - loss: 0.0024\n",
      "Epoch 46/50\n",
      "500/500 [==============================] - 0s 807us/step - loss: 0.0023\n",
      "Epoch 47/50\n",
      "500/500 [==============================] - 0s 788us/step - loss: 0.0022\n",
      "Epoch 48/50\n",
      "500/500 [==============================] - 0s 758us/step - loss: 0.0021\n",
      "Epoch 49/50\n",
      "500/500 [==============================] - 0s 814us/step - loss: 0.0021\n",
      "Epoch 50/50\n",
      "500/500 [==============================] - 0s 771us/step - loss: 0.0020\n"
     ]
    },
    {
     "data": {
      "text/plain": [
       "<keras.callbacks.History at 0x18846cf1470>"
      ]
     },
     "execution_count": 41,
     "metadata": {},
     "output_type": "execute_result"
    }
   ],
   "source": [
    "#autoencoder.summary()\n",
    "autoencoder.fit(X_train_noise, X_train_clear, epochs=50, batch_size=32)"
   ]
  },
  {
   "cell_type": "code",
   "execution_count": 42,
   "metadata": {},
   "outputs": [
    {
     "name": "stdout",
     "output_type": "stream",
     "text": [
      "300/300 [==============================] - 0s 677us/step\n"
     ]
    },
    {
     "data": {
      "text/plain": [
       "0.0018826761407156785"
      ]
     },
     "execution_count": 42,
     "metadata": {},
     "output_type": "execute_result"
    }
   ],
   "source": [
    "autoencoder.evaluate(X_test_noise, X_test_clear)"
   ]
  },
  {
   "cell_type": "code",
   "execution_count": 43,
   "metadata": {},
   "outputs": [],
   "source": [
    "X_test_clear_pred = autoencoder.predict(X_test_noise)"
   ]
  },
  {
   "cell_type": "markdown",
   "metadata": {},
   "source": [
    "Let's check the results :"
   ]
  },
  {
   "cell_type": "code",
   "execution_count": 44,
   "metadata": {},
   "outputs": [
    {
     "data": {
      "image/png": "[encoded data removed]",
      "text/plain": [
       "<Figure size 648x216 with 3 Axes>"
      ]
     },
     "metadata": {
      "needs_background": "light"
     },
     "output_type": "display_data"
    }
   ],
   "source": [
    "i=np.random.randint(300)\n",
    "\n",
    "f, (ax1, ax2, ax3) = plt.subplots(1,3,figsize=(9,3))\n",
    "ax1.imshow(X_test_noise[i].reshape(72,72), cmap=\"gray\")\n",
    "ax1.set_title(\"Noised image\")\n",
    "\n",
    "ax2.imshow(X_test_clear[i].reshape(72,72), cmap=\"gray\")\n",
    "ax2.set_title(\"Original clear image\")\n",
    "\n",
    "ax3.imshow(X_test_clear_pred[i].reshape(72,72), cmap=\"gray\")\n",
    "ax3.set_title(\"Denoised image\")\n",
    "\n",
    "plt.tight_layout()\n",
    "plt.show()"
   ]
  }
 ],
 "metadata": {
  "kernelspec": {
   "display_name": "TF-GPU",
   "language": "python",
   "name": "myenv"
  },
  "language_info": {
   "codemirror_mode": {
    "name": "ipython",
    "version": 3
   },
   "file_extension": ".py",
   "mimetype": "text/x-python",
   "name": "python",
   "nbconvert_exporter": "python",
   "pygments_lexer": "ipython3",
   "version": "3.6.6"
  }
 },
 "nbformat": 4,
 "nbformat_minor": 2
}
