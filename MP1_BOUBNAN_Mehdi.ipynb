{
 "cells": [
  {
   "cell_type": "markdown",
   "metadata": {},
   "source": [
    "<h1><center>Deep Learning Course - First Mini Project</center></h1>\n",
    "<h3><center>Image Classification and Regression</center></h3>\n",
    "<h4><center>Professor : Vincent Lepetit</center></h4>\n",
    "<h5><center>Mehdi Boubnan</center></h5>"
   ]
  },
  {
   "cell_type": "markdown",
   "metadata": {},
   "source": [
    "# Imports and defining functions"
   ]
  },
  {
   "cell_type": "code",
   "execution_count": null,
   "metadata": {},
   "outputs": [],
   "source": [
    "import matplotlib.pyplot as plt\n",
    "%matplotlib inline\n",
    "import numpy as np"
   ]
  },
  {
   "cell_type": "code",
   "execution_count": null,
   "metadata": {},
   "outputs": [],
   "source": [
    "from tensorflow import set_random_seed\n",
    "np.random.seed(42)\n",
    "set_random_seed(1)"
   ]
  },
  {
   "cell_type": "code",
   "execution_count": 3,
   "metadata": {},
   "outputs": [],
   "source": [
    "from keras.models import Sequential\n",
    "from keras.layers import Dense, Activation, Conv2D, MaxPooling2D, Flatten\n",
    "from keras.optimizers import SGD, Adam\n",
    "from keras import utils as np_utils"
   ]
  },
  {
   "cell_type": "code",
   "execution_count": 4,
   "metadata": {},
   "outputs": [],
   "source": [
    "IMAGE_SIZE = 72\n",
    "\n",
    "def generate_a_drawing(figsize, U, V, noise=0.0):\n",
    "    fig = plt.figure(figsize=(figsize,figsize))\n",
    "    ax = plt.subplot(111)\n",
    "    plt.axis('Off')\n",
    "    ax.set_xlim(0,figsize)\n",
    "    ax.set_ylim(0,figsize)\n",
    "    ax.fill(U, V, \"k\")\n",
    "    fig.canvas.draw()\n",
    "    imdata = np.frombuffer(fig.canvas.tostring_rgb(), dtype=np.uint8)[::3].astype(np.float32)\n",
    "    imdata = imdata + noise * np.random.random(imdata.size)\n",
    "    plt.close(fig)\n",
    "    return imdata\n",
    "\n",
    "def generate_a_rectangle(noise=0.0, free_location=False):\n",
    "    figsize = 1.0    \n",
    "    U = np.zeros(4)\n",
    "    V = np.zeros(4)\n",
    "    if free_location:\n",
    "        corners = np.random.random(4)\n",
    "        top = max(corners[0], corners[1])\n",
    "        bottom = min(corners[0], corners[1])\n",
    "        left = min(corners[2], corners[3])\n",
    "        right = max(corners[2], corners[3])\n",
    "    else:\n",
    "        side = (0.3 + 0.7 * np.random.random()) * figsize\n",
    "        top = figsize/2 + side/2\n",
    "        bottom = figsize/2 - side/2\n",
    "        left = bottom\n",
    "        right = top\n",
    "    U[0] = U[1] = top\n",
    "    U[2] = U[3] = bottom\n",
    "    V[0] = V[3] = left\n",
    "    V[1] = V[2] = right\n",
    "    return generate_a_drawing(figsize, U, V, noise)\n",
    "\n",
    "\n",
    "def generate_a_disk(noise=0.0, free_location=False):\n",
    "    figsize = 1.0\n",
    "    if free_location:\n",
    "        center = np.random.random(2)\n",
    "    else:\n",
    "        center = (figsize/2, figsize/2)\n",
    "    radius = (0.3 + 0.7 * np.random.random()) * figsize/2\n",
    "    N = 50\n",
    "    U = np.zeros(N)\n",
    "    V = np.zeros(N)\n",
    "    i = 0\n",
    "    for t in np.linspace(0, 2*np.pi, N):\n",
    "        U[i] = center[0] + np.cos(t) * radius\n",
    "        V[i] = center[1] + np.sin(t) * radius\n",
    "        i = i + 1\n",
    "    return generate_a_drawing(figsize, U, V, noise)\n",
    "\n",
    "def generate_a_triangle(noise=0.0, free_location=False):\n",
    "    figsize = 1.0\n",
    "    if free_location:\n",
    "        U = np.random.random(3)\n",
    "        V = np.random.random(3)\n",
    "    else:\n",
    "        size = (0.3 + 0.7 * np.random.random())*figsize/2\n",
    "        middle = figsize/2\n",
    "        U = (middle, middle+size, middle-size)\n",
    "        V = (middle+size, middle-size, middle-size)\n",
    "    imdata = generate_a_drawing(figsize, U, V, noise)\n",
    "    return [imdata, [U[0], V[0], U[1], V[1], U[2], V[2]]]\n",
    "\n",
    "\n",
    "def generate_dataset_classification(nb_samples, noise=0.0, free_location=False):\n",
    "    # Getting im_size:\n",
    "    im_size = generate_a_rectangle().shape[0]\n",
    "    X = np.zeros([nb_samples,im_size])\n",
    "    Y = np.zeros(nb_samples)\n",
    "    print('Creating data',end=\".. \")\n",
    "    for i in range(nb_samples):\n",
    "        #if i % 10 == 0:\n",
    "            #print(i)\n",
    "        category = np.random.randint(3)\n",
    "        if category == 0:\n",
    "            X[i] = generate_a_rectangle(noise, free_location)\n",
    "        elif category == 1: \n",
    "            X[i] = generate_a_disk(noise, free_location)\n",
    "        else:\n",
    "            [X[i], V] = generate_a_triangle(noise, free_location)\n",
    "        Y[i] = category\n",
    "    X = (X + noise) / (255 + 2 * noise)\n",
    "    print(\"Done\")\n",
    "    return [X, Y]\n",
    "\n",
    "def generate_test_set_classification():\n",
    "    np.random.seed(42)\n",
    "    [X_test, Y_test] = generate_dataset_classification(300, 20, True)\n",
    "    Y_test = np_utils.to_categorical(Y_test, 3) \n",
    "    return [X_test, Y_test]\n",
    "\n",
    "def generate_dataset_regression(nb_samples, noise=0.0):\n",
    "    # Getting im_size:\n",
    "    im_size = generate_a_triangle()[0].shape[0]\n",
    "    X = np.zeros([nb_samples,im_size])\n",
    "    Y = np.zeros([nb_samples, 6])\n",
    "    print('Creating data',end=\".. \")\n",
    "    for i in range(nb_samples):\n",
    "        #if i % 10 == 0:\n",
    "            #print(i)\n",
    "        [X[i], Y[i]] = generate_a_triangle(noise, True)\n",
    "    X = (X + noise) / (255 + 2 * noise)\n",
    "    print(\"Done\")\n",
    "    return [X, Y]\n",
    "\n",
    "import matplotlib.patches as patches\n",
    "\n",
    "def visualize_prediction(x, y):\n",
    "    fig, ax = plt.subplots(figsize=(5, 5))\n",
    "    I = x.reshape((IMAGE_SIZE,IMAGE_SIZE))\n",
    "    ax.imshow(I, extent=[-0.15,1.15,-0.15,1.15],cmap='gray')\n",
    "    ax.set_xlim([0,1])\n",
    "    ax.set_ylim([0,1])\n",
    "\n",
    "    xy = y.reshape(3,2)\n",
    "    tri = patches.Polygon(xy, closed=True, fill = False, edgecolor = 'r', linewidth = 5, alpha = 0.5)\n",
    "    ax.add_patch(tri)\n",
    "\n",
    "    plt.show()\n",
    "\n",
    "def generate_test_set_regression():\n",
    "    np.random.seed(42)\n",
    "    [X_test, Y_test] = generate_dataset_regression(300, 20)\n",
    "    return [X_test, Y_test]"
   ]
  },
  {
   "cell_type": "markdown",
   "metadata": {},
   "source": [
    "# Classification Problem"
   ]
  },
  {
   "cell_type": "markdown",
   "metadata": {},
   "source": [
    "## Simple Classification"
   ]
  },
  {
   "cell_type": "markdown",
   "metadata": {},
   "source": [
    "### Generating data"
   ]
  },
  {
   "cell_type": "markdown",
   "metadata": {},
   "source": [
    "Our training and testing datasets are composed by shapes images (rectangles, disks and triangles). We'll begin by generating some data samples :"
   ]
  },
  {
   "cell_type": "code",
   "execution_count": 5,
   "metadata": {},
   "outputs": [],
   "source": [
    "f, (ax1, ax2, ax3) = plt.subplots(1,3,figsize=(12,4))\n",
    "\n",
    "im = generate_a_rectangle(10, False)\n",
    "ax1.imshow(im.reshape(IMAGE_SIZE,IMAGE_SIZE), cmap='gray')\n",
    "ax1.set_title(\"Rectangle\")\n",
    "\n",
    "im = generate_a_disk(10, False)\n",
    "ax2.imshow(im.reshape(IMAGE_SIZE,IMAGE_SIZE), cmap='gray')\n",
    "ax2.set_title(\"Disk\")\n",
    "\n",
    "[im, v] = generate_a_triangle(20, False)\n",
    "ax3.imshow(im.reshape(IMAGE_SIZE,IMAGE_SIZE), cmap='gray')\n",
    "ax3.set_title(\"Triangle\")\n",
    "\n",
    "plt.tight_layout()\n",
    "plt.show()"
   ]
  },
  {
   "cell_type": "markdown",
   "metadata": {},
   "source": [
    "We'll then generate our training dataset with **300 samples** of shapes images, and see their distribution :"
   ]
  },
  {
   "cell_type": "code",
   "execution_count": 6,
   "metadata": {},
   "outputs": [
    {
     "name": "stdout",
     "output_type": "stream",
     "text": [
      "Creating data.. Done\n"
     ]
    }
   ],
   "source": [
    "[X_train, Y_train] = generate_dataset_classification(300, 20)"
   ]
  },
  {
   "cell_type": "markdown",
   "metadata": {},
   "source": [
    "We one-hot encore the data labels to fit the model :"
   ]
  },
  {
   "cell_type": "code",
   "execution_count": 7,
   "metadata": {},
   "outputs": [],
   "source": [
    "Y_train = np_utils.to_categorical(Y_train, 3)"
   ]
  },
  {
   "cell_type": "markdown",
   "metadata": {},
   "source": [
    "### Building the model"
   ]
  },
  {
   "cell_type": "markdown",
   "metadata": {},
   "source": [
    "We'll train a simple two layer fully-connected neural network, taking in input vectors in $\\mathbb{R}^{5184}$ (our image shapes are 72x72), and outputing a vector in $\\mathbb{R}^3$ representing the probabilities of belonging to each of the three classes (rectangle, disk, triangle). To do so, we use a hidden layer of **64** neurons followed by a **ReLU** activation, and an output layer of 3 neurons, followed by a **softmax** activation.\n",
    "\n",
    "For training the data, we'll use the stochastic gradient descent optimizer, with a 0.001 learning rate, a decay of $10^{-6}$ and a momentum of 0.9.\n",
    "We'll use 50 epochs and a 32 batch size."
   ]
  },
  {
   "cell_type": "markdown",
   "metadata": {},
   "source": [
    "#### Using SGD optimizer"
   ]
  },
  {
   "cell_type": "code",
   "execution_count": 8,
   "metadata": {},
   "outputs": [],
   "source": [
    "model = Sequential()\n",
    "\n",
    "output = 3\n",
    "\n",
    "model.add(Dense(output, input_shape=(5184,)))\n",
    "model.add(Activation('softmax'))\n",
    "\n",
    "sgd = SGD(lr=0.001, decay=1e-6, momentum=0.9, nesterov=True)\n",
    "model.compile(loss='categorical_crossentropy', optimizer=sgd, metrics=['accuracy'])"
   ]
  },
  {
   "cell_type": "markdown",
   "metadata": {},
   "source": [
    "Let's train the model with SGD :"
   ]
  },
  {
   "cell_type": "code",
   "execution_count": 9,
   "metadata": {},
   "outputs": [
    {
     "name": "stdout",
     "output_type": "stream",
     "text": [
      "Epoch 1/50\n",
      "300/300 [==============================] - 0s 565us/step - loss: 1.1542 - acc: 0.5000\n",
      "Epoch 2/50\n",
      "300/300 [==============================] - 0s 83us/step - loss: 0.6739 - acc: 0.7000\n",
      "Epoch 3/50\n",
      "300/300 [==============================] - 0s 98us/step - loss: 0.5286 - acc: 0.7800\n",
      "Epoch 4/50\n",
      "300/300 [==============================] - 0s 85us/step - loss: 0.4238 - acc: 0.8233\n",
      "Epoch 5/50\n",
      "300/300 [==============================] - 0s 57us/step - loss: 0.3645 - acc: 0.8900\n",
      "Epoch 6/50\n",
      "300/300 [==============================] - 0s 60us/step - loss: 0.3277 - acc: 0.8867\n",
      "Epoch 7/50\n",
      "300/300 [==============================] - 0s 55us/step - loss: 0.2687 - acc: 0.9533\n",
      "Epoch 8/50\n",
      "300/300 [==============================] - 0s 53us/step - loss: 0.2419 - acc: 0.9700\n",
      "Epoch 9/50\n",
      "300/300 [==============================] - 0s 52us/step - loss: 0.2308 - acc: 0.9433\n",
      "Epoch 10/50\n",
      "300/300 [==============================] - 0s 53us/step - loss: 0.2048 - acc: 0.9533\n",
      "Epoch 11/50\n",
      "300/300 [==============================] - 0s 55us/step - loss: 0.2067 - acc: 0.9333\n",
      "Epoch 12/50\n",
      "300/300 [==============================] - 0s 54us/step - loss: 0.1949 - acc: 0.9567\n",
      "Epoch 13/50\n",
      "300/300 [==============================] - 0s 53us/step - loss: 0.1680 - acc: 0.9633\n",
      "Epoch 14/50\n",
      "300/300 [==============================] - 0s 49us/step - loss: 0.1620 - acc: 0.9733\n",
      "Epoch 15/50\n",
      "300/300 [==============================] - 0s 50us/step - loss: 0.1474 - acc: 0.9967\n",
      "Epoch 16/50\n",
      "300/300 [==============================] - 0s 54us/step - loss: 0.1857 - acc: 0.9367\n",
      "Epoch 17/50\n",
      "300/300 [==============================] - 0s 56us/step - loss: 0.1574 - acc: 0.9733\n",
      "Epoch 18/50\n",
      "300/300 [==============================] - 0s 54us/step - loss: 0.1322 - acc: 0.9867\n",
      "Epoch 19/50\n",
      "300/300 [==============================] - 0s 54us/step - loss: 0.1345 - acc: 0.9833\n",
      "Epoch 20/50\n",
      "300/300 [==============================] - 0s 53us/step - loss: 0.1277 - acc: 0.9900\n",
      "Epoch 21/50\n",
      "300/300 [==============================] - 0s 54us/step - loss: 0.1233 - acc: 0.9867\n",
      "Epoch 22/50\n",
      "300/300 [==============================] - 0s 53us/step - loss: 0.1103 - acc: 0.9967\n",
      "Epoch 23/50\n",
      "300/300 [==============================] - 0s 55us/step - loss: 0.1065 - acc: 1.0000\n",
      "Epoch 24/50\n",
      "300/300 [==============================] - 0s 53us/step - loss: 0.1049 - acc: 0.9933\n",
      "Epoch 25/50\n",
      "300/300 [==============================] - 0s 52us/step - loss: 0.1047 - acc: 0.9933\n",
      "Epoch 26/50\n",
      "300/300 [==============================] - 0s 62us/step - loss: 0.0984 - acc: 0.9967\n",
      "Epoch 27/50\n",
      "300/300 [==============================] - 0s 55us/step - loss: 0.0989 - acc: 0.9967\n",
      "Epoch 28/50\n",
      "300/300 [==============================] - 0s 52us/step - loss: 0.0971 - acc: 0.9967\n",
      "Epoch 29/50\n",
      "300/300 [==============================] - 0s 54us/step - loss: 0.0920 - acc: 1.0000\n",
      "Epoch 30/50\n",
      "300/300 [==============================] - 0s 55us/step - loss: 0.0859 - acc: 1.0000\n",
      "Epoch 31/50\n",
      "300/300 [==============================] - 0s 52us/step - loss: 0.0848 - acc: 1.0000\n",
      "Epoch 32/50\n",
      "300/300 [==============================] - 0s 53us/step - loss: 0.0836 - acc: 1.0000\n",
      "Epoch 33/50\n",
      "300/300 [==============================] - 0s 54us/step - loss: 0.0790 - acc: 1.0000\n",
      "Epoch 34/50\n",
      "300/300 [==============================] - 0s 53us/step - loss: 0.0788 - acc: 1.0000\n",
      "Epoch 35/50\n",
      "300/300 [==============================] - 0s 54us/step - loss: 0.0830 - acc: 0.9967\n",
      "Epoch 36/50\n",
      "300/300 [==============================] - 0s 53us/step - loss: 0.0804 - acc: 0.9933\n",
      "Epoch 37/50\n",
      "300/300 [==============================] - 0s 56us/step - loss: 0.0725 - acc: 1.0000\n",
      "Epoch 38/50\n",
      "300/300 [==============================] - 0s 53us/step - loss: 0.0797 - acc: 1.0000\n",
      "Epoch 39/50\n",
      "300/300 [==============================] - 0s 58us/step - loss: 0.0679 - acc: 1.0000\n",
      "Epoch 40/50\n",
      "300/300 [==============================] - 0s 52us/step - loss: 0.0691 - acc: 1.0000\n",
      "Epoch 41/50\n",
      "300/300 [==============================] - 0s 50us/step - loss: 0.0684 - acc: 1.0000\n",
      "Epoch 42/50\n",
      "300/300 [==============================] - 0s 53us/step - loss: 0.0679 - acc: 0.9967\n",
      "Epoch 43/50\n",
      "300/300 [==============================] - 0s 54us/step - loss: 0.0655 - acc: 1.0000\n",
      "Epoch 44/50\n",
      "300/300 [==============================] - 0s 53us/step - loss: 0.0628 - acc: 1.0000\n",
      "Epoch 45/50\n",
      "300/300 [==============================] - 0s 55us/step - loss: 0.0634 - acc: 1.0000\n",
      "Epoch 46/50\n",
      "300/300 [==============================] - 0s 52us/step - loss: 0.0605 - acc: 1.0000\n",
      "Epoch 47/50\n",
      "300/300 [==============================] - 0s 52us/step - loss: 0.0579 - acc: 1.0000\n",
      "Epoch 48/50\n",
      "300/300 [==============================] - 0s 53us/step - loss: 0.0567 - acc: 1.0000\n",
      "Epoch 49/50\n",
      "300/300 [==============================] - 0s 56us/step - loss: 0.0585 - acc: 1.0000\n",
      "Epoch 50/50\n",
      "300/300 [==============================] - 0s 54us/step - loss: 0.0602 - acc: 1.0000\n"
     ]
    },
    {
     "data": {
      "text/plain": [
       "<keras.callbacks.History at 0xb2e4ddf98>"
      ]
     },
     "execution_count": 9,
     "metadata": {},
     "output_type": "execute_result"
    }
   ],
   "source": [
    "model.fit(X_train, Y_train, epochs=50, batch_size=32)"
   ]
  },
  {
   "cell_type": "markdown",
   "metadata": {},
   "source": [
    "#### Using Adam optimizer"
   ]
  },
  {
   "cell_type": "code",
   "execution_count": 10,
   "metadata": {},
   "outputs": [],
   "source": [
    "model = Sequential()\n",
    "\n",
    "hidden_neurons = 64\n",
    "output = 3\n",
    "\n",
    "model.add(Dense(output, input_shape=(5184,)))\n",
    "model.add(Activation('softmax'))\n",
    "\n",
    "adam = Adam(lr=0.001, beta_1=0.9, beta_2=0.999, epsilon=None, decay=0.0, amsgrad=False)\n",
    "model.compile(loss='categorical_crossentropy', optimizer=adam, metrics=['accuracy'])"
   ]
  },
  {
   "cell_type": "code",
   "execution_count": 11,
   "metadata": {},
   "outputs": [
    {
     "name": "stdout",
     "output_type": "stream",
     "text": [
      "Epoch 1/50\n",
      "300/300 [==============================] - 0s 490us/step - loss: 2.4528 - acc: 0.3233\n",
      "Epoch 2/50\n",
      "300/300 [==============================] - 0s 75us/step - loss: 1.1468 - acc: 0.4567\n",
      "Epoch 3/50\n",
      "300/300 [==============================] - 0s 72us/step - loss: 0.7724 - acc: 0.6567\n",
      "Epoch 4/50\n",
      "300/300 [==============================] - 0s 58us/step - loss: 0.5467 - acc: 0.8233\n",
      "Epoch 5/50\n",
      "300/300 [==============================] - 0s 53us/step - loss: 0.4280 - acc: 0.8267\n",
      "Epoch 6/50\n",
      "300/300 [==============================] - 0s 50us/step - loss: 0.3870 - acc: 0.8367\n",
      "Epoch 7/50\n",
      "300/300 [==============================] - 0s 52us/step - loss: 0.2891 - acc: 0.9300\n",
      "Epoch 8/50\n",
      "300/300 [==============================] - 0s 50us/step - loss: 0.2661 - acc: 0.9467\n",
      "Epoch 9/50\n",
      "300/300 [==============================] - 0s 51us/step - loss: 0.2370 - acc: 0.9300\n",
      "Epoch 10/50\n",
      "300/300 [==============================] - 0s 52us/step - loss: 0.2106 - acc: 0.9633\n",
      "Epoch 11/50\n",
      "300/300 [==============================] - 0s 55us/step - loss: 0.1958 - acc: 0.9500\n",
      "Epoch 12/50\n",
      "300/300 [==============================] - 0s 57us/step - loss: 0.3004 - acc: 0.8400\n",
      "Epoch 13/50\n",
      "300/300 [==============================] - 0s 56us/step - loss: 0.2076 - acc: 0.9267\n",
      "Epoch 14/50\n",
      "300/300 [==============================] - 0s 59us/step - loss: 0.1722 - acc: 0.9667\n",
      "Epoch 15/50\n",
      "300/300 [==============================] - 0s 64us/step - loss: 0.1704 - acc: 0.9467\n",
      "Epoch 16/50\n",
      "300/300 [==============================] - 0s 55us/step - loss: 0.1553 - acc: 0.9533\n",
      "Epoch 17/50\n",
      "300/300 [==============================] - 0s 54us/step - loss: 0.1257 - acc: 0.9933\n",
      "Epoch 18/50\n",
      "300/300 [==============================] - 0s 52us/step - loss: 0.1777 - acc: 0.9433\n",
      "Epoch 19/50\n",
      "300/300 [==============================] - 0s 55us/step - loss: 0.1972 - acc: 0.9100\n",
      "Epoch 20/50\n",
      "300/300 [==============================] - 0s 57us/step - loss: 0.1151 - acc: 0.9867\n",
      "Epoch 21/50\n",
      "300/300 [==============================] - 0s 63us/step - loss: 0.0948 - acc: 0.9967\n",
      "Epoch 22/50\n",
      "300/300 [==============================] - 0s 68us/step - loss: 0.0832 - acc: 1.0000\n",
      "Epoch 23/50\n",
      "300/300 [==============================] - 0s 56us/step - loss: 0.0763 - acc: 1.0000\n",
      "Epoch 24/50\n",
      "300/300 [==============================] - 0s 57us/step - loss: 0.0696 - acc: 1.0000\n",
      "Epoch 25/50\n",
      "300/300 [==============================] - 0s 53us/step - loss: 0.0677 - acc: 1.0000\n",
      "Epoch 26/50\n",
      "300/300 [==============================] - 0s 56us/step - loss: 0.0674 - acc: 1.0000\n",
      "Epoch 27/50\n",
      "300/300 [==============================] - 0s 57us/step - loss: 0.0622 - acc: 1.0000\n",
      "Epoch 28/50\n",
      "300/300 [==============================] - 0s 57us/step - loss: 0.0613 - acc: 1.0000\n",
      "Epoch 29/50\n",
      "300/300 [==============================] - 0s 60us/step - loss: 0.0552 - acc: 1.0000\n",
      "Epoch 30/50\n",
      "300/300 [==============================] - 0s 62us/step - loss: 0.0557 - acc: 1.0000\n",
      "Epoch 31/50\n",
      "300/300 [==============================] - 0s 57us/step - loss: 0.0509 - acc: 1.0000\n",
      "Epoch 32/50\n",
      "300/300 [==============================] - 0s 57us/step - loss: 0.0487 - acc: 1.0000\n",
      "Epoch 33/50\n",
      "300/300 [==============================] - 0s 58us/step - loss: 0.0476 - acc: 1.0000\n",
      "Epoch 34/50\n",
      "300/300 [==============================] - 0s 60us/step - loss: 0.0453 - acc: 1.0000\n",
      "Epoch 35/50\n",
      "300/300 [==============================] - 0s 57us/step - loss: 0.0434 - acc: 1.0000\n",
      "Epoch 36/50\n",
      "300/300 [==============================] - 0s 60us/step - loss: 0.0454 - acc: 1.0000\n",
      "Epoch 37/50\n",
      "300/300 [==============================] - 0s 60us/step - loss: 0.0473 - acc: 1.0000\n",
      "Epoch 38/50\n",
      "300/300 [==============================] - 0s 56us/step - loss: 0.0395 - acc: 1.0000\n",
      "Epoch 39/50\n",
      "300/300 [==============================] - 0s 52us/step - loss: 0.0382 - acc: 1.0000\n",
      "Epoch 40/50\n",
      "300/300 [==============================] - 0s 51us/step - loss: 0.0367 - acc: 1.0000\n",
      "Epoch 41/50\n",
      "300/300 [==============================] - 0s 53us/step - loss: 0.0363 - acc: 1.0000\n",
      "Epoch 42/50\n",
      "300/300 [==============================] - 0s 55us/step - loss: 0.0354 - acc: 1.0000\n",
      "Epoch 43/50\n",
      "300/300 [==============================] - 0s 61us/step - loss: 0.0339 - acc: 1.0000\n",
      "Epoch 44/50\n",
      "300/300 [==============================] - 0s 55us/step - loss: 0.0323 - acc: 1.0000\n",
      "Epoch 45/50\n",
      "300/300 [==============================] - 0s 56us/step - loss: 0.0308 - acc: 1.0000\n",
      "Epoch 46/50\n",
      "300/300 [==============================] - 0s 60us/step - loss: 0.0372 - acc: 1.0000\n",
      "Epoch 47/50\n",
      "300/300 [==============================] - 0s 58us/step - loss: 0.0336 - acc: 1.0000\n",
      "Epoch 48/50\n",
      "300/300 [==============================] - 0s 55us/step - loss: 0.0291 - acc: 1.0000\n",
      "Epoch 49/50\n",
      "300/300 [==============================] - 0s 53us/step - loss: 0.0280 - acc: 1.0000\n",
      "Epoch 50/50\n",
      "300/300 [==============================] - 0s 52us/step - loss: 0.0274 - acc: 1.0000\n"
     ]
    },
    {
     "data": {
      "text/plain": [
       "<keras.callbacks.History at 0xb2d6eaf60>"
      ]
     },
     "execution_count": 11,
     "metadata": {},
     "output_type": "execute_result"
    }
   ],
   "source": [
    "model.fit(X_train, Y_train, epochs=50, batch_size=32)"
   ]
  },
  {
   "cell_type": "markdown",
   "metadata": {},
   "source": [
    "### Plotting weights"
   ]
  },
  {
   "cell_type": "markdown",
   "metadata": {},
   "source": [
    "We'll plot the first three weights :"
   ]
  },
  {
   "cell_type": "code",
   "execution_count": 12,
   "metadata": {},
   "outputs": [
    {
     "data": {
      "image/png": "[encoded data removed]",
      "text/plain": [
       "<Figure size 864x288 with 3 Axes>"
      ]
     },
     "metadata": {
      "needs_background": "light"
     },
     "output_type": "display_data"
    }
   ],
   "source": [
    "weights = model.get_weights()[0].T\n",
    "\n",
    "f, (ax1, ax2, ax3) = plt.subplots(1,3, figsize=(12,4))\n",
    "\n",
    "ax1.imshow(weights[0].reshape(IMAGE_SIZE,IMAGE_SIZE), cmap='gray')\n",
    "ax1.set_title(\"Rectangle weight\")\n",
    "\n",
    "ax2.imshow(weights[1].reshape(IMAGE_SIZE,IMAGE_SIZE), cmap='gray')\n",
    "ax2.set_title(\"Disk weight\")\n",
    "\n",
    "ax3.imshow(weights[2].reshape(IMAGE_SIZE,IMAGE_SIZE), cmap='gray')\n",
    "ax3.set_title(\"Triangle weight\")\n",
    "\n",
    "plt.tight_layout()\n",
    "plt.show()"
   ]
  },
  {
   "cell_type": "markdown",
   "metadata": {},
   "source": [
    "## More Difficult Classification Problem"
   ]
  },
  {
   "cell_type": "markdown",
   "metadata": {},
   "source": [
    "### Generating Data"
   ]
  },
  {
   "cell_type": "markdown",
   "metadata": {},
   "source": [
    "Now, we'll generate a new training set where the shapes are allowed to move within the images and change dimensions."
   ]
  },
  {
   "cell_type": "code",
   "execution_count": 13,
   "metadata": {},
   "outputs": [
    {
     "name": "stdout",
     "output_type": "stream",
     "text": [
      "Creating data.. Done\n",
      "Creating data.. Done\n"
     ]
    }
   ],
   "source": [
    "[X_train, Y_train] = generate_dataset_classification(300, 20, True)\n",
    "[X_test, Y_test] = generate_test_set_classification()"
   ]
  },
  {
   "cell_type": "markdown",
   "metadata": {},
   "source": [
    "Let's see what the new data looks like"
   ]
  },
  {
   "cell_type": "code",
   "execution_count": 14,
   "metadata": {},
   "outputs": [
    {
     "data": {
      "image/png": "[encoded data removed]",
      "text/plain": [
       "<Figure size 864x288 with 3 Axes>"
      ]
     },
     "metadata": {
      "needs_background": "light"
     },
     "output_type": "display_data"
    }
   ],
   "source": [
    "f, (ax1, ax2, ax3) = plt.subplots(1,3,figsize=(12,4))\n",
    "\n",
    "im = generate_a_rectangle(20, True)\n",
    "ax1.imshow(im.reshape(IMAGE_SIZE,IMAGE_SIZE), cmap='gray')\n",
    "ax1.set_title(\"Rectangle\")\n",
    "\n",
    "im = generate_a_disk(20, True)\n",
    "ax2.imshow(im.reshape(IMAGE_SIZE,IMAGE_SIZE), cmap='gray')\n",
    "ax2.set_title(\"Disk\")\n",
    "\n",
    "[im, v] = generate_a_triangle(20, True)\n",
    "ax3.imshow(im.reshape(IMAGE_SIZE,IMAGE_SIZE), cmap='gray')\n",
    "ax3.set_title(\"Triangle\")\n",
    "\n",
    "plt.tight_layout()\n",
    "plt.show()"
   ]
  },
  {
   "cell_type": "markdown",
   "metadata": {},
   "source": [
    "We one-hot encode the training to fit the model, the test labels are already one-hot encoded :"
   ]
  },
  {
   "cell_type": "code",
   "execution_count": 15,
   "metadata": {},
   "outputs": [],
   "source": [
    "Y_train = np_utils.to_categorical(Y_train, 3)"
   ]
  },
  {
   "cell_type": "markdown",
   "metadata": {},
   "source": [
    "### Retraining the model"
   ]
  },
  {
   "cell_type": "markdown",
   "metadata": {},
   "source": [
    "We'll use the **same model as before**, and retrain it on the new dataset. We choose to double the number of **epochs** from **50 to 100**."
   ]
  },
  {
   "cell_type": "code",
   "execution_count": 16,
   "metadata": {},
   "outputs": [],
   "source": [
    "model = Sequential()\n",
    "\n",
    "hidden_neurons = 64\n",
    "output = 3\n",
    "\n",
    "model.add(Dense(output, input_shape=(5184,)))\n",
    "model.add(Activation('softmax'))\n",
    "\n",
    "adam = Adam(lr=0.001, beta_1=0.9, beta_2=0.999, epsilon=None, decay=0.0, amsgrad=False)\n",
    "model.compile(loss='categorical_crossentropy', optimizer=adam, metrics=['accuracy'])"
   ]
  },
  {
   "cell_type": "markdown",
   "metadata": {},
   "source": [
    "Let's train our model"
   ]
  },
  {
   "cell_type": "code",
   "execution_count": 17,
   "metadata": {},
   "outputs": [
    {
     "name": "stdout",
     "output_type": "stream",
     "text": [
      "Epoch 1/100\n",
      "300/300 [==============================] - 0s 582us/step - loss: 2.5677 - acc: 0.3167\n",
      "Epoch 2/100\n",
      "300/300 [==============================] - 0s 57us/step - loss: 1.4476 - acc: 0.3767\n",
      "Epoch 3/100\n",
      "300/300 [==============================] - 0s 78us/step - loss: 1.4182 - acc: 0.4467\n",
      "Epoch 4/100\n",
      "300/300 [==============================] - 0s 73us/step - loss: 1.4842 - acc: 0.4067\n",
      "Epoch 5/100\n",
      "300/300 [==============================] - 0s 68us/step - loss: 1.1525 - acc: 0.4167\n",
      "Epoch 6/100\n",
      "300/300 [==============================] - 0s 72us/step - loss: 1.2231 - acc: 0.4367\n",
      "Epoch 7/100\n",
      "300/300 [==============================] - 0s 63us/step - loss: 0.8835 - acc: 0.5533\n",
      "Epoch 8/100\n",
      "300/300 [==============================] - 0s 52us/step - loss: 0.9121 - acc: 0.5233\n",
      "Epoch 9/100\n",
      "300/300 [==============================] - 0s 49us/step - loss: 1.0662 - acc: 0.4533\n",
      "Epoch 10/100\n",
      "300/300 [==============================] - 0s 47us/step - loss: 0.8786 - acc: 0.5633\n",
      "Epoch 11/100\n",
      "300/300 [==============================] - 0s 46us/step - loss: 0.9256 - acc: 0.5733\n",
      "Epoch 12/100\n",
      "300/300 [==============================] - 0s 46us/step - loss: 0.8553 - acc: 0.5667\n",
      "Epoch 13/100\n",
      "300/300 [==============================] - 0s 49us/step - loss: 0.8437 - acc: 0.5900\n",
      "Epoch 14/100\n",
      "300/300 [==============================] - 0s 49us/step - loss: 0.9061 - acc: 0.5400\n",
      "Epoch 15/100\n",
      "300/300 [==============================] - 0s 58us/step - loss: 0.8127 - acc: 0.5933\n",
      "Epoch 16/100\n",
      "300/300 [==============================] - 0s 53us/step - loss: 0.8653 - acc: 0.5500\n",
      "Epoch 17/100\n",
      "300/300 [==============================] - 0s 48us/step - loss: 0.8103 - acc: 0.6167\n",
      "Epoch 18/100\n",
      "300/300 [==============================] - 0s 47us/step - loss: 0.9131 - acc: 0.5633\n",
      "Epoch 19/100\n",
      "300/300 [==============================] - 0s 47us/step - loss: 0.8503 - acc: 0.5867\n",
      "Epoch 20/100\n",
      "300/300 [==============================] - 0s 51us/step - loss: 0.8207 - acc: 0.6400\n",
      "Epoch 21/100\n",
      "300/300 [==============================] - 0s 49us/step - loss: 0.8143 - acc: 0.6067\n",
      "Epoch 22/100\n",
      "300/300 [==============================] - 0s 57us/step - loss: 0.8108 - acc: 0.6033\n",
      "Epoch 23/100\n",
      "300/300 [==============================] - 0s 60us/step - loss: 0.7490 - acc: 0.6833\n",
      "Epoch 24/100\n",
      "300/300 [==============================] - 0s 53us/step - loss: 0.9292 - acc: 0.5833\n",
      "Epoch 25/100\n",
      "300/300 [==============================] - 0s 47us/step - loss: 0.9376 - acc: 0.5400\n",
      "Epoch 26/100\n",
      "300/300 [==============================] - 0s 46us/step - loss: 0.7387 - acc: 0.6600\n",
      "Epoch 27/100\n",
      "300/300 [==============================] - 0s 51us/step - loss: 0.9225 - acc: 0.5667\n",
      "Epoch 28/100\n",
      "300/300 [==============================] - 0s 53us/step - loss: 0.7052 - acc: 0.6600\n",
      "Epoch 29/100\n",
      "300/300 [==============================] - 0s 50us/step - loss: 0.6874 - acc: 0.7167\n",
      "Epoch 30/100\n",
      "300/300 [==============================] - 0s 47us/step - loss: 0.8220 - acc: 0.5667\n",
      "Epoch 31/100\n",
      "300/300 [==============================] - 0s 48us/step - loss: 1.0538 - acc: 0.5733\n",
      "Epoch 32/100\n",
      "300/300 [==============================] - 0s 47us/step - loss: 0.7595 - acc: 0.6100\n",
      "Epoch 33/100\n",
      "300/300 [==============================] - 0s 45us/step - loss: 0.7073 - acc: 0.6533\n",
      "Epoch 34/100\n",
      "300/300 [==============================] - 0s 45us/step - loss: 0.6789 - acc: 0.6800\n",
      "Epoch 35/100\n",
      "300/300 [==============================] - 0s 46us/step - loss: 0.7199 - acc: 0.6367\n",
      "Epoch 36/100\n",
      "300/300 [==============================] - 0s 54us/step - loss: 0.7179 - acc: 0.6333\n",
      "Epoch 37/100\n",
      "300/300 [==============================] - 0s 51us/step - loss: 0.6634 - acc: 0.7167\n",
      "Epoch 38/100\n",
      "300/300 [==============================] - 0s 54us/step - loss: 0.6109 - acc: 0.7433\n",
      "Epoch 39/100\n",
      "300/300 [==============================] - 0s 54us/step - loss: 0.5996 - acc: 0.7433\n",
      "Epoch 40/100\n",
      "300/300 [==============================] - 0s 55us/step - loss: 0.7132 - acc: 0.6700\n",
      "Epoch 41/100\n",
      "300/300 [==============================] - 0s 50us/step - loss: 0.6924 - acc: 0.6567\n",
      "Epoch 42/100\n",
      "300/300 [==============================] - 0s 55us/step - loss: 0.7195 - acc: 0.6300\n",
      "Epoch 43/100\n",
      "300/300 [==============================] - 0s 53us/step - loss: 0.7240 - acc: 0.6967\n",
      "Epoch 44/100\n",
      "300/300 [==============================] - 0s 47us/step - loss: 0.6198 - acc: 0.7300\n",
      "Epoch 45/100\n",
      "300/300 [==============================] - 0s 51us/step - loss: 0.6383 - acc: 0.6700\n",
      "Epoch 46/100\n",
      "300/300 [==============================] - 0s 53us/step - loss: 0.6062 - acc: 0.7400\n",
      "Epoch 47/100\n",
      "300/300 [==============================] - 0s 53us/step - loss: 0.8039 - acc: 0.6533\n",
      "Epoch 48/100\n",
      "300/300 [==============================] - 0s 53us/step - loss: 0.7446 - acc: 0.6533\n",
      "Epoch 49/100\n",
      "300/300 [==============================] - 0s 56us/step - loss: 0.6138 - acc: 0.7400\n",
      "Epoch 50/100\n",
      "300/300 [==============================] - 0s 55us/step - loss: 0.5880 - acc: 0.7500\n",
      "Epoch 51/100\n",
      "300/300 [==============================] - 0s 52us/step - loss: 0.6727 - acc: 0.6900\n",
      "Epoch 52/100\n",
      "300/300 [==============================] - 0s 50us/step - loss: 0.5627 - acc: 0.7533\n",
      "Epoch 53/100\n",
      "300/300 [==============================] - 0s 49us/step - loss: 0.5990 - acc: 0.7333\n",
      "Epoch 54/100\n",
      "300/300 [==============================] - 0s 50us/step - loss: 0.6127 - acc: 0.6933\n",
      "Epoch 55/100\n",
      "300/300 [==============================] - 0s 50us/step - loss: 0.5960 - acc: 0.7367\n",
      "Epoch 56/100\n",
      "300/300 [==============================] - 0s 48us/step - loss: 0.6233 - acc: 0.7233\n",
      "Epoch 57/100\n",
      "300/300 [==============================] - 0s 50us/step - loss: 0.6089 - acc: 0.7700\n",
      "Epoch 58/100\n",
      "300/300 [==============================] - 0s 48us/step - loss: 0.5366 - acc: 0.8067\n",
      "Epoch 59/100\n",
      "300/300 [==============================] - 0s 50us/step - loss: 0.5303 - acc: 0.7767\n",
      "Epoch 60/100\n",
      "300/300 [==============================] - 0s 49us/step - loss: 0.6112 - acc: 0.6933\n",
      "Epoch 61/100\n",
      "300/300 [==============================] - 0s 52us/step - loss: 0.5465 - acc: 0.7900\n",
      "Epoch 62/100\n",
      "300/300 [==============================] - 0s 47us/step - loss: 0.5113 - acc: 0.7900\n",
      "Epoch 63/100\n",
      "300/300 [==============================] - 0s 50us/step - loss: 0.5234 - acc: 0.7967\n",
      "Epoch 64/100\n",
      "300/300 [==============================] - 0s 58us/step - loss: 0.5999 - acc: 0.7267\n",
      "Epoch 65/100\n",
      "300/300 [==============================] - 0s 51us/step - loss: 0.5571 - acc: 0.7367\n",
      "Epoch 66/100\n",
      "300/300 [==============================] - 0s 50us/step - loss: 0.5826 - acc: 0.7433\n",
      "Epoch 67/100\n",
      "300/300 [==============================] - 0s 48us/step - loss: 0.5517 - acc: 0.7600\n",
      "Epoch 68/100\n",
      "300/300 [==============================] - 0s 50us/step - loss: 0.7345 - acc: 0.6467\n",
      "Epoch 69/100\n",
      "300/300 [==============================] - 0s 48us/step - loss: 0.6522 - acc: 0.6667\n",
      "Epoch 70/100\n",
      "300/300 [==============================] - 0s 48us/step - loss: 0.5424 - acc: 0.7467\n",
      "Epoch 71/100\n",
      "300/300 [==============================] - 0s 46us/step - loss: 0.5012 - acc: 0.8000\n",
      "Epoch 72/100\n",
      "300/300 [==============================] - 0s 50us/step - loss: 0.4813 - acc: 0.8133\n",
      "Epoch 73/100\n",
      "300/300 [==============================] - 0s 49us/step - loss: 0.4830 - acc: 0.8100\n",
      "Epoch 74/100\n",
      "300/300 [==============================] - 0s 47us/step - loss: 0.4883 - acc: 0.8067\n",
      "Epoch 75/100\n",
      "300/300 [==============================] - 0s 46us/step - loss: 0.4729 - acc: 0.8467\n",
      "Epoch 76/100\n",
      "300/300 [==============================] - 0s 49us/step - loss: 0.4767 - acc: 0.8200\n",
      "Epoch 77/100\n",
      "300/300 [==============================] - 0s 50us/step - loss: 0.5456 - acc: 0.7267\n",
      "Epoch 78/100\n",
      "300/300 [==============================] - 0s 50us/step - loss: 0.4797 - acc: 0.8100\n",
      "Epoch 79/100\n",
      "300/300 [==============================] - 0s 48us/step - loss: 0.5398 - acc: 0.7600\n",
      "Epoch 80/100\n",
      "300/300 [==============================] - 0s 47us/step - loss: 0.5654 - acc: 0.7200\n",
      "Epoch 81/100\n",
      "300/300 [==============================] - 0s 51us/step - loss: 0.4415 - acc: 0.8500\n",
      "Epoch 82/100\n",
      "300/300 [==============================] - 0s 52us/step - loss: 0.4950 - acc: 0.7900\n",
      "Epoch 83/100\n",
      "300/300 [==============================] - 0s 47us/step - loss: 0.4537 - acc: 0.8500\n",
      "Epoch 84/100\n",
      "300/300 [==============================] - 0s 53us/step - loss: 0.5054 - acc: 0.7833\n",
      "Epoch 85/100\n",
      "300/300 [==============================] - 0s 52us/step - loss: 0.6796 - acc: 0.6900\n",
      "Epoch 86/100\n",
      "300/300 [==============================] - 0s 55us/step - loss: 0.4925 - acc: 0.7833\n",
      "Epoch 87/100\n",
      "300/300 [==============================] - 0s 49us/step - loss: 0.4869 - acc: 0.7800\n",
      "Epoch 88/100\n",
      "300/300 [==============================] - 0s 48us/step - loss: 0.7969 - acc: 0.6733\n",
      "Epoch 89/100\n",
      "300/300 [==============================] - 0s 47us/step - loss: 0.5520 - acc: 0.7400\n",
      "Epoch 90/100\n",
      "300/300 [==============================] - 0s 46us/step - loss: 0.5752 - acc: 0.7300\n",
      "Epoch 91/100\n",
      "300/300 [==============================] - 0s 50us/step - loss: 0.5892 - acc: 0.7033\n",
      "Epoch 92/100\n",
      "300/300 [==============================] - 0s 48us/step - loss: 0.5045 - acc: 0.7967\n",
      "Epoch 93/100\n",
      "300/300 [==============================] - 0s 49us/step - loss: 0.4890 - acc: 0.8033\n",
      "Epoch 94/100\n",
      "300/300 [==============================] - 0s 48us/step - loss: 0.4483 - acc: 0.8200\n",
      "Epoch 95/100\n",
      "300/300 [==============================] - 0s 53us/step - loss: 0.4660 - acc: 0.7867\n",
      "Epoch 96/100\n",
      "300/300 [==============================] - 0s 46us/step - loss: 0.4428 - acc: 0.8733\n",
      "Epoch 97/100\n",
      "300/300 [==============================] - 0s 50us/step - loss: 0.4459 - acc: 0.8167\n",
      "Epoch 98/100\n",
      "300/300 [==============================] - 0s 53us/step - loss: 0.4291 - acc: 0.8633\n",
      "Epoch 99/100\n",
      "300/300 [==============================] - 0s 54us/step - loss: 0.4356 - acc: 0.8233\n",
      "Epoch 100/100\n",
      "300/300 [==============================] - 0s 42us/step - loss: 0.4351 - acc: 0.8500\n"
     ]
    },
    {
     "data": {
      "text/plain": [
       "<keras.callbacks.History at 0xb32cc3da0>"
      ]
     },
     "execution_count": 17,
     "metadata": {},
     "output_type": "execute_result"
    }
   ],
   "source": [
    "model.fit(X_train, Y_train, epochs=100, batch_size=32)"
   ]
  },
  {
   "cell_type": "markdown",
   "metadata": {},
   "source": [
    "Let's evaluate our model on the test set :"
   ]
  },
  {
   "cell_type": "code",
   "execution_count": 18,
   "metadata": {},
   "outputs": [
    {
     "name": "stdout",
     "output_type": "stream",
     "text": [
      "300/300 [==============================] - 0s 203us/step\n",
      "Loss : 0.8904583013057709\n",
      "Accuracy : 0.5899999992052714\n"
     ]
    }
   ],
   "source": [
    "Loss, accuracy = model.evaluate(X_test, Y_test, batch_size=32)\n",
    "\n",
    "print(\"Loss : {}\".format(Loss))\n",
    "print(\"Accuracy : {}\".format(accuracy))"
   ]
  },
  {
   "cell_type": "markdown",
   "metadata": {},
   "source": [
    "### Building a convolutional network"
   ]
  },
  {
   "cell_type": "markdown",
   "metadata": {},
   "source": [
    "We notice that the performance is worse on the new dataset. We'll change the model and use a convolutional network.\n",
    "\n",
    "The architecture :\n",
    "  - Convolution with 2 by 2 filters, 16 feature maps + ReLU nonlinearity.\n",
    "  - 2 by 2 max pooling\n",
    "  - Convolution with 2 by 2 filter, 32 feature maps + ReLU nonlinearity.\n",
    "  - 2 by 2 max pooling\n",
    "  - Flattening\n",
    "  - Linear layer with 64 hidden units + ReLU nonlionearity\n",
    "  - Linear layer with 3 outputs units."
   ]
  },
  {
   "cell_type": "code",
   "execution_count": 19,
   "metadata": {},
   "outputs": [],
   "source": [
    "from keras.models import Sequential\n",
    "from keras.layers import Dense, Activation, Conv2D, MaxPooling2D, Flatten\n",
    "from keras.optimizers import SGD\n",
    "from keras import utils as np_utils\n",
    "\n",
    "model = Sequential()\n",
    "model.add(Conv2D(16, kernel_size=(2, 2), activation='relu',input_shape=(72,72,1)))\n",
    "model.add(MaxPooling2D(pool_size=(2, 2), strides=(2, 2)))\n",
    "model.add(Conv2D(32, (2, 2), activation='relu'))\n",
    "model.add(MaxPooling2D(pool_size=(2, 2)))\n",
    "model.add(Flatten())\n",
    "model.add(Dense(3, activation='softmax'))\n",
    "\n",
    "adam = Adam(lr=0.001, beta_1=0.9, beta_2=0.999, epsilon=None, decay=0.0, amsgrad=False)\n",
    "\n",
    "model.compile(loss='categorical_crossentropy', optimizer=adam, metrics=['accuracy'])"
   ]
  },
  {
   "cell_type": "code",
   "execution_count": 20,
   "metadata": {},
   "outputs": [],
   "source": [
    "#model.summary()"
   ]
  },
  {
   "cell_type": "markdown",
   "metadata": {},
   "source": [
    "We reshape the train and test sets to fit the model"
   ]
  },
  {
   "cell_type": "code",
   "execution_count": 21,
   "metadata": {},
   "outputs": [],
   "source": [
    "X_train = X_train.reshape(-1,72,72,1)\n",
    "X_test = X_test.reshape(-1,72,72,1)"
   ]
  },
  {
   "cell_type": "markdown",
   "metadata": {},
   "source": [
    "Let's train now our model"
   ]
  },
  {
   "cell_type": "code",
   "execution_count": 22,
   "metadata": {},
   "outputs": [
    {
     "name": "stdout",
     "output_type": "stream",
     "text": [
      "Epoch 1/50\n",
      "300/300 [==============================] - 1s 2ms/step - loss: 1.1251 - acc: 0.3867\n",
      "Epoch 2/50\n",
      "300/300 [==============================] - 0s 837us/step - loss: 1.0377 - acc: 0.4133\n",
      "Epoch 3/50\n",
      "300/300 [==============================] - 0s 763us/step - loss: 0.9674 - acc: 0.5600\n",
      "Epoch 4/50\n",
      "300/300 [==============================] - 0s 717us/step - loss: 0.9013 - acc: 0.6467\n",
      "Epoch 5/50\n",
      "300/300 [==============================] - 0s 754us/step - loss: 0.8328 - acc: 0.6533\n",
      "Epoch 6/50\n",
      "300/300 [==============================] - 0s 771us/step - loss: 0.7659 - acc: 0.7467\n",
      "Epoch 7/50\n",
      "300/300 [==============================] - 0s 760us/step - loss: 0.7055 - acc: 0.7667\n",
      "Epoch 8/50\n",
      "300/300 [==============================] - 0s 778us/step - loss: 0.6384 - acc: 0.7767\n",
      "Epoch 9/50\n",
      "300/300 [==============================] - 0s 771us/step - loss: 0.6395 - acc: 0.7367\n",
      "Epoch 10/50\n",
      "300/300 [==============================] - 0s 738us/step - loss: 0.5929 - acc: 0.7967\n",
      "Epoch 11/50\n",
      "300/300 [==============================] - 0s 751us/step - loss: 0.5301 - acc: 0.8400\n",
      "Epoch 12/50\n",
      "300/300 [==============================] - 0s 770us/step - loss: 0.4868 - acc: 0.8433\n",
      "Epoch 13/50\n",
      "300/300 [==============================] - 0s 715us/step - loss: 0.4798 - acc: 0.8000\n",
      "Epoch 14/50\n",
      "300/300 [==============================] - 0s 728us/step - loss: 0.4100 - acc: 0.9067\n",
      "Epoch 15/50\n",
      "300/300 [==============================] - 0s 718us/step - loss: 0.4005 - acc: 0.8867\n",
      "Epoch 16/50\n",
      "300/300 [==============================] - 0s 743us/step - loss: 0.3952 - acc: 0.8800\n",
      "Epoch 17/50\n",
      "300/300 [==============================] - 0s 742us/step - loss: 0.4108 - acc: 0.8333\n",
      "Epoch 18/50\n",
      "300/300 [==============================] - 0s 823us/step - loss: 0.3179 - acc: 0.9100\n",
      "Epoch 19/50\n",
      "300/300 [==============================] - 0s 825us/step - loss: 0.2868 - acc: 0.9367\n",
      "Epoch 20/50\n",
      "300/300 [==============================] - 0s 770us/step - loss: 0.2660 - acc: 0.9367\n",
      "Epoch 21/50\n",
      "300/300 [==============================] - 0s 754us/step - loss: 0.2433 - acc: 0.9500\n",
      "Epoch 22/50\n",
      "300/300 [==============================] - 0s 800us/step - loss: 0.2273 - acc: 0.9400\n",
      "Epoch 23/50\n",
      "300/300 [==============================] - 0s 726us/step - loss: 0.2178 - acc: 0.9600\n",
      "Epoch 24/50\n",
      "300/300 [==============================] - 0s 751us/step - loss: 0.2119 - acc: 0.9533\n",
      "Epoch 25/50\n",
      "300/300 [==============================] - 0s 773us/step - loss: 0.1872 - acc: 0.9633\n",
      "Epoch 26/50\n",
      "300/300 [==============================] - 0s 883us/step - loss: 0.1716 - acc: 0.9633\n",
      "Epoch 27/50\n",
      "300/300 [==============================] - 0s 715us/step - loss: 0.1580 - acc: 0.9867\n",
      "Epoch 28/50\n",
      "300/300 [==============================] - 0s 737us/step - loss: 0.1458 - acc: 0.9667\n",
      "Epoch 29/50\n",
      "300/300 [==============================] - 0s 723us/step - loss: 0.1410 - acc: 0.9800\n",
      "Epoch 30/50\n",
      "300/300 [==============================] - 0s 719us/step - loss: 0.1211 - acc: 0.9833\n",
      "Epoch 31/50\n",
      "300/300 [==============================] - 0s 775us/step - loss: 0.1171 - acc: 0.9833\n",
      "Epoch 32/50\n",
      "300/300 [==============================] - 0s 721us/step - loss: 0.1195 - acc: 0.9800\n",
      "Epoch 33/50\n",
      "300/300 [==============================] - 0s 712us/step - loss: 0.1131 - acc: 0.9833\n",
      "Epoch 34/50\n",
      "300/300 [==============================] - 0s 721us/step - loss: 0.1023 - acc: 0.9867\n",
      "Epoch 35/50\n",
      "300/300 [==============================] - 0s 709us/step - loss: 0.0941 - acc: 0.9833\n",
      "Epoch 36/50\n",
      "300/300 [==============================] - 0s 714us/step - loss: 0.0840 - acc: 0.9900\n",
      "Epoch 37/50\n",
      "300/300 [==============================] - 0s 711us/step - loss: 0.0769 - acc: 0.9967\n",
      "Epoch 38/50\n",
      "300/300 [==============================] - 0s 732us/step - loss: 0.0712 - acc: 0.9933\n",
      "Epoch 39/50\n",
      "300/300 [==============================] - 0s 727us/step - loss: 0.0633 - acc: 0.9933\n",
      "Epoch 40/50\n",
      "300/300 [==============================] - 0s 719us/step - loss: 0.0611 - acc: 0.9933\n",
      "Epoch 41/50\n",
      "300/300 [==============================] - 0s 861us/step - loss: 0.0658 - acc: 0.9933\n",
      "Epoch 42/50\n",
      "300/300 [==============================] - 0s 755us/step - loss: 0.0576 - acc: 0.9967\n",
      "Epoch 43/50\n",
      "300/300 [==============================] - 0s 748us/step - loss: 0.0537 - acc: 1.0000\n",
      "Epoch 44/50\n",
      "300/300 [==============================] - 0s 762us/step - loss: 0.0568 - acc: 0.9933\n",
      "Epoch 45/50\n",
      "300/300 [==============================] - 0s 767us/step - loss: 0.0524 - acc: 0.9933\n",
      "Epoch 46/50\n",
      "300/300 [==============================] - 0s 839us/step - loss: 0.0449 - acc: 1.0000\n",
      "Epoch 47/50\n",
      "300/300 [==============================] - 0s 886us/step - loss: 0.0415 - acc: 1.0000\n",
      "Epoch 48/50\n",
      "300/300 [==============================] - 0s 851us/step - loss: 0.0359 - acc: 0.9967\n",
      "Epoch 49/50\n",
      "300/300 [==============================] - 0s 811us/step - loss: 0.0325 - acc: 1.0000\n",
      "Epoch 50/50\n",
      "300/300 [==============================] - 0s 885us/step - loss: 0.0321 - acc: 1.0000\n"
     ]
    },
    {
     "data": {
      "text/plain": [
       "<keras.callbacks.History at 0xb32cc3828>"
      ]
     },
     "execution_count": 22,
     "metadata": {},
     "output_type": "execute_result"
    }
   ],
   "source": [
    "model.fit(X_train, Y_train, epochs=50, batch_size=32)"
   ]
  },
  {
   "cell_type": "markdown",
   "metadata": {},
   "source": [
    "Let's evaluate it using the test set"
   ]
  },
  {
   "cell_type": "code",
   "execution_count": 23,
   "metadata": {},
   "outputs": [
    {
     "name": "stdout",
     "output_type": "stream",
     "text": [
      "300/300 [==============================] - 0s 455us/step\n",
      "Loss : 0.46861772298812865\n",
      "Accuracy : 0.85\n"
     ]
    }
   ],
   "source": [
    "ConvLoss, Conv_accuracy = model.evaluate(X_test, Y_test, batch_size=32)\n",
    "\n",
    "print(\"Loss : {}\".format(ConvLoss))\n",
    "print(\"Accuracy : {}\".format(Conv_accuracy))"
   ]
  },
  {
   "cell_type": "markdown",
   "metadata": {},
   "source": [
    "**COMMMEEENTS**"
   ]
  },
  {
   "cell_type": "markdown",
   "metadata": {},
   "source": [
    "# Regression Problem"
   ]
  },
  {
   "cell_type": "markdown",
   "metadata": {},
   "source": [
    "The task now is to predict the image locations of the vertices of a triangle, given an image of this triangle.\n",
    "\n",
    "We'll generate 300 triangles for each of the training and test set, knowing the location of the vertices."
   ]
  },
  {
   "cell_type": "code",
   "execution_count": 361,
   "metadata": {},
   "outputs": [
    {
     "name": "stdout",
     "output_type": "stream",
     "text": [
      "Creating data.. Done\n",
      "Creating data.. Done\n"
     ]
    }
   ],
   "source": [
    "[X_train, Y_train] = generate_dataset_regression(1000, 20)\n",
    "[X_test, Y_test] = generate_test_set_regression()"
   ]
  },
  {
   "cell_type": "code",
   "execution_count": 363,
   "metadata": {},
   "outputs": [],
   "source": [
    "def sort_trig(Y):\n",
    "    a=np.arctan2(Y_train.reshape(-1,2).T[1],Y_train.reshape(-1,2).T[0]).reshape(-1,3)\n",
    "    a=np.argsort(a, axis=1)\n",
    "    Y_=Y.reshape(-1,3,2)\n",
    "    for i in range(Y.shape[0]):\n",
    "        Y_[i]=Y_[i][a[i]]\n",
    "    return Y_.reshape(Y.shape)-0.5"
   ]
  },
  {
   "cell_type": "code",
   "execution_count": 365,
   "metadata": {},
   "outputs": [],
   "source": [
    "def sort_norm(Y):\n",
    "    a=np.argsort(np.linalg.norm(Y.reshape(-1,3,2),axis=2),axis=1)\n",
    "    Y_=Y.reshape(-1,3,2)\n",
    "    for i in range(Y.shape[0]):\n",
    "        Y_[i]=Y_[i][a[i]]\n",
    "    return Y_.reshape(Y.shape)-0.5"
   ]
  },
  {
   "cell_type": "code",
   "execution_count": 366,
   "metadata": {},
   "outputs": [],
   "source": [
    "Y_train_trig = sort_trig(Y_train)\n",
    "Y_test_trig = sort_trig(Y_test)\n",
    "\n",
    "Y_train_no = sort_norm(Y_train)\n",
    "Y_test_no = sort_norm(Y_test)"
   ]
  },
  {
   "cell_type": "code",
   "execution_count": 354,
   "metadata": {},
   "outputs": [
    {
     "data": {
      "image/png": "[encoded data removed]",
      "text/plain": [
       "<Figure size 360x360 with 1 Axes>"
      ]
     },
     "metadata": {
      "needs_background": "light"
     },
     "output_type": "display_data"
    },
    {
     "name": "stdout",
     "output_type": "stream",
     "text": [
      "250\n"
     ]
    }
   ],
   "source": [
    "i=np.random.randint(300)\n",
    "visualize_prediction(X_train[i], Y[i])\n",
    "print(i)"
   ]
  },
  {
   "cell_type": "code",
   "execution_count": 355,
   "metadata": {},
   "outputs": [
    {
     "data": {
      "text/plain": [
       "array([[0.27962545, 0.99996226],\n",
       "       [0.41689237, 0.46263277],\n",
       "       [0.99419878, 0.14702349]])"
      ]
     },
     "execution_count": 355,
     "metadata": {},
     "output_type": "execute_result"
    }
   ],
   "source": [
    "Y[i].reshape(3,2)"
   ]
  },
  {
   "cell_type": "code",
   "execution_count": 356,
   "metadata": {},
   "outputs": [
    {
     "data": {
      "text/plain": [
       "array([[0.41689237, 0.46263277],\n",
       "       [0.99419878, 0.14702349],\n",
       "       [0.27962545, 0.99996226]])"
      ]
     },
     "execution_count": 356,
     "metadata": {},
     "output_type": "execute_result"
    }
   ],
   "source": [
    "Y_train[i].reshape(3,2)"
   ]
  },
  {
   "cell_type": "markdown",
   "metadata": {},
   "source": [
    "Let's normalize the data :"
   ]
  },
  {
   "cell_type": "code",
   "execution_count": null,
   "metadata": {},
   "outputs": [],
   "source": [
    "from sklearn.preprocessing import Normalizer\n",
    "\n",
    "normalizer = Normalizer()\n",
    "Y_train_norm = normalizer.fit_transform(Y_train)#.reshape(-1,2)).reshape(Y_train.shape)\n",
    "\n",
    "normalizer = Normalizer()\n",
    "Y_test_norm = normalizer.fit_transform(Y_test)#.reshape(-1,2)).reshape(Y_test.shape)"
   ]
  },
  {
   "cell_type": "code",
   "execution_count": null,
   "metadata": {},
   "outputs": [],
   "source": [
    "from sklearn.preprocessing import StandardScaler\n",
    "\n",
    "scaler_train = StandardScaler()\n",
    "Y_train_scale = scaler_train.fit_transform(Y_train.T).T\n",
    "\n",
    "scaler_test = StandardScaler()\n",
    "Y_test_scale = scaler_test.fit_transform(Y_test.T).T"
   ]
  },
  {
   "cell_type": "code",
   "execution_count": null,
   "metadata": {},
   "outputs": [],
   "source": []
  },
  {
   "cell_type": "code",
   "execution_count": null,
   "metadata": {},
   "outputs": [],
   "source": [
    "from sklearn.preprocessing import Normalizer\n",
    "\n",
    "normalizer = Normalizer()\n",
    "Y_train_norm_s = normalizer.fit_transform(Y_train_scale)#.reshape(-1,2)).reshape(Y_train.shape)\n",
    "\n",
    "normalizer = Normalizer()\n",
    "Y_test_norm_s = normalizer.fit_transform(Y_test_scale)#.reshape(-1,2)).reshape(Y_test.shape)"
   ]
  },
  {
   "cell_type": "code",
   "execution_count": null,
   "metadata": {},
   "outputs": [],
   "source": [
    "from sklearn.preprocessing import StandardScaler\n",
    "\n",
    "scaler_train = StandardScaler()\n",
    "Y_train_scale_n = scaler_train.fit_transform(Y_train_norm.T).T\n",
    "\n",
    "scaler_test = StandardScaler()\n",
    "Y_test_scale_n = scaler_test.fit_transform(Y_test_norm.T).T"
   ]
  },
  {
   "cell_type": "markdown",
   "metadata": {},
   "source": [
    "We can visualize what the data looks like :"
   ]
  },
  {
   "cell_type": "code",
   "execution_count": null,
   "metadata": {},
   "outputs": [],
   "source": [
    "i=np.random.randint(X_train.shape[0])\n",
    "i=2\n",
    "visualize_prediction(X_train[i], Y_train[i])\n",
    "visualize_prediction(X_train[i], Y_train_norm[i])\n",
    "#visualize_prediction(X_train[i], Y_train_scale[i])"
   ]
  },
  {
   "cell_type": "code",
   "execution_count": 424,
   "metadata": {},
   "outputs": [],
   "source": [
    "model = Sequential()\n",
    "model.add(Conv2D(8, kernel_size=(5, 5), activation='relu',input_shape=(72,72,1)))\n",
    "model.add(MaxPooling2D(pool_size=(2, 2), strides=(2, 2)))\n",
    "model.add(Conv2D(16, (5, 5), activation='relu'))\n",
    "model.add(MaxPooling2D(pool_size=(2, 2)))\n",
    "model.add(Conv2D(32, (5, 5), activation='relu'))\n",
    "model.add(MaxPooling2D(pool_size=(2, 2)))\n",
    "model.add(Conv2D(64, (5, 5), activation='relu', padding='same'))\n",
    "model.add(MaxPooling2D(pool_size=(2, 2)))\n",
    "model.add(Conv2D(128, (5, 5), activation='relu', padding='same'))\n",
    "model.add(MaxPooling2D(pool_size=(2, 2)))\n",
    "model.add(Flatten())\n",
    "#model.add(Dense(512, activation='relu'))\n",
    "model.add(Dense(6, activation='linear'))\n",
    "\n",
    "adam = Adam(lr=0.001, beta_1=0.9, beta_2=0.999, epsilon=None, decay=0.0, amsgrad=True)\n",
    "sgd = SGD(lr=0.001, decay=1e-6, momentum=0.5, nesterov=True)\n",
    "\n",
    "model.compile(loss=\"mean_absolute_error\", optimizer=adam)"
   ]
  },
  {
   "cell_type": "code",
   "execution_count": 425,
   "metadata": {},
   "outputs": [
    {
     "name": "stdout",
     "output_type": "stream",
     "text": [
      "_________________________________________________________________\n",
      "Layer (type)                 Output Shape              Param #   \n",
      "=================================================================\n",
      "conv2d_82 (Conv2D)           (None, 68, 68, 8)         208       \n",
      "_________________________________________________________________\n",
      "max_pooling2d_82 (MaxPooling (None, 34, 34, 8)         0         \n",
      "_________________________________________________________________\n",
      "conv2d_83 (Conv2D)           (None, 30, 30, 16)        3216      \n",
      "_________________________________________________________________\n",
      "max_pooling2d_83 (MaxPooling (None, 15, 15, 16)        0         \n",
      "_________________________________________________________________\n",
      "conv2d_84 (Conv2D)           (None, 11, 11, 32)        12832     \n",
      "_________________________________________________________________\n",
      "max_pooling2d_84 (MaxPooling (None, 5, 5, 32)          0         \n",
      "_________________________________________________________________\n",
      "conv2d_85 (Conv2D)           (None, 5, 5, 64)          51264     \n",
      "_________________________________________________________________\n",
      "max_pooling2d_85 (MaxPooling (None, 2, 2, 64)          0         \n",
      "_________________________________________________________________\n",
      "conv2d_86 (Conv2D)           (None, 2, 2, 128)         204928    \n",
      "_________________________________________________________________\n",
      "max_pooling2d_86 (MaxPooling (None, 1, 1, 128)         0         \n",
      "_________________________________________________________________\n",
      "flatten_29 (Flatten)         (None, 128)               0         \n",
      "_________________________________________________________________\n",
      "dense_32 (Dense)             (None, 6)                 774       \n",
      "=================================================================\n",
      "Total params: 273,222\n",
      "Trainable params: 273,222\n",
      "Non-trainable params: 0\n",
      "_________________________________________________________________\n"
     ]
    }
   ],
   "source": [
    "model.summary()"
   ]
  },
  {
   "cell_type": "markdown",
   "metadata": {},
   "source": [
    "We reshape the train and test sets to fit the model"
   ]
  },
  {
   "cell_type": "code",
   "execution_count": 426,
   "metadata": {},
   "outputs": [],
   "source": [
    "X_train = X_train.reshape(-1,72,72,1)\n",
    "X_test = X_test.reshape(-1,72,72,1)"
   ]
  },
  {
   "cell_type": "markdown",
   "metadata": {},
   "source": [
    "We train the model"
   ]
  },
  {
   "cell_type": "code",
   "execution_count": 427,
   "metadata": {},
   "outputs": [
    {
     "name": "stdout",
     "output_type": "stream",
     "text": [
      "Train on 1000 samples, validate on 300 samples\n",
      "Epoch 1/70\n",
      "1000/1000 [==============================] - 4s 4ms/step - loss: 0.1917 - val_loss: 0.1607\n",
      "Epoch 2/70\n",
      "1000/1000 [==============================] - 2s 2ms/step - loss: 0.1428 - val_loss: 0.1319\n",
      "Epoch 3/70\n",
      "1000/1000 [==============================] - 2s 2ms/step - loss: 0.1199 - val_loss: 0.1230\n",
      "Epoch 4/70\n",
      "1000/1000 [==============================] - 2s 2ms/step - loss: 0.1058 - val_loss: 0.1147\n",
      "Epoch 5/70\n",
      "1000/1000 [==============================] - 2s 2ms/step - loss: 0.0932 - val_loss: 0.0970\n",
      "Epoch 6/70\n",
      "1000/1000 [==============================] - 2s 2ms/step - loss: 0.0811 - val_loss: 0.0943\n",
      "Epoch 7/70\n",
      "1000/1000 [==============================] - 2s 2ms/step - loss: 0.0760 - val_loss: 0.0884\n",
      "Epoch 8/70\n",
      "1000/1000 [==============================] - 2s 2ms/step - loss: 0.0729 - val_loss: 0.0895\n",
      "Epoch 9/70\n",
      "1000/1000 [==============================] - 2s 2ms/step - loss: 0.0660 - val_loss: 0.0822\n",
      "Epoch 10/70\n",
      "1000/1000 [==============================] - 2s 2ms/step - loss: 0.0636 - val_loss: 0.0848\n",
      "Epoch 11/70\n",
      "1000/1000 [==============================] - 2s 2ms/step - loss: 0.0587 - val_loss: 0.0819\n",
      "Epoch 12/70\n",
      "1000/1000 [==============================] - 2s 2ms/step - loss: 0.0602 - val_loss: 0.0809\n",
      "Epoch 13/70\n",
      "1000/1000 [==============================] - 2s 2ms/step - loss: 0.0539 - val_loss: 0.0787\n",
      "Epoch 14/70\n",
      "1000/1000 [==============================] - 2s 2ms/step - loss: 0.0490 - val_loss: 0.0730\n",
      "Epoch 15/70\n",
      "1000/1000 [==============================] - 2s 2ms/step - loss: 0.0469 - val_loss: 0.0744\n",
      "Epoch 16/70\n",
      "1000/1000 [==============================] - 2s 2ms/step - loss: 0.0448 - val_loss: 0.0767\n",
      "Epoch 17/70\n",
      "1000/1000 [==============================] - 2s 2ms/step - loss: 0.0462 - val_loss: 0.0744\n",
      "Epoch 18/70\n",
      "1000/1000 [==============================] - 2s 2ms/step - loss: 0.0451 - val_loss: 0.0735\n",
      "Epoch 19/70\n",
      "1000/1000 [==============================] - 2s 2ms/step - loss: 0.0399 - val_loss: 0.0714\n",
      "Epoch 20/70\n",
      "1000/1000 [==============================] - 2s 2ms/step - loss: 0.0370 - val_loss: 0.0735\n",
      "Epoch 21/70\n",
      "1000/1000 [==============================] - 2s 2ms/step - loss: 0.0363 - val_loss: 0.0760\n",
      "Epoch 22/70\n",
      "1000/1000 [==============================] - 2s 2ms/step - loss: 0.0370 - val_loss: 0.0712\n",
      "Epoch 23/70\n",
      "1000/1000 [==============================] - 2s 2ms/step - loss: 0.0328 - val_loss: 0.0697\n",
      "Epoch 24/70\n",
      "1000/1000 [==============================] - 2s 2ms/step - loss: 0.0336 - val_loss: 0.0705\n",
      "Epoch 25/70\n",
      "1000/1000 [==============================] - 2s 2ms/step - loss: 0.0299 - val_loss: 0.0724\n",
      "Epoch 26/70\n",
      "1000/1000 [==============================] - 2s 2ms/step - loss: 0.0308 - val_loss: 0.0697\n",
      "Epoch 27/70\n",
      "1000/1000 [==============================] - 2s 2ms/step - loss: 0.0291 - val_loss: 0.0691\n",
      "Epoch 28/70\n",
      "1000/1000 [==============================] - 2s 2ms/step - loss: 0.0262 - val_loss: 0.0705\n",
      "Epoch 29/70\n",
      "1000/1000 [==============================] - 2s 2ms/step - loss: 0.0266 - val_loss: 0.0700\n",
      "Epoch 30/70\n",
      "1000/1000 [==============================] - 2s 2ms/step - loss: 0.0263 - val_loss: 0.0688\n",
      "Epoch 31/70\n",
      "1000/1000 [==============================] - 2s 2ms/step - loss: 0.0254 - val_loss: 0.0717\n",
      "Epoch 32/70\n",
      "1000/1000 [==============================] - 2s 2ms/step - loss: 0.0254 - val_loss: 0.0689\n",
      "Epoch 33/70\n",
      "1000/1000 [==============================] - 2s 2ms/step - loss: 0.0258 - val_loss: 0.0682\n",
      "Epoch 34/70\n",
      "1000/1000 [==============================] - 2s 2ms/step - loss: 0.0242 - val_loss: 0.0675\n",
      "Epoch 35/70\n",
      "1000/1000 [==============================] - 2s 2ms/step - loss: 0.0226 - val_loss: 0.0671\n",
      "Epoch 36/70\n",
      "1000/1000 [==============================] - 2s 2ms/step - loss: 0.0206 - val_loss: 0.0675\n",
      "Epoch 37/70\n",
      "1000/1000 [==============================] - 2s 2ms/step - loss: 0.0228 - val_loss: 0.0700\n",
      "Epoch 38/70\n",
      "1000/1000 [==============================] - 2s 2ms/step - loss: 0.0221 - val_loss: 0.0668\n",
      "Epoch 39/70\n",
      "1000/1000 [==============================] - 2s 2ms/step - loss: 0.0218 - val_loss: 0.0669\n",
      "Epoch 40/70\n",
      "1000/1000 [==============================] - 2s 2ms/step - loss: 0.0200 - val_loss: 0.0674\n",
      "Epoch 41/70\n",
      "1000/1000 [==============================] - 2s 2ms/step - loss: 0.0194 - val_loss: 0.0667\n",
      "Epoch 42/70\n",
      "1000/1000 [==============================] - 2s 2ms/step - loss: 0.0188 - val_loss: 0.0678\n",
      "Epoch 43/70\n",
      "1000/1000 [==============================] - 2s 2ms/step - loss: 0.0204 - val_loss: 0.0677\n",
      "Epoch 44/70\n",
      "1000/1000 [==============================] - 2s 2ms/step - loss: 0.0203 - val_loss: 0.0680\n",
      "Epoch 45/70\n",
      "1000/1000 [==============================] - 2s 2ms/step - loss: 0.0204 - val_loss: 0.0652\n",
      "Epoch 46/70\n",
      "1000/1000 [==============================] - 2s 2ms/step - loss: 0.0184 - val_loss: 0.0667\n",
      "Epoch 47/70\n",
      "1000/1000 [==============================] - 2s 2ms/step - loss: 0.0200 - val_loss: 0.0670\n",
      "Epoch 48/70\n",
      "1000/1000 [==============================] - 2s 2ms/step - loss: 0.0190 - val_loss: 0.0673\n",
      "Epoch 49/70\n",
      "1000/1000 [==============================] - 2s 2ms/step - loss: 0.0187 - val_loss: 0.0644\n",
      "Epoch 50/70\n",
      "1000/1000 [==============================] - 2s 2ms/step - loss: 0.0186 - val_loss: 0.0654\n",
      "Epoch 51/70\n",
      "1000/1000 [==============================] - 2s 2ms/step - loss: 0.0182 - val_loss: 0.0665\n",
      "Epoch 52/70\n",
      "1000/1000 [==============================] - 2s 2ms/step - loss: 0.0165 - val_loss: 0.0658\n",
      "Epoch 53/70\n",
      "1000/1000 [==============================] - 2s 2ms/step - loss: 0.0165 - val_loss: 0.0663\n",
      "Epoch 54/70\n",
      "1000/1000 [==============================] - 2s 2ms/step - loss: 0.0175 - val_loss: 0.0662\n",
      "Epoch 55/70\n",
      "1000/1000 [==============================] - 2s 2ms/step - loss: 0.0170 - val_loss: 0.0654\n",
      "Epoch 56/70\n",
      "1000/1000 [==============================] - 2s 2ms/step - loss: 0.0166 - val_loss: 0.0663\n",
      "Epoch 57/70\n",
      "1000/1000 [==============================] - 2s 2ms/step - loss: 0.0163 - val_loss: 0.0651\n",
      "Epoch 58/70\n",
      "1000/1000 [==============================] - 2s 2ms/step - loss: 0.0158 - val_loss: 0.0665\n",
      "Epoch 59/70\n",
      "1000/1000 [==============================] - 2s 2ms/step - loss: 0.0161 - val_loss: 0.0653\n",
      "Epoch 60/70\n",
      "1000/1000 [==============================] - 2s 2ms/step - loss: 0.0160 - val_loss: 0.0651\n",
      "Epoch 61/70\n",
      "1000/1000 [==============================] - 2s 2ms/step - loss: 0.0153 - val_loss: 0.0668\n",
      "Epoch 62/70\n",
      "1000/1000 [==============================] - 2s 2ms/step - loss: 0.0164 - val_loss: 0.0659\n",
      "Epoch 63/70\n",
      "1000/1000 [==============================] - 2s 2ms/step - loss: 0.0160 - val_loss: 0.0654\n",
      "Epoch 64/70\n",
      "1000/1000 [==============================] - 2s 2ms/step - loss: 0.0163 - val_loss: 0.0659\n",
      "Epoch 65/70\n",
      "1000/1000 [==============================] - 2s 2ms/step - loss: 0.0148 - val_loss: 0.0648\n",
      "Epoch 66/70\n",
      "1000/1000 [==============================] - 2s 2ms/step - loss: 0.0151 - val_loss: 0.0642\n",
      "Epoch 67/70\n",
      "1000/1000 [==============================] - 2s 2ms/step - loss: 0.0153 - val_loss: 0.0661\n",
      "Epoch 68/70\n",
      "1000/1000 [==============================] - 2s 2ms/step - loss: 0.0158 - val_loss: 0.0650\n",
      "Epoch 69/70\n",
      "1000/1000 [==============================] - 2s 2ms/step - loss: 0.0151 - val_loss: 0.0655\n",
      "Epoch 70/70\n",
      "1000/1000 [==============================] - 2s 2ms/step - loss: 0.0162 - val_loss: 0.0655\n"
     ]
    },
    {
     "data": {
      "text/plain": [
       "<keras.callbacks.History at 0xb36aae898>"
      ]
     },
     "execution_count": 427,
     "metadata": {},
     "output_type": "execute_result"
    }
   ],
   "source": [
    "model.fit(0.5-X_train, Y_train_no, epochs=70, batch_size=32, validation_data=(0.5-X_test,Y_test_no))"
   ]
  },
  {
   "cell_type": "code",
   "execution_count": null,
   "metadata": {},
   "outputs": [],
   "source": [
    "model.evaluate(X_test, Y_test_norm)"
   ]
  },
  {
   "cell_type": "code",
   "execution_count": null,
   "metadata": {},
   "outputs": [],
   "source": [
    "Y_test_pred=model.predict(X_test)\n",
    "Y_train_pred=model.predict(X_train)"
   ]
  },
  {
   "cell_type": "code",
   "execution_count": null,
   "metadata": {},
   "outputs": [],
   "source": [
    "i=np.random.randint(300)\n",
    "visualize_prediction(X_train[i], Y_train_norm[i])\n",
    "#visualize_prediction(X_train[i], scaler.inverse_transform(Y_train_pred[i]))\n",
    "\n",
    "#visualize_prediction(X_train[i], Y_train_norm[i])\n",
    "visualize_prediction(X_train[i], Y_train_pred[i])"
   ]
  },
  {
   "cell_type": "code",
   "execution_count": null,
   "metadata": {},
   "outputs": [],
   "source": [
    "#visualize_prediction(X_test[i], Y_test[i])\n",
    "#visualize_prediction(X_test[i], scaler.inverse_transform(Y_test_pred[i]))\n",
    "i=np.random.randint(300)\n",
    "visualize_prediction(X_test[i], Y_test_norm[i])\n",
    "visualize_prediction(X_test[i], Y_test_pred[i])"
   ]
  },
  {
   "cell_type": "markdown",
   "metadata": {},
   "source": [
    "# Image Denoising"
   ]
  },
  {
   "cell_type": "code",
   "execution_count": null,
   "metadata": {},
   "outputs": [],
   "source": [
    "def generate_dataset_classification_seed(nb_samples, noise=0.0, seed=42, free_location=False):\n",
    "    # Getting im_size:\n",
    "    im_size = generate_a_rectangle().shape[0]\n",
    "    X = np.zeros([nb_samples,im_size])\n",
    "    Y = np.zeros(nb_samples)\n",
    "    print('Creating data',end=\".. \")\n",
    "    rng = np.random.RandomState(seed)\n",
    "    for i in range(nb_samples):\n",
    "        #if i % 10 == 0:\n",
    "            #print(i)\n",
    "        category = rng.randint(3)\n",
    "        if category == 0:\n",
    "            X[i] = generate_a_rectangle_seed(rng, noise, free_location)\n",
    "        elif category == 1: \n",
    "            X[i] = generate_a_disk_seed(rng, noise, free_location)\n",
    "        else:\n",
    "            [X[i], V] = generate_a_triangle_seed(rng, noise, free_location)\n",
    "        Y[i] = category\n",
    "    X = (X + noise) / (255 + 2 * noise)\n",
    "    print(\"Done\")\n",
    "    return [X, Y]\n",
    "\n",
    "def generate_a_rectangle_seed(rng, noise=0.0, free_location=False):\n",
    "    figsize = 1.0    \n",
    "    U = np.zeros(4)\n",
    "    V = np.zeros(4)\n",
    "    if free_location:\n",
    "        corners = rng.uniform(4)\n",
    "        top = max(corners[0], corners[1])\n",
    "        bottom = min(corners[0], corners[1])\n",
    "        left = min(corners[2], corners[3])\n",
    "        right = max(corners[2], corners[3])\n",
    "    else:\n",
    "        side = (0.3 + 0.7 * rng.uniform()) * figsize\n",
    "        top = figsize/2 + side/2\n",
    "        bottom = figsize/2 - side/2\n",
    "        left = bottom\n",
    "        right = top\n",
    "    U[0] = U[1] = top\n",
    "    U[2] = U[3] = bottom\n",
    "    V[0] = V[3] = left\n",
    "    V[1] = V[2] = right\n",
    "    return generate_a_drawing(figsize, U, V, noise)\n",
    "\n",
    "\n",
    "def generate_a_disk_seed(rng, noise=0.0, free_location=False):\n",
    "    figsize = 1.0\n",
    "    if free_location:\n",
    "        center = rng.random(2)\n",
    "    else:\n",
    "        center = (figsize/2, figsize/2)\n",
    "    radius = (0.3 + 0.7 * rng.uniform()) * figsize/2\n",
    "    N = 50\n",
    "    U = np.zeros(N)\n",
    "    V = np.zeros(N)\n",
    "    i = 0\n",
    "    for t in np.linspace(0, 2*np.pi, N):\n",
    "        U[i] = center[0] + np.cos(t) * radius\n",
    "        V[i] = center[1] + np.sin(t) * radius\n",
    "        i = i + 1\n",
    "    return generate_a_drawing(figsize, U, V, noise)\n",
    "\n",
    "def generate_a_triangle_seed(rng, noise=0.0, free_location=False):\n",
    "    figsize = 1.0\n",
    "    if free_location:\n",
    "        U = rng.random(3)\n",
    "        V = rng.random(3)\n",
    "    else:\n",
    "        size = (0.3 + 0.7 * rng.uniform())*figsize/2\n",
    "        middle = figsize/2\n",
    "        U = (middle, middle+size, middle-size)\n",
    "        V = (middle+size, middle-size, middle-size)\n",
    "    imdata = generate_a_drawing(figsize, U, V, noise)\n",
    "    return [imdata, [U[0], V[0], U[1], V[1], U[2], V[2]]]"
   ]
  },
  {
   "cell_type": "code",
   "execution_count": null,
   "metadata": {},
   "outputs": [],
   "source": [
    "[X_train_noise, Y_noise] = generate_dataset_classification_seed(300, 50)\n",
    "[X_train_clean, Y_clean] = generate_dataset_classification_seed(300, 0)\n",
    "\n",
    "X_train_clean = X_train_clean.reshape(-1, 72, 72, 1)\n",
    "X_train_noise = X_train_noise.reshape(-1, 72, 72, 1)"
   ]
  },
  {
   "cell_type": "code",
   "execution_count": null,
   "metadata": {},
   "outputs": [],
   "source": [
    "i=np.random.randint(300)\n",
    "\n",
    "f, (ax1, ax2) = plt.subplots(1,2, figsize=(8,4))\n",
    "ax1.imshow(X_train_clean[i].reshape(72,72), cmap='gray')\n",
    "ax1.set_title(\"Clean image\")\n",
    "\n",
    "ax2.imshow(X_train_noise[i].reshape(72,72), cmap='gray')\n",
    "ax2.set_title(\"Noised image\")\n",
    "\n",
    "plt.tight_layout()\n",
    "plt.show()"
   ]
  },
  {
   "cell_type": "code",
   "execution_count": null,
   "metadata": {},
   "outputs": [],
   "source": [
    "input_img = Input(shape=(72, 72, 1))  # adapt this if using `channels_first` image data format\n",
    "\n",
    "x = Conv2D(32, (3, 3), activation='relu', padding='same')(input_img)\n",
    "x = MaxPooling2D((2, 2), padding='same')(x)\n",
    "x = Conv2D(32, (3, 3), activation='relu', padding='same')(x)\n",
    "encoded = MaxPooling2D((2, 2), padding='same')(x)\n",
    "\n",
    "# at this point the representation is (7, 7, 32)\n",
    "\n",
    "x = Conv2D(32, (3, 3), activation='relu', padding='same')(encoded)\n",
    "x = UpSampling2D((2, 2))(x)\n",
    "x = Conv2D(32, (3, 3), activation='relu', padding='same')(x)\n",
    "x = UpSampling2D((2, 2))(x)\n",
    "decoded = Conv2D(1, (3, 3), activation='sigmoid', padding='same')(x)\n",
    "\n",
    "autoencoder = Model(input_img, decoded)\n",
    "autoencoder.compile(optimizer='adadelta', loss='binary_crossentropy')"
   ]
  },
  {
   "cell_type": "code",
   "execution_count": null,
   "metadata": {},
   "outputs": [],
   "source": [
    "autoencoder.summary()"
   ]
  },
  {
   "cell_type": "code",
   "execution_count": null,
   "metadata": {},
   "outputs": [],
   "source": [
    "autoencoder.fit(X_train_noise, X_train_clean,\n",
    "                epochs=50,\n",
    "                batch_size=32)"
   ]
  },
  {
   "cell_type": "code",
   "execution_count": null,
   "metadata": {},
   "outputs": [],
   "source": [
    "[X_test_noise, Y_noise] = generate_dataset_classification_seed(300, 50, 30)\n",
    "[X_test_clean, Y_clean] = generate_dataset_classification_seed(300, 0, 30)\n",
    "\n",
    "X_test_noise = X_test_noise.reshape(-1, 72, 72, 1)\n",
    "X_test_clean = X_test_clean.reshape(-1, 72, 72, 1)"
   ]
  },
  {
   "cell_type": "code",
   "execution_count": null,
   "metadata": {},
   "outputs": [],
   "source": [
    "autoencoder.evaluate(X_test_noise.reshape(-1, 72, 72, 1), X_test_clean.reshape(-1, 72, 72, 1))"
   ]
  },
  {
   "cell_type": "code",
   "execution_count": null,
   "metadata": {},
   "outputs": [],
   "source": [
    "X_test_clean_pred = autoencoder.predict(X_test_noise)"
   ]
  },
  {
   "cell_type": "code",
   "execution_count": null,
   "metadata": {},
   "outputs": [],
   "source": [
    "i=np.random.randint(300)\n",
    "\n",
    "plt.imshow(X_test_noise[i].reshape(72,72), cmap=\"gray\")\n",
    "plt.show()\n",
    "\n",
    "plt.imshow(X_test_clean[i].reshape(72,72), cmap=\"gray\")\n",
    "plt.show()\n",
    "\n",
    "plt.imshow(X_test_clean_pred[i].reshape(72,72), cmap=\"gray\")\n",
    "plt.show()"
   ]
  }
 ],
 "metadata": {
  "kernelspec": {
   "display_name": "Python 3",
   "language": "python",
   "name": "python3"
  },
  "language_info": {
   "codemirror_mode": {
    "name": "ipython",
    "version": 3
   },
   "file_extension": ".py",
   "mimetype": "text/x-python",
   "name": "python",
   "nbconvert_exporter": "python",
   "pygments_lexer": "ipython3",
   "version": "3.6.6"
  }
 },
 "nbformat": 4,
 "nbformat_minor": 2
}
